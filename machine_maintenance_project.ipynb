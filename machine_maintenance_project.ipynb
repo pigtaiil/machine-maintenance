{
  "nbformat": 4,
  "nbformat_minor": 0,
  "metadata": {
    "colab": {
      "provenance": []
    },
    "kernelspec": {
      "name": "python3",
      "display_name": "Python 3"
    },
    "language_info": {
      "name": "python"
    }
  },
  "cells": [
    {
      "cell_type": "markdown",
      "source": [
        "**EXPLORATORY DATA ANALYSIS**"
      ],
      "metadata": {
        "id": "2At8CwVnlsJ5"
      }
    },
    {
      "cell_type": "code",
      "execution_count": 136,
      "metadata": {
        "id": "w5LmrmuKkGeH"
      },
      "outputs": [],
      "source": [
        "import pandas as pd\n",
        "import numpy as np\n",
        "import matplotlib.pyplot as plt\n",
        "import seaborn as sns\n",
        "import plotly.express as px"
      ]
    },
    {
      "cell_type": "code",
      "source": [
        "df = pd.read_csv(\"predictive_maintenance.csv\")"
      ],
      "metadata": {
        "id": "wnx-ihfMkLPn"
      },
      "execution_count": 137,
      "outputs": []
    },
    {
      "cell_type": "code",
      "source": [
        "df.head(2)"
      ],
      "metadata": {
        "colab": {
          "base_uri": "https://localhost:8080/",
          "height": 173
        },
        "id": "6QaIIoNRkXto",
        "outputId": "9a430fc3-3aab-4e98-f6cf-1a29af8cb5ba"
      },
      "execution_count": 138,
      "outputs": [
        {
          "output_type": "execute_result",
          "data": {
            "text/plain": [
              "   UDI Product ID Type  Air temperature [K]  Process temperature [K]  \\\n",
              "0    1     M14860    M                298.1                    308.6   \n",
              "1    2     L47181    L                298.2                    308.7   \n",
              "\n",
              "   Rotational speed [rpm]  Torque [Nm]  Tool wear [min]  Target Failure Type  \n",
              "0                    1551         42.8                0       0   No Failure  \n",
              "1                    1408         46.3                3       0   No Failure  "
            ],
            "text/html": [
              "\n",
              "  <div id=\"df-30d8fa6a-4d3c-45a6-b23e-b1660692b9c3\">\n",
              "    <div class=\"colab-df-container\">\n",
              "      <div>\n",
              "<style scoped>\n",
              "    .dataframe tbody tr th:only-of-type {\n",
              "        vertical-align: middle;\n",
              "    }\n",
              "\n",
              "    .dataframe tbody tr th {\n",
              "        vertical-align: top;\n",
              "    }\n",
              "\n",
              "    .dataframe thead th {\n",
              "        text-align: right;\n",
              "    }\n",
              "</style>\n",
              "<table border=\"1\" class=\"dataframe\">\n",
              "  <thead>\n",
              "    <tr style=\"text-align: right;\">\n",
              "      <th></th>\n",
              "      <th>UDI</th>\n",
              "      <th>Product ID</th>\n",
              "      <th>Type</th>\n",
              "      <th>Air temperature [K]</th>\n",
              "      <th>Process temperature [K]</th>\n",
              "      <th>Rotational speed [rpm]</th>\n",
              "      <th>Torque [Nm]</th>\n",
              "      <th>Tool wear [min]</th>\n",
              "      <th>Target</th>\n",
              "      <th>Failure Type</th>\n",
              "    </tr>\n",
              "  </thead>\n",
              "  <tbody>\n",
              "    <tr>\n",
              "      <th>0</th>\n",
              "      <td>1</td>\n",
              "      <td>M14860</td>\n",
              "      <td>M</td>\n",
              "      <td>298.1</td>\n",
              "      <td>308.6</td>\n",
              "      <td>1551</td>\n",
              "      <td>42.8</td>\n",
              "      <td>0</td>\n",
              "      <td>0</td>\n",
              "      <td>No Failure</td>\n",
              "    </tr>\n",
              "    <tr>\n",
              "      <th>1</th>\n",
              "      <td>2</td>\n",
              "      <td>L47181</td>\n",
              "      <td>L</td>\n",
              "      <td>298.2</td>\n",
              "      <td>308.7</td>\n",
              "      <td>1408</td>\n",
              "      <td>46.3</td>\n",
              "      <td>3</td>\n",
              "      <td>0</td>\n",
              "      <td>No Failure</td>\n",
              "    </tr>\n",
              "  </tbody>\n",
              "</table>\n",
              "</div>\n",
              "      <button class=\"colab-df-convert\" onclick=\"convertToInteractive('df-30d8fa6a-4d3c-45a6-b23e-b1660692b9c3')\"\n",
              "              title=\"Convert this dataframe to an interactive table.\"\n",
              "              style=\"display:none;\">\n",
              "        \n",
              "  <svg xmlns=\"http://www.w3.org/2000/svg\" height=\"24px\"viewBox=\"0 0 24 24\"\n",
              "       width=\"24px\">\n",
              "    <path d=\"M0 0h24v24H0V0z\" fill=\"none\"/>\n",
              "    <path d=\"M18.56 5.44l.94 2.06.94-2.06 2.06-.94-2.06-.94-.94-2.06-.94 2.06-2.06.94zm-11 1L8.5 8.5l.94-2.06 2.06-.94-2.06-.94L8.5 2.5l-.94 2.06-2.06.94zm10 10l.94 2.06.94-2.06 2.06-.94-2.06-.94-.94-2.06-.94 2.06-2.06.94z\"/><path d=\"M17.41 7.96l-1.37-1.37c-.4-.4-.92-.59-1.43-.59-.52 0-1.04.2-1.43.59L10.3 9.45l-7.72 7.72c-.78.78-.78 2.05 0 2.83L4 21.41c.39.39.9.59 1.41.59.51 0 1.02-.2 1.41-.59l7.78-7.78 2.81-2.81c.8-.78.8-2.07 0-2.86zM5.41 20L4 18.59l7.72-7.72 1.47 1.35L5.41 20z\"/>\n",
              "  </svg>\n",
              "      </button>\n",
              "      \n",
              "  <style>\n",
              "    .colab-df-container {\n",
              "      display:flex;\n",
              "      flex-wrap:wrap;\n",
              "      gap: 12px;\n",
              "    }\n",
              "\n",
              "    .colab-df-convert {\n",
              "      background-color: #E8F0FE;\n",
              "      border: none;\n",
              "      border-radius: 50%;\n",
              "      cursor: pointer;\n",
              "      display: none;\n",
              "      fill: #1967D2;\n",
              "      height: 32px;\n",
              "      padding: 0 0 0 0;\n",
              "      width: 32px;\n",
              "    }\n",
              "\n",
              "    .colab-df-convert:hover {\n",
              "      background-color: #E2EBFA;\n",
              "      box-shadow: 0px 1px 2px rgba(60, 64, 67, 0.3), 0px 1px 3px 1px rgba(60, 64, 67, 0.15);\n",
              "      fill: #174EA6;\n",
              "    }\n",
              "\n",
              "    [theme=dark] .colab-df-convert {\n",
              "      background-color: #3B4455;\n",
              "      fill: #D2E3FC;\n",
              "    }\n",
              "\n",
              "    [theme=dark] .colab-df-convert:hover {\n",
              "      background-color: #434B5C;\n",
              "      box-shadow: 0px 1px 3px 1px rgba(0, 0, 0, 0.15);\n",
              "      filter: drop-shadow(0px 1px 2px rgba(0, 0, 0, 0.3));\n",
              "      fill: #FFFFFF;\n",
              "    }\n",
              "  </style>\n",
              "\n",
              "      <script>\n",
              "        const buttonEl =\n",
              "          document.querySelector('#df-30d8fa6a-4d3c-45a6-b23e-b1660692b9c3 button.colab-df-convert');\n",
              "        buttonEl.style.display =\n",
              "          google.colab.kernel.accessAllowed ? 'block' : 'none';\n",
              "\n",
              "        async function convertToInteractive(key) {\n",
              "          const element = document.querySelector('#df-30d8fa6a-4d3c-45a6-b23e-b1660692b9c3');\n",
              "          const dataTable =\n",
              "            await google.colab.kernel.invokeFunction('convertToInteractive',\n",
              "                                                     [key], {});\n",
              "          if (!dataTable) return;\n",
              "\n",
              "          const docLinkHtml = 'Like what you see? Visit the ' +\n",
              "            '<a target=\"_blank\" href=https://colab.research.google.com/notebooks/data_table.ipynb>data table notebook</a>'\n",
              "            + ' to learn more about interactive tables.';\n",
              "          element.innerHTML = '';\n",
              "          dataTable['output_type'] = 'display_data';\n",
              "          await google.colab.output.renderOutput(dataTable, element);\n",
              "          const docLink = document.createElement('div');\n",
              "          docLink.innerHTML = docLinkHtml;\n",
              "          element.appendChild(docLink);\n",
              "        }\n",
              "      </script>\n",
              "    </div>\n",
              "  </div>\n",
              "  "
            ]
          },
          "metadata": {},
          "execution_count": 138
        }
      ]
    },
    {
      "cell_type": "code",
      "source": [
        "#setting index\n",
        "df.set_index(\"UDI\", inplace = True)"
      ],
      "metadata": {
        "id": "9c7M7pAWkaja"
      },
      "execution_count": 139,
      "outputs": []
    },
    {
      "cell_type": "code",
      "source": [
        "df.head(2)"
      ],
      "metadata": {
        "colab": {
          "base_uri": "https://localhost:8080/",
          "height": 204
        },
        "id": "6hTEOZcHkdT_",
        "outputId": "7e51f64f-e520-464c-e12a-1bb6b601791b"
      },
      "execution_count": 140,
      "outputs": [
        {
          "output_type": "execute_result",
          "data": {
            "text/plain": [
              "    Product ID Type  Air temperature [K]  Process temperature [K]  \\\n",
              "UDI                                                                 \n",
              "1       M14860    M                298.1                    308.6   \n",
              "2       L47181    L                298.2                    308.7   \n",
              "\n",
              "     Rotational speed [rpm]  Torque [Nm]  Tool wear [min]  Target Failure Type  \n",
              "UDI                                                                             \n",
              "1                      1551         42.8                0       0   No Failure  \n",
              "2                      1408         46.3                3       0   No Failure  "
            ],
            "text/html": [
              "\n",
              "  <div id=\"df-c2a9a01e-0d56-4981-8b9b-88f47e6cf6a6\">\n",
              "    <div class=\"colab-df-container\">\n",
              "      <div>\n",
              "<style scoped>\n",
              "    .dataframe tbody tr th:only-of-type {\n",
              "        vertical-align: middle;\n",
              "    }\n",
              "\n",
              "    .dataframe tbody tr th {\n",
              "        vertical-align: top;\n",
              "    }\n",
              "\n",
              "    .dataframe thead th {\n",
              "        text-align: right;\n",
              "    }\n",
              "</style>\n",
              "<table border=\"1\" class=\"dataframe\">\n",
              "  <thead>\n",
              "    <tr style=\"text-align: right;\">\n",
              "      <th></th>\n",
              "      <th>Product ID</th>\n",
              "      <th>Type</th>\n",
              "      <th>Air temperature [K]</th>\n",
              "      <th>Process temperature [K]</th>\n",
              "      <th>Rotational speed [rpm]</th>\n",
              "      <th>Torque [Nm]</th>\n",
              "      <th>Tool wear [min]</th>\n",
              "      <th>Target</th>\n",
              "      <th>Failure Type</th>\n",
              "    </tr>\n",
              "    <tr>\n",
              "      <th>UDI</th>\n",
              "      <th></th>\n",
              "      <th></th>\n",
              "      <th></th>\n",
              "      <th></th>\n",
              "      <th></th>\n",
              "      <th></th>\n",
              "      <th></th>\n",
              "      <th></th>\n",
              "      <th></th>\n",
              "    </tr>\n",
              "  </thead>\n",
              "  <tbody>\n",
              "    <tr>\n",
              "      <th>1</th>\n",
              "      <td>M14860</td>\n",
              "      <td>M</td>\n",
              "      <td>298.1</td>\n",
              "      <td>308.6</td>\n",
              "      <td>1551</td>\n",
              "      <td>42.8</td>\n",
              "      <td>0</td>\n",
              "      <td>0</td>\n",
              "      <td>No Failure</td>\n",
              "    </tr>\n",
              "    <tr>\n",
              "      <th>2</th>\n",
              "      <td>L47181</td>\n",
              "      <td>L</td>\n",
              "      <td>298.2</td>\n",
              "      <td>308.7</td>\n",
              "      <td>1408</td>\n",
              "      <td>46.3</td>\n",
              "      <td>3</td>\n",
              "      <td>0</td>\n",
              "      <td>No Failure</td>\n",
              "    </tr>\n",
              "  </tbody>\n",
              "</table>\n",
              "</div>\n",
              "      <button class=\"colab-df-convert\" onclick=\"convertToInteractive('df-c2a9a01e-0d56-4981-8b9b-88f47e6cf6a6')\"\n",
              "              title=\"Convert this dataframe to an interactive table.\"\n",
              "              style=\"display:none;\">\n",
              "        \n",
              "  <svg xmlns=\"http://www.w3.org/2000/svg\" height=\"24px\"viewBox=\"0 0 24 24\"\n",
              "       width=\"24px\">\n",
              "    <path d=\"M0 0h24v24H0V0z\" fill=\"none\"/>\n",
              "    <path d=\"M18.56 5.44l.94 2.06.94-2.06 2.06-.94-2.06-.94-.94-2.06-.94 2.06-2.06.94zm-11 1L8.5 8.5l.94-2.06 2.06-.94-2.06-.94L8.5 2.5l-.94 2.06-2.06.94zm10 10l.94 2.06.94-2.06 2.06-.94-2.06-.94-.94-2.06-.94 2.06-2.06.94z\"/><path d=\"M17.41 7.96l-1.37-1.37c-.4-.4-.92-.59-1.43-.59-.52 0-1.04.2-1.43.59L10.3 9.45l-7.72 7.72c-.78.78-.78 2.05 0 2.83L4 21.41c.39.39.9.59 1.41.59.51 0 1.02-.2 1.41-.59l7.78-7.78 2.81-2.81c.8-.78.8-2.07 0-2.86zM5.41 20L4 18.59l7.72-7.72 1.47 1.35L5.41 20z\"/>\n",
              "  </svg>\n",
              "      </button>\n",
              "      \n",
              "  <style>\n",
              "    .colab-df-container {\n",
              "      display:flex;\n",
              "      flex-wrap:wrap;\n",
              "      gap: 12px;\n",
              "    }\n",
              "\n",
              "    .colab-df-convert {\n",
              "      background-color: #E8F0FE;\n",
              "      border: none;\n",
              "      border-radius: 50%;\n",
              "      cursor: pointer;\n",
              "      display: none;\n",
              "      fill: #1967D2;\n",
              "      height: 32px;\n",
              "      padding: 0 0 0 0;\n",
              "      width: 32px;\n",
              "    }\n",
              "\n",
              "    .colab-df-convert:hover {\n",
              "      background-color: #E2EBFA;\n",
              "      box-shadow: 0px 1px 2px rgba(60, 64, 67, 0.3), 0px 1px 3px 1px rgba(60, 64, 67, 0.15);\n",
              "      fill: #174EA6;\n",
              "    }\n",
              "\n",
              "    [theme=dark] .colab-df-convert {\n",
              "      background-color: #3B4455;\n",
              "      fill: #D2E3FC;\n",
              "    }\n",
              "\n",
              "    [theme=dark] .colab-df-convert:hover {\n",
              "      background-color: #434B5C;\n",
              "      box-shadow: 0px 1px 3px 1px rgba(0, 0, 0, 0.15);\n",
              "      filter: drop-shadow(0px 1px 2px rgba(0, 0, 0, 0.3));\n",
              "      fill: #FFFFFF;\n",
              "    }\n",
              "  </style>\n",
              "\n",
              "      <script>\n",
              "        const buttonEl =\n",
              "          document.querySelector('#df-c2a9a01e-0d56-4981-8b9b-88f47e6cf6a6 button.colab-df-convert');\n",
              "        buttonEl.style.display =\n",
              "          google.colab.kernel.accessAllowed ? 'block' : 'none';\n",
              "\n",
              "        async function convertToInteractive(key) {\n",
              "          const element = document.querySelector('#df-c2a9a01e-0d56-4981-8b9b-88f47e6cf6a6');\n",
              "          const dataTable =\n",
              "            await google.colab.kernel.invokeFunction('convertToInteractive',\n",
              "                                                     [key], {});\n",
              "          if (!dataTable) return;\n",
              "\n",
              "          const docLinkHtml = 'Like what you see? Visit the ' +\n",
              "            '<a target=\"_blank\" href=https://colab.research.google.com/notebooks/data_table.ipynb>data table notebook</a>'\n",
              "            + ' to learn more about interactive tables.';\n",
              "          element.innerHTML = '';\n",
              "          dataTable['output_type'] = 'display_data';\n",
              "          await google.colab.output.renderOutput(dataTable, element);\n",
              "          const docLink = document.createElement('div');\n",
              "          docLink.innerHTML = docLinkHtml;\n",
              "          element.appendChild(docLink);\n",
              "        }\n",
              "      </script>\n",
              "    </div>\n",
              "  </div>\n",
              "  "
            ]
          },
          "metadata": {},
          "execution_count": 140
        }
      ]
    },
    {
      "cell_type": "code",
      "source": [
        "#checking null values\n",
        "df.isna().sum()\n",
        "#as we can see there are no null values here"
      ],
      "metadata": {
        "colab": {
          "base_uri": "https://localhost:8080/"
        },
        "id": "mYPqp1CmkogL",
        "outputId": "7d5537f7-fb7b-44eb-d705-26aca40ec3af"
      },
      "execution_count": 141,
      "outputs": [
        {
          "output_type": "execute_result",
          "data": {
            "text/plain": [
              "Product ID                 0\n",
              "Type                       0\n",
              "Air temperature [K]        0\n",
              "Process temperature [K]    0\n",
              "Rotational speed [rpm]     0\n",
              "Torque [Nm]                0\n",
              "Tool wear [min]            0\n",
              "Target                     0\n",
              "Failure Type               0\n",
              "dtype: int64"
            ]
          },
          "metadata": {},
          "execution_count": 141
        }
      ]
    },
    {
      "cell_type": "code",
      "source": [
        "df.describe()"
      ],
      "metadata": {
        "colab": {
          "base_uri": "https://localhost:8080/",
          "height": 344
        },
        "id": "AVNy2FUoku-5",
        "outputId": "4b5490bd-03b9-47a8-81dd-5d85d18c2bb3"
      },
      "execution_count": 142,
      "outputs": [
        {
          "output_type": "execute_result",
          "data": {
            "text/plain": [
              "       Air temperature [K]  Process temperature [K]  Rotational speed [rpm]  \\\n",
              "count         10000.000000             10000.000000            10000.000000   \n",
              "mean            300.004930               310.005560             1538.776100   \n",
              "std               2.000259                 1.483734              179.284096   \n",
              "min             295.300000               305.700000             1168.000000   \n",
              "25%             298.300000               308.800000             1423.000000   \n",
              "50%             300.100000               310.100000             1503.000000   \n",
              "75%             301.500000               311.100000             1612.000000   \n",
              "max             304.500000               313.800000             2886.000000   \n",
              "\n",
              "        Torque [Nm]  Tool wear [min]        Target  \n",
              "count  10000.000000     10000.000000  10000.000000  \n",
              "mean      39.986910       107.951000      0.033900  \n",
              "std        9.968934        63.654147      0.180981  \n",
              "min        3.800000         0.000000      0.000000  \n",
              "25%       33.200000        53.000000      0.000000  \n",
              "50%       40.100000       108.000000      0.000000  \n",
              "75%       46.800000       162.000000      0.000000  \n",
              "max       76.600000       253.000000      1.000000  "
            ],
            "text/html": [
              "\n",
              "  <div id=\"df-0fbbc6e0-178e-460e-8fd4-4b297241d5d6\">\n",
              "    <div class=\"colab-df-container\">\n",
              "      <div>\n",
              "<style scoped>\n",
              "    .dataframe tbody tr th:only-of-type {\n",
              "        vertical-align: middle;\n",
              "    }\n",
              "\n",
              "    .dataframe tbody tr th {\n",
              "        vertical-align: top;\n",
              "    }\n",
              "\n",
              "    .dataframe thead th {\n",
              "        text-align: right;\n",
              "    }\n",
              "</style>\n",
              "<table border=\"1\" class=\"dataframe\">\n",
              "  <thead>\n",
              "    <tr style=\"text-align: right;\">\n",
              "      <th></th>\n",
              "      <th>Air temperature [K]</th>\n",
              "      <th>Process temperature [K]</th>\n",
              "      <th>Rotational speed [rpm]</th>\n",
              "      <th>Torque [Nm]</th>\n",
              "      <th>Tool wear [min]</th>\n",
              "      <th>Target</th>\n",
              "    </tr>\n",
              "  </thead>\n",
              "  <tbody>\n",
              "    <tr>\n",
              "      <th>count</th>\n",
              "      <td>10000.000000</td>\n",
              "      <td>10000.000000</td>\n",
              "      <td>10000.000000</td>\n",
              "      <td>10000.000000</td>\n",
              "      <td>10000.000000</td>\n",
              "      <td>10000.000000</td>\n",
              "    </tr>\n",
              "    <tr>\n",
              "      <th>mean</th>\n",
              "      <td>300.004930</td>\n",
              "      <td>310.005560</td>\n",
              "      <td>1538.776100</td>\n",
              "      <td>39.986910</td>\n",
              "      <td>107.951000</td>\n",
              "      <td>0.033900</td>\n",
              "    </tr>\n",
              "    <tr>\n",
              "      <th>std</th>\n",
              "      <td>2.000259</td>\n",
              "      <td>1.483734</td>\n",
              "      <td>179.284096</td>\n",
              "      <td>9.968934</td>\n",
              "      <td>63.654147</td>\n",
              "      <td>0.180981</td>\n",
              "    </tr>\n",
              "    <tr>\n",
              "      <th>min</th>\n",
              "      <td>295.300000</td>\n",
              "      <td>305.700000</td>\n",
              "      <td>1168.000000</td>\n",
              "      <td>3.800000</td>\n",
              "      <td>0.000000</td>\n",
              "      <td>0.000000</td>\n",
              "    </tr>\n",
              "    <tr>\n",
              "      <th>25%</th>\n",
              "      <td>298.300000</td>\n",
              "      <td>308.800000</td>\n",
              "      <td>1423.000000</td>\n",
              "      <td>33.200000</td>\n",
              "      <td>53.000000</td>\n",
              "      <td>0.000000</td>\n",
              "    </tr>\n",
              "    <tr>\n",
              "      <th>50%</th>\n",
              "      <td>300.100000</td>\n",
              "      <td>310.100000</td>\n",
              "      <td>1503.000000</td>\n",
              "      <td>40.100000</td>\n",
              "      <td>108.000000</td>\n",
              "      <td>0.000000</td>\n",
              "    </tr>\n",
              "    <tr>\n",
              "      <th>75%</th>\n",
              "      <td>301.500000</td>\n",
              "      <td>311.100000</td>\n",
              "      <td>1612.000000</td>\n",
              "      <td>46.800000</td>\n",
              "      <td>162.000000</td>\n",
              "      <td>0.000000</td>\n",
              "    </tr>\n",
              "    <tr>\n",
              "      <th>max</th>\n",
              "      <td>304.500000</td>\n",
              "      <td>313.800000</td>\n",
              "      <td>2886.000000</td>\n",
              "      <td>76.600000</td>\n",
              "      <td>253.000000</td>\n",
              "      <td>1.000000</td>\n",
              "    </tr>\n",
              "  </tbody>\n",
              "</table>\n",
              "</div>\n",
              "      <button class=\"colab-df-convert\" onclick=\"convertToInteractive('df-0fbbc6e0-178e-460e-8fd4-4b297241d5d6')\"\n",
              "              title=\"Convert this dataframe to an interactive table.\"\n",
              "              style=\"display:none;\">\n",
              "        \n",
              "  <svg xmlns=\"http://www.w3.org/2000/svg\" height=\"24px\"viewBox=\"0 0 24 24\"\n",
              "       width=\"24px\">\n",
              "    <path d=\"M0 0h24v24H0V0z\" fill=\"none\"/>\n",
              "    <path d=\"M18.56 5.44l.94 2.06.94-2.06 2.06-.94-2.06-.94-.94-2.06-.94 2.06-2.06.94zm-11 1L8.5 8.5l.94-2.06 2.06-.94-2.06-.94L8.5 2.5l-.94 2.06-2.06.94zm10 10l.94 2.06.94-2.06 2.06-.94-2.06-.94-.94-2.06-.94 2.06-2.06.94z\"/><path d=\"M17.41 7.96l-1.37-1.37c-.4-.4-.92-.59-1.43-.59-.52 0-1.04.2-1.43.59L10.3 9.45l-7.72 7.72c-.78.78-.78 2.05 0 2.83L4 21.41c.39.39.9.59 1.41.59.51 0 1.02-.2 1.41-.59l7.78-7.78 2.81-2.81c.8-.78.8-2.07 0-2.86zM5.41 20L4 18.59l7.72-7.72 1.47 1.35L5.41 20z\"/>\n",
              "  </svg>\n",
              "      </button>\n",
              "      \n",
              "  <style>\n",
              "    .colab-df-container {\n",
              "      display:flex;\n",
              "      flex-wrap:wrap;\n",
              "      gap: 12px;\n",
              "    }\n",
              "\n",
              "    .colab-df-convert {\n",
              "      background-color: #E8F0FE;\n",
              "      border: none;\n",
              "      border-radius: 50%;\n",
              "      cursor: pointer;\n",
              "      display: none;\n",
              "      fill: #1967D2;\n",
              "      height: 32px;\n",
              "      padding: 0 0 0 0;\n",
              "      width: 32px;\n",
              "    }\n",
              "\n",
              "    .colab-df-convert:hover {\n",
              "      background-color: #E2EBFA;\n",
              "      box-shadow: 0px 1px 2px rgba(60, 64, 67, 0.3), 0px 1px 3px 1px rgba(60, 64, 67, 0.15);\n",
              "      fill: #174EA6;\n",
              "    }\n",
              "\n",
              "    [theme=dark] .colab-df-convert {\n",
              "      background-color: #3B4455;\n",
              "      fill: #D2E3FC;\n",
              "    }\n",
              "\n",
              "    [theme=dark] .colab-df-convert:hover {\n",
              "      background-color: #434B5C;\n",
              "      box-shadow: 0px 1px 3px 1px rgba(0, 0, 0, 0.15);\n",
              "      filter: drop-shadow(0px 1px 2px rgba(0, 0, 0, 0.3));\n",
              "      fill: #FFFFFF;\n",
              "    }\n",
              "  </style>\n",
              "\n",
              "      <script>\n",
              "        const buttonEl =\n",
              "          document.querySelector('#df-0fbbc6e0-178e-460e-8fd4-4b297241d5d6 button.colab-df-convert');\n",
              "        buttonEl.style.display =\n",
              "          google.colab.kernel.accessAllowed ? 'block' : 'none';\n",
              "\n",
              "        async function convertToInteractive(key) {\n",
              "          const element = document.querySelector('#df-0fbbc6e0-178e-460e-8fd4-4b297241d5d6');\n",
              "          const dataTable =\n",
              "            await google.colab.kernel.invokeFunction('convertToInteractive',\n",
              "                                                     [key], {});\n",
              "          if (!dataTable) return;\n",
              "\n",
              "          const docLinkHtml = 'Like what you see? Visit the ' +\n",
              "            '<a target=\"_blank\" href=https://colab.research.google.com/notebooks/data_table.ipynb>data table notebook</a>'\n",
              "            + ' to learn more about interactive tables.';\n",
              "          element.innerHTML = '';\n",
              "          dataTable['output_type'] = 'display_data';\n",
              "          await google.colab.output.renderOutput(dataTable, element);\n",
              "          const docLink = document.createElement('div');\n",
              "          docLink.innerHTML = docLinkHtml;\n",
              "          element.appendChild(docLink);\n",
              "        }\n",
              "      </script>\n",
              "    </div>\n",
              "  </div>\n",
              "  "
            ]
          },
          "metadata": {},
          "execution_count": 142
        }
      ]
    },
    {
      "cell_type": "code",
      "source": [
        "#customization\n",
        "df.describe().style.background_gradient(cmap=\"icefire\")\n",
        "#like \"icefire\", there are other options too: autumn, Oranges, gist_earth, inferno, bone"
      ],
      "metadata": {
        "colab": {
          "base_uri": "https://localhost:8080/",
          "height": 300
        },
        "id": "zuh4pxwEaWwR",
        "outputId": "38ef2cc5-0f80-41b3-88c9-b13da6760f3a"
      },
      "execution_count": 143,
      "outputs": [
        {
          "output_type": "execute_result",
          "data": {
            "text/plain": [
              "<pandas.io.formats.style.Styler at 0x7ff0a34597f0>"
            ],
            "text/html": [
              "<style type=\"text/css\">\n",
              "#T_a0240_row0_col0, #T_a0240_row0_col1, #T_a0240_row0_col2, #T_a0240_row0_col3, #T_a0240_row0_col4, #T_a0240_row0_col5 {\n",
              "  background-color: #ffd4ac;\n",
              "  color: #000000;\n",
              "}\n",
              "#T_a0240_row1_col0, #T_a0240_row1_col1, #T_a0240_row3_col0, #T_a0240_row3_col1, #T_a0240_row4_col0, #T_a0240_row4_col1, #T_a0240_row5_col0, #T_a0240_row5_col1, #T_a0240_row6_col0, #T_a0240_row6_col1, #T_a0240_row7_col0, #T_a0240_row7_col1 {\n",
              "  background-color: #a9d9d6;\n",
              "  color: #000000;\n",
              "}\n",
              "#T_a0240_row1_col2 {\n",
              "  background-color: #58a5cd;\n",
              "  color: #f1f1f1;\n",
              "}\n",
              "#T_a0240_row1_col3, #T_a0240_row1_col5, #T_a0240_row2_col0, #T_a0240_row2_col1, #T_a0240_row2_col2, #T_a0240_row2_col3, #T_a0240_row2_col5, #T_a0240_row3_col3, #T_a0240_row3_col4, #T_a0240_row3_col5, #T_a0240_row4_col3, #T_a0240_row4_col5, #T_a0240_row5_col3, #T_a0240_row5_col5, #T_a0240_row6_col5, #T_a0240_row7_col5 {\n",
              "  background-color: #bde7db;\n",
              "  color: #000000;\n",
              "}\n",
              "#T_a0240_row1_col4, #T_a0240_row5_col4 {\n",
              "  background-color: #b7e3d9;\n",
              "  color: #000000;\n",
              "}\n",
              "#T_a0240_row2_col4, #T_a0240_row4_col4, #T_a0240_row6_col3, #T_a0240_row7_col3 {\n",
              "  background-color: #bae5da;\n",
              "  color: #000000;\n",
              "}\n",
              "#T_a0240_row3_col2 {\n",
              "  background-color: #75b8ce;\n",
              "  color: #000000;\n",
              "}\n",
              "#T_a0240_row4_col2 {\n",
              "  background-color: #60abcd;\n",
              "  color: #f1f1f1;\n",
              "}\n",
              "#T_a0240_row5_col2 {\n",
              "  background-color: #5aa7cd;\n",
              "  color: #f1f1f1;\n",
              "}\n",
              "#T_a0240_row6_col2 {\n",
              "  background-color: #53a2cd;\n",
              "  color: #f1f1f1;\n",
              "}\n",
              "#T_a0240_row6_col4 {\n",
              "  background-color: #b2dfd8;\n",
              "  color: #000000;\n",
              "}\n",
              "#T_a0240_row7_col2 {\n",
              "  background-color: #475ab9;\n",
              "  color: #f1f1f1;\n",
              "}\n",
              "#T_a0240_row7_col4 {\n",
              "  background-color: #acdbd7;\n",
              "  color: #000000;\n",
              "}\n",
              "</style>\n",
              "<table id=\"T_a0240\" class=\"dataframe\">\n",
              "  <thead>\n",
              "    <tr>\n",
              "      <th class=\"blank level0\" >&nbsp;</th>\n",
              "      <th id=\"T_a0240_level0_col0\" class=\"col_heading level0 col0\" >Air temperature [K]</th>\n",
              "      <th id=\"T_a0240_level0_col1\" class=\"col_heading level0 col1\" >Process temperature [K]</th>\n",
              "      <th id=\"T_a0240_level0_col2\" class=\"col_heading level0 col2\" >Rotational speed [rpm]</th>\n",
              "      <th id=\"T_a0240_level0_col3\" class=\"col_heading level0 col3\" >Torque [Nm]</th>\n",
              "      <th id=\"T_a0240_level0_col4\" class=\"col_heading level0 col4\" >Tool wear [min]</th>\n",
              "      <th id=\"T_a0240_level0_col5\" class=\"col_heading level0 col5\" >Target</th>\n",
              "    </tr>\n",
              "  </thead>\n",
              "  <tbody>\n",
              "    <tr>\n",
              "      <th id=\"T_a0240_level0_row0\" class=\"row_heading level0 row0\" >count</th>\n",
              "      <td id=\"T_a0240_row0_col0\" class=\"data row0 col0\" >10000.000000</td>\n",
              "      <td id=\"T_a0240_row0_col1\" class=\"data row0 col1\" >10000.000000</td>\n",
              "      <td id=\"T_a0240_row0_col2\" class=\"data row0 col2\" >10000.000000</td>\n",
              "      <td id=\"T_a0240_row0_col3\" class=\"data row0 col3\" >10000.000000</td>\n",
              "      <td id=\"T_a0240_row0_col4\" class=\"data row0 col4\" >10000.000000</td>\n",
              "      <td id=\"T_a0240_row0_col5\" class=\"data row0 col5\" >10000.000000</td>\n",
              "    </tr>\n",
              "    <tr>\n",
              "      <th id=\"T_a0240_level0_row1\" class=\"row_heading level0 row1\" >mean</th>\n",
              "      <td id=\"T_a0240_row1_col0\" class=\"data row1 col0\" >300.004930</td>\n",
              "      <td id=\"T_a0240_row1_col1\" class=\"data row1 col1\" >310.005560</td>\n",
              "      <td id=\"T_a0240_row1_col2\" class=\"data row1 col2\" >1538.776100</td>\n",
              "      <td id=\"T_a0240_row1_col3\" class=\"data row1 col3\" >39.986910</td>\n",
              "      <td id=\"T_a0240_row1_col4\" class=\"data row1 col4\" >107.951000</td>\n",
              "      <td id=\"T_a0240_row1_col5\" class=\"data row1 col5\" >0.033900</td>\n",
              "    </tr>\n",
              "    <tr>\n",
              "      <th id=\"T_a0240_level0_row2\" class=\"row_heading level0 row2\" >std</th>\n",
              "      <td id=\"T_a0240_row2_col0\" class=\"data row2 col0\" >2.000259</td>\n",
              "      <td id=\"T_a0240_row2_col1\" class=\"data row2 col1\" >1.483734</td>\n",
              "      <td id=\"T_a0240_row2_col2\" class=\"data row2 col2\" >179.284096</td>\n",
              "      <td id=\"T_a0240_row2_col3\" class=\"data row2 col3\" >9.968934</td>\n",
              "      <td id=\"T_a0240_row2_col4\" class=\"data row2 col4\" >63.654147</td>\n",
              "      <td id=\"T_a0240_row2_col5\" class=\"data row2 col5\" >0.180981</td>\n",
              "    </tr>\n",
              "    <tr>\n",
              "      <th id=\"T_a0240_level0_row3\" class=\"row_heading level0 row3\" >min</th>\n",
              "      <td id=\"T_a0240_row3_col0\" class=\"data row3 col0\" >295.300000</td>\n",
              "      <td id=\"T_a0240_row3_col1\" class=\"data row3 col1\" >305.700000</td>\n",
              "      <td id=\"T_a0240_row3_col2\" class=\"data row3 col2\" >1168.000000</td>\n",
              "      <td id=\"T_a0240_row3_col3\" class=\"data row3 col3\" >3.800000</td>\n",
              "      <td id=\"T_a0240_row3_col4\" class=\"data row3 col4\" >0.000000</td>\n",
              "      <td id=\"T_a0240_row3_col5\" class=\"data row3 col5\" >0.000000</td>\n",
              "    </tr>\n",
              "    <tr>\n",
              "      <th id=\"T_a0240_level0_row4\" class=\"row_heading level0 row4\" >25%</th>\n",
              "      <td id=\"T_a0240_row4_col0\" class=\"data row4 col0\" >298.300000</td>\n",
              "      <td id=\"T_a0240_row4_col1\" class=\"data row4 col1\" >308.800000</td>\n",
              "      <td id=\"T_a0240_row4_col2\" class=\"data row4 col2\" >1423.000000</td>\n",
              "      <td id=\"T_a0240_row4_col3\" class=\"data row4 col3\" >33.200000</td>\n",
              "      <td id=\"T_a0240_row4_col4\" class=\"data row4 col4\" >53.000000</td>\n",
              "      <td id=\"T_a0240_row4_col5\" class=\"data row4 col5\" >0.000000</td>\n",
              "    </tr>\n",
              "    <tr>\n",
              "      <th id=\"T_a0240_level0_row5\" class=\"row_heading level0 row5\" >50%</th>\n",
              "      <td id=\"T_a0240_row5_col0\" class=\"data row5 col0\" >300.100000</td>\n",
              "      <td id=\"T_a0240_row5_col1\" class=\"data row5 col1\" >310.100000</td>\n",
              "      <td id=\"T_a0240_row5_col2\" class=\"data row5 col2\" >1503.000000</td>\n",
              "      <td id=\"T_a0240_row5_col3\" class=\"data row5 col3\" >40.100000</td>\n",
              "      <td id=\"T_a0240_row5_col4\" class=\"data row5 col4\" >108.000000</td>\n",
              "      <td id=\"T_a0240_row5_col5\" class=\"data row5 col5\" >0.000000</td>\n",
              "    </tr>\n",
              "    <tr>\n",
              "      <th id=\"T_a0240_level0_row6\" class=\"row_heading level0 row6\" >75%</th>\n",
              "      <td id=\"T_a0240_row6_col0\" class=\"data row6 col0\" >301.500000</td>\n",
              "      <td id=\"T_a0240_row6_col1\" class=\"data row6 col1\" >311.100000</td>\n",
              "      <td id=\"T_a0240_row6_col2\" class=\"data row6 col2\" >1612.000000</td>\n",
              "      <td id=\"T_a0240_row6_col3\" class=\"data row6 col3\" >46.800000</td>\n",
              "      <td id=\"T_a0240_row6_col4\" class=\"data row6 col4\" >162.000000</td>\n",
              "      <td id=\"T_a0240_row6_col5\" class=\"data row6 col5\" >0.000000</td>\n",
              "    </tr>\n",
              "    <tr>\n",
              "      <th id=\"T_a0240_level0_row7\" class=\"row_heading level0 row7\" >max</th>\n",
              "      <td id=\"T_a0240_row7_col0\" class=\"data row7 col0\" >304.500000</td>\n",
              "      <td id=\"T_a0240_row7_col1\" class=\"data row7 col1\" >313.800000</td>\n",
              "      <td id=\"T_a0240_row7_col2\" class=\"data row7 col2\" >2886.000000</td>\n",
              "      <td id=\"T_a0240_row7_col3\" class=\"data row7 col3\" >76.600000</td>\n",
              "      <td id=\"T_a0240_row7_col4\" class=\"data row7 col4\" >253.000000</td>\n",
              "      <td id=\"T_a0240_row7_col5\" class=\"data row7 col5\" >1.000000</td>\n",
              "    </tr>\n",
              "  </tbody>\n",
              "</table>\n"
            ]
          },
          "metadata": {},
          "execution_count": 143
        }
      ]
    },
    {
      "cell_type": "code",
      "source": [
        "#to find the datatype of each column\n",
        "df.dtypes"
      ],
      "metadata": {
        "colab": {
          "base_uri": "https://localhost:8080/"
        },
        "id": "BpQREkQ1k6p1",
        "outputId": "9b24d5c6-5868-4049-cc6c-62ed2a7bfa6f"
      },
      "execution_count": 144,
      "outputs": [
        {
          "output_type": "execute_result",
          "data": {
            "text/plain": [
              "Product ID                  object\n",
              "Type                        object\n",
              "Air temperature [K]        float64\n",
              "Process temperature [K]    float64\n",
              "Rotational speed [rpm]       int64\n",
              "Torque [Nm]                float64\n",
              "Tool wear [min]              int64\n",
              "Target                       int64\n",
              "Failure Type                object\n",
              "dtype: object"
            ]
          },
          "metadata": {},
          "execution_count": 144
        }
      ]
    },
    {
      "cell_type": "code",
      "source": [
        "#we dont require product id \n",
        "df.drop(\"Product ID\", axis = 1, inplace = True)"
      ],
      "metadata": {
        "id": "AamnD1VXcW5Q"
      },
      "execution_count": 145,
      "outputs": []
    },
    {
      "cell_type": "code",
      "source": [
        "#number of rows, number of columns\n",
        "df.shape "
      ],
      "metadata": {
        "colab": {
          "base_uri": "https://localhost:8080/"
        },
        "id": "cmxfvJKBlCkI",
        "outputId": "fb3829d9-365e-425b-e5b4-9fbe2c689d2b"
      },
      "execution_count": 146,
      "outputs": [
        {
          "output_type": "execute_result",
          "data": {
            "text/plain": [
              "(10000, 8)"
            ]
          },
          "metadata": {},
          "execution_count": 146
        }
      ]
    },
    {
      "cell_type": "code",
      "source": [
        "df.columns"
      ],
      "metadata": {
        "colab": {
          "base_uri": "https://localhost:8080/"
        },
        "id": "VMvhi92aA2pu",
        "outputId": "e5bab328-b07c-4b26-984c-815c1c13af43"
      },
      "execution_count": 147,
      "outputs": [
        {
          "output_type": "execute_result",
          "data": {
            "text/plain": [
              "Index(['Type', 'Air temperature [K]', 'Process temperature [K]',\n",
              "       'Rotational speed [rpm]', 'Torque [Nm]', 'Tool wear [min]', 'Target',\n",
              "       'Failure Type'],\n",
              "      dtype='object')"
            ]
          },
          "metadata": {},
          "execution_count": 147
        }
      ]
    },
    {
      "cell_type": "code",
      "source": [
        "#renaming columns\n",
        "df.rename(columns = {\"Air temperature [K]\": \"Air_temp\"}, inplace = True)\n",
        "df.rename(columns = {\"Process temperature [K]\": \"Process_temp\"}, inplace = True)\n",
        "df.rename(columns = {\"Rotational speed [rpm]\": \"Rotational_speed\"}, inplace = True)\n",
        "df.rename(columns = {\"Torque [Nm]\": \"Torque\"}, inplace = True)\n",
        "df.rename(columns = {\"Tool wear [min]\": \"Tool_wear\"}, inplace = True)\n",
        "df.rename(columns = {\"Failure Type\": \"Failure_type\"}, inplace = True)"
      ],
      "metadata": {
        "id": "NdORoGWnnXoS"
      },
      "execution_count": 148,
      "outputs": []
    },
    {
      "cell_type": "code",
      "source": [
        "df.head(2)"
      ],
      "metadata": {
        "colab": {
          "base_uri": "https://localhost:8080/",
          "height": 143
        },
        "id": "U6pJgpXuDfda",
        "outputId": "320ef1c5-2d0d-441f-c4db-88dd48ad2b3a"
      },
      "execution_count": 149,
      "outputs": [
        {
          "output_type": "execute_result",
          "data": {
            "text/plain": [
              "    Type  Air_temp  Process_temp  Rotational_speed  Torque  Tool_wear  Target  \\\n",
              "UDI                                                                             \n",
              "1      M     298.1         308.6              1551    42.8          0       0   \n",
              "2      L     298.2         308.7              1408    46.3          3       0   \n",
              "\n",
              "    Failure_type  \n",
              "UDI               \n",
              "1     No Failure  \n",
              "2     No Failure  "
            ],
            "text/html": [
              "\n",
              "  <div id=\"df-40590e39-83a6-40ee-a964-89eaabbfd435\">\n",
              "    <div class=\"colab-df-container\">\n",
              "      <div>\n",
              "<style scoped>\n",
              "    .dataframe tbody tr th:only-of-type {\n",
              "        vertical-align: middle;\n",
              "    }\n",
              "\n",
              "    .dataframe tbody tr th {\n",
              "        vertical-align: top;\n",
              "    }\n",
              "\n",
              "    .dataframe thead th {\n",
              "        text-align: right;\n",
              "    }\n",
              "</style>\n",
              "<table border=\"1\" class=\"dataframe\">\n",
              "  <thead>\n",
              "    <tr style=\"text-align: right;\">\n",
              "      <th></th>\n",
              "      <th>Type</th>\n",
              "      <th>Air_temp</th>\n",
              "      <th>Process_temp</th>\n",
              "      <th>Rotational_speed</th>\n",
              "      <th>Torque</th>\n",
              "      <th>Tool_wear</th>\n",
              "      <th>Target</th>\n",
              "      <th>Failure_type</th>\n",
              "    </tr>\n",
              "    <tr>\n",
              "      <th>UDI</th>\n",
              "      <th></th>\n",
              "      <th></th>\n",
              "      <th></th>\n",
              "      <th></th>\n",
              "      <th></th>\n",
              "      <th></th>\n",
              "      <th></th>\n",
              "      <th></th>\n",
              "    </tr>\n",
              "  </thead>\n",
              "  <tbody>\n",
              "    <tr>\n",
              "      <th>1</th>\n",
              "      <td>M</td>\n",
              "      <td>298.1</td>\n",
              "      <td>308.6</td>\n",
              "      <td>1551</td>\n",
              "      <td>42.8</td>\n",
              "      <td>0</td>\n",
              "      <td>0</td>\n",
              "      <td>No Failure</td>\n",
              "    </tr>\n",
              "    <tr>\n",
              "      <th>2</th>\n",
              "      <td>L</td>\n",
              "      <td>298.2</td>\n",
              "      <td>308.7</td>\n",
              "      <td>1408</td>\n",
              "      <td>46.3</td>\n",
              "      <td>3</td>\n",
              "      <td>0</td>\n",
              "      <td>No Failure</td>\n",
              "    </tr>\n",
              "  </tbody>\n",
              "</table>\n",
              "</div>\n",
              "      <button class=\"colab-df-convert\" onclick=\"convertToInteractive('df-40590e39-83a6-40ee-a964-89eaabbfd435')\"\n",
              "              title=\"Convert this dataframe to an interactive table.\"\n",
              "              style=\"display:none;\">\n",
              "        \n",
              "  <svg xmlns=\"http://www.w3.org/2000/svg\" height=\"24px\"viewBox=\"0 0 24 24\"\n",
              "       width=\"24px\">\n",
              "    <path d=\"M0 0h24v24H0V0z\" fill=\"none\"/>\n",
              "    <path d=\"M18.56 5.44l.94 2.06.94-2.06 2.06-.94-2.06-.94-.94-2.06-.94 2.06-2.06.94zm-11 1L8.5 8.5l.94-2.06 2.06-.94-2.06-.94L8.5 2.5l-.94 2.06-2.06.94zm10 10l.94 2.06.94-2.06 2.06-.94-2.06-.94-.94-2.06-.94 2.06-2.06.94z\"/><path d=\"M17.41 7.96l-1.37-1.37c-.4-.4-.92-.59-1.43-.59-.52 0-1.04.2-1.43.59L10.3 9.45l-7.72 7.72c-.78.78-.78 2.05 0 2.83L4 21.41c.39.39.9.59 1.41.59.51 0 1.02-.2 1.41-.59l7.78-7.78 2.81-2.81c.8-.78.8-2.07 0-2.86zM5.41 20L4 18.59l7.72-7.72 1.47 1.35L5.41 20z\"/>\n",
              "  </svg>\n",
              "      </button>\n",
              "      \n",
              "  <style>\n",
              "    .colab-df-container {\n",
              "      display:flex;\n",
              "      flex-wrap:wrap;\n",
              "      gap: 12px;\n",
              "    }\n",
              "\n",
              "    .colab-df-convert {\n",
              "      background-color: #E8F0FE;\n",
              "      border: none;\n",
              "      border-radius: 50%;\n",
              "      cursor: pointer;\n",
              "      display: none;\n",
              "      fill: #1967D2;\n",
              "      height: 32px;\n",
              "      padding: 0 0 0 0;\n",
              "      width: 32px;\n",
              "    }\n",
              "\n",
              "    .colab-df-convert:hover {\n",
              "      background-color: #E2EBFA;\n",
              "      box-shadow: 0px 1px 2px rgba(60, 64, 67, 0.3), 0px 1px 3px 1px rgba(60, 64, 67, 0.15);\n",
              "      fill: #174EA6;\n",
              "    }\n",
              "\n",
              "    [theme=dark] .colab-df-convert {\n",
              "      background-color: #3B4455;\n",
              "      fill: #D2E3FC;\n",
              "    }\n",
              "\n",
              "    [theme=dark] .colab-df-convert:hover {\n",
              "      background-color: #434B5C;\n",
              "      box-shadow: 0px 1px 3px 1px rgba(0, 0, 0, 0.15);\n",
              "      filter: drop-shadow(0px 1px 2px rgba(0, 0, 0, 0.3));\n",
              "      fill: #FFFFFF;\n",
              "    }\n",
              "  </style>\n",
              "\n",
              "      <script>\n",
              "        const buttonEl =\n",
              "          document.querySelector('#df-40590e39-83a6-40ee-a964-89eaabbfd435 button.colab-df-convert');\n",
              "        buttonEl.style.display =\n",
              "          google.colab.kernel.accessAllowed ? 'block' : 'none';\n",
              "\n",
              "        async function convertToInteractive(key) {\n",
              "          const element = document.querySelector('#df-40590e39-83a6-40ee-a964-89eaabbfd435');\n",
              "          const dataTable =\n",
              "            await google.colab.kernel.invokeFunction('convertToInteractive',\n",
              "                                                     [key], {});\n",
              "          if (!dataTable) return;\n",
              "\n",
              "          const docLinkHtml = 'Like what you see? Visit the ' +\n",
              "            '<a target=\"_blank\" href=https://colab.research.google.com/notebooks/data_table.ipynb>data table notebook</a>'\n",
              "            + ' to learn more about interactive tables.';\n",
              "          element.innerHTML = '';\n",
              "          dataTable['output_type'] = 'display_data';\n",
              "          await google.colab.output.renderOutput(dataTable, element);\n",
              "          const docLink = document.createElement('div');\n",
              "          docLink.innerHTML = docLinkHtml;\n",
              "          element.appendChild(docLink);\n",
              "        }\n",
              "      </script>\n",
              "    </div>\n",
              "  </div>\n",
              "  "
            ]
          },
          "metadata": {},
          "execution_count": 149
        }
      ]
    },
    {
      "cell_type": "code",
      "source": [
        "#finding the number of products whose types are L and have no failure\n",
        "len(df[(df.Type == \"L\") & (df.Failure_type == \"No Failure\")])"
      ],
      "metadata": {
        "colab": {
          "base_uri": "https://localhost:8080/"
        },
        "id": "yV-zxF-HEYWk",
        "outputId": "d13264b7-83be-4dee-93c7-d5dd38dd8c1a"
      },
      "execution_count": 150,
      "outputs": [
        {
          "output_type": "execute_result",
          "data": {
            "text/plain": [
              "5757"
            ]
          },
          "metadata": {},
          "execution_count": 150
        }
      ]
    },
    {
      "cell_type": "code",
      "source": [
        "#finding the number of proucts whose types are M and have had failures -- using \"isin\"\n",
        "len(df[(~df.Failure_type.isin([\"No Failure\"])) & (df.Type.isin([\"M\"]))])\n",
        "\n",
        "#note --> in these ways, we can make condiitons acc to the type of data we're looking for"
      ],
      "metadata": {
        "colab": {
          "base_uri": "https://localhost:8080/"
        },
        "id": "KIIa1v1jFYwJ",
        "outputId": "325ae4ce-1504-48d3-8f1e-178553d10283"
      },
      "execution_count": 151,
      "outputs": [
        {
          "output_type": "execute_result",
          "data": {
            "text/plain": [
              "81"
            ]
          },
          "metadata": {},
          "execution_count": 151
        }
      ]
    },
    {
      "cell_type": "code",
      "source": [
        "#details of rotational speed\n",
        "print(f\"RS_min: {df.Rotational_speed.min()}\")\n",
        "print(f\"RS_max: {df.Rotational_speed.max()}\")\n",
        "print(f\"RS_quantile25: {df.Rotational_speed.quantile(.25)}\")\n",
        "print(f\"RS_quantile50: {df.Rotational_speed.quantile(.50)}\")\n",
        "print(f\"RS_quantile75: {df.Rotational_speed.quantile(.75)}\")\n",
        "print(f\"RS_mean: {df.Rotational_speed.mean()}\")\n",
        "print(f\"RS_median: {df.Rotational_speed.median()}\")\n",
        "print(f\"RS_mode: {df.Rotational_speed.mode()}\")\n",
        "print(f\"RS_standard_deviation: {df.Rotational_speed.std()}\")"
      ],
      "metadata": {
        "colab": {
          "base_uri": "https://localhost:8080/"
        },
        "id": "kMgSo5bElLaO",
        "outputId": "4d681a65-60a3-40ad-c903-c9f869c56720"
      },
      "execution_count": 152,
      "outputs": [
        {
          "output_type": "stream",
          "name": "stdout",
          "text": [
            "RS_min: 1168\n",
            "RS_max: 2886\n",
            "RS_quantile25: 1423.0\n",
            "RS_quantile50: 1503.0\n",
            "RS_quantile75: 1612.0\n",
            "RS_mean: 1538.7761\n",
            "RS_median: 1503.0\n",
            "RS_mode: 0    1452\n",
            "Name: Rotational_speed, dtype: int64\n",
            "RS_standard_deviation: 179.2840959134266\n"
          ]
        }
      ]
    },
    {
      "cell_type": "code",
      "source": [
        "#groupby --> makes it easier for the viewer to further analyze the given data\n",
        "df.groupby([\"Type\", \"Failure_type\"]).size()\n",
        "\n",
        "#evaluation:\n",
        "#i. solely looking at the numbers, the machine type with the greatest amount of failure is L\n",
        "#ii. again, only looking at the numbrs, the machine type with the least amount of failures is also 5757\n",
        "#threfore, it is important to look into graphs & also probability to make a proper evaluation as to\n",
        "#which type of machiine actually has the greatest amout of failure\n",
        "# amount of failures: H-98 L-273 M-81"
      ],
      "metadata": {
        "colab": {
          "base_uri": "https://localhost:8080/"
        },
        "id": "hgVg1YDtEOJF",
        "outputId": "5b199a99-326a-4eb7-dbc5-b71d5c952d16"
      },
      "execution_count": 153,
      "outputs": [
        {
          "output_type": "execute_result",
          "data": {
            "text/plain": [
              "Type  Failure_type            \n",
              "H     Heat Dissipation Failure       8\n",
              "      No Failure                   979\n",
              "      Overstrain Failure             1\n",
              "      Power Failure                  5\n",
              "      Random Failures                4\n",
              "      Tool Wear Failure              6\n",
              "L     Heat Dissipation Failure      74\n",
              "      No Failure                  5757\n",
              "      Overstrain Failure            73\n",
              "      Power Failure                 59\n",
              "      Random Failures               12\n",
              "      Tool Wear Failure             25\n",
              "M     Heat Dissipation Failure      30\n",
              "      No Failure                  2916\n",
              "      Overstrain Failure             4\n",
              "      Power Failure                 31\n",
              "      Random Failures                2\n",
              "      Tool Wear Failure             14\n",
              "dtype: int64"
            ]
          },
          "metadata": {},
          "execution_count": 153
        }
      ]
    },
    {
      "cell_type": "code",
      "source": [
        "#same output, different approach\n",
        "df.groupby(\"Type\").Failure_type.value_counts()"
      ],
      "metadata": {
        "colab": {
          "base_uri": "https://localhost:8080/"
        },
        "id": "FBWAM3lHIcjn",
        "outputId": "9c9069fe-cfe6-4aba-e5eb-063eee4281de"
      },
      "execution_count": 154,
      "outputs": [
        {
          "output_type": "execute_result",
          "data": {
            "text/plain": [
              "Type  Failure_type            \n",
              "H     No Failure                   979\n",
              "      Heat Dissipation Failure       8\n",
              "      Tool Wear Failure              6\n",
              "      Power Failure                  5\n",
              "      Random Failures                4\n",
              "      Overstrain Failure             1\n",
              "L     No Failure                  5757\n",
              "      Heat Dissipation Failure      74\n",
              "      Overstrain Failure            73\n",
              "      Power Failure                 59\n",
              "      Tool Wear Failure             25\n",
              "      Random Failures               12\n",
              "M     No Failure                  2916\n",
              "      Power Failure                 31\n",
              "      Heat Dissipation Failure      30\n",
              "      Tool Wear Failure             14\n",
              "      Overstrain Failure             4\n",
              "      Random Failures                2\n",
              "Name: Failure_type, dtype: int64"
            ]
          },
          "metadata": {},
          "execution_count": 154
        }
      ]
    },
    {
      "cell_type": "code",
      "source": [
        "df.groupby(\"Type\").Rotational_speed.sum()\n",
        "#evaluation: \n",
        "#looking ta the sum of the rotational speed of each type of machine, it can be inferred that Type L has the \n",
        "#fastest rotational speed while H is lacking behind"
      ],
      "metadata": {
        "colab": {
          "base_uri": "https://localhost:8080/"
        },
        "id": "-6OviH8zIpYq",
        "outputId": "e51530e7-4dac-40f3-ffdd-44eb0cf1fd91"
      },
      "execution_count": 155,
      "outputs": [
        {
          "output_type": "execute_result",
          "data": {
            "text/plain": [
              "Type\n",
              "H    1542762\n",
              "L    9236815\n",
              "M    4608184\n",
              "Name: Rotational_speed, dtype: int64"
            ]
          },
          "metadata": {},
          "execution_count": 155
        }
      ]
    },
    {
      "cell_type": "code",
      "source": [
        "#finding information of the produt which is listed in the UDI number 444\n",
        "df.loc[444]"
      ],
      "metadata": {
        "colab": {
          "base_uri": "https://localhost:8080/"
        },
        "id": "UkDDOYJpJcr0",
        "outputId": "fd2e5368-0e3e-4cdd-9036-40b6bc641d66"
      },
      "execution_count": 156,
      "outputs": [
        {
          "output_type": "execute_result",
          "data": {
            "text/plain": [
              "Type                         H\n",
              "Air_temp                 297.4\n",
              "Process_temp             308.5\n",
              "Rotational_speed          1469\n",
              "Torque                    45.1\n",
              "Tool_wear                   63\n",
              "Target                       0\n",
              "Failure_type        No Failure\n",
              "Name: 444, dtype: object"
            ]
          },
          "metadata": {},
          "execution_count": 156
        }
      ]
    },
    {
      "cell_type": "code",
      "source": [
        "#finding information of the product which is listed in the index number 444\n",
        "df.iloc[444]"
      ],
      "metadata": {
        "colab": {
          "base_uri": "https://localhost:8080/"
        },
        "id": "MIhBphKFI-ag",
        "outputId": "71736cc5-d32b-45f4-ffa2-72ba8860414a"
      },
      "execution_count": 157,
      "outputs": [
        {
          "output_type": "execute_result",
          "data": {
            "text/plain": [
              "Type                         L\n",
              "Air_temp                 297.4\n",
              "Process_temp             308.4\n",
              "Rotational_speed          1582\n",
              "Torque                    37.2\n",
              "Tool_wear                   68\n",
              "Target                       0\n",
              "Failure_type        No Failure\n",
              "Name: 445, dtype: object"
            ]
          },
          "metadata": {},
          "execution_count": 157
        }
      ]
    },
    {
      "cell_type": "code",
      "source": [
        "#to take a sample and customize it: \n",
        "#sampling --> done when thee total population is large\n",
        "df.sample(6).style.set_properties(\n",
        "    **{\n",
        "        'background-color': 'Violet',\n",
        "        'color': 'White',\n",
        "        'border-color': 'Black'\n",
        "    })"
      ],
      "metadata": {
        "colab": {
          "base_uri": "https://localhost:8080/",
          "height": 268
        },
        "id": "uw99MpKYZJxm",
        "outputId": "d497d2e9-8c7e-4978-f81c-e4d4a5c294e7"
      },
      "execution_count": 158,
      "outputs": [
        {
          "output_type": "execute_result",
          "data": {
            "text/plain": [
              "<pandas.io.formats.style.Styler at 0x7ff0a2a970d0>"
            ],
            "text/html": [
              "<style type=\"text/css\">\n",
              "#T_c4cf3_row0_col0, #T_c4cf3_row0_col1, #T_c4cf3_row0_col2, #T_c4cf3_row0_col3, #T_c4cf3_row0_col4, #T_c4cf3_row0_col5, #T_c4cf3_row0_col6, #T_c4cf3_row0_col7, #T_c4cf3_row1_col0, #T_c4cf3_row1_col1, #T_c4cf3_row1_col2, #T_c4cf3_row1_col3, #T_c4cf3_row1_col4, #T_c4cf3_row1_col5, #T_c4cf3_row1_col6, #T_c4cf3_row1_col7, #T_c4cf3_row2_col0, #T_c4cf3_row2_col1, #T_c4cf3_row2_col2, #T_c4cf3_row2_col3, #T_c4cf3_row2_col4, #T_c4cf3_row2_col5, #T_c4cf3_row2_col6, #T_c4cf3_row2_col7, #T_c4cf3_row3_col0, #T_c4cf3_row3_col1, #T_c4cf3_row3_col2, #T_c4cf3_row3_col3, #T_c4cf3_row3_col4, #T_c4cf3_row3_col5, #T_c4cf3_row3_col6, #T_c4cf3_row3_col7, #T_c4cf3_row4_col0, #T_c4cf3_row4_col1, #T_c4cf3_row4_col2, #T_c4cf3_row4_col3, #T_c4cf3_row4_col4, #T_c4cf3_row4_col5, #T_c4cf3_row4_col6, #T_c4cf3_row4_col7, #T_c4cf3_row5_col0, #T_c4cf3_row5_col1, #T_c4cf3_row5_col2, #T_c4cf3_row5_col3, #T_c4cf3_row5_col4, #T_c4cf3_row5_col5, #T_c4cf3_row5_col6, #T_c4cf3_row5_col7 {\n",
              "  background-color: Violet;\n",
              "  color: White;\n",
              "  border-color: Black;\n",
              "}\n",
              "</style>\n",
              "<table id=\"T_c4cf3\" class=\"dataframe\">\n",
              "  <thead>\n",
              "    <tr>\n",
              "      <th class=\"blank level0\" >&nbsp;</th>\n",
              "      <th id=\"T_c4cf3_level0_col0\" class=\"col_heading level0 col0\" >Type</th>\n",
              "      <th id=\"T_c4cf3_level0_col1\" class=\"col_heading level0 col1\" >Air_temp</th>\n",
              "      <th id=\"T_c4cf3_level0_col2\" class=\"col_heading level0 col2\" >Process_temp</th>\n",
              "      <th id=\"T_c4cf3_level0_col3\" class=\"col_heading level0 col3\" >Rotational_speed</th>\n",
              "      <th id=\"T_c4cf3_level0_col4\" class=\"col_heading level0 col4\" >Torque</th>\n",
              "      <th id=\"T_c4cf3_level0_col5\" class=\"col_heading level0 col5\" >Tool_wear</th>\n",
              "      <th id=\"T_c4cf3_level0_col6\" class=\"col_heading level0 col6\" >Target</th>\n",
              "      <th id=\"T_c4cf3_level0_col7\" class=\"col_heading level0 col7\" >Failure_type</th>\n",
              "    </tr>\n",
              "    <tr>\n",
              "      <th class=\"index_name level0\" >UDI</th>\n",
              "      <th class=\"blank col0\" >&nbsp;</th>\n",
              "      <th class=\"blank col1\" >&nbsp;</th>\n",
              "      <th class=\"blank col2\" >&nbsp;</th>\n",
              "      <th class=\"blank col3\" >&nbsp;</th>\n",
              "      <th class=\"blank col4\" >&nbsp;</th>\n",
              "      <th class=\"blank col5\" >&nbsp;</th>\n",
              "      <th class=\"blank col6\" >&nbsp;</th>\n",
              "      <th class=\"blank col7\" >&nbsp;</th>\n",
              "    </tr>\n",
              "  </thead>\n",
              "  <tbody>\n",
              "    <tr>\n",
              "      <th id=\"T_c4cf3_level0_row0\" class=\"row_heading level0 row0\" >3136</th>\n",
              "      <td id=\"T_c4cf3_row0_col0\" class=\"data row0 col0\" >L</td>\n",
              "      <td id=\"T_c4cf3_row0_col1\" class=\"data row0 col1\" >300.400000</td>\n",
              "      <td id=\"T_c4cf3_row0_col2\" class=\"data row0 col2\" >309.800000</td>\n",
              "      <td id=\"T_c4cf3_row0_col3\" class=\"data row0 col3\" >1342</td>\n",
              "      <td id=\"T_c4cf3_row0_col4\" class=\"data row0 col4\" >52.500000</td>\n",
              "      <td id=\"T_c4cf3_row0_col5\" class=\"data row0 col5\" >68</td>\n",
              "      <td id=\"T_c4cf3_row0_col6\" class=\"data row0 col6\" >0</td>\n",
              "      <td id=\"T_c4cf3_row0_col7\" class=\"data row0 col7\" >No Failure</td>\n",
              "    </tr>\n",
              "    <tr>\n",
              "      <th id=\"T_c4cf3_level0_row1\" class=\"row_heading level0 row1\" >3368</th>\n",
              "      <td id=\"T_c4cf3_row1_col0\" class=\"data row1 col0\" >H</td>\n",
              "      <td id=\"T_c4cf3_row1_col1\" class=\"data row1 col1\" >301.500000</td>\n",
              "      <td id=\"T_c4cf3_row1_col2\" class=\"data row1 col2\" >310.700000</td>\n",
              "      <td id=\"T_c4cf3_row1_col3\" class=\"data row1 col3\" >1790</td>\n",
              "      <td id=\"T_c4cf3_row1_col4\" class=\"data row1 col4\" >26.200000</td>\n",
              "      <td id=\"T_c4cf3_row1_col5\" class=\"data row1 col5\" >8</td>\n",
              "      <td id=\"T_c4cf3_row1_col6\" class=\"data row1 col6\" >0</td>\n",
              "      <td id=\"T_c4cf3_row1_col7\" class=\"data row1 col7\" >No Failure</td>\n",
              "    </tr>\n",
              "    <tr>\n",
              "      <th id=\"T_c4cf3_level0_row2\" class=\"row_heading level0 row2\" >3160</th>\n",
              "      <td id=\"T_c4cf3_row2_col0\" class=\"data row2 col0\" >H</td>\n",
              "      <td id=\"T_c4cf3_row2_col1\" class=\"data row2 col1\" >300.400000</td>\n",
              "      <td id=\"T_c4cf3_row2_col2\" class=\"data row2 col2\" >309.800000</td>\n",
              "      <td id=\"T_c4cf3_row2_col3\" class=\"data row2 col3\" >1409</td>\n",
              "      <td id=\"T_c4cf3_row2_col4\" class=\"data row2 col4\" >47.500000</td>\n",
              "      <td id=\"T_c4cf3_row2_col5\" class=\"data row2 col5\" >138</td>\n",
              "      <td id=\"T_c4cf3_row2_col6\" class=\"data row2 col6\" >0</td>\n",
              "      <td id=\"T_c4cf3_row2_col7\" class=\"data row2 col7\" >No Failure</td>\n",
              "    </tr>\n",
              "    <tr>\n",
              "      <th id=\"T_c4cf3_level0_row3\" class=\"row_heading level0 row3\" >1726</th>\n",
              "      <td id=\"T_c4cf3_row3_col0\" class=\"data row3 col0\" >M</td>\n",
              "      <td id=\"T_c4cf3_row3_col1\" class=\"data row3 col1\" >298.300000</td>\n",
              "      <td id=\"T_c4cf3_row3_col2\" class=\"data row3 col2\" >307.800000</td>\n",
              "      <td id=\"T_c4cf3_row3_col3\" class=\"data row3 col3\" >1392</td>\n",
              "      <td id=\"T_c4cf3_row3_col4\" class=\"data row3 col4\" >50.400000</td>\n",
              "      <td id=\"T_c4cf3_row3_col5\" class=\"data row3 col5\" >101</td>\n",
              "      <td id=\"T_c4cf3_row3_col6\" class=\"data row3 col6\" >0</td>\n",
              "      <td id=\"T_c4cf3_row3_col7\" class=\"data row3 col7\" >No Failure</td>\n",
              "    </tr>\n",
              "    <tr>\n",
              "      <th id=\"T_c4cf3_level0_row4\" class=\"row_heading level0 row4\" >9408</th>\n",
              "      <td id=\"T_c4cf3_row4_col0\" class=\"data row4 col0\" >L</td>\n",
              "      <td id=\"T_c4cf3_row4_col1\" class=\"data row4 col1\" >297.800000</td>\n",
              "      <td id=\"T_c4cf3_row4_col2\" class=\"data row4 col2\" >308.300000</td>\n",
              "      <td id=\"T_c4cf3_row4_col3\" class=\"data row4 col3\" >1435</td>\n",
              "      <td id=\"T_c4cf3_row4_col4\" class=\"data row4 col4\" >50.100000</td>\n",
              "      <td id=\"T_c4cf3_row4_col5\" class=\"data row4 col5\" >189</td>\n",
              "      <td id=\"T_c4cf3_row4_col6\" class=\"data row4 col6\" >0</td>\n",
              "      <td id=\"T_c4cf3_row4_col7\" class=\"data row4 col7\" >No Failure</td>\n",
              "    </tr>\n",
              "    <tr>\n",
              "      <th id=\"T_c4cf3_level0_row5\" class=\"row_heading level0 row5\" >3665</th>\n",
              "      <td id=\"T_c4cf3_row5_col0\" class=\"data row5 col0\" >M</td>\n",
              "      <td id=\"T_c4cf3_row5_col1\" class=\"data row5 col1\" >302.300000</td>\n",
              "      <td id=\"T_c4cf3_row5_col2\" class=\"data row5 col2\" >311.700000</td>\n",
              "      <td id=\"T_c4cf3_row5_col3\" class=\"data row5 col3\" >1685</td>\n",
              "      <td id=\"T_c4cf3_row5_col4\" class=\"data row5 col4\" >30.800000</td>\n",
              "      <td id=\"T_c4cf3_row5_col5\" class=\"data row5 col5\" >130</td>\n",
              "      <td id=\"T_c4cf3_row5_col6\" class=\"data row5 col6\" >0</td>\n",
              "      <td id=\"T_c4cf3_row5_col7\" class=\"data row5 col7\" >No Failure</td>\n",
              "    </tr>\n",
              "  </tbody>\n",
              "</table>\n"
            ]
          },
          "metadata": {},
          "execution_count": 158
        }
      ]
    },
    {
      "cell_type": "markdown",
      "source": [
        "GRAPHS"
      ],
      "metadata": {
        "id": "jhQ6BLloKpBa"
      }
    },
    {
      "cell_type": "code",
      "source": [
        "df.head(2)"
      ],
      "metadata": {
        "colab": {
          "base_uri": "https://localhost:8080/",
          "height": 143
        },
        "id": "_nxMPMbmGTKB",
        "outputId": "21141ad3-0709-4554-ee31-a1fc863e6767"
      },
      "execution_count": 159,
      "outputs": [
        {
          "output_type": "execute_result",
          "data": {
            "text/plain": [
              "    Type  Air_temp  Process_temp  Rotational_speed  Torque  Tool_wear  Target  \\\n",
              "UDI                                                                             \n",
              "1      M     298.1         308.6              1551    42.8          0       0   \n",
              "2      L     298.2         308.7              1408    46.3          3       0   \n",
              "\n",
              "    Failure_type  \n",
              "UDI               \n",
              "1     No Failure  \n",
              "2     No Failure  "
            ],
            "text/html": [
              "\n",
              "  <div id=\"df-87fb98b0-fbe5-43a7-92ac-f845d3a39295\">\n",
              "    <div class=\"colab-df-container\">\n",
              "      <div>\n",
              "<style scoped>\n",
              "    .dataframe tbody tr th:only-of-type {\n",
              "        vertical-align: middle;\n",
              "    }\n",
              "\n",
              "    .dataframe tbody tr th {\n",
              "        vertical-align: top;\n",
              "    }\n",
              "\n",
              "    .dataframe thead th {\n",
              "        text-align: right;\n",
              "    }\n",
              "</style>\n",
              "<table border=\"1\" class=\"dataframe\">\n",
              "  <thead>\n",
              "    <tr style=\"text-align: right;\">\n",
              "      <th></th>\n",
              "      <th>Type</th>\n",
              "      <th>Air_temp</th>\n",
              "      <th>Process_temp</th>\n",
              "      <th>Rotational_speed</th>\n",
              "      <th>Torque</th>\n",
              "      <th>Tool_wear</th>\n",
              "      <th>Target</th>\n",
              "      <th>Failure_type</th>\n",
              "    </tr>\n",
              "    <tr>\n",
              "      <th>UDI</th>\n",
              "      <th></th>\n",
              "      <th></th>\n",
              "      <th></th>\n",
              "      <th></th>\n",
              "      <th></th>\n",
              "      <th></th>\n",
              "      <th></th>\n",
              "      <th></th>\n",
              "    </tr>\n",
              "  </thead>\n",
              "  <tbody>\n",
              "    <tr>\n",
              "      <th>1</th>\n",
              "      <td>M</td>\n",
              "      <td>298.1</td>\n",
              "      <td>308.6</td>\n",
              "      <td>1551</td>\n",
              "      <td>42.8</td>\n",
              "      <td>0</td>\n",
              "      <td>0</td>\n",
              "      <td>No Failure</td>\n",
              "    </tr>\n",
              "    <tr>\n",
              "      <th>2</th>\n",
              "      <td>L</td>\n",
              "      <td>298.2</td>\n",
              "      <td>308.7</td>\n",
              "      <td>1408</td>\n",
              "      <td>46.3</td>\n",
              "      <td>3</td>\n",
              "      <td>0</td>\n",
              "      <td>No Failure</td>\n",
              "    </tr>\n",
              "  </tbody>\n",
              "</table>\n",
              "</div>\n",
              "      <button class=\"colab-df-convert\" onclick=\"convertToInteractive('df-87fb98b0-fbe5-43a7-92ac-f845d3a39295')\"\n",
              "              title=\"Convert this dataframe to an interactive table.\"\n",
              "              style=\"display:none;\">\n",
              "        \n",
              "  <svg xmlns=\"http://www.w3.org/2000/svg\" height=\"24px\"viewBox=\"0 0 24 24\"\n",
              "       width=\"24px\">\n",
              "    <path d=\"M0 0h24v24H0V0z\" fill=\"none\"/>\n",
              "    <path d=\"M18.56 5.44l.94 2.06.94-2.06 2.06-.94-2.06-.94-.94-2.06-.94 2.06-2.06.94zm-11 1L8.5 8.5l.94-2.06 2.06-.94-2.06-.94L8.5 2.5l-.94 2.06-2.06.94zm10 10l.94 2.06.94-2.06 2.06-.94-2.06-.94-.94-2.06-.94 2.06-2.06.94z\"/><path d=\"M17.41 7.96l-1.37-1.37c-.4-.4-.92-.59-1.43-.59-.52 0-1.04.2-1.43.59L10.3 9.45l-7.72 7.72c-.78.78-.78 2.05 0 2.83L4 21.41c.39.39.9.59 1.41.59.51 0 1.02-.2 1.41-.59l7.78-7.78 2.81-2.81c.8-.78.8-2.07 0-2.86zM5.41 20L4 18.59l7.72-7.72 1.47 1.35L5.41 20z\"/>\n",
              "  </svg>\n",
              "      </button>\n",
              "      \n",
              "  <style>\n",
              "    .colab-df-container {\n",
              "      display:flex;\n",
              "      flex-wrap:wrap;\n",
              "      gap: 12px;\n",
              "    }\n",
              "\n",
              "    .colab-df-convert {\n",
              "      background-color: #E8F0FE;\n",
              "      border: none;\n",
              "      border-radius: 50%;\n",
              "      cursor: pointer;\n",
              "      display: none;\n",
              "      fill: #1967D2;\n",
              "      height: 32px;\n",
              "      padding: 0 0 0 0;\n",
              "      width: 32px;\n",
              "    }\n",
              "\n",
              "    .colab-df-convert:hover {\n",
              "      background-color: #E2EBFA;\n",
              "      box-shadow: 0px 1px 2px rgba(60, 64, 67, 0.3), 0px 1px 3px 1px rgba(60, 64, 67, 0.15);\n",
              "      fill: #174EA6;\n",
              "    }\n",
              "\n",
              "    [theme=dark] .colab-df-convert {\n",
              "      background-color: #3B4455;\n",
              "      fill: #D2E3FC;\n",
              "    }\n",
              "\n",
              "    [theme=dark] .colab-df-convert:hover {\n",
              "      background-color: #434B5C;\n",
              "      box-shadow: 0px 1px 3px 1px rgba(0, 0, 0, 0.15);\n",
              "      filter: drop-shadow(0px 1px 2px rgba(0, 0, 0, 0.3));\n",
              "      fill: #FFFFFF;\n",
              "    }\n",
              "  </style>\n",
              "\n",
              "      <script>\n",
              "        const buttonEl =\n",
              "          document.querySelector('#df-87fb98b0-fbe5-43a7-92ac-f845d3a39295 button.colab-df-convert');\n",
              "        buttonEl.style.display =\n",
              "          google.colab.kernel.accessAllowed ? 'block' : 'none';\n",
              "\n",
              "        async function convertToInteractive(key) {\n",
              "          const element = document.querySelector('#df-87fb98b0-fbe5-43a7-92ac-f845d3a39295');\n",
              "          const dataTable =\n",
              "            await google.colab.kernel.invokeFunction('convertToInteractive',\n",
              "                                                     [key], {});\n",
              "          if (!dataTable) return;\n",
              "\n",
              "          const docLinkHtml = 'Like what you see? Visit the ' +\n",
              "            '<a target=\"_blank\" href=https://colab.research.google.com/notebooks/data_table.ipynb>data table notebook</a>'\n",
              "            + ' to learn more about interactive tables.';\n",
              "          element.innerHTML = '';\n",
              "          dataTable['output_type'] = 'display_data';\n",
              "          await google.colab.output.renderOutput(dataTable, element);\n",
              "          const docLink = document.createElement('div');\n",
              "          docLink.innerHTML = docLinkHtml;\n",
              "          element.appendChild(docLink);\n",
              "        }\n",
              "      </script>\n",
              "    </div>\n",
              "  </div>\n",
              "  "
            ]
          },
          "metadata": {},
          "execution_count": 159
        }
      ]
    },
    {
      "cell_type": "code",
      "source": [
        "sns.countplot(data=df, x=\"Type\")\n",
        "#now the same result presented as piechart: "
      ],
      "metadata": {
        "colab": {
          "base_uri": "https://localhost:8080/",
          "height": 296
        },
        "id": "JBC_seeZGDo3",
        "outputId": "520fea26-f9d2-4cca-b332-5012027ab2ac"
      },
      "execution_count": 160,
      "outputs": [
        {
          "output_type": "execute_result",
          "data": {
            "text/plain": [
              "<AxesSubplot:xlabel='Type', ylabel='count'>"
            ]
          },
          "metadata": {},
          "execution_count": 160
        },
        {
          "output_type": "display_data",
          "data": {
            "text/plain": [
              "<Figure size 432x288 with 1 Axes>"
            ],
            "image/png": "[encoded data removed]"
          },
          "metadata": {
            "needs_background": "light"
          }
        }
      ]
    },
    {
      "cell_type": "code",
      "source": [
        "a = df.Type.value_counts()\n",
        "a.plot(kind = \"pie\", colors = ['#C79FEF','#90EE90','#FF7F50'])\n",
        "plt.title(\"Types of products\")\n",
        "plt.legend(loc = \"best\")"
      ],
      "metadata": {
        "id": "r59EAzGXk8ly",
        "colab": {
          "base_uri": "https://localhost:8080/",
          "height": 281
        },
        "outputId": "18f3e9cb-3ca2-446f-9d4f-78170f384187"
      },
      "execution_count": 161,
      "outputs": [
        {
          "output_type": "execute_result",
          "data": {
            "text/plain": [
              "<matplotlib.legend.Legend at 0x7ff0a2d42d60>"
            ]
          },
          "metadata": {},
          "execution_count": 161
        },
        {
          "output_type": "display_data",
          "data": {
            "text/plain": [
              "<Figure size 432x288 with 1 Axes>"
            ],
            "image/png": "[encoded data removed]"
          },
          "metadata": {}
        }
      ]
    },
    {
      "cell_type": "code",
      "source": [
        "#instead of a pie chart, a donut chart can also be made for a cleaner look\n",
        "a = df.Type.value_counts()\n",
        "a.plot(kind = \"pie\")\n",
        "centre_circle = plt.Circle((0,0),0.70,fc='white')\n",
        "fig = plt.gcf()\n",
        "fig.gca().add_artist(centre_circle)\n",
        "plt.title(\"Types of products\")\n"
      ],
      "metadata": {
        "colab": {
          "base_uri": "https://localhost:8080/",
          "height": 281
        },
        "id": "OsU6IFRCgnFf",
        "outputId": "4322b286-e1cf-4283-9e7a-fff4f56c2b6d"
      },
      "execution_count": 162,
      "outputs": [
        {
          "output_type": "execute_result",
          "data": {
            "text/plain": [
              "Text(0.5, 1.0, 'Types of products')"
            ]
          },
          "metadata": {},
          "execution_count": 162
        },
        {
          "output_type": "display_data",
          "data": {
            "text/plain": [
              "<Figure size 432x288 with 1 Axes>"
            ],
            "image/png": "[encoded data removed]"
          },
          "metadata": {}
        }
      ]
    },
    {
      "cell_type": "code",
      "source": [
        "#milena\n",
        "plt.figure(figsize = (10,10))\n",
        "plt.subplot(222)\n",
        "plt.pie(df[df['Target']==1]['Failure_type'].value_counts(),labels=df[df['Target']==1]['Failure_type'].value_counts().keys(),autopct='%0.2f%%')\n",
        "plt.show()"
      ],
      "metadata": {
        "colab": {
          "base_uri": "https://localhost:8080/",
          "height": 278
        },
        "id": "GsHPYjytmQ9z",
        "outputId": "42eb978b-9eed-401b-d3d0-6309f1637452"
      },
      "execution_count": 163,
      "outputs": [
        {
          "output_type": "display_data",
          "data": {
            "text/plain": [
              "<Figure size 720x720 with 1 Axes>"
            ],
            "image/png": "[encoded data removed]"
          },
          "metadata": {}
        }
      ]
    },
    {
      "cell_type": "code",
      "source": [
        "explode = (0.1,0.9,1.5,2.5,1,0.1)\n",
        "plt.figure(figsize=(10,10))\n",
        "df.Failure_type.value_counts().plot(kind=\"pie\", explode = explode, startangle = 320, autopct = \"%1.1f%%\", shadow = True, pctdistance = 0.5, labeldistance = 1.5)\n",
        "plt.title(\"FAILURE TYPES\")\n",
        "plt.axis(\"equal\")\n",
        "#explode --> to what extend do you wnt the slices of your pie chart to stick out\n",
        "#startangle --> piechart lai rotate gardai lancha\n",
        "#shadow --> True = shadow dekhaucha, False = dekhaudiana\n",
        "#pctdistance --> how far the percentage is written from the actual piegraph\n",
        "#labeldistance --> how far the label is written from the actual piegraph\n",
        "plt.legend(loc = \"lower left\", fontsize = \"small\")"
      ],
      "metadata": {
        "colab": {
          "base_uri": "https://localhost:8080/",
          "height": 634
        },
        "id": "Auj0-MVjJ-wN",
        "outputId": "4eaf49d8-ed35-446c-96b7-a6a3175dee1b"
      },
      "execution_count": 164,
      "outputs": [
        {
          "output_type": "execute_result",
          "data": {
            "text/plain": [
              "<matplotlib.legend.Legend at 0x7ff0a0dc1ac0>"
            ]
          },
          "metadata": {},
          "execution_count": 164
        },
        {
          "output_type": "display_data",
          "data": {
            "text/plain": [
              "<Figure size 720x720 with 1 Axes>"
            ],
            "image/png": "[encoded data removed]"
          },
          "metadata": {}
        }
      ]
    },
    {
      "cell_type": "code",
      "source": [
        "#how do i change the labels?\n",
        "sns.displot(data=df, x=\"Air_temp\", kde=True, bins = 100, color = \"red\", facecolor = \"yellow\", height = 3, aspect = 5.5);"
      ],
      "metadata": {
        "colab": {
          "base_uri": "https://localhost:8080/",
          "height": 181
        },
        "id": "PVs_fcDzbWiz",
        "outputId": "4735b89a-b2ee-48a8-c2e3-3389af7557db"
      },
      "execution_count": 165,
      "outputs": [
        {
          "output_type": "display_data",
          "data": {
            "text/plain": [
              "<Figure size 1188x216 with 1 Axes>"
            ],
            "image/png": "[encoded data removed]"
          },
          "metadata": {
            "needs_background": "light"
          }
        }
      ]
    },
    {
      "cell_type": "code",
      "source": [
        "sns.displot(data=df, x=\"Process_temp\", kde=True, bins = 90, color = \"black\", facecolor = \"pink\", height = 5, aspect = 4);"
      ],
      "metadata": {
        "colab": {
          "base_uri": "https://localhost:8080/",
          "height": 245
        },
        "id": "dTHDwW6UdCVV",
        "outputId": "fcf66920-bb53-46ff-a537-75632a4e6d66"
      },
      "execution_count": 166,
      "outputs": [
        {
          "output_type": "display_data",
          "data": {
            "text/plain": [
              "<Figure size 1440x360 with 1 Axes>"
            ],
            "image/png": "[encoded data removed]"
          },
          "metadata": {
            "needs_background": "light"
          }
        }
      ]
    },
    {
      "cell_type": "code",
      "source": [
        "sns.displot(data=df, x=\"Rotational_speed\", kde=True, bins = 100, color = \"blue\", facecolor = \"green\", height = 5.7, aspect = 3.5);"
      ],
      "metadata": {
        "colab": {
          "base_uri": "https://localhost:8080/",
          "height": 279
        },
        "id": "CtClucuseCH9",
        "outputId": "29f6210e-b034-467e-de78-2c99894ad94e"
      },
      "execution_count": 167,
      "outputs": [
        {
          "output_type": "display_data",
          "data": {
            "text/plain": [
              "<Figure size 1436.4x410.4 with 1 Axes>"
            ],
            "image/png": "[encoded data removed]"
          },
          "metadata": {
            "needs_background": "light"
          }
        }
      ]
    },
    {
      "cell_type": "code",
      "source": [
        "sns.displot(data=df, x=\"Torque\", kde=True, bins = 50, color = \"red\", facecolor = \"orange\", height = 3, aspect = 5.5);"
      ],
      "metadata": {
        "colab": {
          "base_uri": "https://localhost:8080/",
          "height": 181
        },
        "id": "lrXpAm-seYvo",
        "outputId": "7ab1f4e9-ec09-48bc-8974-e4a8cab6f24b"
      },
      "execution_count": 168,
      "outputs": [
        {
          "output_type": "display_data",
          "data": {
            "text/plain": [
              "<Figure size 1188x216 with 1 Axes>"
            ],
            "image/png": "[encoded data removed]"
          },
          "metadata": {
            "needs_background": "light"
          }
        }
      ]
    },
    {
      "cell_type": "code",
      "source": [
        "sns.displot(data=df, x=\"Tool_wear\", kde=True, bins = 32, color = \"purple\", facecolor = \"white\", height = 3.2, aspect = 4.3);"
      ],
      "metadata": {
        "colab": {
          "base_uri": "https://localhost:8080/",
          "height": 228
        },
        "id": "2ps888VjemND",
        "outputId": "fafcb3ba-bcc1-4a2d-e6a0-97fd08ce77df"
      },
      "execution_count": 169,
      "outputs": [
        {
          "output_type": "display_data",
          "data": {
            "text/plain": [
              "<Figure size 990.72x230.4 with 1 Axes>"
            ],
            "image/png": "[encoded data removed]"
          },
          "metadata": {
            "needs_background": "light"
          }
        }
      ]
    },
    {
      "cell_type": "code",
      "source": [
        "#pd.cut --> separates the array elements into bins(range\n",
        "sorted_torque = pd.cut(df.Torque,bins=5).value_counts().sort_index()\n",
        "sorted_torque"
      ],
      "metadata": {
        "id": "03XyTltwn7N8",
        "colab": {
          "base_uri": "https://localhost:8080/"
        },
        "outputId": "2de39942-4a87-42ab-99cb-3a1e140a9e07"
      },
      "execution_count": 170,
      "outputs": [
        {
          "output_type": "execute_result",
          "data": {
            "text/plain": [
              "(3.727, 18.36]     150\n",
              "(18.36, 32.92]    2280\n",
              "(32.92, 47.48]    5294\n",
              "(47.48, 62.04]    2145\n",
              "(62.04, 76.6]      131\n",
              "Name: Torque, dtype: int64"
            ]
          },
          "metadata": {},
          "execution_count": 170
        }
      ]
    },
    {
      "cell_type": "code",
      "source": [
        "sorted_torque.plot(kind=\"bar\", color = \"purple\")\n",
        "plt.xlabel(\"Torque [nm]\") \n",
        "plt.ylabel(\"Frequency\")"
      ],
      "metadata": {
        "colab": {
          "base_uri": "https://localhost:8080/",
          "height": 357
        },
        "id": "wXRFn3TSoqhy",
        "outputId": "0fd53570-d206-407d-99e0-31a988a264a4"
      },
      "execution_count": 171,
      "outputs": [
        {
          "output_type": "execute_result",
          "data": {
            "text/plain": [
              "Text(0, 0.5, 'Frequency')"
            ]
          },
          "metadata": {},
          "execution_count": 171
        },
        {
          "output_type": "display_data",
          "data": {
            "text/plain": [
              "<Figure size 432x288 with 1 Axes>"
            ],
            "image/png": "[encoded data removed]"
          },
          "metadata": {
            "needs_background": "light"
          }
        }
      ]
    },
    {
      "cell_type": "code",
      "source": [
        "plt.figure(figsize=(10,5))\n",
        "df.groupby(\"Type\").Tool_wear.plot(kind='hist',alpha=1, legend = True)"
      ],
      "metadata": {
        "colab": {
          "base_uri": "https://localhost:8080/",
          "height": 408
        },
        "id": "b5SLdqDzHHU5",
        "outputId": "18f06d1a-b08f-4678-d82f-ef8d5b87cf1e"
      },
      "execution_count": 172,
      "outputs": [
        {
          "output_type": "execute_result",
          "data": {
            "text/plain": [
              "Type\n",
              "H    AxesSubplot(0.125,0.125;0.775x0.755)\n",
              "L    AxesSubplot(0.125,0.125;0.775x0.755)\n",
              "M    AxesSubplot(0.125,0.125;0.775x0.755)\n",
              "Name: Tool_wear, dtype: object"
            ]
          },
          "metadata": {},
          "execution_count": 172
        },
        {
          "output_type": "display_data",
          "data": {
            "text/plain": [
              "<Figure size 720x360 with 1 Axes>"
            ],
            "image/png": "[encoded data removed]"
          },
          "metadata": {
            "needs_background": "light"
          }
        }
      ]
    },
    {
      "cell_type": "code",
      "source": [
        "plt.figure(figsize=(10,5))\n",
        "df.groupby(\"Type\").Torque.plot(kind='hist',alpha=1, legend = True)"
      ],
      "metadata": {
        "colab": {
          "base_uri": "https://localhost:8080/",
          "height": 407
        },
        "id": "jVJz17hnHZbu",
        "outputId": "dd738b04-5daf-4987-87b0-257a08d3c9c6"
      },
      "execution_count": 173,
      "outputs": [
        {
          "output_type": "execute_result",
          "data": {
            "text/plain": [
              "Type\n",
              "H    AxesSubplot(0.125,0.125;0.775x0.755)\n",
              "L    AxesSubplot(0.125,0.125;0.775x0.755)\n",
              "M    AxesSubplot(0.125,0.125;0.775x0.755)\n",
              "Name: Torque, dtype: object"
            ]
          },
          "metadata": {},
          "execution_count": 173
        },
        {
          "output_type": "display_data",
          "data": {
            "text/plain": [
              "<Figure size 720x360 with 1 Axes>"
            ],
            "image/png": "[encoded data removed]"
          },
          "metadata": {
            "needs_background": "light"
          }
        }
      ]
    },
    {
      "cell_type": "code",
      "source": [
        "plt.xlabel(\"Temperatures [K]\")\n",
        "plt.ylabel(\"Frequency\")\n",
        "plt.title(\"Temperature Analysis\")\n",
        "plt.hist([(df.Air_temp), (df.Process_temp)], rwidth = 0.8, color = [\"green\", \"orange\"], label = [\"Air Temperature\", \"Process Temperature\"])\n",
        "plt.legend(fontsize = \"x-large\")\n",
        "\n",
        "#evaluation: \n",
        "# the bargraph below does not give a clear picture as to the air and process temperatures, therefore i will be making\n",
        "# a line graph expeting to see a better/clearer result"
      ],
      "metadata": {
        "colab": {
          "base_uri": "https://localhost:8080/",
          "height": 312
        },
        "id": "BWkSgrGyqImN",
        "outputId": "5e4b7b57-e91d-4dda-8e9b-517847a88e10"
      },
      "execution_count": 174,
      "outputs": [
        {
          "output_type": "execute_result",
          "data": {
            "text/plain": [
              "<matplotlib.legend.Legend at 0x7ff0a06045b0>"
            ]
          },
          "metadata": {},
          "execution_count": 174
        },
        {
          "output_type": "display_data",
          "data": {
            "text/plain": [
              "<Figure size 432x288 with 1 Axes>"
            ],
            "image/png": "[encoded data removed]"
          },
          "metadata": {
            "needs_background": "light"
          }
        }
      ]
    },
    {
      "cell_type": "code",
      "source": [
        "plt.xlabel(\"frequency\")\n",
        "plt.ylabel(\"temperatures [K]\")\n",
        "plt.title(\"Temperatures\")\n",
        "plt.plot(df.Air_temp, label = 'Air temperature', color = \"#080870\")\n",
        "plt.plot(df.Process_temp, label = 'Process temperature', color = \"#087770\")\n",
        "\n",
        "plt.legend(shadow=False, fontsize = \"small\", loc = \"best\")\n",
        "\n",
        "#plt.legend(\"best\") --> matplotlib will decide where to place the legend\n",
        "\n",
        "#evaluation:\n",
        "#in my opinion, the line graph is much more meaningful than the bargraph presented above\n",
        "#this line graph shows:\n",
        "#   pressure temp > air temp\n",
        "#   the highest frequency in both cases --> around 5000"
      ],
      "metadata": {
        "colab": {
          "base_uri": "https://localhost:8080/",
          "height": 312
        },
        "id": "0oRuIgYFseD2",
        "outputId": "9c202a62-879d-4c89-f5ae-869c421e41d7"
      },
      "execution_count": 175,
      "outputs": [
        {
          "output_type": "execute_result",
          "data": {
            "text/plain": [
              "<matplotlib.legend.Legend at 0x7ff0a05f7df0>"
            ]
          },
          "metadata": {},
          "execution_count": 175
        },
        {
          "output_type": "display_data",
          "data": {
            "text/plain": [
              "<Figure size 432x288 with 1 Axes>"
            ],
            "image/png": "[encoded data removed]"
          },
          "metadata": {
            "needs_background": "light"
          }
        }
      ]
    },
    {
      "cell_type": "code",
      "source": [
        "#scatterplot --> makes it esier to detect the relationship between any two features\n",
        "pred_main = px.scatter(df, x = \"Rotational_speed\", y= \"Torque\", log_x = True, size_max = 20, color = \"Type\", hover_name = \"Failure_type\")\n",
        "pred_main.show()\n",
        "\n",
        "#evaluation: \n",
        "#it can be seen that as rotational speed increases, torque decreases. "
      ],
      "metadata": {
        "colab": {
          "base_uri": "https://localhost:8080/",
          "height": 542
        },
        "id": "GdhCJ0eptriI",
        "outputId": "e962012c-82eb-406b-8480-8ab448c37049"
      },
      "execution_count": 176,
      "outputs": [
        {
          "output_type": "display_data",
          "data": {
            "text/html": [
              "<html>\n",
              "<head><meta charset=\"utf-8\" /></head>\n",
              "<body>\n",
              "    <div>            <script src=\"https://cdnjs.cloudflare.com/ajax/libs/mathjax/2.7.5/MathJax.js?config=TeX-AMS-MML_SVG\"></script><script type=\"text/javascript\">if (window.MathJax) {MathJax.Hub.Config({SVG: {font: \"STIX-Web\"}});}</script>                <script type=\"text/javascript\">window.PlotlyConfig = {MathJaxConfig: 'local'};</script>\n",
              "        <script src=\"https://cdn.plot.ly/plotly-2.8.3.min.js\"></script>                <div id=\"6067a1ae-69b9-42fb-b2a1-828a6ac37a18\" class=\"plotly-graph-div\" style=\"height:525px; width:100%;\"></div>            <script type=\"text/javascript\">                                    window.PLOTLYENV=window.PLOTLYENV || {};                                    if (document.getElementById(\"6067a1ae-69b9-42fb-b2a1-828a6ac37a18\")) {                    Plotly.newPlot(                        \"6067a1ae-69b9-42fb-b2a1-828a6ac37a18\",                        [{\"hovertemplate\":\"<b>%{hovertext}</b><br><br>Type=M<br>Rotational_speed=%{x}<br>Torque=%{y}<extra></extra>\",\"hovertext\":[\"No Failure\",\"No Failure\",\"No Failure\",\"No Failure\",\"No Failure\",\"No Failure\",\"No Failure\",\"No Failure\",\"No Failure\",\"No Failure\",\"No Failure\",\"No Failure\",\"No Failure\",\"No Failure\",\"No Failure\",\"No Failure\",\"No Failure\",\"No Failure\",\"No Failure\",\"No Failure\",\"No Failure\",\"No Failure\",\"No Failure\",\"No Failure\",\"No Failure\",\"No Failure\",\"No Failure\",\"No Failure\",\"No Failure\",\"No Failure\",\"No Failure\",\"No Failure\",\"No Failure\",\"No Failure\",\"No Failure\",\"No Failure\",\"No Failure\",\"No Failure\",\"No Failure\",\"No Failure\",\"No Failure\",\"No Failure\",\"No Failure\",\"No Failure\",\"No Failure\",\"No Failure\",\"No Failure\",\"No Failure\",\"No Failure\",\"No Failure\",\"No Failure\",\"No Failure\",\"No Failure\",\"Power Failure\",\"No Failure\",\"No Failure\",\"No Failure\",\"Power Failure\",\"No Failure\",\"No Failure\",\"No Failure\",\"No Failure\",\"No Failure\",\"No Failure\",\"No Failure\",\"No Failure\",\"No Failure\",\"Power Failure\",\"No Failure\",\"No Failure\",\"No Failure\",\"No Failure\",\"No Failure\",\"No Failure\",\"No Failure\",\"No Failure\",\"No Failure\",\"No Failure\",\"No Failure\",\"No Failure\",\"No Failure\",\"No Failure\",\"No Failure\",\"No Failure\",\"No Failure\",\"No Failure\",\"No Failure\",\"No Failure\",\"No Failure\",\"No Failure\",\"No Failure\",\"No Failure\",\"No Failure\",\"No Failure\",\"No Failure\",\"No Failure\",\"No Failure\",\"No Failure\",\"No Failure\",\"No Failure\",\"No Failure\",\"No Failure\",\"No Failure\",\"No Failure\",\"No Failure\",\"No Failure\",\"No Failure\",\"No Failure\",\"No Failure\",\"No Failure\",\"No Failure\",\"No Failure\",\"No Failure\",\"No Failure\",\"No Failure\",\"No Failure\",\"No Failure\",\"No Failure\",\"No Failure\",\"No Failure\",\"No Failure\",\"No Failure\",\"No Failure\",\"No Failure\",\"No Failure\",\"No Failure\",\"No Failure\",\"No Failure\",\"No Failure\",\"No Failure\",\"No Failure\",\"No Failure\",\"No Failure\",\"No Failure\",\"No Failure\",\"No Failure\",\"No Failure\",\"No Failure\",\"No Failure\",\"No Failure\",\"No Failure\",\"No Failure\",\"No Failure\",\"No Failure\",\"No Failure\",\"No Failure\",\"No Failure\",\"No Failure\",\"No Failure\",\"No Failure\",\"No Failure\",\"No Failure\",\"No Failure\",\"No Failure\",\"No Failure\",\"No Failure\",\"No Failure\",\"No Failure\",\"No Failure\",\"No Failure\",\"No Failure\",\"No Failure\",\"No Failure\",\"No Failure\",\"No Failure\",\"No Failure\",\"No Failure\",\"No Failure\",\"No Failure\",\"No Failure\",\"No Failure\",\"No Failure\",\"No Failure\",\"No Failure\",\"No Failure\",\"No Failure\",\"No Failure\",\"No Failure\",\"No Failure\",\"No Failure\",\"No Failure\",\"No Failure\",\"No Failure\",\"No Failure\",\"No Failure\",\"No Failure\",\"No Failure\",\"No Failure\",\"No Failure\",\"No Failure\",\"No Failure\",\"No Failure\",\"No Failure\",\"No Failure\",\"No Failure\",\"No Failure\",\"No Failure\",\"No Failure\",\"No Failure\",\"No Failure\",\"No Failure\",\"No Failure\",\"No Failure\",\"No Failure\",\"No Failure\",\"No Failure\",\"No Failure\",\"No Failure\",\"No Failure\",\"No Failure\",\"No Failure\",\"No Failure\",\"No Failure\",\"No Failure\",\"No Failure\",\"No Failure\",\"No Failure\",\"No Failure\",\"No Failure\",\"No Failure\",\"No Failure\",\"No Failure\",\"No Failure\",\"No Failure\",\"No Failure\",\"No Failure\",\"No Failure\",\"No Failure\",\"No Failure\",\"No Failure\",\"No Failure\",\"No Failure\",\"No Failure\",\"No Failure\",\"No Failure\",\"No Failure\",\"No Failure\",\"No Failure\",\"No Failure\",\"No Failure\",\"No Failure\",\"No Failure\",\"No Failure\",\"No Failure\",\"No Failure\",\"Power Failure\",\"No Failure\",\"No Failure\",\"No Failure\",\"No Failure\",\"No Failure\",\"No Failure\",\"No Failure\",\"No Failure\",\"No Failure\",\"No Failure\",\"No Failure\",\"No Failure\",\"No Failure\",\"No Failure\",\"No Failure\",\"No Failure\",\"No Failure\",\"No Failure\",\"No Failure\",\"No Failure\",\"No Failure\",\"No Failure\",\"No Failure\",\"No Failure\",\"No Failure\",\"No Failure\",\"No Failure\",\"No Failure\",\"No Failure\",\"No Failure\",\"No Failure\",\"No Failure\",\"No Failure\",\"No Failure\",\"No Failure\",\"No Failure\",\"No Failure\",\"No Failure\",\"No Failure\",\"No Failure\",\"No Failure\",\"No Failure\",\"No Failure\",\"No Failure\",\"No Failure\",\"Power Failure\",\"No Failure\",\"No Failure\",\"No Failure\",\"No Failure\",\"No Failure\",\"No Failure\",\"No Failure\",\"No Failure\",\"No Failure\",\"No Failure\",\"No Failure\",\"No Failure\",\"No Failure\",\"No Failure\",\"No Failure\",\"No Failure\",\"No Failure\",\"No Failure\",\"No Failure\",\"No Failure\",\"No Failure\",\"No Failure\",\"No Failure\",\"No Failure\",\"No Failure\",\"No Failure\",\"No Failure\",\"Power Failure\",\"No Failure\",\"No Failure\",\"No Failure\",\"No Failure\",\"No Failure\",\"No Failure\",\"No Failure\",\"No Failure\",\"No Failure\",\"No Failure\",\"No Failure\",\"No Failure\",\"No Failure\",\"No Failure\",\"No Failure\",\"No Failure\",\"No Failure\",\"No Failure\",\"No Failure\",\"No Failure\",\"No Failure\",\"No Failure\",\"No Failure\",\"No Failure\",\"No Failure\",\"No Failure\",\"No Failure\",\"No Failure\",\"No Failure\",\"No Failure\",\"Random Failures\",\"No Failure\",\"No Failure\",\"No Failure\",\"No Failure\",\"No Failure\",\"No Failure\",\"No Failure\",\"No Failure\",\"No Failure\",\"No Failure\",\"No Failure\",\"No Failure\",\"No Failure\",\"No Failure\",\"No Failure\",\"No Failure\",\"No Failure\",\"No Failure\",\"No Failure\",\"No Failure\",\"No Failure\",\"No Failure\",\"No Failure\",\"No Failure\",\"No Failure\",\"No Failure\",\"No Failure\",\"No Failure\",\"No Failure\",\"Power Failure\",\"No Failure\",\"No Failure\",\"No Failure\",\"No Failure\",\"No Failure\",\"No Failure\",\"No Failure\",\"No Failure\",\"No Failure\",\"No Failure\",\"No Failure\",\"No Failure\",\"No Failure\",\"No Failure\",\"No Failure\",\"No Failure\",\"No Failure\",\"No Failure\",\"No Failure\",\"No Failure\",\"No Failure\",\"No Failure\",\"No Failure\",\"No Failure\",\"No Failure\",\"No Failure\",\"No Failure\",\"No Failure\",\"No Failure\",\"No Failure\",\"No Failure\",\"No Failure\",\"No Failure\",\"No Failure\",\"No Failure\",\"No Failure\",\"No Failure\",\"No Failure\",\"No Failure\",\"No Failure\",\"No Failure\",\"No Failure\",\"No Failure\",\"No Failure\",\"No Failure\",\"No Failure\",\"No Failure\",\"No Failure\",\"No Failure\",\"No Failure\",\"No Failure\",\"No Failure\",\"No Failure\",\"No Failure\",\"Power Failure\",\"No Failure\",\"No Failure\",\"No Failure\",\"No Failure\",\"No Failure\",\"No Failure\",\"No Failure\",\"No Failure\",\"No Failure\",\"No Failure\",\"No Failure\",\"No Failure\",\"No Failure\",\"No Failure\",\"No Failure\",\"No Failure\",\"No Failure\",\"No Failure\",\"No Failure\",\"No Failure\",\"No Failure\",\"No Failure\",\"No Failure\",\"No Failure\",\"No Failure\",\"No Failure\",\"No Failure\",\"No Failure\",\"No Failure\",\"No Failure\",\"No Failure\",\"No Failure\",\"No Failure\",\"No Failure\",\"No Failure\",\"No Failure\",\"No Failure\",\"No Failure\",\"No Failure\",\"No Failure\",\"No Failure\",\"No Failure\",\"No Failure\",\"No Failure\",\"No Failure\",\"No Failure\",\"No Failure\",\"No Failure\",\"No Failure\",\"No Failure\",\"No Failure\",\"No Failure\",\"No Failure\",\"No Failure\",\"No Failure\",\"No Failure\",\"No Failure\",\"No Failure\",\"No Failure\",\"No Failure\",\"No Failure\",\"No Failure\",\"No Failure\",\"No Failure\",\"No Failure\",\"No Failure\",\"No Failure\",\"No Failure\",\"No Failure\",\"No Failure\",\"No Failure\",\"No Failure\",\"No Failure\",\"No Failure\",\"No Failure\",\"No Failure\",\"No Failure\",\"No Failure\",\"No Failure\",\"No Failure\",\"No Failure\",\"No Failure\",\"No Failure\",\"No Failure\",\"No Failure\",\"No Failure\",\"No Failure\",\"No Failure\",\"No Failure\",\"No Failure\",\"No Failure\",\"No Failure\",\"No Failure\",\"No Failure\",\"No Failure\",\"No Failure\",\"No Failure\",\"No Failure\",\"No Failure\",\"No Failure\",\"No Failure\",\"No Failure\",\"No Failure\",\"No Failure\",\"No Failure\",\"No Failure\",\"No Failure\",\"No Failure\",\"No Failure\",\"No Failure\",\"No Failure\",\"No Failure\",\"No Failure\",\"No Failure\",\"No Failure\",\"No Failure\",\"No Failure\",\"No Failure\",\"No Failure\",\"No Failure\",\"No Failure\",\"No Failure\",\"No Failure\",\"No Failure\",\"No Failure\",\"No Failure\",\"No Failure\",\"No Failure\",\"No Failure\",\"No Failure\",\"No Failure\",\"No Failure\",\"No Failure\",\"No Failure\",\"No Failure\",\"No Failure\",\"No Failure\",\"No Failure\",\"No Failure\",\"No Failure\",\"No Failure\",\"No Failure\",\"No Failure\",\"No Failure\",\"No Failure\",\"No Failure\",\"No Failure\",\"No Failure\",\"No Failure\",\"No Failure\",\"No Failure\",\"Tool Wear Failure\",\"No Failure\",\"No Failure\",\"No Failure\",\"No Failure\",\"No Failure\",\"No Failure\",\"No Failure\",\"No Failure\",\"No Failure\",\"No Failure\",\"No Failure\",\"No Failure\",\"No Failure\",\"No Failure\",\"No Failure\",\"No Failure\",\"No Failure\",\"No Failure\",\"No Failure\",\"No Failure\",\"No Failure\",\"No Failure\",\"No Failure\",\"No Failure\",\"No Failure\",\"No Failure\",\"No Failure\",\"No Failure\",\"No Failure\",\"No Failure\",\"No Failure\",\"No Failure\",\"No Failure\",\"No Failure\",\"No Failure\",\"No Failure\",\"No Failure\",\"No Failure\",\"No Failure\",\"No Failure\",\"No Failure\",\"No Failure\",\"No Failure\",\"No Failure\",\"Tool Wear Failure\",\"No Failure\",\"No Failure\",\"No Failure\",\"No Failure\",\"No Failure\",\"No Failure\",\"No Failure\",\"No Failure\",\"No Failure\",\"No Failure\",\"No Failure\",\"No Failure\",\"No Failure\",\"No Failure\",\"No Failure\",\"No Failure\",\"No Failure\",\"No Failure\",\"No Failure\",\"No Failure\",\"No Failure\",\"No Failure\",\"No Failure\",\"No Failure\",\"No Failure\",\"Tool Wear Failure\",\"No Failure\",\"No Failure\",\"No Failure\",\"No Failure\",\"No Failure\",\"No Failure\",\"No Failure\",\"No Failure\",\"No Failure\",\"No Failure\",\"No Failure\",\"No Failure\",\"No Failure\",\"No Failure\",\"No Failure\",\"No Failure\",\"No Failure\",\"No Failure\",\"No Failure\",\"No Failure\",\"No Failure\",\"No Failure\",\"No Failure\",\"No Failure\",\"No Failure\",\"No Failure\",\"No Failure\",\"No Failure\",\"No Failure\",\"No Failure\",\"No Failure\",\"No Failure\",\"No Failure\",\"No Failure\",\"No Failure\",\"No Failure\",\"No Failure\",\"No Failure\",\"No Failure\",\"No Failure\",\"No Failure\",\"No Failure\",\"No Failure\",\"No Failure\",\"No Failure\",\"No Failure\",\"No Failure\",\"No Failure\",\"No Failure\",\"No Failure\",\"No Failure\",\"No Failure\",\"Power Failure\",\"No Failure\",\"No Failure\",\"No Failure\",\"No Failure\",\"No Failure\",\"No Failure\",\"No Failure\",\"No Failure\",\"No Failure\",\"No Failure\",\"No Failure\",\"No Failure\",\"No Failure\",\"No Failure\",\"No Failure\",\"No Failure\",\"No Failure\",\"No Failure\",\"No Failure\",\"No Failure\",\"No Failure\",\"No Failure\",\"No Failure\",\"No Failure\",\"No Failure\",\"No Failure\",\"No Failure\",\"No Failure\",\"No Failure\",\"No Failure\",\"No Failure\",\"No Failure\",\"No Failure\",\"No Failure\",\"No Failure\",\"No Failure\",\"No Failure\",\"No Failure\",\"No Failure\",\"No Failure\",\"No Failure\",\"No Failure\",\"No Failure\",\"No Failure\",\"No Failure\",\"No Failure\",\"No Failure\",\"No Failure\",\"No Failure\",\"No Failure\",\"No Failure\",\"No Failure\",\"No Failure\",\"No Failure\",\"No Failure\",\"No Failure\",\"No Failure\",\"No Failure\",\"No Failure\",\"No Failure\",\"No Failure\",\"No Failure\",\"Tool Wear Failure\",\"No Failure\",\"No Failure\",\"No Failure\",\"No Failure\",\"No Failure\",\"No Failure\",\"No Failure\",\"No Failure\",\"No Failure\",\"No Failure\",\"No Failure\",\"No Failure\",\"No Failure\",\"No Failure\",\"No Failure\",\"No Failure\",\"No Failure\",\"No Failure\",\"No Failure\",\"No Failure\",\"No Failure\",\"No Failure\",\"No Failure\",\"No Failure\",\"No Failure\",\"No Failure\",\"No Failure\",\"No Failure\",\"No Failure\",\"No Failure\",\"No Failure\",\"No Failure\",\"No Failure\",\"No Failure\",\"No Failure\",\"No Failure\",\"No Failure\",\"No Failure\",\"No Failure\",\"No Failure\",\"No Failure\",\"No Failure\",\"No Failure\",\"No Failure\",\"No Failure\",\"No Failure\",\"No Failure\",\"No Failure\",\"No Failure\",\"No Failure\",\"No Failure\",\"No Failure\",\"No Failure\",\"No Failure\",\"No Failure\",\"No Failure\",\"No Failure\",\"No Failure\",\"Power Failure\",\"No Failure\",\"No Failure\",\"No Failure\",\"No Failure\",\"No Failure\",\"No Failure\",\"No Failure\",\"No Failure\",\"No Failure\",\"No Failure\",\"No Failure\",\"No Failure\",\"No Failure\",\"No Failure\",\"No Failure\",\"No Failure\",\"No Failure\",\"No Failure\",\"No Failure\",\"No Failure\",\"No Failure\",\"No Failure\",\"No Failure\",\"No Failure\",\"Tool Wear Failure\",\"No Failure\",\"No Failure\",\"No Failure\",\"No Failure\",\"No Failure\",\"No Failure\",\"No Failure\",\"No Failure\",\"No Failure\",\"No Failure\",\"No Failure\",\"No Failure\",\"No Failure\",\"No Failure\",\"No Failure\",\"No Failure\",\"No Failure\",\"No Failure\",\"No Failure\",\"No Failure\",\"No Failure\",\"No Failure\",\"No Failure\",\"No Failure\",\"No Failure\",\"No Failure\",\"No Failure\",\"No Failure\",\"No Failure\",\"No Failure\",\"No Failure\",\"No Failure\",\"No Failure\",\"No Failure\",\"No Failure\",\"No Failure\",\"No Failure\",\"No Failure\",\"No Failure\",\"No Failure\",\"Random Failures\",\"No Failure\",\"No Failure\",\"No Failure\",\"No Failure\",\"No Failure\",\"No Failure\",\"No Failure\",\"No Failure\",\"No Failure\",\"No Failure\",\"No Failure\",\"No Failure\",\"No Failure\",\"No Failure\",\"No Failure\",\"No Failure\",\"No Failure\",\"No Failure\",\"No Failure\",\"No Failure\",\"No Failure\",\"No Failure\",\"No Failure\",\"No Failure\",\"No Failure\",\"No Failure\",\"No Failure\",\"No Failure\",\"No Failure\",\"No Failure\",\"No Failure\",\"No Failure\",\"No Failure\",\"No Failure\",\"No Failure\",\"No Failure\",\"No Failure\",\"No Failure\",\"No Failure\",\"No Failure\",\"No Failure\",\"No Failure\",\"No Failure\",\"No Failure\",\"No Failure\",\"No Failure\",\"No Failure\",\"No Failure\",\"No Failure\",\"No Failure\",\"No Failure\",\"No Failure\",\"No Failure\",\"No Failure\",\"No Failure\",\"No Failure\",\"No Failure\",\"No Failure\",\"Heat Dissipation Failure\",\"No Failure\",\"No Failure\",\"No Failure\",\"No Failure\",\"No Failure\",\"No Failure\",\"No Failure\",\"No Failure\",\"No Failure\",\"No Failure\",\"No Failure\",\"No Failure\",\"No Failure\",\"No Failure\",\"No Failure\",\"No Failure\",\"No Failure\",\"No Failure\",\"No Failure\",\"No Failure\",\"No Failure\",\"No Failure\",\"No Failure\",\"No Failure\",\"No Failure\",\"No Failure\",\"No Failure\",\"No Failure\",\"No Failure\",\"No Failure\",\"No Failure\",\"No Failure\",\"No Failure\",\"No Failure\",\"No Failure\",\"No Failure\",\"No Failure\",\"No Failure\",\"No Failure\",\"No Failure\",\"No Failure\",\"No Failure\",\"No Failure\",\"No Failure\",\"No Failure\",\"No Failure\",\"No Failure\",\"No Failure\",\"No Failure\",\"No Failure\",\"No Failure\",\"No Failure\",\"No Failure\",\"Power Failure\",\"No Failure\",\"No Failure\",\"No Failure\",\"No Failure\",\"No Failure\",\"No Failure\",\"No Failure\",\"No Failure\",\"No Failure\",\"No Failure\",\"No Failure\",\"No Failure\",\"No Failure\",\"No Failure\",\"No Failure\",\"No Failure\",\"No Failure\",\"No Failure\",\"No Failure\",\"No Failure\",\"No Failure\",\"No Failure\",\"No Failure\",\"No Failure\",\"No Failure\",\"No Failure\",\"No Failure\",\"No Failure\",\"No Failure\",\"No Failure\",\"No Failure\",\"No Failure\",\"No Failure\",\"No Failure\",\"No Failure\",\"No Failure\",\"No Failure\",\"No Failure\",\"No Failure\",\"No Failure\",\"No Failure\",\"No Failure\",\"No Failure\",\"No Failure\",\"No Failure\",\"No Failure\",\"No Failure\",\"No Failure\",\"No Failure\",\"No Failure\",\"No Failure\",\"No Failure\",\"No Failure\",\"No Failure\",\"No Failure\",\"No Failure\",\"No Failure\",\"No Failure\",\"No Failure\",\"No Failure\",\"No Failure\",\"No Failure\",\"No Failure\",\"No Failure\",\"No Failure\",\"No Failure\",\"No Failure\",\"No Failure\",\"No Failure\",\"No Failure\",\"No Failure\",\"No Failure\",\"No Failure\",\"No Failure\",\"No Failure\",\"No Failure\",\"No Failure\",\"No Failure\",\"No Failure\",\"No Failure\",\"No Failure\",\"No Failure\",\"No Failure\",\"No Failure\",\"No Failure\",\"No Failure\",\"No Failure\",\"No Failure\",\"No Failure\",\"No Failure\",\"No Failure\",\"No Failure\",\"No Failure\",\"No Failure\",\"No Failure\",\"No Failure\",\"No Failure\",\"No Failure\",\"No Failure\",\"No Failure\",\"No Failure\",\"No Failure\",\"No Failure\",\"No Failure\",\"No Failure\",\"No Failure\",\"No Failure\",\"No Failure\",\"No Failure\",\"No Failure\",\"No Failure\",\"No Failure\",\"No Failure\",\"No Failure\",\"No Failure\",\"No Failure\",\"Heat Dissipation Failure\",\"No Failure\",\"No Failure\",\"No Failure\",\"No Failure\",\"Heat Dissipation Failure\",\"No Failure\",\"No Failure\",\"No Failure\",\"No Failure\",\"No Failure\",\"No Failure\",\"No Failure\",\"No Failure\",\"No Failure\",\"No Failure\",\"No Failure\",\"No Failure\",\"No Failure\",\"No Failure\",\"No Failure\",\"No Failure\",\"Power Failure\",\"No Failure\",\"No Failure\",\"No Failure\",\"No Failure\",\"No Failure\",\"No Failure\",\"No Failure\",\"No Failure\",\"No Failure\",\"No Failure\",\"No Failure\",\"No Failure\",\"No Failure\",\"No Failure\",\"No Failure\",\"No Failure\",\"No Failure\",\"No Failure\",\"No Failure\",\"No Failure\",\"No Failure\",\"No Failure\",\"No Failure\",\"No Failure\",\"Overstrain Failure\",\"No Failure\",\"No Failure\",\"No Failure\",\"No Failure\",\"No Failure\",\"No Failure\",\"No Failure\",\"No Failure\",\"No Failure\",\"No Failure\",\"No Failure\",\"No Failure\",\"No Failure\",\"No Failure\",\"No Failure\",\"No Failure\",\"No Failure\",\"No Failure\",\"No Failure\",\"No Failure\",\"No Failure\",\"No Failure\",\"No Failure\",\"No Failure\",\"No Failure\",\"No Failure\",\"Overstrain Failure\",\"No Failure\",\"No Failure\",\"No Failure\",\"No Failure\",\"No Failure\",\"No Failure\",\"No Failure\",\"No Failure\",\"No Failure\",\"No Failure\",\"No Failure\",\"No Failure\",\"No Failure\",\"No Failure\",\"No Failure\",\"No Failure\",\"No Failure\",\"No Failure\",\"No Failure\",\"No Failure\",\"No Failure\",\"No Failure\",\"No Failure\",\"Heat Dissipation Failure\",\"Heat Dissipation Failure\",\"No Failure\",\"No Failure\",\"No Failure\",\"No Failure\",\"No Failure\",\"No Failure\",\"Heat Dissipation Failure\",\"No Failure\",\"Heat Dissipation Failure\",\"No Failure\",\"No Failure\",\"No Failure\",\"No Failure\",\"No Failure\",\"No Failure\",\"Heat Dissipation Failure\",\"No Failure\",\"Heat Dissipation Failure\",\"No Failure\",\"No Failure\",\"No Failure\",\"No Failure\",\"No Failure\",\"No Failure\",\"No Failure\",\"No Failure\",\"No Failure\",\"No Failure\",\"No Failure\",\"No Failure\",\"Tool Wear Failure\",\"No Failure\",\"No Failure\",\"No Failure\",\"No Failure\",\"No Failure\",\"No Failure\",\"No Failure\",\"No Failure\",\"No Failure\",\"No Failure\",\"No Failure\",\"No Failure\",\"Heat Dissipation Failure\",\"No Failure\",\"No Failure\",\"No Failure\",\"Heat Dissipation Failure\",\"No Failure\",\"No Failure\",\"No Failure\",\"Heat Dissipation Failure\",\"No Failure\",\"No Failure\",\"No Failure\",\"No Failure\",\"Power Failure\",\"No Failure\",\"No Failure\",\"No Failure\",\"No Failure\",\"No Failure\",\"No Failure\",\"No Failure\",\"No Failure\",\"No Failure\",\"No Failure\",\"No Failure\",\"No Failure\",\"No Failure\",\"Power Failure\",\"No Failure\",\"No Failure\",\"Power Failure\",\"No Failure\",\"Heat Dissipation Failure\",\"No Failure\",\"No Failure\",\"No Failure\",\"No Failure\",\"No Failure\",\"No Failure\",\"Heat Dissipation Failure\",\"No Failure\",\"Heat Dissipation Failure\",\"No Failure\",\"No Failure\",\"No Failure\",\"Heat Dissipation Failure\",\"No Failure\",\"No Failure\",\"Power Failure\",\"No Failure\",\"No Failure\",\"No Failure\",\"Heat Dissipation Failure\",\"No Failure\",\"No Failure\",\"No Failure\",\"No Failure\",\"Heat Dissipation Failure\",\"No Failure\",\"No Failure\",\"No Failure\",\"No Failure\",\"No Failure\",\"No Failure\",\"No Failure\",\"No Failure\",\"No Failure\",\"No Failure\",\"No Failure\",\"No Failure\",\"No Failure\",\"No Failure\",\"Heat Dissipation Failure\",\"No Failure\",\"Heat Dissipation Failure\",\"No Failure\",\"No Failure\",\"No Failure\",\"No Failure\",\"No Failure\",\"No Failure\",\"No Failure\",\"No Failure\",\"Heat Dissipation Failure\",\"No Failure\",\"No Failure\",\"No Failure\",\"No Failure\",\"No Failure\",\"No Failure\",\"No Failure\",\"No Failure\",\"No Failure\",\"No Failure\",\"No Failure\",\"Heat Dissipation Failure\",\"No Failure\",\"No Failure\",\"No Failure\",\"Heat Dissipation Failure\",\"No Failure\",\"No Failure\",\"No Failure\",\"No Failure\",\"Heat Dissipation Failure\",\"No Failure\",\"No Failure\",\"No Failure\",\"No Failure\",\"No Failure\",\"No Failure\",\"No Failure\",\"Heat Dissipation Failure\",\"No Failure\",\"Heat Dissipation Failure\",\"No Failure\",\"No Failure\",\"No Failure\",\"No Failure\",\"No Failure\",\"No Failure\",\"No Failure\",\"No Failure\",\"No Failure\",\"No Failure\",\"No Failure\",\"No Failure\",\"No Failure\",\"No Failure\",\"Heat Dissipation Failure\",\"No Failure\",\"No Failure\",\"No Failure\",\"Heat Dissipation Failure\",\"Heat Dissipation Failure\",\"No Failure\",\"No Failure\",\"No Failure\",\"Power Failure\",\"No Failure\",\"No Failure\",\"No Failure\",\"No Failure\",\"No Failure\",\"No Failure\",\"No Failure\",\"No Failure\",\"No Failure\",\"No Failure\",\"No Failure\",\"No Failure\",\"No Failure\",\"No Failure\",\"No Failure\",\"No Failure\",\"No Failure\",\"Heat Dissipation Failure\",\"No Failure\",\"No Failure\",\"No Failure\",\"No Failure\",\"No Failure\",\"No Failure\",\"No Failure\",\"No Failure\",\"No Failure\",\"No Failure\",\"No Failure\",\"No Failure\",\"No Failure\",\"No Failure\",\"No Failure\",\"No Failure\",\"No Failure\",\"No Failure\",\"No Failure\",\"No Failure\",\"No Failure\",\"No Failure\",\"No Failure\",\"No Failure\",\"No Failure\",\"No Failure\",\"No Failure\",\"No Failure\",\"No Failure\",\"No Failure\",\"No Failure\",\"No Failure\",\"No Failure\",\"No Failure\",\"No Failure\",\"No Failure\",\"No Failure\",\"No Failure\",\"No Failure\",\"No Failure\",\"No Failure\",\"No Failure\",\"No Failure\",\"No Failure\",\"No Failure\",\"No Failure\",\"No Failure\",\"No Failure\",\"No Failure\",\"No Failure\",\"No Failure\",\"Power Failure\",\"No Failure\",\"No Failure\",\"No Failure\",\"No Failure\",\"No Failure\",\"No Failure\",\"No Failure\",\"No Failure\",\"No Failure\",\"No Failure\",\"No Failure\",\"No Failure\",\"No Failure\",\"No Failure\",\"No Failure\",\"No Failure\",\"No Failure\",\"No Failure\",\"No Failure\",\"No Failure\",\"No Failure\",\"No Failure\",\"No Failure\",\"No Failure\",\"No Failure\",\"No Failure\",\"No Failure\",\"No Failure\",\"No Failure\",\"No Failure\",\"No Failure\",\"No Failure\",\"No Failure\",\"No Failure\",\"No Failure\",\"No Failure\",\"No Failure\",\"No Failure\",\"No Failure\",\"No Failure\",\"No Failure\",\"No Failure\",\"No Failure\",\"No Failure\",\"No Failure\",\"No Failure\",\"No Failure\",\"No Failure\",\"No Failure\",\"No Failure\",\"No Failure\",\"No Failure\",\"No Failure\",\"No Failure\",\"No Failure\",\"No Failure\",\"No Failure\",\"No Failure\",\"No Failure\",\"No Failure\",\"No Failure\",\"No Failure\",\"No Failure\",\"No Failure\",\"No Failure\",\"No Failure\",\"No Failure\",\"No Failure\",\"No Failure\",\"No Failure\",\"No Failure\",\"No Failure\",\"No Failure\",\"No Failure\",\"No Failure\",\"No Failure\",\"No Failure\",\"No Failure\",\"No Failure\",\"No Failure\",\"No Failure\",\"No Failure\",\"No Failure\",\"No Failure\",\"No Failure\",\"No Failure\",\"No Failure\",\"No Failure\",\"No Failure\",\"No Failure\",\"No Failure\",\"No Failure\",\"No Failure\",\"No Failure\",\"No Failure\",\"No Failure\",\"No Failure\",\"No Failure\",\"No Failure\",\"No Failure\",\"No Failure\",\"No Failure\",\"Tool Wear Failure\",\"No Failure\",\"No Failure\",\"No Failure\",\"No Failure\",\"No Failure\",\"No Failure\",\"No Failure\",\"No Failure\",\"No Failure\",\"No Failure\",\"No Failure\",\"Power Failure\",\"No Failure\",\"No Failure\",\"No Failure\",\"No Failure\",\"No Failure\",\"No Failure\",\"No Failure\",\"No Failure\",\"No Failure\",\"No Failure\",\"No Failure\",\"No Failure\",\"No Failure\",\"No Failure\",\"No Failure\",\"Power Failure\",\"No Failure\",\"Tool Wear Failure\",\"No Failure\",\"No Failure\",\"No Failure\",\"No Failure\",\"No Failure\",\"No Failure\",\"No Failure\",\"No Failure\",\"No Failure\",\"No Failure\",\"No Failure\",\"No Failure\",\"No Failure\",\"No Failure\",\"No Failure\",\"No Failure\",\"No Failure\",\"No Failure\",\"No Failure\",\"No Failure\",\"No Failure\",\"No Failure\",\"No Failure\",\"No Failure\",\"No Failure\",\"No Failure\",\"No Failure\",\"No Failure\",\"No Failure\",\"No Failure\",\"No Failure\",\"No Failure\",\"No Failure\",\"No Failure\",\"No Failure\",\"No Failure\",\"No Failure\",\"No Failure\",\"No Failure\",\"No Failure\",\"No Failure\",\"No Failure\",\"No Failure\",\"No Failure\",\"No Failure\",\"No Failure\",\"No Failure\",\"No Failure\",\"No Failure\",\"No Failure\",\"No Failure\",\"No Failure\",\"No Failure\",\"No Failure\",\"No Failure\",\"No Failure\",\"No Failure\",\"No Failure\",\"No Failure\",\"No Failure\",\"No Failure\",\"No Failure\",\"No Failure\",\"No Failure\",\"No Failure\",\"No Failure\",\"No Failure\",\"Power Failure\",\"No Failure\",\"No Failure\",\"No Failure\",\"No Failure\",\"No Failure\",\"No Failure\",\"No Failure\",\"No Failure\",\"No Failure\",\"No Failure\",\"No Failure\",\"No Failure\",\"No Failure\",\"No Failure\",\"No Failure\",\"No Failure\",\"No Failure\",\"No Failure\",\"No Failure\",\"No Failure\",\"No Failure\",\"No Failure\",\"No Failure\",\"No Failure\",\"No Failure\",\"No Failure\",\"No Failure\",\"No Failure\",\"No Failure\",\"No Failure\",\"No Failure\",\"No Failure\",\"No Failure\",\"No Failure\",\"No Failure\",\"No Failure\",\"No Failure\",\"No Failure\",\"No Failure\",\"No Failure\",\"No Failure\",\"No Failure\",\"No Failure\",\"No Failure\",\"No Failure\",\"No Failure\",\"No Failure\",\"No Failure\",\"No Failure\",\"No Failure\",\"No Failure\",\"No Failure\",\"No Failure\",\"No Failure\",\"No Failure\",\"No Failure\",\"No Failure\",\"No Failure\",\"No Failure\",\"No Failure\",\"No Failure\",\"No Failure\",\"No Failure\",\"No Failure\",\"No Failure\",\"No Failure\",\"No Failure\",\"No Failure\",\"No Failure\",\"No Failure\",\"No Failure\",\"No Failure\",\"No Failure\",\"No Failure\",\"No Failure\",\"No Failure\",\"No Failure\",\"No Failure\",\"No Failure\",\"No Failure\",\"No Failure\",\"No Failure\",\"No Failure\",\"No Failure\",\"No Failure\",\"No Failure\",\"No Failure\",\"No Failure\",\"No Failure\",\"No Failure\",\"No Failure\",\"No Failure\",\"No Failure\",\"No Failure\",\"No Failure\",\"No Failure\",\"No Failure\",\"No Failure\",\"No Failure\",\"No Failure\",\"No Failure\",\"No Failure\",\"No Failure\",\"No Failure\",\"No Failure\",\"No Failure\",\"No Failure\",\"No Failure\",\"Tool Wear Failure\",\"No Failure\",\"No Failure\",\"No Failure\",\"No Failure\",\"No Failure\",\"No Failure\",\"No Failure\",\"No Failure\",\"No Failure\",\"No Failure\",\"No Failure\",\"No Failure\",\"No Failure\",\"No Failure\",\"No Failure\",\"No Failure\",\"No Failure\",\"No Failure\",\"No Failure\",\"No Failure\",\"No Failure\",\"No Failure\",\"No Failure\",\"No Failure\",\"No Failure\",\"No Failure\",\"No Failure\",\"No Failure\",\"No Failure\",\"No Failure\",\"No Failure\",\"No Failure\",\"No Failure\",\"No Failure\",\"No Failure\",\"No Failure\",\"No Failure\",\"No Failure\",\"No Failure\",\"No Failure\",\"No Failure\",\"No Failure\",\"No Failure\",\"No Failure\",\"No Failure\",\"No Failure\",\"No Failure\",\"No Failure\",\"No Failure\",\"No Failure\",\"No Failure\",\"No Failure\",\"No Failure\",\"No Failure\",\"No Failure\",\"No Failure\",\"No Failure\",\"No Failure\",\"No Failure\",\"No Failure\",\"No Failure\",\"No Failure\",\"No Failure\",\"No Failure\",\"No Failure\",\"No Failure\",\"No Failure\",\"No Failure\",\"No Failure\",\"No Failure\",\"No Failure\",\"No Failure\",\"No Failure\",\"No Failure\",\"No Failure\",\"No Failure\",\"No Failure\",\"No Failure\",\"No Failure\",\"No Failure\",\"No Failure\",\"No Failure\",\"No Failure\",\"No Failure\",\"No Failure\",\"No Failure\",\"No Failure\",\"No Failure\",\"No Failure\",\"No Failure\",\"No Failure\",\"No Failure\",\"No Failure\",\"No Failure\",\"No Failure\",\"No Failure\",\"No Failure\",\"No Failure\",\"No Failure\",\"No Failure\",\"No Failure\",\"No Failure\",\"No Failure\",\"No Failure\",\"No Failure\",\"No Failure\",\"No Failure\",\"No Failure\",\"No Failure\",\"No Failure\",\"No Failure\",\"No Failure\",\"No Failure\",\"No Failure\",\"No Failure\",\"No Failure\",\"No Failure\",\"No Failure\",\"No Failure\",\"No Failure\",\"No Failure\",\"No Failure\",\"No Failure\",\"No Failure\",\"No Failure\",\"No Failure\",\"No Failure\",\"No Failure\",\"No Failure\",\"No Failure\",\"No Failure\",\"No Failure\",\"No Failure\",\"No Failure\",\"No Failure\",\"No Failure\",\"No Failure\",\"No Failure\",\"No Failure\",\"No Failure\",\"No Failure\",\"No Failure\",\"No Failure\",\"No Failure\",\"No Failure\",\"No Failure\",\"No Failure\",\"No Failure\",\"No Failure\",\"No Failure\",\"No Failure\",\"No Failure\",\"No Failure\",\"No Failure\",\"No Failure\",\"No Failure\",\"No Failure\",\"No Failure\",\"Power Failure\",\"No Failure\",\"No Failure\",\"No Failure\",\"No Failure\",\"No Failure\",\"No Failure\",\"No Failure\",\"No Failure\",\"No Failure\",\"No Failure\",\"No Failure\",\"No Failure\",\"No Failure\",\"No Failure\",\"No Failure\",\"No Failure\",\"No Failure\",\"No Failure\",\"No Failure\",\"No Failure\",\"No Failure\",\"No Failure\",\"No Failure\",\"No Failure\",\"No Failure\",\"No Failure\",\"Power Failure\",\"No Failure\",\"No Failure\",\"No Failure\",\"No Failure\",\"No Failure\",\"No Failure\",\"No Failure\",\"No Failure\",\"No Failure\",\"No Failure\",\"No Failure\",\"No Failure\",\"No Failure\",\"No Failure\",\"No Failure\",\"No Failure\",\"No Failure\",\"No Failure\",\"Power Failure\",\"No Failure\",\"No Failure\",\"No Failure\",\"No Failure\",\"No Failure\",\"No Failure\",\"No Failure\",\"No Failure\",\"No Failure\",\"No Failure\",\"No Failure\",\"No Failure\",\"No Failure\",\"No Failure\",\"No Failure\",\"No Failure\",\"No Failure\",\"No Failure\",\"No Failure\",\"No Failure\",\"No Failure\",\"No Failure\",\"No Failure\",\"No Failure\",\"No Failure\",\"No Failure\",\"No Failure\",\"No Failure\",\"No Failure\",\"No Failure\",\"No Failure\",\"No Failure\",\"No Failure\",\"No Failure\",\"No Failure\",\"No Failure\",\"No Failure\",\"No Failure\",\"No Failure\",\"No Failure\",\"Power Failure\",\"No Failure\",\"No Failure\",\"No Failure\",\"No Failure\",\"No Failure\",\"No Failure\",\"No Failure\",\"No Failure\",\"No Failure\",\"No Failure\",\"No Failure\",\"No Failure\",\"No Failure\",\"No Failure\",\"No Failure\",\"No Failure\",\"No Failure\",\"No Failure\",\"No Failure\",\"No Failure\",\"No Failure\",\"No Failure\",\"No Failure\",\"No Failure\",\"No Failure\",\"No Failure\",\"No Failure\",\"No Failure\",\"No Failure\",\"No Failure\",\"No Failure\",\"No Failure\",\"No Failure\",\"No Failure\",\"No Failure\",\"No Failure\",\"No Failure\",\"No Failure\",\"No Failure\",\"No Failure\",\"No Failure\",\"No Failure\",\"No Failure\",\"No Failure\",\"No Failure\",\"No Failure\",\"No Failure\",\"No Failure\",\"No Failure\",\"No Failure\",\"No Failure\",\"No Failure\",\"No Failure\",\"No Failure\",\"No Failure\",\"No Failure\",\"No Failure\",\"No Failure\",\"No Failure\",\"No Failure\",\"No Failure\",\"No Failure\",\"No Failure\",\"No Failure\",\"No Failure\",\"No Failure\",\"No Failure\",\"No Failure\",\"No Failure\",\"No Failure\",\"No Failure\",\"No Failure\",\"No Failure\",\"No Failure\",\"No Failure\",\"No Failure\",\"No Failure\",\"No Failure\",\"No Failure\",\"No Failure\",\"No Failure\",\"No Failure\",\"No Failure\",\"No Failure\",\"No Failure\",\"No Failure\",\"No Failure\",\"No Failure\",\"No Failure\",\"No Failure\",\"No Failure\",\"No Failure\",\"No Failure\",\"No Failure\",\"No Failure\",\"No Failure\",\"No Failure\",\"No Failure\",\"No Failure\",\"No Failure\",\"No Failure\",\"No Failure\",\"No Failure\",\"No Failure\",\"No Failure\",\"No Failure\",\"No Failure\",\"No Failure\",\"No Failure\",\"No Failure\",\"No Failure\",\"No Failure\",\"No Failure\",\"No Failure\",\"No Failure\",\"No Failure\",\"No Failure\",\"No Failure\",\"No Failure\",\"No Failure\",\"No Failure\",\"No Failure\",\"No Failure\",\"No Failure\",\"No Failure\",\"No Failure\",\"No Failure\",\"No Failure\",\"No Failure\",\"No Failure\",\"No Failure\",\"No Failure\",\"No Failure\",\"No Failure\",\"No Failure\",\"No Failure\",\"No Failure\",\"No Failure\",\"No Failure\",\"No Failure\",\"No Failure\",\"No Failure\",\"No Failure\",\"No Failure\",\"No Failure\",\"No Failure\",\"No Failure\",\"No Failure\",\"No Failure\",\"No Failure\",\"No Failure\",\"No Failure\",\"No Failure\",\"No Failure\",\"No Failure\",\"No Failure\",\"No Failure\",\"No Failure\",\"No Failure\",\"No Failure\",\"No Failure\",\"No Failure\",\"No Failure\",\"No Failure\",\"No Failure\",\"No Failure\",\"No Failure\",\"No Failure\",\"No Failure\",\"No Failure\",\"No Failure\",\"No Failure\",\"No Failure\",\"No Failure\",\"No Failure\",\"No Failure\",\"No Failure\",\"No Failure\",\"No Failure\",\"No Failure\",\"No Failure\",\"No Failure\",\"No Failure\",\"No Failure\",\"No Failure\",\"No Failure\",\"No Failure\",\"No Failure\",\"No Failure\",\"No Failure\",\"No Failure\",\"No Failure\",\"No Failure\",\"No Failure\",\"No Failure\",\"No Failure\",\"No Failure\",\"No Failure\",\"No Failure\",\"No Failure\",\"No Failure\",\"No Failure\",\"Tool Wear Failure\",\"No Failure\",\"No Failure\",\"No Failure\",\"No Failure\",\"No Failure\",\"No Failure\",\"No Failure\",\"No Failure\",\"No Failure\",\"No Failure\",\"No Failure\",\"No Failure\",\"No Failure\",\"No Failure\",\"No Failure\",\"No Failure\",\"No Failure\",\"No Failure\",\"No Failure\",\"No Failure\",\"No Failure\",\"No Failure\",\"No Failure\",\"No Failure\",\"No Failure\",\"No Failure\",\"No Failure\",\"No Failure\",\"No Failure\",\"No Failure\",\"No Failure\",\"No Failure\",\"No Failure\",\"No Failure\",\"No Failure\",\"No Failure\",\"No Failure\",\"No Failure\",\"No Failure\",\"No Failure\",\"No Failure\",\"No Failure\",\"No Failure\",\"No Failure\",\"No Failure\",\"Power Failure\",\"No Failure\",\"No Failure\",\"No Failure\",\"No Failure\",\"No Failure\",\"Overstrain Failure\",\"No Failure\",\"No Failure\",\"No Failure\",\"No Failure\",\"No Failure\",\"No Failure\",\"No Failure\",\"No Failure\",\"No Failure\",\"No Failure\",\"No Failure\",\"No Failure\",\"No Failure\",\"No Failure\",\"No Failure\",\"No Failure\",\"No Failure\",\"No Failure\",\"No Failure\",\"No Failure\",\"No Failure\",\"No Failure\",\"No Failure\",\"No Failure\",\"No Failure\",\"No Failure\",\"Tool Wear Failure\",\"No Failure\",\"No Failure\",\"No Failure\",\"No Failure\",\"No Failure\",\"No Failure\",\"No Failure\",\"No Failure\",\"No Failure\",\"No Failure\",\"No Failure\",\"No Failure\",\"No Failure\",\"No Failure\",\"No Failure\",\"No Failure\",\"No Failure\",\"No Failure\",\"No Failure\",\"No Failure\",\"No Failure\",\"No Failure\",\"No Failure\",\"No Failure\",\"No Failure\",\"No Failure\",\"No Failure\",\"No Failure\",\"No Failure\",\"No Failure\",\"No Failure\",\"No Failure\",\"No Failure\",\"No Failure\",\"No Failure\",\"No Failure\",\"No Failure\",\"No Failure\",\"No Failure\",\"No Failure\",\"No Failure\",\"No Failure\",\"No Failure\",\"No Failure\",\"No Failure\",\"Tool Wear Failure\",\"No Failure\",\"No Failure\",\"No Failure\",\"No Failure\",\"No Failure\",\"No Failure\",\"No Failure\",\"No Failure\",\"No Failure\",\"No Failure\",\"No Failure\",\"No Failure\",\"No Failure\",\"No Failure\",\"No Failure\",\"No Failure\",\"No Failure\",\"No Failure\",\"No Failure\",\"No Failure\",\"No Failure\",\"No Failure\",\"No Failure\",\"No Failure\",\"No Failure\",\"No Failure\",\"No Failure\",\"No Failure\",\"No Failure\",\"No Failure\",\"No Failure\",\"No Failure\",\"No Failure\",\"No Failure\",\"No Failure\",\"Power Failure\",\"No Failure\",\"No Failure\",\"No Failure\",\"No Failure\",\"No Failure\",\"No Failure\",\"No Failure\",\"No Failure\",\"No Failure\",\"No Failure\",\"No Failure\",\"No Failure\",\"No Failure\",\"No Failure\",\"No Failure\",\"No Failure\",\"No Failure\",\"No Failure\",\"No Failure\",\"No Failure\",\"No Failure\",\"No Failure\",\"No Failure\",\"No Failure\",\"No Failure\",\"No Failure\",\"Tool Wear Failure\",\"No Failure\",\"No Failure\",\"No Failure\",\"No Failure\",\"No Failure\",\"No Failure\",\"No Failure\",\"No Failure\",\"No Failure\",\"No Failure\",\"No Failure\",\"No Failure\",\"No Failure\",\"No Failure\",\"No Failure\",\"No Failure\",\"No Failure\",\"No Failure\",\"No Failure\",\"No Failure\",\"No Failure\",\"No Failure\",\"No Failure\",\"No Failure\",\"No Failure\",\"No Failure\",\"No Failure\",\"No Failure\",\"No Failure\",\"No Failure\",\"No Failure\",\"No Failure\",\"No Failure\",\"Power Failure\",\"No Failure\",\"No Failure\",\"No Failure\",\"No Failure\",\"No Failure\",\"No Failure\",\"No Failure\",\"No Failure\",\"No Failure\",\"No Failure\",\"No Failure\",\"No Failure\",\"No Failure\",\"No Failure\",\"No Failure\",\"No Failure\",\"No Failure\",\"No Failure\",\"Power Failure\",\"No Failure\",\"No Failure\",\"No Failure\",\"No Failure\",\"No Failure\",\"No Failure\",\"No Failure\",\"No Failure\",\"No Failure\",\"No Failure\",\"No Failure\",\"No Failure\",\"No Failure\",\"No Failure\",\"No Failure\",\"No Failure\",\"No Failure\",\"No Failure\",\"No Failure\",\"No Failure\",\"No Failure\",\"No Failure\",\"No Failure\",\"No Failure\",\"No Failure\",\"No Failure\",\"No Failure\",\"No Failure\",\"No Failure\",\"No Failure\",\"No Failure\",\"No Failure\",\"No Failure\",\"No Failure\",\"No Failure\",\"No Failure\",\"No Failure\",\"No Failure\",\"No Failure\",\"No Failure\",\"No Failure\",\"No Failure\",\"No Failure\",\"No Failure\",\"No Failure\",\"No Failure\",\"No Failure\",\"No Failure\",\"No Failure\",\"No Failure\",\"No Failure\",\"No Failure\",\"No Failure\",\"No Failure\",\"No Failure\",\"No Failure\",\"No Failure\",\"No Failure\",\"No Failure\",\"No Failure\",\"No Failure\",\"No Failure\",\"No Failure\",\"No Failure\",\"No Failure\",\"No Failure\",\"No Failure\",\"No Failure\",\"No Failure\",\"No Failure\",\"No Failure\",\"No Failure\",\"No Failure\",\"No Failure\",\"No Failure\",\"No Failure\",\"No Failure\",\"No Failure\",\"No Failure\",\"No Failure\",\"No Failure\",\"No Failure\",\"No Failure\",\"No Failure\",\"No Failure\",\"Power Failure\",\"No Failure\",\"No Failure\",\"No Failure\",\"No Failure\",\"No Failure\",\"No Failure\",\"No Failure\",\"No Failure\",\"No Failure\",\"No Failure\",\"No Failure\",\"No Failure\",\"No Failure\",\"No Failure\",\"No Failure\",\"No Failure\",\"No Failure\",\"No Failure\",\"No Failure\",\"No Failure\",\"No Failure\",\"No Failure\",\"No Failure\",\"No Failure\",\"No Failure\",\"No Failure\",\"No Failure\",\"No Failure\",\"No Failure\",\"No Failure\",\"No Failure\",\"No Failure\",\"No Failure\",\"No Failure\",\"No Failure\",\"No Failure\",\"No Failure\",\"No Failure\",\"No Failure\",\"No Failure\",\"No Failure\",\"No Failure\",\"No Failure\",\"No Failure\",\"No Failure\",\"No Failure\",\"No Failure\",\"No Failure\",\"No Failure\",\"No Failure\",\"No Failure\",\"No Failure\",\"No Failure\",\"No Failure\",\"No Failure\",\"No Failure\",\"No Failure\",\"No Failure\",\"No Failure\",\"No Failure\",\"No Failure\",\"No Failure\",\"No Failure\",\"No Failure\",\"No Failure\",\"No Failure\",\"No Failure\",\"No Failure\",\"No Failure\",\"No Failure\",\"No Failure\",\"No Failure\",\"No Failure\",\"No Failure\",\"Tool Wear Failure\",\"No Failure\",\"No Failure\",\"No Failure\",\"No Failure\",\"No Failure\",\"No Failure\",\"No Failure\",\"No Failure\",\"No Failure\",\"No Failure\",\"No Failure\",\"No Failure\",\"No Failure\",\"No Failure\",\"No Failure\",\"No Failure\",\"No Failure\",\"No Failure\",\"No Failure\",\"No Failure\",\"No Failure\",\"No Failure\",\"No Failure\",\"No Failure\",\"No Failure\",\"No Failure\",\"No Failure\",\"No Failure\",\"Power Failure\",\"No Failure\",\"No Failure\",\"No Failure\",\"No Failure\",\"No Failure\",\"No Failure\",\"No Failure\",\"No Failure\",\"No Failure\",\"No Failure\",\"No Failure\",\"No Failure\",\"No Failure\",\"No Failure\",\"No Failure\",\"No Failure\",\"No Failure\",\"No Failure\",\"No Failure\",\"No Failure\",\"No Failure\",\"No Failure\",\"No Failure\",\"No Failure\",\"No Failure\",\"No Failure\",\"No Failure\",\"No Failure\",\"No Failure\",\"Overstrain Failure\",\"No Failure\",\"No Failure\",\"No Failure\",\"No Failure\",\"No Failure\",\"No Failure\",\"No Failure\",\"No Failure\",\"No Failure\",\"No Failure\",\"No Failure\",\"No Failure\",\"No Failure\",\"No Failure\",\"No Failure\",\"No Failure\",\"No Failure\",\"No Failure\",\"No Failure\",\"No Failure\",\"No Failure\",\"No Failure\",\"No Failure\",\"No Failure\",\"No Failure\",\"No Failure\",\"No Failure\",\"No Failure\",\"No Failure\",\"No Failure\",\"No Failure\",\"No Failure\",\"No Failure\",\"No Failure\",\"No Failure\",\"No Failure\",\"No Failure\",\"No Failure\",\"No Failure\",\"No Failure\",\"No Failure\",\"No Failure\",\"No Failure\",\"No Failure\",\"No Failure\",\"No Failure\",\"No Failure\",\"No Failure\",\"No Failure\",\"No Failure\",\"No Failure\",\"No Failure\",\"No Failure\",\"No Failure\",\"No Failure\",\"No Failure\",\"No Failure\",\"No Failure\",\"No Failure\",\"No Failure\",\"No Failure\",\"No Failure\",\"No Failure\",\"No Failure\",\"No Failure\",\"No Failure\",\"No Failure\",\"No Failure\",\"No Failure\",\"No Failure\",\"No Failure\",\"No Failure\",\"No Failure\",\"No Failure\",\"No Failure\",\"No Failure\",\"No Failure\",\"No Failure\",\"No Failure\",\"No Failure\",\"No Failure\",\"No Failure\",\"No Failure\",\"No Failure\",\"No Failure\",\"No Failure\",\"No Failure\",\"No Failure\",\"No Failure\",\"No Failure\",\"No Failure\",\"No Failure\",\"No Failure\",\"No Failure\",\"No Failure\",\"No Failure\",\"No Failure\",\"No Failure\",\"No Failure\",\"No Failure\",\"No Failure\",\"No Failure\",\"No Failure\",\"No Failure\",\"No Failure\",\"No Failure\",\"No Failure\",\"No Failure\",\"No Failure\",\"No Failure\",\"No Failure\",\"No Failure\",\"No Failure\",\"No Failure\",\"No Failure\",\"No Failure\",\"No Failure\",\"No Failure\",\"No Failure\",\"No Failure\",\"No Failure\",\"No Failure\",\"No Failure\",\"No Failure\",\"No Failure\",\"No Failure\",\"No Failure\",\"No Failure\",\"No Failure\",\"No Failure\",\"No Failure\",\"No Failure\",\"No Failure\",\"No Failure\",\"No Failure\",\"No Failure\",\"No Failure\",\"No Failure\",\"No Failure\",\"No Failure\",\"No Failure\",\"No Failure\",\"No Failure\",\"No Failure\",\"No Failure\",\"No Failure\",\"No Failure\",\"No Failure\",\"No Failure\",\"No Failure\",\"No Failure\",\"No Failure\",\"No Failure\",\"No Failure\",\"No Failure\",\"No Failure\",\"No Failure\",\"No Failure\",\"No Failure\",\"No Failure\",\"No Failure\",\"No Failure\",\"No Failure\",\"No Failure\",\"No Failure\",\"No Failure\",\"No Failure\",\"No Failure\",\"No Failure\",\"No Failure\",\"No Failure\",\"No Failure\",\"No Failure\",\"No Failure\",\"No Failure\",\"No Failure\",\"No Failure\",\"No Failure\",\"No Failure\",\"No Failure\",\"No Failure\",\"No Failure\",\"No Failure\",\"No Failure\",\"No Failure\",\"No Failure\",\"No Failure\",\"No Failure\",\"No Failure\",\"No Failure\",\"No Failure\",\"No Failure\",\"No Failure\",\"No Failure\",\"No Failure\",\"No Failure\",\"No Failure\",\"No Failure\",\"No Failure\",\"No Failure\",\"No Failure\",\"No Failure\",\"No Failure\",\"No Failure\",\"No Failure\",\"No Failure\",\"No Failure\",\"No Failure\",\"No Failure\",\"No Failure\",\"No Failure\",\"No Failure\",\"No Failure\",\"No Failure\",\"No Failure\",\"No Failure\",\"No Failure\",\"No Failure\",\"No Failure\",\"No Failure\",\"No Failure\",\"No Failure\",\"No Failure\",\"No Failure\",\"No Failure\",\"No Failure\",\"No Failure\",\"No Failure\",\"No Failure\",\"No Failure\",\"No Failure\",\"No Failure\",\"No Failure\",\"No Failure\",\"No Failure\",\"No Failure\",\"No Failure\",\"No Failure\",\"No Failure\",\"No Failure\",\"No Failure\",\"No Failure\",\"No Failure\",\"No Failure\",\"No Failure\",\"No Failure\",\"No Failure\",\"No Failure\",\"No Failure\",\"No Failure\",\"No Failure\",\"No Failure\",\"No Failure\",\"No Failure\",\"No Failure\",\"No Failure\",\"No Failure\",\"No Failure\",\"No Failure\",\"No Failure\",\"No Failure\",\"No Failure\",\"No Failure\",\"No Failure\",\"No Failure\",\"No Failure\",\"No Failure\",\"No Failure\",\"No Failure\",\"No Failure\",\"No Failure\",\"No Failure\",\"No Failure\",\"No Failure\",\"No Failure\",\"No Failure\",\"No Failure\",\"No Failure\",\"No Failure\",\"No Failure\",\"No Failure\",\"No Failure\",\"No Failure\",\"No Failure\",\"No Failure\",\"No Failure\",\"No Failure\",\"No Failure\",\"No Failure\",\"No Failure\",\"No Failure\",\"No Failure\",\"No Failure\",\"No Failure\",\"No Failure\",\"No Failure\"],\"legendgroup\":\"M\",\"marker\":{\"color\":\"#636efa\",\"symbol\":\"circle\"},\"mode\":\"markers\",\"name\":\"M\",\"showlegend\":true,\"x\":[1551,1425,1667,1741,1339,1742,1311,1410,1632,1581,1561,1339,1559,1452,1581,1368,1472,1843,1412,1661,1592,1812,1679,1924,1804,1419,1487,1727,1351,1575,1750,1441,1497,1498,1486,1707,1441,1430,1711,1778,1391,1379,1463,1584,1495,1499,1468,1440,1610,1924,1591,1342,1539,2678,1527,1636,1344,1421,1589,1434,1629,1680,1552,1339,1395,1627,1466,1420,1522,1736,1587,1452,1750,1620,1456,1390,1372,1716,1567,1479,1579,1449,1453,1300,1488,1398,1391,1538,1469,1995,1713,1530,2448,1459,1611,1507,1398,1467,1567,1521,1552,1569,1622,1405,1401,1424,1842,1414,1408,1490,1350,1774,1600,1434,1472,1501,1301,1657,1665,1496,1595,1466,1848,1484,1535,1376,1419,1643,1456,1586,1497,1520,1323,1556,1685,1582,1463,1347,1530,1804,1464,1442,1529,1415,1391,2027,1448,1592,1553,1709,1499,1775,1831,1482,1622,1564,1539,1433,1678,1541,1680,1596,1676,1439,1410,1700,1798,1330,1530,1693,1565,1445,1393,1389,1725,1335,1515,1226,1495,1461,1732,1732,1700,1427,1479,1433,1424,1295,1432,1656,1636,1504,1531,1815,1453,1683,1531,1434,1416,1357,1697,1500,1628,1425,1471,1431,1421,1450,1843,1483,1537,1286,1409,1497,1440,1641,1683,2010,1828,1579,1882,1544,1412,1422,1470,1516,1547,1482,1544,1533,1565,1566,1416,1389,1368,1498,1350,1516,1951,2044,1514,1335,1444,1584,1685,1235,1739,1651,1423,1435,1462,1669,1822,1490,1518,1526,1589,1473,1518,1380,1423,1453,1326,1641,1418,1462,1477,1712,1347,1426,1387,1480,1641,1532,1628,1392,1526,1534,2119,1523,1485,1168,1286,1446,2071,1633,1385,1552,1451,1433,1619,1319,1454,1335,1477,1958,1684,1474,1597,1874,1664,1409,1544,1840,1477,1414,1498,1392,2008,1685,1443,1521,1472,1540,1734,1515,1350,1790,2077,1258,1375,1672,1843,1418,1426,1569,1385,1690,1506,1823,1352,1578,1429,1604,1522,1794,1776,1431,1507,1408,1493,1441,1979,1430,1355,1573,1551,1694,1702,1357,1399,1583,1880,1604,1364,1502,1615,1621,1432,1588,1359,1535,1280,2243,1549,1276,1362,1693,1408,1531,1492,1441,1635,1675,1868,1343,1458,1635,1582,1540,1243,1719,1558,1668,1328,1596,1598,1444,1681,1693,1458,1368,1581,1481,1495,1573,1366,1528,1527,1583,1331,1603,1494,1313,1555,1469,1415,1528,1570,2083,1495,1622,1456,1404,1377,1534,1741,1486,1628,1662,1657,1447,1419,1438,1315,1366,1519,2056,1332,1448,1562,1976,1524,1723,1353,1479,1377,2206,2101,1436,1376,1507,1547,1628,1614,1408,1512,1585,1417,1339,1326,1467,1449,1525,1544,1349,1584,1476,1510,2090,1403,1654,1444,1560,1639,1486,1448,1453,1373,1543,1622,1726,1540,1802,1310,1303,1336,1450,1555,1527,1417,1577,1374,1411,1759,1384,1647,1610,1804,1403,1435,1764,1519,1844,1636,1503,1608,1681,1952,1457,1392,1602,1439,1330,1485,1501,1640,1363,1713,1461,1617,1463,1363,1335,1717,1520,1485,1519,1488,1445,1514,1498,1508,1431,1427,1524,1427,1569,1565,1435,2066,1784,1420,1315,1330,1456,1405,1471,1372,1365,1526,1470,1752,1488,1609,1517,1662,1630,1566,1424,1608,1581,1472,1792,1642,1902,1438,1505,1569,1316,1621,1492,1463,1496,1483,1569,1969,1686,1377,2129,1303,1543,1479,1364,1352,1405,1202,1419,1633,1301,1487,1459,1387,1599,1583,1463,1403,1416,1564,1381,1717,1660,1722,1360,1349,1425,1469,1449,1397,1597,1703,1586,1675,1470,1605,1902,1477,1534,1313,1692,1523,1485,1387,1326,1471,1376,1600,1417,1496,1381,1858,1503,1523,1577,1442,1289,1648,1767,1457,1939,1399,1602,1867,1420,1500,1495,1590,1387,1393,1314,1577,1439,1471,1448,1568,1551,1478,1268,1548,1352,1245,1435,1736,1645,1465,1685,1455,1422,1542,1438,1396,1304,1396,1435,1529,1415,1330,1448,1459,1289,1541,1321,1886,1586,1535,1491,1441,1725,1700,1314,1401,1487,1420,1390,1674,1755,1386,1422,1305,1381,1631,1496,1468,1856,1404,1538,1476,1364,1582,1506,1474,1526,1742,1592,1594,1367,2008,1499,1587,1328,2022,1372,1377,1335,1411,1358,1330,1332,2329,1517,1534,1574,1524,1555,1456,1402,1772,1418,1491,1573,1521,1325,1476,1503,1526,1425,1543,1446,1598,1571,1510,1541,1440,1449,1440,1881,1326,1420,1497,1352,1620,1486,1447,1334,1385,1571,1461,1506,1642,1283,1346,1652,1412,1372,1401,1453,1582,1751,1425,1509,1483,1487,1663,1640,1399,1364,1622,1625,1372,1608,1560,1539,1651,1366,1701,1422,1553,1470,1423,1597,1576,1508,1496,1603,1685,1851,1412,1389,1399,1889,1477,1556,1491,1528,1630,1524,1405,1398,1500,1642,1509,1452,1413,1569,1419,1320,1448,1612,1875,1411,1490,1467,1458,1362,1391,1347,1539,1528,1519,1536,1877,1578,1655,1367,1588,1320,1691,1365,1523,1568,1473,1633,1530,1550,1541,1733,1581,1352,1492,1397,1388,1421,1258,1482,1751,1546,1680,1394,1996,1622,1470,1445,1439,1404,1481,1589,1439,1838,1312,1452,1393,1432,1510,1521,1881,1659,1532,1341,1685,1370,1508,1555,1449,1466,1547,1466,1434,1566,1888,1563,1389,1447,1934,1428,1665,1459,1501,1368,1731,1687,1457,1385,1349,1539,1932,1407,1474,1624,2293,1574,1353,1389,1513,1678,1456,1355,1345,1683,1469,1458,1462,1478,1415,1780,1440,1473,1483,1488,1367,1539,1614,1675,1685,1488,1564,1329,1433,1443,1456,1752,1438,1732,1418,1635,1463,1454,1533,1548,1612,1642,1406,1364,2179,1503,1525,1435,1557,1589,1342,1758,1724,1397,1588,1594,1511,1288,1625,2068,1525,1696,1689,1593,1565,1456,1445,1558,1295,1479,1357,1379,1577,1563,1492,1217,2432,1671,1343,1548,1510,1452,1628,1532,1630,1692,1459,1385,1459,1290,1435,1416,1459,1617,1635,1382,1697,1612,1623,2012,1924,1412,1495,1599,2639,1383,1429,1691,1557,1619,1508,1763,1638,1384,1346,1524,1502,1393,1417,1605,1569,1365,1573,1441,1641,1769,1980,1483,1317,1467,1299,1432,1358,1618,1309,1659,1465,1492,1420,1552,1691,1455,1625,1459,1505,1458,1377,1452,1724,1417,1954,1644,1594,1647,1413,1530,1587,1467,1360,1419,1521,1616,1626,1445,1863,1443,1341,1383,1449,1734,1639,1517,1442,1685,1358,1608,1486,1866,1562,1368,1453,1558,1380,1625,1511,1418,1400,1725,1497,1855,1475,1508,1544,1507,1505,1312,1405,1377,1347,1873,1434,1454,1663,1516,1476,1490,1526,1443,1436,1384,1887,1480,1721,1366,1356,1409,1504,1916,1771,1488,1580,1360,1546,1762,1562,1608,1326,1421,1464,1581,1469,1762,1742,1465,1541,1295,1435,1578,1450,1421,1330,1481,1629,2709,1759,1728,1430,1534,1338,1432,1546,1627,1640,1423,1711,1450,1561,1842,1339,1675,1358,1757,1718,1636,1501,2041,1784,1518,1227,1398,1658,1510,1571,1484,1909,1500,1538,1642,1668,1479,1418,1345,1510,1375,1931,1577,1444,1625,1406,1471,1605,1360,1728,1783,1558,1351,1574,1609,1445,1419,1881,1421,1563,2305,1456,1456,1352,1511,1472,1405,1412,1539,1567,1590,1595,1573,1475,1563,1381,1376,1364,1517,1623,1666,1409,1787,1465,1373,1425,1212,1828,1823,1639,1608,1507,1559,1355,1832,1346,1544,1521,1570,1601,1611,1463,1563,1432,1638,1558,1523,1721,1710,1627,1422,1392,2157,1479,1260,1535,1408,1302,1521,1435,1520,1329,1387,1591,1589,1297,1542,1500,1456,1334,1434,1457,1391,1781,2372,1743,1609,1437,1644,1501,1468,1651,1417,1411,1431,1746,1452,1533,1284,1546,1568,1386,1531,1379,1439,1533,1551,1436,1385,1732,1355,1421,1368,1572,1563,1485,1358,1398,1532,2676,2157,1563,1631,1379,1731,1577,1392,1488,1378,1447,1710,1544,1451,1965,1509,1420,1605,1751,1520,1411,1918,1527,1463,1372,1586,1375,1580,1581,1542,1429,1451,1507,1524,1880,1349,1451,1555,1556,1402,1437,1926,1467,1507,1387,1460,1490,1372,1409,1519,1831,1335,1526,1428,1592,1597,1330,1614,1847,1395,1594,1510,1489,1566,1307,1569,1373,1659,1421,1627,1562,1560,1483,1606,1817,1573,1432,1446,1515,1425,1690,1353,1391,1515,2133,1341,1336,2102,1688,1384,2663,1402,1645,1617,1435,1818,1469,1353,1318,1499,1748,1536,1967,1627,1510,1419,1441,1489,1316,1583,1548,1475,1698,1504,1915,1624,1631,1474,1540,1546,1527,1406,1684,1756,1448,1597,1642,1630,1607,1459,1606,1593,1532,1561,1615,1972,1543,1693,1606,1699,1765,1669,1500,1555,1919,1374,1366,2344,1768,1456,1364,1485,1612,1685,1558,1789,1303,1475,1642,1400,2659,1825,1532,2174,1444,1366,1634,1815,1594,1620,1466,1575,1473,1630,1624,1437,1514,1694,1514,1500,1586,1510,1410,1680,1430,1396,1540,1380,1608,1454,1482,1411,1494,1377,1685,1483,1570,1608,1415,1470,1428,1437,1518,1587,1389,1732,1441,1481,2113,1512,1424,1532,1557,1416,2245,1725,1489,1510,1585,1525,2028,1713,1624,1480,1329,1739,1390,1844,1450,1901,1427,1668,1396,1671,1488,1507,1429,1532,1316,1420,1350,1437,1343,2117,1511,1902,1422,1307,1403,1572,1492,1883,1518,1438,1396,1618,1469,1732,1507,1567,1464,2130,1710,1422,1566,1689,1402,1576,1357,1399,1526,1420,2116,1406,1405,2706,1505,1482,1674,1594,1375,1642,1622,1530,1590,1397,1766,1667,1809,1421,1432,1262,1416,1454,1417,1410,1566,1422,1524,1679,1394,1392,1426,1648,1553,1895,1567,1602,1526,1339,1659,1426,1439,1585,1378,1445,1564,2000,1826,1611,1350,1334,1924,1551,1903,1452,2023,1496,1524,1363,1532,1539,1355,1504,1494,1363,1879,1540,1508,1521,1436,1451,1341,1640,1445,1492,1458,1454,1642,1557,1566,1298,1340,1944,1538,1652,1745,1623,1378,1674,1483,1257,1645,1292,1469,1615,1353,1487,1591,1644,1414,1447,1316,1372,1674,1530,1539,1432,1479,1393,1453,1584,1466,1386,1592,1423,1313,1453,1347,1443,1475,1557,1398,1559,1422,1463,1439,1653,1535,1483,1379,1635,1576,1366,1522,1413,1415,1489,1618,1399,1416,1563,1542,1624,1492,1465,1557,1489,1402,1463,1492,1574,1438,1834,1476,1541,1581,1678,1727,1434,1424,1758,1486,1402,1504,1396,1660,1577,1438,1507,1234,1410,1460,1517,1485,1330,1526,1458,1288,1659,1532,1537,1619,1550,1548,1462,1427,1484,1415,1465,1506,1486,1491,1654,1347,1343,1407,1386,1571,1613,1671,1380,2156,1349,1520,1557,1369,1413,1452,1389,1702,1401,1438,1418,1580,1468,1522,1556,1567,1546,1636,1407,2047,1452,1695,1790,1533,1371,1505,1599,1402,1452,1483,1924,1886,1461,1522,1678,1514,1486,1724,1549,1325,1472,1727,1508,1988,1452,1575,1615,1436,1470,2089,1420,1592,1765,1362,1778,1396,1413,1910,1554,1510,1519,1696,1669,1418,1455,1359,1552,1424,1641,1495,1512,1394,1665,1598,1583,1396,1698,1444,1702,1429,1543,1527,1455,1418,1734,1426,1479,1547,1309,1576,1603,1686,1533,1793,1517,1416,1304,1483,1367,1641,1580,1994,1415,1725,1430,1435,1421,1444,1491,1420,1466,1348,1618,1489,1412,2065,1423,1879,1487,1413,1408,1376,1587,1501,1573,1584,1183,1611,1560,1457,1537,1409,1743,1394,1447,1494,1270,1471,1302,1397,1735,1416,1521,1347,1490,1444,1694,1416,1600,1465,1681,2280,1433,1666,1850,1481,1368,1470,1738,1530,1639,1638,1447,1871,1499,1375,1378,1855,1451,1503,1600,1813,1553,1457,1460,1454,1424,1347,1403,1573,1691,1593,1380,1309,1627,1791,1861,1442,1421,1876,1414,1378,1737,1774,1308,1486,1350,1276,1610,1553,1501,2093,1336,1510,1839,1756,1300,1311,1516,1664,1744,1510,1382,1464,1464,1431,1565,1359,1431,1311,1575,1537,1506,1298,1395,1578,1597,1505,1505,1663,1782,1427,1509,1962,1819,1372,1494,1391,1410,1646,2219,1300,1615,2636,1310,1621,1367,1497,1420,1493,1657,1545,1709,1268,1515,1359,1384,1423,1591,1838,1648,1498,1389,1521,1394,1654,1836,1909,1384,1454,1592,1488,1801,1465,1434,1532,1357,1454,1448,1609,1704,1550,1530,1634,1603,1423,1266,1301,1836,1521,1348,1732,1487,1852,1562,1769,1429,1434,1378,1373,1263,1365,1583,1559,1378,1334,1706,1608,1740,1705,1621,1566,1388,1457,1463,1339,1469,1544,1474,1377,1572,1403,1469,2006,1505,1609,1863,1409,1407,1696,1572,1386,1439,1488,1594,1614,1478,1233,1373,1494,1511,1518,1450,1460,1375,1576,1868,1542,1410,1552,1406,1343,1486,1356,1517,1617,1569,1664,1485,1501,1474,1429,1442,1438,1402,1628,1593,1644,1429,1443,1530,1434,1540,1331,1705,1427,1625,1651,1556,1320,1910,1639,1397,1460,1632,1362,1484,1393,1314,1429,1448,1704,1500,1545,1448,1540,1293,1704,1478,1350,1443,1345,1202,1480,1530,1983,1556,1329,1790,1385,1820,1335,1576,1576,1805,1367,1661,1440,1429,1659,1512,1359,1620,1646,1455,1567,1357,1410,1375,1574,1694,1490,1492,1594,1572,1498,1633,1463,1530,1616,1452,1495,1427,1342,1575,1791,1692,1864,1384,1352,1913,1337,1677,1597,1397,1433,1390,1617,1304,1518,1523,1570,1510,1312,1751,1707,1319,1483,1748,1646,1730,1636,1335,1236,1467,1343,1748,1617,1629,1450,1587,1528,1401,1554,1491,1371,1750,1386,1355,1377,1350,1831,1381,1783,2370,1477,1366,1433,1296,1551,1595,1350,1468,1507,1743,1468,1312,1473,1269,1506,1352,1604,1476,1540,1359,1246,1658,1424,1456,2141,1476,1389,1412,1407,1504,2097,1577,1370,1441,1348,1701,1630,1390,2072,1378,1454,1761,1657,1985,1263,1323,1508,1331,1398,1832,1591,1478,1362,1723,1511,1400,1555,1960,1445,1518,1547,1415,1524,1517,1480,1451,1537,1466,1703,1706,1579,1452,1562,1533,1400,1608,1374,1447,1592,1370,1382,1511,1779,1293,1535,2174,1371,1555,1588,1430,1811,1465,1664,1450,1697,1669,1621,1356,1532,1499,1569,1843,1480,1310,1629,1297,1548,1428,1505,1809,1852,1499,2710,1617,1443,1851,1274,1664,1375,1402,1558,1447,1499,1422,1629,1366,1465,1359,1551,1670,1490,1676,1875,1867,1513,1555,1429,1596,1607,1553,1442,1533,1650,1389,1474,1448,1506,1685,1488,1427,1424,1618,1745,1445,1616,1649,1530,1620,1630,1492,1374,1826,1473,1446,1548,1551,1428,1524,1422,1449,1443,2099,1689,1303,1394,1625,1587,1397,1502,1517,1787,1720,1638,1678,1640,1679,1533,1525,1595,1644,1506,1549,1402,1459,1295,1529,1484,1453,1394,1500,1254,1392,1477,1459,2240,1589,1499,1480,1452,1487,1382,1686,1344,1525,1551,1836,1448,1362,1384,1331,1495,1501,1288,1502,1566,1483,1484,1344,1572,1314,1422,1434,1585,1827,1501,1654,1519,1668,1818,1541,1512,1501,1411,1475,1280,1430,1523,1557,1354,1595,1501,1364,1514,1560,1816,1509,1679,1870,1478,1469,1681,1543,1522,1615,1465,1404,1426,1365,1666,1457,1661,1505,1614,1751,1559,1648,1620,1429,1334,1338,1627,1538,1430,1601,1624,1505,1401,1431,1476,1360,1596,1443,1492,1478,1564,1335,1441,1697,1455,1471,1528,1520,1664,1353,1611,1604,1584,1498,1655,1451,1466,1284,1364,1444,1717,1513,1515,1398,1447,1573,1798,1472,1465,1657,1582,1446,1352,1392,1363,1452,1408,1349,1327,1254,1699,1412,1497,1255,1469,1604,1625,1378,1425,1481,1447,1799,1548,1485,1469,1540,1376,1542,1348,1325,1436,1573,1433,1327,1488,1558,1574,1338,1558,1614,1752,1460,1529,1438,1530,2089,1681,1546,1577,1710,1584,1382,1404,1487,1524,1529,1363,1405,1459,1789,1620,1544,1340,1517,1434,1595,1449,1846,1452,1483,1478,1355,1734,1403,1687,1456,1455,1556,1332,1261,1443,1598,1632,1980,1609,1538,1440,1530,1340,1369,1536,1685,1444,1403,1731,1341,1599,1370,1566,1901,1638,1521,1686,1326,1863,1678,1554,1541,1662,1747,1765,1709,1370,1550,1677,1662,1440,1389,1482,1444,1475,1675,1486,1585,1447,1429,1347,1369,1510,1612,1509,1390,1392,1388,1576,1439,1970,1530,1469,1538,1602,1547,1393,2456,1409,1350,1675,1525,1572,2042,1592,1811,1456,1362,1269,1488,1651,1533,1508,1296,1694,1404,1526,1390,1645,1414,1802,1410,1413,1479,1335,1459,1804,1783,1565,1512,1510,1507,1921,1363,1391,1626,1426,1599,1607,1646,1581,1682,1254,1547,1466,1480,1379,1907,2033,1544,1560,1370,1720,1469,2189,1666,1361,1463,1382,1585,1415,1430,1527,1315,1433,1378,1394,1446,1323,1434,1494,1392,1692,1399,1414,1552,1460,1774,1375,1455,1692,1693,1434,1472,1567,1418,1489,1349,1551,1502,1504,1598,1484,1657,1395,1233,1609,1457,1628,1754,1378,1560,1649,1451,1523,1440,1507,1577,1435,1763,1498,1948,1405,1603,1364,1423,1404,1563,1462,1325,1561,1549,1484,1513,1625,1441,1564,1323,2049,1487,1341,1487,1337,1437,1580,1488,1392,1570,1838,1593,1298,1711,1412,1338,1649,1520,1667,1413,1353,1705,1486,1456,1357,2098,1629,1442,1348,1655,1441,1552,1517,1509,1635,1424,1684,1397,1477,1435,1738,1535,1521,1597,1551,1496,1441,1353,1411,1576,1721,1465,1407,1464,1568,1488,1376,1429,1632,1390,1355,1491,1359,1498,1761,1366,1580,1800,1439,1645,2450,1947,1449,1363,1490,1575,1284,1618,1423,1437,1423,1587,1487,1481,1662,1553,1557,1347,1615,1384,1367,1897,1576,1722,1766,1529,1411,1446,1462,1578,1525,1609,1589,1507,1507,1500,1577,1827,1604,1645,1500],\"xaxis\":\"x\",\"y\":[42.8,41.9,28.6,28.0,51.1,30.0,46.6,45.6,32.5,30.7,37.3,48.2,34.7,48.6,36.7,49.1,47.5,25.8,44.1,29.5,38.2,25.9,28.7,22.6,26.8,45.2,39.5,27.1,52.2,35.3,29.9,40.5,46.8,39.5,41.9,28.1,43.2,49.6,28.5,28.2,42.4,48.0,37.6,41.0,46.0,40.0,43.8,43.6,35.0,20.8,33.7,48.1,43.4,10.7,40.9,35.7,53.0,60.7,37.1,46.2,37.1,33.7,36.6,51.6,49.1,31.4,42.6,63.9,49.1,26.8,32.3,40.8,26.6,29.4,43.7,49.8,51.1,30.7,35.6,43.5,36.6,40.8,44.1,53.0,41.9,41.9,51.9,40.2,44.8,20.5,32.2,32.6,13.8,45.2,31.0,46.0,48.9,36.7,34.6,38.2,40.9,38.3,37.2,51.7,51.9,53.9,27.0,45.4,54.8,43.4,52.2,28.9,42.1,44.4,44.9,38.2,39.6,31.1,28.9,42.2,36.9,39.7,23.7,44.7,34.6,59.9,41.7,31.0,42.9,32.7,41.8,37.0,57.3,39.5,30.7,35.9,35.0,55.8,40.0,27.4,46.2,48.1,41.9,41.3,58.2,19.8,43.7,35.8,42.4,32.2,36.8,25.8,26.6,39.3,35.0,36.0,42.2,48.3,34.4,33.7,30.2,35.2,29.0,41.7,55.4,31.3,25.5,53.1,37.3,29.9,33.9,45.2,43.1,49.6,32.0,57.8,38.8,58.7,36.5,43.7,28.8,28.1,27.4,45.6,38.1,43.2,45.5,61.2,42.6,33.2,29.7,40.4,42.4,25.3,39.7,31.6,48.3,43.3,45.9,49.7,28.1,46.3,37.4,50.3,50.7,53.0,42.0,46.9,24.2,44.3,36.3,60.5,50.7,44.8,46.3,33.3,31.8,18.9,24.6,34.1,24.2,37.6,47.4,53.0,45.9,36.7,34.7,39.9,42.3,32.5,43.5,35.0,50.0,48.6,49.5,41.6,53.3,37.6,23.3,22.3,37.7,51.7,45.5,33.6,34.9,76.2,25.9,28.1,42.5,51.6,49.2,29.0,24.3,42.7,40.6,38.2,36.2,38.5,44.1,52.4,45.3,47.3,50.8,36.6,46.2,44.3,45.0,28.5,50.4,45.5,40.1,43.2,32.2,38.6,36.8,51.3,42.3,33.8,18.3,42.0,36.0,63.4,51.1,45.9,19.4,31.1,44.0,34.8,42.8,38.5,29.7,68.3,42.5,50.5,35.2,19.1,31.4,52.6,32.1,21.3,32.8,44.3,40.3,24.6,37.2,46.2,47.1,43.9,17.5,32.0,39.2,37.9,43.9,38.7,27.0,42.1,55.6,25.8,19.1,69.0,51.4,32.4,25.2,47.9,50.7,33.3,44.8,25.6,37.7,24.3,44.4,37.8,42.0,39.4,38.0,27.5,28.0,43.7,43.1,47.9,34.7,47.6,20.4,55.9,51.4,34.9,38.9,33.0,30.7,41.8,46.4,38.2,23.5,40.7,55.6,37.3,32.6,32.4,53.4,33.4,48.7,37.7,48.5,15.7,38.7,65.9,47.6,34.4,46.5,40.1,41.7,48.2,32.2,28.4,23.8,53.6,40.2,34.5,33.3,38.1,74.5,28.8,35.4,31.5,50.5,33.0,33.3,48.1,35.5,31.9,41.9,56.8,37.5,41.5,38.7,41.8,59.0,37.1,31.2,35.7,49.0,36.1,46.6,56.8,40.6,53.2,53.2,36.7,42.1,18.2,35.2,34.6,43.8,41.4,49.6,37.0,27.7,38.5,35.8,33.6,31.0,39.9,44.9,44.5,48.9,61.9,35.4,18.7,60.2,52.5,39.2,19.3,34.6,26.6,46.2,58.5,48.5,16.3,17.4,48.2,55.7,37.3,38.9,37.6,35.5,38.8,38.5,34.3,39.2,51.4,54.4,39.6,46.4,39.3,38.8,52.1,31.7,43.5,39.9,19.0,44.8,35.3,47.5,33.0,33.3,44.2,43.3,41.5,51.2,43.7,32.1,27.3,39.8,25.8,57.9,59.3,54.4,43.5,37.0,42.8,51.0,35.9,48.8,47.2,28.6,43.7,30.8,34.6,26.0,52.8,42.9,27.7,44.0,23.8,36.7,44.7,32.6,31.0,21.6,52.5,50.4,33.4,43.8,55.4,42.0,39.2,33.1,49.2,25.8,51.9,31.6,46.5,60.1,56.2,27.1,41.4,42.0,37.3,44.0,48.0,43.5,38.3,41.8,52.9,45.1,36.3,43.6,31.2,36.3,40.9,19.2,27.8,47.8,54.0,51.7,39.6,43.7,44.9,52.8,49.2,39.1,42.6,26.1,36.1,30.3,39.5,28.9,32.7,33.8,47.7,33.8,43.4,46.7,26.0,32.4,24.3,43.6,40.1,35.6,57.2,34.9,40.2,47.3,40.0,50.9,37.0,21.7,29.3,55.1,18.4,53.9,41.9,47.6,46.8,49.4,46.9,67.0,47.4,30.7,58.5,41.3,44.4,45.5,31.2,36.6,42.5,45.1,38.2,37.5,50.5,28.7,27.0,24.7,52.9,46.6,47.4,34.2,39.6,52.4,30.3,31.3,37.9,29.2,44.4,29.8,24.0,42.7,39.1,60.0,28.4,37.9,47.1,56.2,47.5,46.0,46.7,35.3,47.3,43.4,44.9,24.7,37.4,38.9,34.9,49.0,51.5,28.4,24.8,41.5,19.8,49.7,31.3,23.4,49.5,43.3,41.6,35.9,48.3,47.7,61.8,39.8,47.4,44.3,42.9,35.3,35.4,41.0,58.0,35.7,46.1,64.0,48.4,26.1,31.9,49.0,27.8,42.7,43.1,37.5,42.3,48.5,60.6,48.7,45.2,43.0,43.5,51.2,52.1,35.6,60.5,39.1,51.9,20.9,35.7,47.5,38.5,36.2,26.6,33.5,52.5,47.0,52.6,50.3,49.3,28.2,26.4,42.2,45.4,60.6,42.5,35.4,39.4,42.2,22.7,49.4,38.0,32.7,51.8,45.5,38.0,47.2,37.3,28.9,34.2,35.8,47.6,20.3,45.1,35.6,49.2,20.0,63.6,47.2,47.8,51.3,42.7,53.6,51.7,14.6,39.8,42.9,33.5,40.4,37.6,50.0,49.8,28.4,45.7,41.0,37.4,42.3,48.4,42.7,34.7,41.1,49.6,38.2,45.5,35.1,33.7,38.7,36.3,37.5,47.9,50.0,23.9,62.0,41.6,40.9,44.7,35.4,41.1,39.6,46.3,45.6,38.3,48.6,41.5,30.3,62.1,53.2,28.6,47.8,56.2,48.1,43.2,38.2,27.0,40.8,42.8,38.1,42.2,35.2,31.1,41.9,44.4,36.1,38.0,58.2,34.4,37.1,36.1,30.8,55.2,28.6,45.3,32.4,42.7,42.9,32.9,36.4,41.2,44.4,38.5,28.9,24.7,45.3,52.8,54.8,26.0,38.1,35.8,41.8,35.1,28.3,38.4,49.4,53.7,45.7,28.8,46.6,41.9,40.7,31.6,42.5,62.2,42.4,33.1,23.9,41.6,47.9,40.3,44.3,42.1,57.9,50.1,39.1,37.2,39.7,37.2,23.8,30.5,32.1,63.2,37.0,49.9,27.6,50.0,38.2,35.2,48.1,31.3,40.2,40.2,35.2,26.7,35.7,44.0,34.0,51.3,51.1,49.8,54.9,39.0,27.9,42.3,28.2,48.8,19.8,30.5,48.7,46.4,43.8,38.7,44.5,35.0,43.0,24.9,45.2,39.4,43.9,44.2,46.0,37.2,25.5,28.9,42.5,50.9,29.4,55.9,37.8,38.9,42.4,53.2,38.0,39.8,51.5,35.9,21.9,34.0,43.3,42.9,22.8,42.6,31.4,43.9,40.0,45.8,30.4,27.7,44.3,46.1,56.2,43.2,21.8,43.9,45.2,30.8,16.3,36.5,49.8,51.2,43.8,29.8,39.4,56.7,56.8,30.5,43.9,46.9,42.8,36.3,43.5,26.5,42.8,42.3,49.3,42.2,51.2,37.7,30.3,35.5,32.3,41.3,33.4,53.6,48.8,50.3,48.8,27.8,51.0,33.7,39.8,32.4,45.7,44.4,38.0,38.4,33.0,31.2,42.2,47.6,16.3,38.4,36.5,44.7,33.8,34.9,62.4,26.8,25.6,48.0,32.7,31.1,39.3,58.4,31.6,17.8,37.8,32.4,32.1,30.8,36.0,50.8,45.6,32.6,56.6,45.5,54.5,43.2,48.3,39.9,43.0,60.6,14.2,31.6,49.5,34.2,40.9,44.1,36.4,40.7,30.3,32.3,46.9,47.5,37.7,65.3,48.0,53.2,35.0,34.3,32.5,41.6,30.0,29.8,33.5,20.7,23.6,44.1,52.5,36.1,12.0,45.7,47.9,33.4,35.3,31.0,38.8,28.4,35.4,47.4,44.6,41.3,34.4,49.5,52.5,40.0,32.5,48.2,38.9,43.7,33.2,26.0,21.5,37.0,51.9,48.1,60.4,41.5,52.3,37.8,43.3,29.9,35.8,42.2,52.0,35.9,27.7,39.0,35.9,40.2,44.5,41.4,44.9,45.7,33.0,45.2,21.6,32.5,32.4,31.6,42.2,36.4,35.9,43.4,53.0,36.2,40.6,35.1,31.6,44.8,25.7,47.0,50.8,53.6,44.5,25.0,36.6,37.6,41.7,30.8,50.6,39.9,39.6,23.1,38.0,53.6,45.1,39.1,51.6,30.7,45.0,49.5,49.5,27.7,38.4,23.9,45.2,41.2,43.6,47.7,36.7,61.5,47.7,43.0,49.8,24.0,58.6,43.8,29.6,33.7,47.4,37.1,37.7,51.8,47.0,49.7,22.4,45.7,30.1,54.4,48.3,41.3,37.5,23.1,27.6,44.2,36.5,44.0,35.5,24.5,38.1,30.3,59.1,52.0,44.2,36.1,41.6,27.8,29.7,43.5,36.6,57.1,43.1,33.5,45.7,41.3,58.6,41.1,31.7,9.7,29.9,30.0,51.7,40.1,53.3,42.7,40.0,33.2,32.8,36.8,28.7,51.6,34.9,23.9,50.8,29.6,52.7,29.5,31.2,35.0,38.8,19.2,25.1,39.0,68.2,47.2,31.0,37.1,32.7,39.5,23.2,40.2,37.4,32.1,33.2,45.6,41.3,47.6,36.6,47.0,21.9,29.8,43.1,33.1,48.8,41.9,37.6,52.8,34.0,23.1,45.3,60.3,34.1,35.2,46.3,47.7,20.9,46.2,39.2,16.1,43.6,47.2,55.5,37.6,47.0,47.9,46.5,37.4,36.4,40.3,32.9,32.1,47.8,41.0,58.4,46.3,47.8,38.9,34.3,32.7,52.5,26.7,46.5,48.0,44.7,55.6,26.3,25.1,32.9,33.1,40.4,33.9,51.5,23.7,49.2,39.7,40.4,34.6,33.0,31.8,43.1,35.6,44.5,32.0,31.9,43.2,28.4,30.4,32.3,47.0,60.5,17.8,40.5,65.9,38.6,46.8,53.4,34.8,42.3,43.0,48.6,52.1,33.9,39.0,60.7,39.7,36.7,47.5,61.0,47.9,39.2,50.6,23.9,13.9,27.3,34.2,42.3,34.6,39.5,40.8,29.8,44.6,45.1,44.0,31.1,41.5,40.9,68.2,39.8,37.5,62.7,38.0,48.2,41.7,35.9,34.6,49.0,45.8,30.1,45.1,45.4,51.6,34.6,37.8,45.9,54.6,47.3,36.1,10.8,17.2,39.0,31.0,48.9,33.4,35.8,55.8,41.8,54.3,39.2,27.3,35.1,43.1,20.2,37.6,56.4,36.0,30.5,36.6,49.5,21.6,38.8,42.2,45.7,34.3,52.5,35.6,32.7,39.9,43.2,53.6,40.2,33.7,22.7,51.2,44.7,36.1,36.5,40.7,49.9,21.8,37.7,33.4,41.4,43.9,43.0,54.3,41.7,38.0,23.3,53.6,37.3,39.8,38.9,36.7,53.7,35.7,24.7,59.1,35.5,47.6,44.5,46.1,54.0,36.6,47.3,34.7,44.8,30.8,34.2,36.4,43.0,29.6,24.7,34.0,42.5,50.0,44.2,45.4,34.9,44.1,42.7,42.6,18.3,47.0,58.2,19.0,31.9,54.8,11.4,48.6,35.7,36.0,37.9,23.6,48.5,51.0,54.2,39.4,28.4,40.6,20.9,32.5,42.2,50.9,44.9,49.4,50.9,33.3,33.5,42.9,31.3,49.5,22.3,34.8,28.5,38.8,37.4,33.7,41.9,47.1,29.3,26.4,44.3,33.4,32.3,32.4,33.7,48.2,31.7,35.2,41.7,38.2,35.7,23.5,33.3,30.0,30.1,31.5,27.5,31.7,41.7,33.4,20.2,53.6,45.1,15.2,23.9,51.2,49.3,43.3,36.3,31.8,37.7,23.5,54.4,41.0,29.4,43.2,11.4,25.2,41.3,17.6,52.7,47.3,33.8,27.8,35.2,36.6,39.5,34.5,42.8,29.3,39.8,48.3,45.0,31.4,41.1,40.6,41.1,46.9,42.4,29.3,53.5,50.5,39.0,48.7,31.1,46.8,43.8,54.8,39.0,56.0,28.2,47.2,40.7,40.6,52.8,45.8,39.9,47.2,42.4,33.6,45.8,26.2,43.7,44.9,18.4,33.4,43.7,41.3,37.3,48.1,15.1,28.3,40.3,38.9,32.1,42.0,18.9,23.5,32.1,38.4,54.5,28.1,47.8,27.1,42.8,22.5,46.9,34.4,47.3,30.5,41.3,38.5,43.3,42.7,51.8,47.9,47.2,53.9,61.4,18.6,41.0,21.6,39.9,54.3,51.9,44.7,46.1,23.3,38.7,42.8,38.2,30.4,39.9,29.6,34.3,35.0,49.1,18.1,26.5,48.0,32.6,33.1,47.0,49.9,55.3,48.4,30.8,49.1,16.7,41.9,51.6,9.8,38.9,44.4,32.7,32.8,45.7,33.6,35.1,34.5,36.3,47.1,26.7,30.0,25.0,46.0,49.0,70.5,42.7,54.8,51.5,50.3,36.6,44.5,42.1,30.9,46.4,42.9,46.8,32.1,35.8,23.5,32.9,33.7,36.1,52.1,33.1,44.7,42.5,35.5,46.9,42.0,32.1,21.9,25.3,39.9,58.6,50.9,24.0,40.0,21.2,50.3,19.1,45.0,34.8,45.7,38.8,39.9,50.1,37.3,37.1,54.0,23.0,28.9,42.3,40.2,43.5,43.2,46.3,31.5,54.8,47.7,38.8,47.6,29.1,31.5,37.6,57.5,59.4,21.4,36.7,31.0,25.5,31.6,50.1,29.5,38.8,71.3,29.6,54.4,36.9,32.9,56.5,46.1,29.4,37.2,51.6,45.7,47.2,55.1,30.0,42.3,35.1,45.3,39.5,42.5,42.5,36.2,49.0,50.5,37.7,44.6,55.7,42.1,54.3,43.4,48.0,34.1,50.1,34.4,46.4,35.7,36.6,31.4,38.3,40.5,42.9,31.6,34.0,52.3,35.6,42.6,46.5,41.4,36.7,41.8,49.0,34.5,40.1,31.6,40.8,39.9,39.3,38.9,47.5,50.2,41.2,34.3,42.4,25.4,36.5,36.3,30.9,30.7,26.5,47.6,45.2,25.4,36.5,40.0,42.6,43.5,33.8,39.7,43.0,38.6,55.8,52.7,46.7,40.2,41.0,59.0,36.3,43.4,64.0,29.8,38.7,35.0,31.3,38.7,37.3,41.3,52.8,38.0,44.5,45.2,44.0,38.9,35.9,32.0,46.5,51.6,42.4,48.2,34.6,36.9,30.5,47.3,18.0,54.5,38.0,31.6,51.2,44.3,47.9,48.1,30.3,54.6,46.6,49.3,36.6,41.8,41.7,38.8,34.3,37.7,35.3,53.0,17.9,43.6,30.2,26.2,39.3,44.7,36.2,33.0,48.1,47.3,40.8,22.4,21.1,41.3,46.2,28.1,38.7,41.2,30.0,35.5,61.4,40.0,30.1,46.9,19.7,43.0,34.6,37.7,41.8,40.6,19.8,47.4,35.7,24.2,51.6,27.1,45.1,46.6,21.9,32.7,44.5,34.9,27.3,28.4,46.3,46.1,50.8,37.9,41.4,33.0,40.8,36.9,42.8,30.9,36.5,40.7,47.4,27.3,43.2,29.3,52.7,32.9,41.1,41.2,45.4,31.3,46.1,41.1,35.8,60.7,39.6,32.6,26.9,38.1,25.0,46.1,50.9,52.5,40.2,52.6,34.6,37.0,19.8,31.8,30.4,43.4,43.6,47.2,42.0,42.0,48.4,45.7,57.3,36.2,41.7,57.9,18.1,48.7,22.4,39.2,43.0,44.0,52.1,32.6,38.0,39.7,36.7,61.4,29.0,42.3,35.1,37.5,43.2,24.1,47.4,46.5,38.5,61.0,40.2,62.9,55.2,27.0,48.5,35.0,54.3,38.8,46.0,31.1,46.6,36.0,42.9,27.4,15.7,48.1,34.9,27.7,39.7,63.7,46.5,30.3,39.9,29.8,31.9,41.9,21.3,36.1,42.0,49.4,25.3,45.3,38.2,32.8,24.6,38.9,47.8,38.6,39.4,47.0,47.9,47.4,37.4,30.1,36.8,45.8,65.8,31.3,23.8,21.8,41.1,44.4,22.1,49.3,55.3,29.3,25.5,60.5,39.6,54.9,55.6,29.1,44.7,39.8,18.7,65.6,47.8,23.6,26.7,62.7,55.8,40.4,32.0,28.2,36.0,58.1,37.4,48.6,40.6,36.1,47.1,42.3,46.8,40.1,33.5,39.5,58.1,44.6,40.5,29.8,44.0,37.1,31.6,26.5,43.2,40.1,22.5,25.5,54.2,35.3,52.5,43.9,30.7,16.7,58.3,34.9,12.2,48.8,31.0,43.4,37.6,43.0,48.1,29.9,37.5,29.2,56.3,41.8,53.4,42.5,38.6,35.0,23.2,32.4,49.5,53.3,35.8,41.3,30.7,22.8,22.7,49.4,41.5,32.9,40.1,24.6,43.2,45.4,41.5,45.6,40.0,43.9,35.8,31.3,34.9,43.9,31.9,31.8,48.0,55.5,55.0,21.8,39.9,53.0,26.9,39.8,22.2,37.1,26.5,52.3,39.1,41.2,49.9,52.3,51.7,32.1,42.8,51.6,53.9,25.0,35.3,25.6,31.2,32.0,38.2,42.9,36.7,45.5,52.9,42.9,36.3,37.0,46.7,38.5,50.4,46.4,19.1,35.6,27.6,22.2,50.6,51.1,29.7,36.2,42.1,41.7,39.2,31.0,32.7,40.1,52.3,44.1,42.2,35.8,36.0,39.4,53.6,44.7,40.4,24.5,33.9,44.4,41.3,50.2,63.7,41.2,44.4,40.3,40.8,31.2,30.7,40.5,39.3,44.0,44.7,39.5,51.5,46.6,30.3,36.1,31.4,43.8,49.3,34.5,48.0,34.4,50.2,28.5,45.2,41.2,28.1,37.7,61.7,21.8,42.1,48.1,37.1,33.7,56.3,42.1,51.2,53.5,42.0,40.1,29.4,43.0,35.6,44.9,33.4,49.7,29.2,38.1,48.8,58.7,57.1,61.7,37.1,35.7,20.8,38.1,57.4,25.7,52.1,26.6,52.9,39.4,34.3,23.7,53.3,34.5,42.8,47.7,31.5,43.2,61.1,30.0,29.6,46.1,40.6,48.7,44.5,53.9,31.8,31.3,41.2,39.3,35.4,38.0,37.8,34.2,43.5,35.2,35.2,42.4,41.0,39.7,48.5,29.8,24.1,29.0,23.3,46.1,61.8,21.9,54.8,30.8,39.5,50.2,51.4,52.1,32.5,62.8,40.2,34.1,35.3,47.5,53.4,28.0,30.0,51.4,45.1,28.5,28.9,27.5,34.4,58.3,57.5,40.7,46.2,26.6,39.3,32.1,38.5,31.2,40.9,49.9,34.3,37.3,50.2,27.3,48.1,56.2,53.8,58.7,23.4,65.2,25.6,14.7,44.2,56.1,46.1,61.3,36.6,35.4,56.5,41.1,43.4,27.6,40.4,51.4,31.5,64.0,40.7,57.3,31.7,32.6,41.5,55.4,52.9,30.4,50.8,51.1,17.2,39.1,52.1,49.1,42.4,36.9,18.9,36.5,56.1,40.6,62.5,30.8,31.8,51.9,18.8,48.2,41.4,29.0,30.9,19.3,60.8,57.9,45.4,55.3,42.6,24.2,42.0,39.9,47.6,28.3,33.0,43.8,38.7,20.9,47.3,36.4,40.9,55.8,40.6,41.2,44.9,49.0,35.4,39.0,28.4,29.2,35.5,44.3,35.7,42.6,48.5,35.0,47.9,36.8,32.1,44.8,54.1,44.5,27.7,52.3,40.3,18.5,61.7,40.6,35.6,47.2,25.1,43.7,25.7,45.0,28.2,29.2,28.3,44.3,40.0,38.9,36.4,24.5,40.9,56.1,32.6,48.6,38.3,36.6,39.6,25.1,25.9,41.5,9.7,31.0,53.3,23.0,67.3,28.4,56.1,50.7,37.5,41.4,34.6,50.7,35.3,55.1,41.4,54.1,36.4,26.3,39.8,35.2,22.1,23.0,40.8,37.4,41.6,30.4,33.7,33.1,45.1,46.4,33.8,50.0,39.7,49.8,42.7,32.1,39.5,50.4,41.3,30.3,26.3,41.2,42.3,32.7,38.8,37.2,29.8,45.7,48.9,25.1,40.1,47.3,33.5,35.2,43.0,51.4,49.3,43.2,50.9,20.0,29.7,68.6,45.2,37.1,34.2,49.5,39.8,38.4,22.2,25.3,33.6,32.8,33.8,35.8,44.4,38.5,33.1,34.1,50.7,42.5,69.7,40.2,52.7,38.5,44.9,47.7,46.0,38.8,57.1,48.7,48.5,47.3,15.9,35.3,40.3,38.1,42.7,33.6,48.1,26.2,59.4,42.4,36.6,22.8,44.8,50.5,48.2,61.6,35.2,37.1,61.9,39.4,38.1,44.8,41.7,45.3,33.0,49.7,49.7,53.0,31.3,28.0,48.7,29.1,38.1,32.3,24.9,36.9,37.5,44.7,45.1,40.5,64.1,43.1,44.6,37.7,60.8,29.0,40.2,58.7,38.8,36.9,22.6,34.2,33.3,22.5,36.5,54.8,27.1,49.9,47.4,31.8,41.1,43.3,45.4,48.7,24.3,49.0,38.2,41.3,30.7,26.6,35.2,29.1,31.2,45.8,72.0,48.5,34.3,48.0,44.5,34.6,30.9,37.2,50.5,52.6,45.6,48.6,36.6,38.2,35.5,46.2,35.0,57.9,46.8,27.4,46.1,52.3,29.1,42.4,28.9,46.5,31.6,34.9,40.0,44.4,34.1,43.8,38.4,51.3,54.0,41.1,31.3,39.0,42.1,38.1,44.5,33.9,23.0,42.0,55.9,33.1,31.9,53.0,53.0,46.4,53.6,41.2,51.5,51.5,52.1,45.8,30.1,45.5,36.4,60.7,42.6,32.8,32.8,41.9,45.8,48.0,57.4,24.5,41.3,47.9,44.1,38.5,39.0,37.0,59.1,62.4,44.8,35.1,41.8,63.7,37.3,41.7,34.8,49.6,39.2,38.1,25.2,45.8,38.1,42.9,39.1,19.1,28.3,38.0,35.6,27.7,29.4,49.9,43.7,46.9,49.3,37.9,45.3,42.5,59.6,25.0,35.8,41.7,52.6,41.0,44.8,32.2,44.4,24.5,38.2,41.9,42.5,55.1,27.7,45.0,30.4,44.9,49.9,31.2,51.1,51.1,43.9,29.4,37.5,20.3,38.9,34.3,42.4,35.9,61.3,52.0,34.6,28.1,44.0,44.3,27.7,51.9,32.9,50.5,31.4,22.1,32.2,38.2,34.5,57.2,26.0,28.1,41.3,35.7,26.9,29.0,31.1,30.6,58.8,47.8,34.9,30.3,38.8,49.0,38.3,48.2,46.6,29.5,45.9,42.0,41.6,50.5,57.0,54.8,35.5,30.0,39.7,53.4,41.2,45.6,45.0,38.5,21.6,40.9,49.0,37.6,32.1,44.0,55.9,13.9,49.1,57.0,30.0,38.5,37.5,17.8,35.2,25.4,41.2,49.6,60.9,40.6,28.8,36.1,40.5,58.7,28.0,47.0,36.9,49.7,28.2,44.3,27.5,47.6,47.9,43.4,50.4,50.3,25.1,28.3,33.7,38.1,40.8,36.1,22.0,46.1,50.4,40.4,42.6,36.2,31.9,25.4,47.4,33.0,55.8,36.8,44.7,42.4,57.4,23.5,16.7,37.9,39.0,53.4,25.6,48.8,15.6,31.0,44.2,45.9,54.5,33.0,46.3,51.9,43.0,56.8,48.2,53.5,47.9,45.8,51.7,41.8,42.6,53.4,26.7,45.2,46.4,36.8,43.8,27.5,48.3,46.8,31.9,33.3,43.8,46.0,34.5,44.7,40.7,50.4,44.8,39.8,43.3,33.4,40.4,32.3,55.4,59.0,31.4,42.1,40.2,31.3,48.7,43.9,33.8,43.3,40.9,45.5,40.2,34.6,50.1,25.5,38.1,20.0,47.6,35.4,49.5,56.5,47.5,42.1,40.5,52.0,45.3,40.2,37.9,41.5,31.8,43.9,39.9,52.9,19.5,47.5,58.9,36.6,57.4,41.1,36.0,46.3,43.1,30.9,24.0,35.4,57.2,28.1,44.4,56.4,31.6,35.6,30.0,45.5,53.7,30.1,34.6,48.4,54.5,19.0,27.9,42.9,58.2,31.5,41.2,34.0,34.0,47.3,29.7,50.4,27.8,54.1,46.7,48.8,27.3,39.8,37.5,33.5,34.7,45.6,44.2,50.3,45.8,38.8,29.4,42.4,45.1,36.9,36.7,43.7,57.0,41.8,32.7,53.6,50.6,51.2,51.4,34.6,27.2,55.0,33.9,24.8,45.8,31.4,13.9,21.7,44.1,50.6,38.6,34.4,55.3,35.1,48.9,45.7,49.5,37.3,43.2,40.8,28.3,34.9,36.0,48.5,33.3,54.4,47.3,20.2,27.4,28.6,26.0,36.6,53.4,42.8,38.8,34.5,35.9,32.4,34.1,45.7,42.3,37.1,33.2,26.1,29.5,33.4,40.2],\"yaxis\":\"y\",\"type\":\"scattergl\"},{\"hovertemplate\":\"<b>%{hovertext}</b><br><br>Type=L<br>Rotational_speed=%{x}<br>Torque=%{y}<extra></extra>\",\"hovertext\":[\"No Failure\",\"No Failure\",\"No Failure\",\"No Failure\",\"No Failure\",\"No Failure\",\"No Failure\",\"No Failure\",\"No Failure\",\"No Failure\",\"No Failure\",\"No Failure\",\"No Failure\",\"No Failure\",\"No Failure\",\"No Failure\",\"No Failure\",\"No Failure\",\"No Failure\",\"No Failure\",\"No Failure\",\"No Failure\",\"No Failure\",\"Power Failure\",\"No Failure\",\"No Failure\",\"No Failure\",\"No Failure\",\"No Failure\",\"No Failure\",\"No Failure\",\"No Failure\",\"No Failure\",\"No Failure\",\"No Failure\",\"No Failure\",\"Power Failure\",\"No Failure\",\"No Failure\",\"No Failure\",\"No Failure\",\"No Failure\",\"No Failure\",\"Tool Wear Failure\",\"No Failure\",\"No Failure\",\"No Failure\",\"No Failure\",\"No Failure\",\"No Failure\",\"No Failure\",\"No Failure\",\"No Failure\",\"No Failure\",\"No Failure\",\"No Failure\",\"No Failure\",\"No Failure\",\"No Failure\",\"No Failure\",\"No Failure\",\"No Failure\",\"No Failure\",\"No Failure\",\"No Failure\",\"No Failure\",\"No Failure\",\"No Failure\",\"No Failure\",\"No Failure\",\"No Failure\",\"No Failure\",\"No Failure\",\"No Failure\",\"No Failure\",\"No Failure\",\"No Failure\",\"No Failure\",\"No Failure\",\"No Failure\",\"No Failure\",\"No Failure\",\"No Failure\",\"No Failure\",\"No Failure\",\"No Failure\",\"No Failure\",\"No Failure\",\"No Failure\",\"No Failure\",\"No Failure\",\"No Failure\",\"No Failure\",\"No Failure\",\"Overstrain Failure\",\"Overstrain Failure\",\"No Failure\",\"No Failure\",\"Power Failure\",\"No Failure\",\"No Failure\",\"No Failure\",\"No Failure\",\"No Failure\",\"No Failure\",\"No Failure\",\"No Failure\",\"No Failure\",\"No Failure\",\"No Failure\",\"No Failure\",\"No Failure\",\"No Failure\",\"No Failure\",\"No Failure\",\"No Failure\",\"No Failure\",\"No Failure\",\"No Failure\",\"No Failure\",\"No Failure\",\"No Failure\",\"No Failure\",\"No Failure\",\"No Failure\",\"No Failure\",\"No Failure\",\"No Failure\",\"No Failure\",\"No Failure\",\"No Failure\",\"No Failure\",\"No Failure\",\"No Failure\",\"No Failure\",\"No Failure\",\"No Failure\",\"No Failure\",\"No Failure\",\"No Failure\",\"No Failure\",\"No Failure\",\"No Failure\",\"No Failure\",\"No Failure\",\"No Failure\",\"No Failure\",\"No Failure\",\"No Failure\",\"No Failure\",\"Overstrain Failure\",\"No Failure\",\"No Failure\",\"No Failure\",\"Overstrain Failure\",\"Overstrain Failure\",\"No Failure\",\"No Failure\",\"No Failure\",\"No Failure\",\"No Failure\",\"No Failure\",\"No Failure\",\"No Failure\",\"No Failure\",\"No Failure\",\"No Failure\",\"No Failure\",\"No Failure\",\"No Failure\",\"No Failure\",\"No Failure\",\"No Failure\",\"No Failure\",\"No Failure\",\"No Failure\",\"No Failure\",\"No Failure\",\"No Failure\",\"No Failure\",\"No Failure\",\"No Failure\",\"No Failure\",\"No Failure\",\"No Failure\",\"No Failure\",\"No Failure\",\"No Failure\",\"No Failure\",\"No Failure\",\"No Failure\",\"No Failure\",\"No Failure\",\"No Failure\",\"No Failure\",\"No Failure\",\"No Failure\",\"No Failure\",\"No Failure\",\"No Failure\",\"No Failure\",\"No Failure\",\"No Failure\",\"No Failure\",\"Overstrain Failure\",\"No Failure\",\"No Failure\",\"No Failure\",\"No Failure\",\"No Failure\",\"No Failure\",\"No Failure\",\"No Failure\",\"No Failure\",\"No Failure\",\"No Failure\",\"No Failure\",\"No Failure\",\"No Failure\",\"No Failure\",\"No Failure\",\"No Failure\",\"No Failure\",\"No Failure\",\"No Failure\",\"No Failure\",\"No Failure\",\"No Failure\",\"No Failure\",\"No Failure\",\"Power Failure\",\"No Failure\",\"No Failure\",\"No Failure\",\"No Failure\",\"No Failure\",\"No Failure\",\"No Failure\",\"No Failure\",\"No Failure\",\"No Failure\",\"No Failure\",\"No Failure\",\"No Failure\",\"No Failure\",\"No Failure\",\"No Failure\",\"No Failure\",\"No Failure\",\"No Failure\",\"No Failure\",\"No Failure\",\"No Failure\",\"No Failure\",\"No Failure\",\"No Failure\",\"No Failure\",\"No Failure\",\"No Failure\",\"No Failure\",\"No Failure\",\"No Failure\",\"No Failure\",\"No Failure\",\"No Failure\",\"No Failure\",\"No Failure\",\"No Failure\",\"No Failure\",\"No Failure\",\"No Failure\",\"Power Failure\",\"No Failure\",\"No Failure\",\"No Failure\",\"No Failure\",\"No Failure\",\"No Failure\",\"No Failure\",\"No Failure\",\"No Failure\",\"No Failure\",\"No Failure\",\"No Failure\",\"No Failure\",\"Power Failure\",\"No Failure\",\"No Failure\",\"No Failure\",\"No Failure\",\"No Failure\",\"No Failure\",\"No Failure\",\"No Failure\",\"No Failure\",\"No Failure\",\"No Failure\",\"No Failure\",\"No Failure\",\"No Failure\",\"No Failure\",\"No Failure\",\"No Failure\",\"No Failure\",\"No Failure\",\"No Failure\",\"No Failure\",\"No Failure\",\"No Failure\",\"No Failure\",\"No Failure\",\"No Failure\",\"No Failure\",\"No Failure\",\"No Failure\",\"No Failure\",\"No Failure\",\"No Failure\",\"No Failure\",\"No Failure\",\"No Failure\",\"No Failure\",\"No Failure\",\"No Failure\",\"No Failure\",\"No Failure\",\"No Failure\",\"No Failure\",\"No Failure\",\"No Failure\",\"No Failure\",\"No Failure\",\"No Failure\",\"No Failure\",\"No Failure\",\"No Failure\",\"No Failure\",\"No Failure\",\"No Failure\",\"No Failure\",\"No Failure\",\"No Failure\",\"No Failure\",\"No Failure\",\"No Failure\",\"No Failure\",\"No Failure\",\"No Failure\",\"No Failure\",\"No Failure\",\"No Failure\",\"No Failure\",\"No Failure\",\"No Failure\",\"No Failure\",\"Overstrain Failure\",\"No Failure\",\"No Failure\",\"No Failure\",\"No Failure\",\"No Failure\",\"No Failure\",\"No Failure\",\"No Failure\",\"Power Failure\",\"No Failure\",\"No Failure\",\"No Failure\",\"No Failure\",\"No Failure\",\"No Failure\",\"No Failure\",\"No Failure\",\"No Failure\",\"No Failure\",\"No Failure\",\"No Failure\",\"No Failure\",\"No Failure\",\"No Failure\",\"No Failure\",\"No Failure\",\"No Failure\",\"No Failure\",\"No Failure\",\"No Failure\",\"No Failure\",\"No Failure\",\"No Failure\",\"No Failure\",\"No Failure\",\"No Failure\",\"No Failure\",\"No Failure\",\"No Failure\",\"No Failure\",\"No Failure\",\"No Failure\",\"No Failure\",\"No Failure\",\"No Failure\",\"No Failure\",\"No Failure\",\"No Failure\",\"No Failure\",\"No Failure\",\"No Failure\",\"No Failure\",\"No Failure\",\"No Failure\",\"No Failure\",\"No Failure\",\"No Failure\",\"No Failure\",\"No Failure\",\"No Failure\",\"No Failure\",\"No Failure\",\"No Failure\",\"No Failure\",\"No Failure\",\"No Failure\",\"No Failure\",\"No Failure\",\"No Failure\",\"No Failure\",\"No Failure\",\"No Failure\",\"No Failure\",\"No Failure\",\"No Failure\",\"No Failure\",\"No Failure\",\"No Failure\",\"No Failure\",\"No Failure\",\"No Failure\",\"No Failure\",\"No Failure\",\"No Failure\",\"No Failure\",\"No Failure\",\"No Failure\",\"No Failure\",\"No Failure\",\"No Failure\",\"No Failure\",\"No Failure\",\"No Failure\",\"No Failure\",\"Overstrain Failure\",\"No Failure\",\"No Failure\",\"No Failure\",\"No Failure\",\"No Failure\",\"No Failure\",\"No Failure\",\"No Failure\",\"No Failure\",\"No Failure\",\"No Failure\",\"No Failure\",\"No Failure\",\"No Failure\",\"No Failure\",\"No Failure\",\"No Failure\",\"No Failure\",\"No Failure\",\"No Failure\",\"No Failure\",\"No Failure\",\"No Failure\",\"No Failure\",\"No Failure\",\"No Failure\",\"No Failure\",\"No Failure\",\"No Failure\",\"No Failure\",\"No Failure\",\"No Failure\",\"No Failure\",\"No Failure\",\"No Failure\",\"No Failure\",\"No Failure\",\"No Failure\",\"No Failure\",\"No Failure\",\"No Failure\",\"No Failure\",\"No Failure\",\"No Failure\",\"No Failure\",\"No Failure\",\"No Failure\",\"No Failure\",\"No Failure\",\"No Failure\",\"No Failure\",\"No Failure\",\"No Failure\",\"No Failure\",\"No Failure\",\"No Failure\",\"No Failure\",\"No Failure\",\"No Failure\",\"No Failure\",\"No Failure\",\"No Failure\",\"No Failure\",\"No Failure\",\"No Failure\",\"No Failure\",\"Power Failure\",\"No Failure\",\"No Failure\",\"No Failure\",\"No Failure\",\"No Failure\",\"No Failure\",\"No Failure\",\"No Failure\",\"No Failure\",\"No Failure\",\"No Failure\",\"No Failure\",\"No Failure\",\"No Failure\",\"No Failure\",\"No Failure\",\"No Failure\",\"No Failure\",\"No Failure\",\"No Failure\",\"No Failure\",\"No Failure\",\"No Failure\",\"No Failure\",\"No Failure\",\"No Failure\",\"No Failure\",\"No Failure\",\"No Failure\",\"No Failure\",\"Power Failure\",\"No Failure\",\"No Failure\",\"No Failure\",\"No Failure\",\"No Failure\",\"No Failure\",\"No Failure\",\"No Failure\",\"Overstrain Failure\",\"No Failure\",\"No Failure\",\"No Failure\",\"No Failure\",\"No Failure\",\"No Failure\",\"No Failure\",\"No Failure\",\"No Failure\",\"No Failure\",\"No Failure\",\"No Failure\",\"No Failure\",\"No Failure\",\"No Failure\",\"No Failure\",\"No Failure\",\"No Failure\",\"No Failure\",\"No Failure\",\"No Failure\",\"No Failure\",\"No Failure\",\"No Failure\",\"No Failure\",\"No Failure\",\"No Failure\",\"No Failure\",\"No Failure\",\"No Failure\",\"No Failure\",\"No Failure\",\"No Failure\",\"No Failure\",\"No Failure\",\"No Failure\",\"No Failure\",\"No Failure\",\"No Failure\",\"No Failure\",\"No Failure\",\"No Failure\",\"No Failure\",\"No Failure\",\"No Failure\",\"No Failure\",\"No Failure\",\"No Failure\",\"No Failure\",\"No Failure\",\"No Failure\",\"No Failure\",\"No Failure\",\"No Failure\",\"No Failure\",\"No Failure\",\"No Failure\",\"No Failure\",\"No Failure\",\"No Failure\",\"No Failure\",\"No Failure\",\"No Failure\",\"No Failure\",\"No Failure\",\"No Failure\",\"No Failure\",\"No Failure\",\"No Failure\",\"No Failure\",\"No Failure\",\"No Failure\",\"No Failure\",\"No Failure\",\"No Failure\",\"No Failure\",\"No Failure\",\"No Failure\",\"No Failure\",\"No Failure\",\"No Failure\",\"No Failure\",\"No Failure\",\"No Failure\",\"No Failure\",\"No Failure\",\"No Failure\",\"No Failure\",\"No Failure\",\"No Failure\",\"No Failure\",\"No Failure\",\"No Failure\",\"No Failure\",\"No Failure\",\"No Failure\",\"No Failure\",\"Overstrain Failure\",\"No Failure\",\"No Failure\",\"No Failure\",\"No Failure\",\"Power Failure\",\"No Failure\",\"No Failure\",\"No Failure\",\"No Failure\",\"No Failure\",\"No Failure\",\"No Failure\",\"No Failure\",\"No Failure\",\"No Failure\",\"No Failure\",\"No Failure\",\"No Failure\",\"No Failure\",\"No Failure\",\"No Failure\",\"No Failure\",\"No Failure\",\"No Failure\",\"No Failure\",\"No Failure\",\"No Failure\",\"No Failure\",\"No Failure\",\"No Failure\",\"Power Failure\",\"No Failure\",\"No Failure\",\"No Failure\",\"No Failure\",\"No Failure\",\"No Failure\",\"No Failure\",\"No Failure\",\"No Failure\",\"No Failure\",\"No Failure\",\"Overstrain Failure\",\"Overstrain Failure\",\"No Failure\",\"No Failure\",\"No Failure\",\"Overstrain Failure\",\"No Failure\",\"No Failure\",\"No Failure\",\"No Failure\",\"No Failure\",\"No Failure\",\"No Failure\",\"No Failure\",\"No Failure\",\"No Failure\",\"No Failure\",\"No Failure\",\"No Failure\",\"No Failure\",\"No Failure\",\"No Failure\",\"No Failure\",\"No Failure\",\"No Failure\",\"No Failure\",\"No Failure\",\"No Failure\",\"No Failure\",\"No Failure\",\"No Failure\",\"No Failure\",\"No Failure\",\"No Failure\",\"No Failure\",\"No Failure\",\"No Failure\",\"No Failure\",\"No Failure\",\"No Failure\",\"No Failure\",\"No Failure\",\"No Failure\",\"No Failure\",\"No Failure\",\"No Failure\",\"No Failure\",\"No Failure\",\"No Failure\",\"No Failure\",\"No Failure\",\"No Failure\",\"No Failure\",\"No Failure\",\"No Failure\",\"No Failure\",\"No Failure\",\"No Failure\",\"Power Failure\",\"No Failure\",\"No Failure\",\"No Failure\",\"No Failure\",\"No Failure\",\"No Failure\",\"No Failure\",\"No Failure\",\"No Failure\",\"Random Failures\",\"No Failure\",\"No Failure\",\"No Failure\",\"No Failure\",\"No Failure\",\"No Failure\",\"No Failure\",\"No Failure\",\"No Failure\",\"No Failure\",\"No Failure\",\"No Failure\",\"No Failure\",\"No Failure\",\"No Failure\",\"No Failure\",\"No Failure\",\"No Failure\",\"No Failure\",\"No Failure\",\"No Failure\",\"Overstrain Failure\",\"Overstrain Failure\",\"No Failure\",\"No Failure\",\"No Failure\",\"No Failure\",\"No Failure\",\"No Failure\",\"No Failure\",\"No Failure\",\"No Failure\",\"No Failure\",\"No Failure\",\"No Failure\",\"No Failure\",\"No Failure\",\"No Failure\",\"No Failure\",\"No Failure\",\"No Failure\",\"No Failure\",\"No Failure\",\"No Failure\",\"No Failure\",\"No Failure\",\"No Failure\",\"No Failure\",\"No Failure\",\"No Failure\",\"No Failure\",\"No Failure\",\"No Failure\",\"No Failure\",\"Power Failure\",\"No Failure\",\"No Failure\",\"No Failure\",\"No Failure\",\"No Failure\",\"No Failure\",\"No Failure\",\"No Failure\",\"No Failure\",\"No Failure\",\"No Failure\",\"No Failure\",\"No Failure\",\"No Failure\",\"No Failure\",\"No Failure\",\"No Failure\",\"Overstrain Failure\",\"No Failure\",\"No Failure\",\"No Failure\",\"No Failure\",\"No Failure\",\"No Failure\",\"No Failure\",\"No Failure\",\"No Failure\",\"No Failure\",\"No Failure\",\"No Failure\",\"No Failure\",\"No Failure\",\"No Failure\",\"No Failure\",\"No Failure\",\"No Failure\",\"No Failure\",\"No Failure\",\"No Failure\",\"No Failure\",\"No Failure\",\"No Failure\",\"No Failure\",\"No Failure\",\"No Failure\",\"No Failure\",\"No Failure\",\"No Failure\",\"No Failure\",\"No Failure\",\"No Failure\",\"No Failure\",\"No Failure\",\"No Failure\",\"No Failure\",\"No Failure\",\"No Failure\",\"No Failure\",\"No Failure\",\"No Failure\",\"No Failure\",\"No Failure\",\"Power Failure\",\"No Failure\",\"No Failure\",\"No Failure\",\"No Failure\",\"No Failure\",\"No Failure\",\"No Failure\",\"Tool Wear Failure\",\"No Failure\",\"No Failure\",\"No Failure\",\"No Failure\",\"No Failure\",\"No Failure\",\"No Failure\",\"No Failure\",\"No Failure\",\"No Failure\",\"No Failure\",\"No Failure\",\"No Failure\",\"No Failure\",\"No Failure\",\"No Failure\",\"No Failure\",\"No Failure\",\"No Failure\",\"No Failure\",\"No Failure\",\"No Failure\",\"No Failure\",\"No Failure\",\"No Failure\",\"No Failure\",\"No Failure\",\"No Failure\",\"No Failure\",\"No Failure\",\"No Failure\",\"No Failure\",\"No Failure\",\"No Failure\",\"No Failure\",\"No Failure\",\"No Failure\",\"No Failure\",\"No Failure\",\"No Failure\",\"No Failure\",\"No Failure\",\"No Failure\",\"No Failure\",\"Overstrain Failure\",\"No Failure\",\"No Failure\",\"No Failure\",\"No Failure\",\"No Failure\",\"No Failure\",\"Overstrain Failure\",\"No Failure\",\"No Failure\",\"No Failure\",\"No Failure\",\"No Failure\",\"No Failure\",\"No Failure\",\"No Failure\",\"No Failure\",\"No Failure\",\"No Failure\",\"No Failure\",\"No Failure\",\"No Failure\",\"No Failure\",\"No Failure\",\"No Failure\",\"No Failure\",\"No Failure\",\"No Failure\",\"No Failure\",\"No Failure\",\"No Failure\",\"No Failure\",\"No Failure\",\"No Failure\",\"No Failure\",\"No Failure\",\"No Failure\",\"No Failure\",\"No Failure\",\"No Failure\",\"No Failure\",\"No Failure\",\"No Failure\",\"No Failure\",\"No Failure\",\"No Failure\",\"No Failure\",\"No Failure\",\"No Failure\",\"No Failure\",\"No Failure\",\"No Failure\",\"No Failure\",\"No Failure\",\"No Failure\",\"No Failure\",\"No Failure\",\"No Failure\",\"No Failure\",\"No Failure\",\"No Failure\",\"No Failure\",\"No Failure\",\"No Failure\",\"No Failure\",\"No Failure\",\"No Failure\",\"No Failure\",\"No Failure\",\"No Failure\",\"No Failure\",\"No Failure\",\"No Failure\",\"No Failure\",\"No Failure\",\"No Failure\",\"No Failure\",\"No Failure\",\"No Failure\",\"No Failure\",\"No Failure\",\"No Failure\",\"No Failure\",\"No Failure\",\"No Failure\",\"No Failure\",\"No Failure\",\"No Failure\",\"No Failure\",\"No Failure\",\"No Failure\",\"No Failure\",\"No Failure\",\"No Failure\",\"No Failure\",\"No Failure\",\"No Failure\",\"No Failure\",\"No Failure\",\"No Failure\",\"No Failure\",\"No Failure\",\"No Failure\",\"No Failure\",\"No Failure\",\"No Failure\",\"No Failure\",\"No Failure\",\"No Failure\",\"No Failure\",\"Tool Wear Failure\",\"No Failure\",\"No Failure\",\"No Failure\",\"No Failure\",\"No Failure\",\"No Failure\",\"No Failure\",\"No Failure\",\"No Failure\",\"No Failure\",\"No Failure\",\"Power Failure\",\"No Failure\",\"No Failure\",\"No Failure\",\"No Failure\",\"Power Failure\",\"No Failure\",\"No Failure\",\"No Failure\",\"No Failure\",\"No Failure\",\"No Failure\",\"Power Failure\",\"No Failure\",\"No Failure\",\"No Failure\",\"No Failure\",\"No Failure\",\"No Failure\",\"No Failure\",\"No Failure\",\"No Failure\",\"No Failure\",\"No Failure\",\"No Failure\",\"No Failure\",\"No Failure\",\"No Failure\",\"Overstrain Failure\",\"No Failure\",\"No Failure\",\"No Failure\",\"No Failure\",\"No Failure\",\"No Failure\",\"No Failure\",\"No Failure\",\"No Failure\",\"No Failure\",\"No Failure\",\"No Failure\",\"No Failure\",\"No Failure\",\"No Failure\",\"No Failure\",\"No Failure\",\"No Failure\",\"No Failure\",\"No Failure\",\"No Failure\",\"No Failure\",\"No Failure\",\"No Failure\",\"No Failure\",\"No Failure\",\"No Failure\",\"No Failure\",\"No Failure\",\"No Failure\",\"No Failure\",\"No Failure\",\"No Failure\",\"No Failure\",\"No Failure\",\"No Failure\",\"No Failure\",\"No Failure\",\"No Failure\",\"No Failure\",\"No Failure\",\"No Failure\",\"No Failure\",\"No Failure\",\"No Failure\",\"No Failure\",\"No Failure\",\"No Failure\",\"No Failure\",\"No Failure\",\"No Failure\",\"No Failure\",\"No Failure\",\"No Failure\",\"No Failure\",\"No Failure\",\"No Failure\",\"No Failure\",\"No Failure\",\"No Failure\",\"No Failure\",\"No Failure\",\"No Failure\",\"No Failure\",\"No Failure\",\"No Failure\",\"No Failure\",\"No Failure\",\"No Failure\",\"No Failure\",\"No Failure\",\"No Failure\",\"No Failure\",\"No Failure\",\"No Failure\",\"No Failure\",\"No Failure\",\"No Failure\",\"No Failure\",\"No Failure\",\"No Failure\",\"No Failure\",\"No Failure\",\"No Failure\",\"No Failure\",\"No Failure\",\"No Failure\",\"No Failure\",\"No Failure\",\"No Failure\",\"No Failure\",\"No Failure\",\"No Failure\",\"No Failure\",\"No Failure\",\"No Failure\",\"No Failure\",\"No Failure\",\"No Failure\",\"No Failure\",\"No Failure\",\"No Failure\",\"No Failure\",\"No Failure\",\"No Failure\",\"No Failure\",\"No Failure\",\"No Failure\",\"No Failure\",\"Power Failure\",\"No Failure\",\"No Failure\",\"No Failure\",\"No Failure\",\"No Failure\",\"No Failure\",\"No Failure\",\"No Failure\",\"No Failure\",\"No Failure\",\"No Failure\",\"No Failure\",\"No Failure\",\"No Failure\",\"No Failure\",\"No Failure\",\"No Failure\",\"No Failure\",\"No Failure\",\"No Failure\",\"No Failure\",\"No Failure\",\"No Failure\",\"No Failure\",\"No Failure\",\"No Failure\",\"No Failure\",\"No Failure\",\"No Failure\",\"No Failure\",\"No Failure\",\"No Failure\",\"No Failure\",\"Random Failures\",\"No Failure\",\"No Failure\",\"Overstrain Failure\",\"No Failure\",\"No Failure\",\"No Failure\",\"No Failure\",\"No Failure\",\"No Failure\",\"No Failure\",\"No Failure\",\"No Failure\",\"No Failure\",\"No Failure\",\"No Failure\",\"No Failure\",\"No Failure\",\"No Failure\",\"No Failure\",\"No Failure\",\"No Failure\",\"No Failure\",\"No Failure\",\"No Failure\",\"No Failure\",\"No Failure\",\"No Failure\",\"No Failure\",\"No Failure\",\"Power Failure\",\"No Failure\",\"No Failure\",\"No Failure\",\"No Failure\",\"No Failure\",\"No Failure\",\"No Failure\",\"No Failure\",\"No Failure\",\"No Failure\",\"No Failure\",\"No Failure\",\"No Failure\",\"No Failure\",\"No Failure\",\"No Failure\",\"No Failure\",\"No Failure\",\"No Failure\",\"No Failure\",\"No Failure\",\"No Failure\",\"No Failure\",\"No Failure\",\"No Failure\",\"No Failure\",\"No Failure\",\"No Failure\",\"No Failure\",\"No Failure\",\"No Failure\",\"No Failure\",\"No Failure\",\"No Failure\",\"No Failure\",\"No Failure\",\"No Failure\",\"No Failure\",\"No Failure\",\"No Failure\",\"No Failure\",\"No Failure\",\"No Failure\",\"No Failure\",\"No Failure\",\"No Failure\",\"No Failure\",\"No Failure\",\"No Failure\",\"No Failure\",\"No Failure\",\"No Failure\",\"No Failure\",\"No Failure\",\"No Failure\",\"No Failure\",\"No Failure\",\"No Failure\",\"No Failure\",\"No Failure\",\"No Failure\",\"Power Failure\",\"No Failure\",\"No Failure\",\"No Failure\",\"No Failure\",\"No Failure\",\"No Failure\",\"No Failure\",\"No Failure\",\"No Failure\",\"No Failure\",\"No Failure\",\"No Failure\",\"No Failure\",\"No Failure\",\"No Failure\",\"No Failure\",\"No Failure\",\"No Failure\",\"No Failure\",\"No Failure\",\"No Failure\",\"No Failure\",\"No Failure\",\"No Failure\",\"No Failure\",\"No Failure\",\"No Failure\",\"No Failure\",\"No Failure\",\"No Failure\",\"No Failure\",\"No Failure\",\"No Failure\",\"No Failure\",\"No Failure\",\"No Failure\",\"No Failure\",\"No Failure\",\"No Failure\",\"No Failure\",\"No Failure\",\"No Failure\",\"No Failure\",\"No Failure\",\"Power Failure\",\"No Failure\",\"No Failure\",\"No Failure\",\"No Failure\",\"No Failure\",\"No Failure\",\"No Failure\",\"No Failure\",\"No Failure\",\"No Failure\",\"No Failure\",\"No Failure\",\"No Failure\",\"No Failure\",\"No Failure\",\"No Failure\",\"No Failure\",\"Overstrain Failure\",\"Overstrain Failure\",\"No Failure\",\"No Failure\",\"No Failure\",\"No Failure\",\"No Failure\",\"No Failure\",\"No Failure\",\"No Failure\",\"No Failure\",\"No Failure\",\"No Failure\",\"No Failure\",\"No Failure\",\"No Failure\",\"No Failure\",\"No Failure\",\"No Failure\",\"No Failure\",\"No Failure\",\"No Failure\",\"No Failure\",\"No Failure\",\"No Failure\",\"No Failure\",\"No Failure\",\"No Failure\",\"No Failure\",\"No Failure\",\"No Failure\",\"No Failure\",\"No Failure\",\"No Failure\",\"No Failure\",\"No Failure\",\"No Failure\",\"No Failure\",\"No Failure\",\"No Failure\",\"No Failure\",\"No Failure\",\"No Failure\",\"No Failure\",\"No Failure\",\"No Failure\",\"No Failure\",\"No Failure\",\"No Failure\",\"No Failure\",\"No Failure\",\"No Failure\",\"No Failure\",\"No Failure\",\"No Failure\",\"No Failure\",\"No Failure\",\"No Failure\",\"No Failure\",\"No Failure\",\"No Failure\",\"No Failure\",\"No Failure\",\"No Failure\",\"No Failure\",\"No Failure\",\"No Failure\",\"No Failure\",\"No Failure\",\"No Failure\",\"No Failure\",\"Power Failure\",\"No Failure\",\"No Failure\",\"No Failure\",\"No Failure\",\"No Failure\",\"No Failure\",\"No Failure\",\"No Failure\",\"No Failure\",\"No Failure\",\"No Failure\",\"No Failure\",\"No Failure\",\"No Failure\",\"No Failure\",\"No Failure\",\"No Failure\",\"No Failure\",\"No Failure\",\"No Failure\",\"No Failure\",\"No Failure\",\"No Failure\",\"No Failure\",\"No Failure\",\"No Failure\",\"No Failure\",\"No Failure\",\"No Failure\",\"No Failure\",\"No Failure\",\"No Failure\",\"Overstrain Failure\",\"No Failure\",\"No Failure\",\"Overstrain Failure\",\"No Failure\",\"No Failure\",\"No Failure\",\"No Failure\",\"No Failure\",\"No Failure\",\"No Failure\",\"No Failure\",\"No Failure\",\"No Failure\",\"No Failure\",\"No Failure\",\"No Failure\",\"No Failure\",\"No Failure\",\"No Failure\",\"No Failure\",\"No Failure\",\"No Failure\",\"No Failure\",\"No Failure\",\"No Failure\",\"No Failure\",\"No Failure\",\"No Failure\",\"No Failure\",\"No Failure\",\"No Failure\",\"No Failure\",\"No Failure\",\"No Failure\",\"No Failure\",\"No Failure\",\"No Failure\",\"No Failure\",\"No Failure\",\"No Failure\",\"No Failure\",\"Random Failures\",\"No Failure\",\"No Failure\",\"No Failure\",\"No Failure\",\"No Failure\",\"No Failure\",\"No Failure\",\"No Failure\",\"No Failure\",\"No Failure\",\"No Failure\",\"No Failure\",\"No Failure\",\"No Failure\",\"No Failure\",\"No Failure\",\"Overstrain Failure\",\"No Failure\",\"No Failure\",\"No Failure\",\"No Failure\",\"No Failure\",\"No Failure\",\"No Failure\",\"No Failure\",\"No Failure\",\"No Failure\",\"No Failure\",\"No Failure\",\"No Failure\",\"Power Failure\",\"No Failure\",\"No Failure\",\"No Failure\",\"No Failure\",\"No Failure\",\"No Failure\",\"No Failure\",\"No Failure\",\"No Failure\",\"No Failure\",\"No Failure\",\"No Failure\",\"No Failure\",\"No Failure\",\"No Failure\",\"No Failure\",\"No Failure\",\"No Failure\",\"No Failure\",\"No Failure\",\"No Failure\",\"No Failure\",\"No Failure\",\"No Failure\",\"No Failure\",\"No Failure\",\"No Failure\",\"No Failure\",\"No Failure\",\"No Failure\",\"No Failure\",\"No Failure\",\"No Failure\",\"No Failure\",\"No Failure\",\"No Failure\",\"No Failure\",\"No Failure\",\"No Failure\",\"No Failure\",\"No Failure\",\"No Failure\",\"No Failure\",\"No Failure\",\"No Failure\",\"No Failure\",\"No Failure\",\"No Failure\",\"No Failure\",\"No Failure\",\"No Failure\",\"No Failure\",\"No Failure\",\"No Failure\",\"No Failure\",\"No Failure\",\"No Failure\",\"No Failure\",\"No Failure\",\"No Failure\",\"No Failure\",\"No Failure\",\"No Failure\",\"No Failure\",\"No Failure\",\"No Failure\",\"No Failure\",\"No Failure\",\"No Failure\",\"No Failure\",\"No Failure\",\"No Failure\",\"No Failure\",\"No Failure\",\"No Failure\",\"No Failure\",\"No Failure\",\"No Failure\",\"No Failure\",\"No Failure\",\"No Failure\",\"No Failure\",\"No Failure\",\"No Failure\",\"No Failure\",\"No Failure\",\"No Failure\",\"No Failure\",\"No Failure\",\"No Failure\",\"No Failure\",\"No Failure\",\"No Failure\",\"No Failure\",\"No Failure\",\"No Failure\",\"No Failure\",\"No Failure\",\"No Failure\",\"No Failure\",\"No Failure\",\"No Failure\",\"Overstrain Failure\",\"No Failure\",\"No Failure\",\"No Failure\",\"No Failure\",\"No Failure\",\"No Failure\",\"No Failure\",\"No Failure\",\"No Failure\",\"No Failure\",\"No Failure\",\"No Failure\",\"No Failure\",\"No Failure\",\"No Failure\",\"No Failure\",\"No Failure\",\"No Failure\",\"No Failure\",\"No Failure\",\"No Failure\",\"No Failure\",\"No Failure\",\"No Failure\",\"No Failure\",\"No Failure\",\"No Failure\",\"No Failure\",\"No Failure\",\"No Failure\",\"No Failure\",\"No Failure\",\"No Failure\",\"No Failure\",\"No Failure\",\"No Failure\",\"No Failure\",\"No Failure\",\"No Failure\",\"No Failure\",\"No Failure\",\"No Failure\",\"No Failure\",\"No Failure\",\"No Failure\",\"No Failure\",\"No Failure\",\"No Failure\",\"No Failure\",\"No Failure\",\"No Failure\",\"No Failure\",\"No Failure\",\"No Failure\",\"No Failure\",\"No Failure\",\"No Failure\",\"No Failure\",\"No Failure\",\"No Failure\",\"No Failure\",\"Overstrain Failure\",\"No Failure\",\"No Failure\",\"No Failure\",\"No Failure\",\"No Failure\",\"No Failure\",\"No Failure\",\"No Failure\",\"No Failure\",\"No Failure\",\"No Failure\",\"No Failure\",\"No Failure\",\"No Failure\",\"No Failure\",\"No Failure\",\"No Failure\",\"No Failure\",\"No Failure\",\"No Failure\",\"No Failure\",\"No Failure\",\"No Failure\",\"No Failure\",\"No Failure\",\"No Failure\",\"No Failure\",\"No Failure\",\"No Failure\",\"No Failure\",\"No Failure\",\"No Failure\",\"No Failure\",\"No Failure\",\"No Failure\",\"No Failure\",\"No Failure\",\"No Failure\",\"No Failure\",\"No Failure\",\"No Failure\",\"No Failure\",\"No Failure\",\"No Failure\",\"No Failure\",\"No Failure\",\"No Failure\",\"No Failure\",\"No Failure\",\"No Failure\",\"No Failure\",\"No Failure\",\"No Failure\",\"No Failure\",\"No Failure\",\"No Failure\",\"No Failure\",\"No Failure\",\"No Failure\",\"No Failure\",\"No Failure\",\"No Failure\",\"No Failure\",\"No Failure\",\"No Failure\",\"No Failure\",\"No Failure\",\"No Failure\",\"No Failure\",\"No Failure\",\"No Failure\",\"No Failure\",\"No Failure\",\"No Failure\",\"No Failure\",\"No Failure\",\"No Failure\",\"No Failure\",\"No Failure\",\"No Failure\",\"No Failure\",\"No Failure\",\"No Failure\",\"Overstrain Failure\",\"No Failure\",\"No Failure\",\"No Failure\",\"No Failure\",\"No Failure\",\"No Failure\",\"No Failure\",\"No Failure\",\"No Failure\",\"No Failure\",\"No Failure\",\"No Failure\",\"No Failure\",\"No Failure\",\"No Failure\",\"No Failure\",\"No Failure\",\"No Failure\",\"No Failure\",\"No Failure\",\"No Failure\",\"No Failure\",\"No Failure\",\"No Failure\",\"No Failure\",\"No Failure\",\"No Failure\",\"No Failure\",\"No Failure\",\"No Failure\",\"No Failure\",\"No Failure\",\"No Failure\",\"No Failure\",\"No Failure\",\"No Failure\",\"No Failure\",\"No Failure\",\"No Failure\",\"No Failure\",\"No Failure\",\"No Failure\",\"No Failure\",\"No Failure\",\"No Failure\",\"No Failure\",\"No Failure\",\"No Failure\",\"No Failure\",\"No Failure\",\"No Failure\",\"No Failure\",\"No Failure\",\"No Failure\",\"No Failure\",\"No Failure\",\"No Failure\",\"No Failure\",\"No Failure\",\"No Failure\",\"No Failure\",\"No Failure\",\"No Failure\",\"No Failure\",\"No Failure\",\"No Failure\",\"No Failure\",\"No Failure\",\"No Failure\",\"No Failure\",\"No Failure\",\"No Failure\",\"No Failure\",\"No Failure\",\"No Failure\",\"No Failure\",\"No Failure\",\"No Failure\",\"No Failure\",\"No Failure\",\"No Failure\",\"No Failure\",\"No Failure\",\"No Failure\",\"No Failure\",\"No Failure\",\"No Failure\",\"No Failure\",\"No Failure\",\"No Failure\",\"No Failure\",\"No Failure\",\"No Failure\",\"No Failure\",\"No Failure\",\"No Failure\",\"No Failure\",\"No Failure\",\"No Failure\",\"No Failure\",\"No Failure\",\"No Failure\",\"No Failure\",\"No Failure\",\"No Failure\",\"No Failure\",\"No Failure\",\"No Failure\",\"No Failure\",\"No Failure\",\"No Failure\",\"No Failure\",\"No Failure\",\"No Failure\",\"No Failure\",\"No Failure\",\"No Failure\",\"No Failure\",\"No Failure\",\"No Failure\",\"No Failure\",\"No Failure\",\"No Failure\",\"No Failure\",\"No Failure\",\"No Failure\",\"No Failure\",\"No Failure\",\"No Failure\",\"No Failure\",\"No Failure\",\"No Failure\",\"No Failure\",\"No Failure\",\"No Failure\",\"No Failure\",\"No Failure\",\"No Failure\",\"No Failure\",\"No Failure\",\"Overstrain Failure\",\"No Failure\",\"No Failure\",\"No Failure\",\"No Failure\",\"No Failure\",\"No Failure\",\"No Failure\",\"No Failure\",\"No Failure\",\"No Failure\",\"No Failure\",\"No Failure\",\"No Failure\",\"No Failure\",\"No Failure\",\"No Failure\",\"No Failure\",\"No Failure\",\"No Failure\",\"No Failure\",\"No Failure\",\"No Failure\",\"No Failure\",\"No Failure\",\"No Failure\",\"No Failure\",\"No Failure\",\"No Failure\",\"No Failure\",\"No Failure\",\"No Failure\",\"No Failure\",\"No Failure\",\"No Failure\",\"No Failure\",\"No Failure\",\"No Failure\",\"No Failure\",\"No Failure\",\"No Failure\",\"No Failure\",\"No Failure\",\"No Failure\",\"No Failure\",\"No Failure\",\"No Failure\",\"No Failure\",\"No Failure\",\"No Failure\",\"No Failure\",\"No Failure\",\"No Failure\",\"No Failure\",\"No Failure\",\"No Failure\",\"Overstrain Failure\",\"No Failure\",\"No Failure\",\"No Failure\",\"No Failure\",\"No Failure\",\"Overstrain Failure\",\"No Failure\",\"No Failure\",\"No Failure\",\"No Failure\",\"No Failure\",\"No Failure\",\"No Failure\",\"No Failure\",\"Power Failure\",\"No Failure\",\"No Failure\",\"No Failure\",\"No Failure\",\"No Failure\",\"No Failure\",\"No Failure\",\"No Failure\",\"No Failure\",\"No Failure\",\"No Failure\",\"No Failure\",\"No Failure\",\"No Failure\",\"No Failure\",\"No Failure\",\"No Failure\",\"No Failure\",\"No Failure\",\"No Failure\",\"No Failure\",\"No Failure\",\"No Failure\",\"No Failure\",\"No Failure\",\"No Failure\",\"No Failure\",\"No Failure\",\"No Failure\",\"No Failure\",\"No Failure\",\"No Failure\",\"No Failure\",\"No Failure\",\"No Failure\",\"No Failure\",\"No Failure\",\"No Failure\",\"No Failure\",\"No Failure\",\"No Failure\",\"No Failure\",\"No Failure\",\"No Failure\",\"No Failure\",\"No Failure\",\"No Failure\",\"No Failure\",\"No Failure\",\"No Failure\",\"No Failure\",\"No Failure\",\"No Failure\",\"No Failure\",\"No Failure\",\"No Failure\",\"No Failure\",\"No Failure\",\"No Failure\",\"No Failure\",\"No Failure\",\"No Failure\",\"No Failure\",\"No Failure\",\"No Failure\",\"No Failure\",\"No Failure\",\"No Failure\",\"No Failure\",\"No Failure\",\"No Failure\",\"No Failure\",\"No Failure\",\"No Failure\",\"No Failure\",\"No Failure\",\"No Failure\",\"No Failure\",\"No Failure\",\"No Failure\",\"No Failure\",\"No Failure\",\"No Failure\",\"No Failure\",\"No Failure\",\"No Failure\",\"No Failure\",\"No Failure\",\"No Failure\",\"No Failure\",\"No Failure\",\"No Failure\",\"No Failure\",\"No Failure\",\"No Failure\",\"No Failure\",\"No Failure\",\"No Failure\",\"No Failure\",\"Overstrain Failure\",\"Tool Wear Failure\",\"No Failure\",\"No Failure\",\"No Failure\",\"No Failure\",\"No Failure\",\"No Failure\",\"No Failure\",\"No Failure\",\"No Failure\",\"No Failure\",\"No Failure\",\"No Failure\",\"No Failure\",\"No Failure\",\"No Failure\",\"No Failure\",\"No Failure\",\"No Failure\",\"No Failure\",\"No Failure\",\"No Failure\",\"No Failure\",\"No Failure\",\"No Failure\",\"No Failure\",\"No Failure\",\"No Failure\",\"Power Failure\",\"No Failure\",\"No Failure\",\"No Failure\",\"No Failure\",\"No Failure\",\"No Failure\",\"No Failure\",\"No Failure\",\"No Failure\",\"No Failure\",\"No Failure\",\"No Failure\",\"No Failure\",\"No Failure\",\"No Failure\",\"No Failure\",\"No Failure\",\"No Failure\",\"Tool Wear Failure\",\"No Failure\",\"No Failure\",\"No Failure\",\"No Failure\",\"No Failure\",\"No Failure\",\"No Failure\",\"No Failure\",\"No Failure\",\"No Failure\",\"No Failure\",\"No Failure\",\"No Failure\",\"No Failure\",\"No Failure\",\"No Failure\",\"No Failure\",\"No Failure\",\"No Failure\",\"No Failure\",\"No Failure\",\"No Failure\",\"No Failure\",\"No Failure\",\"No Failure\",\"No Failure\",\"No Failure\",\"No Failure\",\"No Failure\",\"No Failure\",\"No Failure\",\"No Failure\",\"No Failure\",\"No Failure\",\"No Failure\",\"No Failure\",\"No Failure\",\"No Failure\",\"No Failure\",\"No Failure\",\"Overstrain Failure\",\"No Failure\",\"No Failure\",\"No Failure\",\"No Failure\",\"No Failure\",\"No Failure\",\"No Failure\",\"Tool Wear Failure\",\"No Failure\",\"No Failure\",\"No Failure\",\"No Failure\",\"No Failure\",\"No Failure\",\"No Failure\",\"No Failure\",\"No Failure\",\"No Failure\",\"No Failure\",\"No Failure\",\"No Failure\",\"No Failure\",\"No Failure\",\"No Failure\",\"No Failure\",\"No Failure\",\"No Failure\",\"No Failure\",\"No Failure\",\"No Failure\",\"No Failure\",\"No Failure\",\"No Failure\",\"No Failure\",\"No Failure\",\"No Failure\",\"No Failure\",\"No Failure\",\"No Failure\",\"No Failure\",\"No Failure\",\"No Failure\",\"No Failure\",\"No Failure\",\"No Failure\",\"No Failure\",\"Heat Dissipation Failure\",\"No Failure\",\"No Failure\",\"No Failure\",\"No Failure\",\"No Failure\",\"No Failure\",\"No Failure\",\"No Failure\",\"No Failure\",\"No Failure\",\"No Failure\",\"No Failure\",\"No Failure\",\"No Failure\",\"No Failure\",\"Heat Dissipation Failure\",\"No Failure\",\"No Failure\",\"No Failure\",\"No Failure\",\"No Failure\",\"Heat Dissipation Failure\",\"No Failure\",\"No Failure\",\"No Failure\",\"No Failure\",\"No Failure\",\"No Failure\",\"No Failure\",\"No Failure\",\"No Failure\",\"No Failure\",\"No Failure\",\"No Failure\",\"No Failure\",\"No Failure\",\"No Failure\",\"No Failure\",\"No Failure\",\"No Failure\",\"No Failure\",\"No Failure\",\"No Failure\",\"No Failure\",\"No Failure\",\"No Failure\",\"No Failure\",\"No Failure\",\"No Failure\",\"No Failure\",\"No Failure\",\"No Failure\",\"Power Failure\",\"No Failure\",\"No Failure\",\"No Failure\",\"No Failure\",\"No Failure\",\"No Failure\",\"No Failure\",\"No Failure\",\"No Failure\",\"No Failure\",\"No Failure\",\"No Failure\",\"No Failure\",\"No Failure\",\"No Failure\",\"No Failure\",\"No Failure\",\"No Failure\",\"No Failure\",\"No Failure\",\"No Failure\",\"No Failure\",\"No Failure\",\"No Failure\",\"No Failure\",\"No Failure\",\"No Failure\",\"No Failure\",\"No Failure\",\"No Failure\",\"No Failure\",\"No Failure\",\"No Failure\",\"No Failure\",\"No Failure\",\"No Failure\",\"No Failure\",\"Power Failure\",\"No Failure\",\"No Failure\",\"No Failure\",\"No Failure\",\"No Failure\",\"No Failure\",\"No Failure\",\"No Failure\",\"Power Failure\",\"No Failure\",\"No Failure\",\"No Failure\",\"No Failure\",\"No Failure\",\"No Failure\",\"No Failure\",\"No Failure\",\"No Failure\",\"No Failure\",\"No Failure\",\"No Failure\",\"No Failure\",\"No Failure\",\"No Failure\",\"No Failure\",\"No Failure\",\"No Failure\",\"No Failure\",\"No Failure\",\"No Failure\",\"No Failure\",\"No Failure\",\"No Failure\",\"No Failure\",\"No Failure\",\"No Failure\",\"No Failure\",\"No Failure\",\"No Failure\",\"No Failure\",\"No Failure\",\"No Failure\",\"Power Failure\",\"No Failure\",\"No Failure\",\"No Failure\",\"No Failure\",\"No Failure\",\"No Failure\",\"No Failure\",\"No Failure\",\"No Failure\",\"No Failure\",\"No Failure\",\"No Failure\",\"No Failure\",\"No Failure\",\"No Failure\",\"No Failure\",\"No Failure\",\"Overstrain Failure\",\"No Failure\",\"Tool Wear Failure\",\"No Failure\",\"No Failure\",\"No Failure\",\"No Failure\",\"No Failure\",\"No Failure\",\"No Failure\",\"No Failure\",\"Power Failure\",\"No Failure\",\"No Failure\",\"No Failure\",\"No Failure\",\"No Failure\",\"No Failure\",\"No Failure\",\"No Failure\",\"No Failure\",\"No Failure\",\"No Failure\",\"No Failure\",\"No Failure\",\"No Failure\",\"Power Failure\",\"No Failure\",\"No Failure\",\"No Failure\",\"No Failure\",\"No Failure\",\"Heat Dissipation Failure\",\"Heat Dissipation Failure\",\"No Failure\",\"No Failure\",\"No Failure\",\"Heat Dissipation Failure\",\"No Failure\",\"No Failure\",\"No Failure\",\"Heat Dissipation Failure\",\"No Failure\",\"No Failure\",\"No Failure\",\"No Failure\",\"No Failure\",\"No Failure\",\"No Failure\",\"No Failure\",\"No Failure\",\"No Failure\",\"No Failure\",\"No Failure\",\"No Failure\",\"No Failure\",\"No Failure\",\"Overstrain Failure\",\"No Failure\",\"Heat Dissipation Failure\",\"No Failure\",\"No Failure\",\"No Failure\",\"No Failure\",\"Heat Dissipation Failure\",\"No Failure\",\"No Failure\",\"No Failure\",\"No Failure\",\"No Failure\",\"Heat Dissipation Failure\",\"Heat Dissipation Failure\",\"No Failure\",\"No Failure\",\"No Failure\",\"No Failure\",\"No Failure\",\"No Failure\",\"No Failure\",\"No Failure\",\"Heat Dissipation Failure\",\"Heat Dissipation Failure\",\"No Failure\",\"No Failure\",\"No Failure\",\"Heat Dissipation Failure\",\"No Failure\",\"No Failure\",\"No Failure\",\"No Failure\",\"No Failure\",\"No Failure\",\"No Failure\",\"Heat Dissipation Failure\",\"No Failure\",\"Heat Dissipation Failure\",\"No Failure\",\"Heat Dissipation Failure\",\"Heat Dissipation Failure\",\"No Failure\",\"No Failure\",\"No Failure\",\"No Failure\",\"No Failure\",\"No Failure\",\"No Failure\",\"No Failure\",\"No Failure\",\"No Failure\",\"No Failure\",\"Heat Dissipation Failure\",\"No Failure\",\"No Failure\",\"No Failure\",\"No Failure\",\"No Failure\",\"No Failure\",\"No Failure\",\"No Failure\",\"Heat Dissipation Failure\",\"No Failure\",\"No Failure\",\"No Failure\",\"No Failure\",\"No Failure\",\"No Failure\",\"No Failure\",\"No Failure\",\"No Failure\",\"No Failure\",\"No Failure\",\"No Failure\",\"No Failure\",\"No Failure\",\"No Failure\",\"Heat Dissipation Failure\",\"No Failure\",\"Heat Dissipation Failure\",\"No Failure\",\"Power Failure\",\"No Failure\",\"No Failure\",\"No Failure\",\"No Failure\",\"No Failure\",\"No Failure\",\"No Failure\",\"No Failure\",\"No Failure\",\"Heat Dissipation Failure\",\"No Failure\",\"No Failure\",\"No Failure\",\"No Failure\",\"No Failure\",\"No Failure\",\"Heat Dissipation Failure\",\"No Failure\",\"No Failure\",\"Heat Dissipation Failure\",\"No Failure\",\"Heat Dissipation Failure\",\"No Failure\",\"No Failure\",\"No Failure\",\"No Failure\",\"Power Failure\",\"No Failure\",\"No Failure\",\"No Failure\",\"No Failure\",\"No Failure\",\"No Failure\",\"No Failure\",\"Heat Dissipation Failure\",\"No Failure\",\"No Failure\",\"No Failure\",\"No Failure\",\"No Failure\",\"No Failure\",\"No Failure\",\"Heat Dissipation Failure\",\"No Failure\",\"No Failure\",\"Heat Dissipation Failure\",\"Heat Dissipation Failure\",\"No Failure\",\"No Failure\",\"No Failure\",\"No Failure\",\"No Failure\",\"No Failure\",\"No Failure\",\"No Failure\",\"No Failure\",\"No Failure\",\"No Failure\",\"No Failure\",\"No Failure\",\"No Failure\",\"No Failure\",\"No Failure\",\"No Failure\",\"No Failure\",\"No Failure\",\"No Failure\",\"No Failure\",\"No Failure\",\"No Failure\",\"Heat Dissipation Failure\",\"No Failure\",\"No Failure\",\"No Failure\",\"No Failure\",\"No Failure\",\"No Failure\",\"Heat Dissipation Failure\",\"No Failure\",\"Tool Wear Failure\",\"No Failure\",\"No Failure\",\"No Failure\",\"No Failure\",\"No Failure\",\"No Failure\",\"No Failure\",\"No Failure\",\"Heat Dissipation Failure\",\"No Failure\",\"Heat Dissipation Failure\",\"Heat Dissipation Failure\",\"No Failure\",\"No Failure\",\"No Failure\",\"No Failure\",\"No Failure\",\"No Failure\",\"No Failure\",\"Power Failure\",\"No Failure\",\"Heat Dissipation Failure\",\"No Failure\",\"No Failure\",\"No Failure\",\"No Failure\",\"No Failure\",\"Heat Dissipation Failure\",\"No Failure\",\"No Failure\",\"No Failure\",\"Heat Dissipation Failure\",\"No Failure\",\"No Failure\",\"No Failure\",\"No Failure\",\"No Failure\",\"Heat Dissipation Failure\",\"No Failure\",\"No Failure\",\"No Failure\",\"No Failure\",\"No Failure\",\"No Failure\",\"No Failure\",\"No Failure\",\"No Failure\",\"Heat Dissipation Failure\",\"No Failure\",\"No Failure\",\"No Failure\",\"No Failure\",\"No Failure\",\"No Failure\",\"Tool Wear Failure\",\"No Failure\",\"No Failure\",\"No Failure\",\"No Failure\",\"No Failure\",\"Heat Dissipation Failure\",\"No Failure\",\"No Failure\",\"No Failure\",\"No Failure\",\"No Failure\",\"No Failure\",\"No Failure\",\"No Failure\",\"No Failure\",\"No Failure\",\"Heat Dissipation Failure\",\"No Failure\",\"No Failure\",\"Heat Dissipation Failure\",\"No Failure\",\"No Failure\",\"No Failure\",\"No Failure\",\"No Failure\",\"No Failure\",\"Heat Dissipation Failure\",\"No Failure\",\"No Failure\",\"No Failure\",\"No Failure\",\"No Failure\",\"No Failure\",\"No Failure\",\"No Failure\",\"No Failure\",\"No Failure\",\"No Failure\",\"No Failure\",\"No Failure\",\"No Failure\",\"No Failure\",\"No Failure\",\"No Failure\",\"Heat Dissipation Failure\",\"No Failure\",\"No Failure\",\"No Failure\",\"No Failure\",\"Heat Dissipation Failure\",\"No Failure\",\"No Failure\",\"No Failure\",\"No Failure\",\"No Failure\",\"No Failure\",\"No Failure\",\"Heat Dissipation Failure\",\"No Failure\",\"No Failure\",\"No Failure\",\"No Failure\",\"No Failure\",\"No Failure\",\"No Failure\",\"No Failure\",\"Heat Dissipation Failure\",\"No Failure\",\"No Failure\",\"No Failure\",\"Heat Dissipation Failure\",\"No Failure\",\"No Failure\",\"No Failure\",\"No Failure\",\"No Failure\",\"No Failure\",\"No Failure\",\"No Failure\",\"No Failure\",\"No Failure\",\"No Failure\",\"Heat Dissipation Failure\",\"No Failure\",\"No Failure\",\"Heat Dissipation Failure\",\"No Failure\",\"No Failure\",\"No Failure\",\"No Failure\",\"No Failure\",\"Heat Dissipation Failure\",\"No Failure\",\"No Failure\",\"No Failure\",\"No Failure\",\"Heat Dissipation Failure\",\"Heat Dissipation Failure\",\"No Failure\",\"No Failure\",\"No Failure\",\"No Failure\",\"No Failure\",\"No Failure\",\"No Failure\",\"No Failure\",\"No Failure\",\"No Failure\",\"No Failure\",\"No Failure\",\"Heat Dissipation Failure\",\"Heat Dissipation Failure\",\"No Failure\",\"No Failure\",\"Tool Wear Failure\",\"No Failure\",\"No Failure\",\"No Failure\",\"Heat Dissipation Failure\",\"No Failure\",\"No Failure\",\"No Failure\",\"No Failure\",\"No Failure\",\"No Failure\",\"Heat Dissipation Failure\",\"No Failure\",\"No Failure\",\"No Failure\",\"No Failure\",\"No Failure\",\"No Failure\",\"No Failure\",\"No Failure\",\"No Failure\",\"No Failure\",\"No Failure\",\"No Failure\",\"No Failure\",\"No Failure\",\"No Failure\",\"No Failure\",\"No Failure\",\"No Failure\",\"No Failure\",\"No Failure\",\"Heat Dissipation Failure\",\"No Failure\",\"No Failure\",\"No Failure\",\"No Failure\",\"No Failure\",\"No Failure\",\"No Failure\",\"No Failure\",\"No Failure\",\"No Failure\",\"Heat Dissipation Failure\",\"No Failure\",\"Heat Dissipation Failure\",\"No Failure\",\"No Failure\",\"Heat Dissipation Failure\",\"No Failure\",\"Heat Dissipation Failure\",\"No Failure\",\"No Failure\",\"No Failure\",\"No Failure\",\"No Failure\",\"Heat Dissipation Failure\",\"No Failure\",\"No Failure\",\"No Failure\",\"No Failure\",\"No Failure\",\"No Failure\",\"No Failure\",\"Heat Dissipation Failure\",\"No Failure\",\"No Failure\",\"Heat Dissipation Failure\",\"No Failure\",\"No Failure\",\"Heat Dissipation Failure\",\"No Failure\",\"No Failure\",\"No Failure\",\"No Failure\",\"Heat Dissipation Failure\",\"Heat Dissipation Failure\",\"No Failure\",\"No Failure\",\"No Failure\",\"No Failure\",\"No Failure\",\"No Failure\",\"No Failure\",\"No Failure\",\"No Failure\",\"No Failure\",\"No Failure\",\"No Failure\",\"No Failure\",\"No Failure\",\"No Failure\",\"No Failure\",\"No Failure\",\"No Failure\",\"No Failure\",\"No Failure\",\"No Failure\",\"No Failure\",\"No Failure\",\"No Failure\",\"No Failure\",\"No Failure\",\"No Failure\",\"No Failure\",\"Overstrain Failure\",\"Tool Wear Failure\",\"No Failure\",\"No Failure\",\"No Failure\",\"No Failure\",\"No Failure\",\"No Failure\",\"No Failure\",\"No Failure\",\"No Failure\",\"No Failure\",\"No Failure\",\"No Failure\",\"Heat Dissipation Failure\",\"No Failure\",\"Heat Dissipation Failure\",\"Heat Dissipation Failure\",\"Heat Dissipation Failure\",\"No Failure\",\"No Failure\",\"No Failure\",\"Heat Dissipation Failure\",\"No Failure\",\"No Failure\",\"No Failure\",\"No Failure\",\"No Failure\",\"No Failure\",\"No Failure\",\"No Failure\",\"No Failure\",\"No Failure\",\"No Failure\",\"No Failure\",\"No Failure\",\"No Failure\",\"No Failure\",\"No Failure\",\"No Failure\",\"No Failure\",\"No Failure\",\"No Failure\",\"No Failure\",\"No Failure\",\"No Failure\",\"No Failure\",\"No Failure\",\"No Failure\",\"No Failure\",\"No Failure\",\"No Failure\",\"No Failure\",\"No Failure\",\"No Failure\",\"No Failure\",\"No Failure\",\"No Failure\",\"No Failure\",\"Power Failure\",\"No Failure\",\"No Failure\",\"No Failure\",\"No Failure\",\"No Failure\",\"No Failure\",\"No Failure\",\"No Failure\",\"No Failure\",\"Power Failure\",\"No Failure\",\"No Failure\",\"No Failure\",\"No Failure\",\"No Failure\",\"No Failure\",\"No Failure\",\"No Failure\",\"No Failure\",\"No Failure\",\"No Failure\",\"No Failure\",\"No Failure\",\"No Failure\",\"No Failure\",\"No Failure\",\"No Failure\",\"No Failure\",\"No Failure\",\"No Failure\",\"No Failure\",\"No Failure\",\"No Failure\",\"Overstrain Failure\",\"No Failure\",\"No Failure\",\"No Failure\",\"No Failure\",\"Overstrain Failure\",\"No Failure\",\"Power Failure\",\"No Failure\",\"No Failure\",\"No Failure\",\"No Failure\",\"No Failure\",\"No Failure\",\"No Failure\",\"No Failure\",\"No Failure\",\"No Failure\",\"No Failure\",\"No Failure\",\"No Failure\",\"No Failure\",\"No Failure\",\"No Failure\",\"No Failure\",\"No Failure\",\"No Failure\",\"No Failure\",\"No Failure\",\"No Failure\",\"No Failure\",\"No Failure\",\"No Failure\",\"No Failure\",\"No Failure\",\"No Failure\",\"No Failure\",\"No Failure\",\"No Failure\",\"No Failure\",\"No Failure\",\"No Failure\",\"No Failure\",\"No Failure\",\"No Failure\",\"Overstrain Failure\",\"No Failure\",\"No Failure\",\"No Failure\",\"No Failure\",\"No Failure\",\"No Failure\",\"No Failure\",\"No Failure\",\"No Failure\",\"No Failure\",\"No Failure\",\"No Failure\",\"No Failure\",\"No Failure\",\"No Failure\",\"No Failure\",\"No Failure\",\"No Failure\",\"No Failure\",\"No Failure\",\"No Failure\",\"No Failure\",\"No Failure\",\"No Failure\",\"No Failure\",\"No Failure\",\"No Failure\",\"No Failure\",\"No Failure\",\"No Failure\",\"No Failure\",\"No Failure\",\"No Failure\",\"No Failure\",\"No Failure\",\"No Failure\",\"No Failure\",\"No Failure\",\"No Failure\",\"No Failure\",\"Tool Wear Failure\",\"No Failure\",\"No Failure\",\"No Failure\",\"No Failure\",\"No Failure\",\"No Failure\",\"No Failure\",\"No Failure\",\"No Failure\",\"No Failure\",\"No Failure\",\"No Failure\",\"No Failure\",\"No Failure\",\"No Failure\",\"No Failure\",\"No Failure\",\"No Failure\",\"No Failure\",\"No Failure\",\"No Failure\",\"No Failure\",\"No Failure\",\"No Failure\",\"No Failure\",\"No Failure\",\"No Failure\",\"No Failure\",\"No Failure\",\"No Failure\",\"No Failure\",\"No Failure\",\"No Failure\",\"No Failure\",\"No Failure\",\"No Failure\",\"No Failure\",\"No Failure\",\"No Failure\",\"No Failure\",\"No Failure\",\"No Failure\",\"No Failure\",\"No Failure\",\"No Failure\",\"No Failure\",\"Overstrain Failure\",\"No Failure\",\"No Failure\",\"No Failure\",\"No Failure\",\"No Failure\",\"No Failure\",\"No Failure\",\"No Failure\",\"No Failure\",\"No Failure\",\"No Failure\",\"No Failure\",\"No Failure\",\"No Failure\",\"No Failure\",\"No Failure\",\"No Failure\",\"No Failure\",\"No Failure\",\"No Failure\",\"No Failure\",\"No Failure\",\"No Failure\",\"No Failure\",\"No Failure\",\"No Failure\",\"No Failure\",\"No Failure\",\"No Failure\",\"No Failure\",\"No Failure\",\"No Failure\",\"No Failure\",\"No Failure\",\"No Failure\",\"No Failure\",\"No Failure\",\"No Failure\",\"No Failure\",\"No Failure\",\"No Failure\",\"No Failure\",\"No Failure\",\"No Failure\",\"No Failure\",\"No Failure\",\"No Failure\",\"No Failure\",\"No Failure\",\"No Failure\",\"No Failure\",\"No Failure\",\"No Failure\",\"No Failure\",\"No Failure\",\"No Failure\",\"No Failure\",\"No Failure\",\"No Failure\",\"No Failure\",\"No Failure\",\"No Failure\",\"No Failure\",\"No Failure\",\"No Failure\",\"No Failure\",\"No Failure\",\"No Failure\",\"No Failure\",\"No Failure\",\"No Failure\",\"No Failure\",\"No Failure\",\"No Failure\",\"No Failure\",\"No Failure\",\"No Failure\",\"No Failure\",\"No Failure\",\"No Failure\",\"No Failure\",\"No Failure\",\"No Failure\",\"No Failure\",\"No Failure\",\"No Failure\",\"No Failure\",\"No Failure\",\"No Failure\",\"No Failure\",\"No Failure\",\"No Failure\",\"No Failure\",\"No Failure\",\"No Failure\",\"No Failure\",\"No Failure\",\"No Failure\",\"No Failure\",\"No Failure\",\"No Failure\",\"No Failure\",\"No Failure\",\"No Failure\",\"No Failure\",\"No Failure\",\"No Failure\",\"Overstrain Failure\",\"No Failure\",\"No Failure\",\"No Failure\",\"No Failure\",\"No Failure\",\"No Failure\",\"No Failure\",\"No Failure\",\"No Failure\",\"No Failure\",\"No Failure\",\"No Failure\",\"No Failure\",\"No Failure\",\"No Failure\",\"No Failure\",\"No Failure\",\"No Failure\",\"No Failure\",\"No Failure\",\"No Failure\",\"No Failure\",\"No Failure\",\"No Failure\",\"No Failure\",\"No Failure\",\"No Failure\",\"No Failure\",\"No Failure\",\"No Failure\",\"No Failure\",\"No Failure\",\"No Failure\",\"No Failure\",\"No Failure\",\"No Failure\",\"No Failure\",\"No Failure\",\"No Failure\",\"No Failure\",\"No Failure\",\"No Failure\",\"No Failure\",\"No Failure\",\"No Failure\",\"Random Failures\",\"No Failure\",\"No Failure\",\"No Failure\",\"No Failure\",\"No Failure\",\"No Failure\",\"No Failure\",\"No Failure\",\"No Failure\",\"Overstrain Failure\",\"Random Failures\",\"Power Failure\",\"No Failure\",\"No Failure\",\"No Failure\",\"No Failure\",\"No Failure\",\"No Failure\",\"No Failure\",\"No Failure\",\"No Failure\",\"No Failure\",\"Random Failures\",\"No Failure\",\"No Failure\",\"No Failure\",\"No Failure\",\"No Failure\",\"No Failure\",\"No Failure\",\"No Failure\",\"No Failure\",\"No Failure\",\"No Failure\",\"No Failure\",\"No Failure\",\"No Failure\",\"No Failure\",\"No Failure\",\"No Failure\",\"No Failure\",\"No Failure\",\"No Failure\",\"No Failure\",\"No Failure\",\"No Failure\",\"Random Failures\",\"No Failure\",\"No Failure\",\"No Failure\",\"No Failure\",\"No Failure\",\"No Failure\",\"No Failure\",\"No Failure\",\"No Failure\",\"No Failure\",\"No Failure\",\"No Failure\",\"No Failure\",\"No Failure\",\"No Failure\",\"No Failure\",\"No Failure\",\"No Failure\",\"No Failure\",\"No Failure\",\"No Failure\",\"No Failure\",\"No Failure\",\"No Failure\",\"No Failure\",\"No Failure\",\"No Failure\",\"No Failure\",\"No Failure\",\"No Failure\",\"No Failure\",\"No Failure\",\"No Failure\",\"No Failure\",\"No Failure\",\"No Failure\",\"Power Failure\",\"No Failure\",\"No Failure\",\"No Failure\",\"No Failure\",\"No Failure\",\"No Failure\",\"No Failure\",\"No Failure\",\"No Failure\",\"No Failure\",\"No Failure\",\"No Failure\",\"No Failure\",\"No Failure\",\"Random Failures\",\"No Failure\",\"No Failure\",\"No Failure\",\"No Failure\",\"No Failure\",\"No Failure\",\"No Failure\",\"No Failure\",\"No Failure\",\"No Failure\",\"No Failure\",\"No Failure\",\"No Failure\",\"No Failure\",\"No Failure\",\"No Failure\",\"No Failure\",\"No Failure\",\"No Failure\",\"No Failure\",\"No Failure\",\"No Failure\",\"No Failure\",\"No Failure\",\"No Failure\",\"No Failure\",\"No Failure\",\"No Failure\",\"No Failure\",\"No Failure\",\"No Failure\",\"No Failure\",\"No Failure\",\"No Failure\",\"No Failure\",\"No Failure\",\"No Failure\",\"No Failure\",\"Power Failure\",\"No Failure\",\"No Failure\",\"No Failure\",\"No Failure\",\"No Failure\",\"No Failure\",\"No Failure\",\"No Failure\",\"No Failure\",\"No Failure\",\"No Failure\",\"No Failure\",\"No Failure\",\"No Failure\",\"No Failure\",\"No Failure\",\"No Failure\",\"No Failure\",\"Overstrain Failure\",\"No Failure\",\"No Failure\",\"No Failure\",\"No Failure\",\"No Failure\",\"No Failure\",\"No Failure\",\"No Failure\",\"No Failure\",\"No Failure\",\"No Failure\",\"No Failure\",\"No Failure\",\"No Failure\",\"No Failure\",\"No Failure\",\"No Failure\",\"No Failure\",\"No Failure\",\"No Failure\",\"No Failure\",\"No Failure\",\"No Failure\",\"No Failure\",\"No Failure\",\"No Failure\",\"No Failure\",\"No Failure\",\"No Failure\",\"No Failure\",\"No Failure\",\"No Failure\",\"No Failure\",\"No Failure\",\"No Failure\",\"No Failure\",\"No Failure\",\"No Failure\",\"No Failure\",\"No Failure\",\"No Failure\",\"No Failure\",\"No Failure\",\"No Failure\",\"No Failure\",\"No Failure\",\"No Failure\",\"No Failure\",\"No Failure\",\"No Failure\",\"No Failure\",\"No Failure\",\"No Failure\",\"No Failure\",\"No Failure\",\"No Failure\",\"No Failure\",\"No Failure\",\"No Failure\",\"No Failure\",\"No Failure\",\"No Failure\",\"No Failure\",\"No Failure\",\"No Failure\",\"No Failure\",\"No Failure\",\"No Failure\",\"No Failure\",\"No Failure\",\"No Failure\",\"No Failure\",\"No Failure\",\"No Failure\",\"No Failure\",\"No Failure\",\"No Failure\",\"No Failure\",\"No Failure\",\"No Failure\",\"No Failure\",\"No Failure\",\"No Failure\",\"No Failure\",\"No Failure\",\"No Failure\",\"No Failure\",\"No Failure\",\"No Failure\",\"No Failure\",\"No Failure\",\"No Failure\",\"No Failure\",\"No Failure\",\"No Failure\",\"No Failure\",\"No Failure\",\"No Failure\",\"No Failure\",\"No Failure\",\"No Failure\",\"No Failure\",\"No Failure\",\"No Failure\",\"No Failure\",\"No Failure\",\"No Failure\",\"No Failure\",\"No Failure\",\"No Failure\",\"No Failure\",\"No Failure\",\"No Failure\",\"No Failure\",\"No Failure\",\"No Failure\",\"No Failure\",\"No Failure\",\"No Failure\",\"No Failure\",\"No Failure\",\"No Failure\",\"No Failure\",\"No Failure\",\"No Failure\",\"No Failure\",\"No Failure\",\"No Failure\",\"No Failure\",\"No Failure\",\"No Failure\",\"No Failure\",\"No Failure\",\"No Failure\",\"No Failure\",\"No Failure\",\"No Failure\",\"No Failure\",\"No Failure\",\"No Failure\",\"No Failure\",\"No Failure\",\"No Failure\",\"No Failure\",\"No Failure\",\"No Failure\",\"No Failure\",\"No Failure\",\"No Failure\",\"No Failure\",\"No Failure\",\"No Failure\",\"No Failure\",\"No Failure\",\"No Failure\",\"No Failure\",\"No Failure\",\"No Failure\",\"No Failure\",\"No Failure\",\"No Failure\",\"No Failure\",\"No Failure\",\"No Failure\",\"No Failure\",\"No Failure\",\"No Failure\",\"No Failure\",\"No Failure\",\"No Failure\",\"No Failure\",\"No Failure\",\"No Failure\",\"No Failure\",\"No Failure\",\"No Failure\",\"No Failure\",\"No Failure\",\"Power Failure\",\"No Failure\",\"No Failure\",\"No Failure\",\"No Failure\",\"No Failure\",\"No Failure\",\"No Failure\",\"No Failure\",\"No Failure\",\"No Failure\",\"No Failure\",\"No Failure\",\"No Failure\",\"No Failure\",\"No Failure\",\"No Failure\",\"No Failure\",\"No Failure\",\"No Failure\",\"No Failure\",\"No Failure\",\"No Failure\",\"No Failure\",\"No Failure\",\"No Failure\",\"No Failure\",\"No Failure\",\"No Failure\",\"No Failure\",\"No Failure\",\"Overstrain Failure\",\"No Failure\",\"No Failure\",\"No Failure\",\"No Failure\",\"No Failure\",\"No Failure\",\"No Failure\",\"No Failure\",\"No Failure\",\"Random Failures\",\"No Failure\",\"No Failure\",\"No Failure\",\"No Failure\",\"No Failure\",\"No Failure\",\"No Failure\",\"No Failure\",\"No Failure\",\"No Failure\",\"No Failure\",\"No Failure\",\"No Failure\",\"No Failure\",\"No Failure\",\"No Failure\",\"No Failure\",\"No Failure\",\"No Failure\",\"No Failure\",\"No Failure\",\"No Failure\",\"No Failure\",\"No Failure\",\"No Failure\",\"No Failure\",\"No Failure\",\"No Failure\",\"No Failure\",\"No Failure\",\"No Failure\",\"No Failure\",\"Overstrain Failure\",\"No Failure\",\"No Failure\",\"No Failure\",\"No Failure\",\"Overstrain Failure\",\"No Failure\",\"No Failure\",\"No Failure\",\"No Failure\",\"No Failure\",\"No Failure\",\"No Failure\",\"Tool Wear Failure\",\"No Failure\",\"No Failure\",\"No Failure\",\"No Failure\",\"No Failure\",\"Power Failure\",\"No Failure\",\"No Failure\",\"No Failure\",\"No Failure\",\"No Failure\",\"No Failure\",\"No Failure\",\"No Failure\",\"No Failure\",\"No Failure\",\"No Failure\",\"No Failure\",\"No Failure\",\"No Failure\",\"No Failure\",\"No Failure\",\"No Failure\",\"No Failure\",\"No Failure\",\"No Failure\",\"No Failure\",\"No Failure\",\"No Failure\",\"No Failure\",\"No Failure\",\"No Failure\",\"No Failure\",\"No Failure\",\"No Failure\",\"No Failure\",\"No Failure\",\"No Failure\",\"No Failure\",\"No Failure\",\"No Failure\",\"No Failure\",\"No Failure\",\"No Failure\",\"No Failure\",\"No Failure\",\"No Failure\",\"No Failure\",\"No Failure\",\"No Failure\",\"Power Failure\",\"No Failure\",\"No Failure\",\"No Failure\",\"No Failure\",\"No Failure\",\"Overstrain Failure\",\"Tool Wear Failure\",\"No Failure\",\"No Failure\",\"No Failure\",\"No Failure\",\"No Failure\",\"No Failure\",\"No Failure\",\"No Failure\",\"No Failure\",\"No Failure\",\"No Failure\",\"No Failure\",\"No Failure\",\"No Failure\",\"No Failure\",\"No Failure\",\"No Failure\",\"No Failure\",\"No Failure\",\"No Failure\",\"No Failure\",\"No Failure\",\"No Failure\",\"No Failure\",\"No Failure\",\"No Failure\",\"No Failure\",\"No Failure\",\"No Failure\",\"No Failure\",\"No Failure\",\"No Failure\",\"No Failure\",\"No Failure\",\"No Failure\",\"No Failure\",\"No Failure\",\"No Failure\",\"No Failure\",\"No Failure\",\"No Failure\",\"No Failure\",\"No Failure\",\"No Failure\",\"No Failure\",\"No Failure\",\"No Failure\",\"No Failure\",\"No Failure\",\"No Failure\",\"No Failure\",\"No Failure\",\"No Failure\",\"No Failure\",\"No Failure\",\"No Failure\",\"No Failure\",\"No Failure\",\"No Failure\",\"No Failure\",\"No Failure\",\"No Failure\",\"No Failure\",\"No Failure\",\"No Failure\",\"No Failure\",\"No Failure\",\"No Failure\",\"No Failure\",\"No Failure\",\"No Failure\",\"No Failure\",\"No Failure\",\"No Failure\",\"No Failure\",\"No Failure\",\"No Failure\",\"No Failure\",\"No Failure\",\"No Failure\",\"No Failure\",\"No Failure\",\"No Failure\",\"No Failure\",\"No Failure\",\"No Failure\",\"No Failure\",\"No Failure\",\"No Failure\",\"No Failure\",\"No Failure\",\"No Failure\",\"No Failure\",\"No Failure\",\"No Failure\",\"No Failure\",\"No Failure\",\"No Failure\",\"No Failure\",\"No Failure\",\"No Failure\",\"No Failure\",\"No Failure\",\"No Failure\",\"No Failure\",\"No Failure\",\"No Failure\",\"No Failure\",\"No Failure\",\"No Failure\",\"No Failure\",\"No Failure\",\"No Failure\",\"No Failure\",\"No Failure\",\"No Failure\",\"No Failure\",\"No Failure\",\"No Failure\",\"No Failure\",\"No Failure\",\"No Failure\",\"No Failure\",\"No Failure\",\"No Failure\",\"No Failure\",\"No Failure\",\"No Failure\",\"No Failure\",\"No Failure\",\"No Failure\",\"No Failure\",\"No Failure\",\"No Failure\",\"No Failure\",\"No Failure\",\"No Failure\",\"No Failure\",\"No Failure\",\"No Failure\",\"No Failure\",\"No Failure\",\"No Failure\",\"No Failure\",\"Overstrain Failure\",\"No Failure\",\"No Failure\",\"No Failure\",\"No Failure\",\"No Failure\",\"No Failure\",\"No Failure\",\"No Failure\",\"No Failure\",\"No Failure\",\"No Failure\",\"No Failure\",\"No Failure\",\"No Failure\",\"Power Failure\",\"No Failure\",\"No Failure\",\"No Failure\",\"No Failure\",\"No Failure\",\"No Failure\",\"No Failure\",\"No Failure\",\"No Failure\",\"No Failure\",\"No Failure\",\"No Failure\",\"No Failure\",\"No Failure\",\"No Failure\",\"No Failure\",\"No Failure\",\"No Failure\",\"No Failure\",\"No Failure\",\"No Failure\",\"No Failure\",\"No Failure\",\"No Failure\",\"No Failure\",\"No Failure\",\"No Failure\",\"No Failure\",\"No Failure\",\"No Failure\",\"No Failure\",\"No Failure\",\"No Failure\",\"No Failure\",\"No Failure\",\"No Failure\",\"No Failure\",\"No Failure\",\"No Failure\",\"No Failure\",\"No Failure\",\"No Failure\",\"No Failure\",\"No Failure\",\"No Failure\",\"No Failure\",\"No Failure\",\"No Failure\",\"No Failure\",\"No Failure\",\"No Failure\",\"No Failure\",\"No Failure\",\"No Failure\",\"No Failure\",\"No Failure\",\"No Failure\",\"No Failure\",\"No Failure\",\"No Failure\",\"No Failure\",\"No Failure\",\"No Failure\",\"No Failure\",\"No Failure\",\"No Failure\",\"No Failure\",\"No Failure\",\"No Failure\",\"No Failure\",\"No Failure\",\"No Failure\",\"No Failure\",\"No Failure\",\"No Failure\",\"No Failure\",\"No Failure\",\"No Failure\",\"No Failure\",\"No Failure\",\"No Failure\",\"No Failure\",\"No Failure\",\"No Failure\",\"No Failure\",\"No Failure\",\"No Failure\",\"Overstrain Failure\",\"No Failure\",\"No Failure\",\"No Failure\",\"No Failure\",\"No Failure\",\"No Failure\",\"No Failure\",\"No Failure\",\"No Failure\",\"No Failure\",\"No Failure\",\"No Failure\",\"No Failure\",\"No Failure\",\"No Failure\",\"No Failure\",\"No Failure\",\"No Failure\",\"No Failure\",\"No Failure\",\"No Failure\",\"No Failure\",\"No Failure\",\"No Failure\",\"No Failure\",\"No Failure\",\"No Failure\",\"No Failure\",\"No Failure\",\"No Failure\",\"No Failure\",\"No Failure\",\"No Failure\",\"No Failure\",\"No Failure\",\"No Failure\",\"No Failure\",\"No Failure\",\"No Failure\",\"No Failure\",\"No Failure\",\"No Failure\",\"No Failure\",\"No Failure\",\"No Failure\",\"No Failure\",\"No Failure\",\"No Failure\",\"No Failure\",\"No Failure\",\"No Failure\",\"Tool Wear Failure\",\"No Failure\",\"No Failure\",\"No Failure\",\"No Failure\",\"No Failure\",\"No Failure\",\"No Failure\",\"No Failure\",\"No Failure\",\"No Failure\",\"No Failure\",\"No Failure\",\"No Failure\",\"No Failure\",\"No Failure\",\"No Failure\",\"No Failure\",\"No Failure\",\"No Failure\",\"No Failure\",\"No Failure\",\"No Failure\",\"No Failure\",\"No Failure\",\"No Failure\",\"No Failure\",\"No Failure\",\"No Failure\",\"No Failure\",\"No Failure\",\"No Failure\",\"No Failure\",\"No Failure\",\"No Failure\",\"No Failure\",\"No Failure\",\"No Failure\",\"No Failure\",\"No Failure\",\"No Failure\",\"No Failure\",\"No Failure\",\"No Failure\",\"No Failure\",\"No Failure\",\"No Failure\",\"No Failure\",\"No Failure\",\"No Failure\",\"No Failure\",\"No Failure\",\"No Failure\",\"No Failure\",\"No Failure\",\"No Failure\",\"No Failure\",\"No Failure\",\"No Failure\",\"No Failure\",\"No Failure\",\"No Failure\",\"No Failure\",\"No Failure\",\"No Failure\",\"No Failure\",\"No Failure\",\"No Failure\",\"No Failure\",\"No Failure\",\"No Failure\",\"No Failure\",\"No Failure\",\"No Failure\",\"No Failure\",\"No Failure\",\"No Failure\",\"No Failure\",\"No Failure\",\"No Failure\",\"No Failure\",\"No Failure\",\"No Failure\",\"No Failure\",\"No Failure\",\"No Failure\",\"No Failure\",\"Random Failures\",\"No Failure\",\"No Failure\",\"No Failure\",\"No Failure\",\"No Failure\",\"No Failure\",\"No Failure\",\"Overstrain Failure\",\"No Failure\",\"No Failure\",\"Power Failure\",\"No Failure\",\"No Failure\",\"No Failure\",\"No Failure\",\"No Failure\",\"No Failure\",\"No Failure\",\"No Failure\",\"No Failure\",\"No Failure\",\"No Failure\",\"No Failure\",\"No Failure\",\"No Failure\",\"No Failure\",\"No Failure\",\"Random Failures\",\"No Failure\",\"No Failure\",\"No Failure\",\"No Failure\",\"No Failure\",\"No Failure\",\"No Failure\",\"No Failure\",\"No Failure\",\"No Failure\",\"No Failure\",\"No Failure\",\"No Failure\",\"No Failure\",\"No Failure\",\"No Failure\",\"Power Failure\",\"No Failure\",\"No Failure\",\"No Failure\",\"No Failure\",\"No Failure\",\"No Failure\",\"No Failure\",\"No Failure\",\"No Failure\",\"Power Failure\",\"No Failure\",\"No Failure\",\"No Failure\",\"No Failure\",\"No Failure\",\"No Failure\",\"No Failure\",\"No Failure\",\"No Failure\",\"No Failure\",\"No Failure\",\"No Failure\",\"No Failure\",\"No Failure\",\"No Failure\",\"No Failure\",\"No Failure\",\"No Failure\",\"No Failure\",\"No Failure\",\"No Failure\",\"No Failure\",\"No Failure\",\"No Failure\",\"No Failure\",\"No Failure\",\"No Failure\",\"No Failure\",\"No Failure\",\"No Failure\",\"No Failure\",\"No Failure\",\"No Failure\",\"No Failure\",\"No Failure\",\"No Failure\",\"No Failure\",\"No Failure\",\"No Failure\",\"No Failure\",\"No Failure\",\"No Failure\",\"No Failure\",\"Power Failure\",\"No Failure\",\"No Failure\",\"No Failure\",\"Tool Wear Failure\",\"No Failure\",\"No Failure\",\"No Failure\",\"No Failure\",\"No Failure\",\"No Failure\",\"No Failure\",\"No Failure\",\"No Failure\",\"No Failure\",\"No Failure\",\"No Failure\",\"No Failure\",\"No Failure\",\"No Failure\",\"No Failure\",\"No Failure\",\"No Failure\",\"No Failure\",\"No Failure\",\"No Failure\",\"No Failure\",\"No Failure\",\"No Failure\",\"No Failure\",\"No Failure\",\"No Failure\",\"No Failure\",\"No Failure\",\"No Failure\",\"No Failure\",\"No Failure\",\"No Failure\",\"No Failure\",\"No Failure\",\"No Failure\",\"No Failure\",\"No Failure\",\"No Failure\",\"No Failure\",\"No Failure\",\"No Failure\",\"No Failure\",\"No Failure\",\"No Failure\",\"Overstrain Failure\",\"No Failure\",\"No Failure\",\"No Failure\",\"No Failure\",\"No Failure\",\"No Failure\",\"No Failure\",\"No Failure\",\"No Failure\",\"No Failure\",\"No Failure\",\"No Failure\",\"No Failure\",\"No Failure\",\"No Failure\",\"No Failure\",\"No Failure\",\"No Failure\",\"No Failure\",\"No Failure\",\"No Failure\",\"No Failure\",\"No Failure\",\"No Failure\",\"No Failure\",\"No Failure\",\"No Failure\",\"No Failure\",\"No Failure\",\"No Failure\",\"No Failure\",\"No Failure\",\"No Failure\",\"No Failure\",\"No Failure\",\"No Failure\",\"No Failure\",\"No Failure\",\"No Failure\",\"No Failure\",\"No Failure\",\"No Failure\",\"No Failure\",\"No Failure\",\"No Failure\",\"No Failure\",\"No Failure\",\"No Failure\",\"No Failure\",\"No Failure\",\"No Failure\",\"No Failure\",\"No Failure\",\"No Failure\",\"No Failure\",\"No Failure\",\"No Failure\",\"No Failure\",\"No Failure\",\"No Failure\",\"No Failure\",\"No Failure\",\"No Failure\",\"No Failure\",\"No Failure\",\"No Failure\",\"Power Failure\",\"No Failure\",\"No Failure\",\"No Failure\",\"No Failure\",\"No Failure\",\"No Failure\",\"No Failure\",\"No Failure\",\"No Failure\",\"No Failure\",\"No Failure\",\"No Failure\",\"No Failure\",\"No Failure\",\"No Failure\",\"No Failure\",\"No Failure\",\"No Failure\",\"No Failure\",\"No Failure\",\"No Failure\",\"No Failure\",\"No Failure\",\"No Failure\",\"No Failure\",\"No Failure\",\"No Failure\",\"No Failure\",\"No Failure\",\"No Failure\",\"No Failure\",\"No Failure\",\"No Failure\",\"No Failure\",\"No Failure\",\"No Failure\",\"No Failure\",\"No Failure\",\"No Failure\",\"No Failure\",\"No Failure\",\"No Failure\",\"No Failure\",\"No Failure\",\"No Failure\",\"No Failure\",\"No Failure\",\"No Failure\",\"No Failure\",\"No Failure\",\"No Failure\",\"No Failure\",\"No Failure\",\"No Failure\",\"No Failure\",\"No Failure\",\"No Failure\",\"No Failure\",\"No Failure\",\"No Failure\",\"No Failure\",\"No Failure\",\"No Failure\",\"No Failure\",\"No Failure\",\"No Failure\",\"No Failure\",\"No Failure\",\"No Failure\",\"No Failure\",\"No Failure\",\"No Failure\",\"No Failure\",\"No Failure\",\"No Failure\",\"No Failure\",\"No Failure\",\"No Failure\",\"No Failure\",\"No Failure\",\"No Failure\",\"No Failure\",\"No Failure\",\"No Failure\",\"No Failure\",\"No Failure\",\"No Failure\",\"No Failure\",\"No Failure\",\"No Failure\",\"No Failure\",\"No Failure\",\"No Failure\",\"No Failure\",\"No Failure\",\"No Failure\",\"No Failure\",\"No Failure\",\"No Failure\",\"No Failure\",\"No Failure\",\"No Failure\",\"No Failure\",\"No Failure\",\"No Failure\",\"No Failure\",\"No Failure\",\"No Failure\",\"No Failure\",\"No Failure\",\"No Failure\",\"No Failure\",\"No Failure\",\"No Failure\",\"No Failure\",\"No Failure\",\"No Failure\",\"No Failure\",\"No Failure\",\"No Failure\",\"No Failure\",\"No Failure\",\"No Failure\",\"No Failure\",\"No Failure\",\"Random Failures\",\"No Failure\",\"No Failure\",\"No Failure\",\"No Failure\",\"No Failure\",\"No Failure\",\"No Failure\",\"No Failure\",\"No Failure\",\"No Failure\",\"No Failure\",\"No Failure\",\"Overstrain Failure\",\"Tool Wear Failure\",\"No Failure\",\"No Failure\",\"No Failure\",\"No Failure\",\"No Failure\",\"No Failure\",\"No Failure\",\"No Failure\",\"No Failure\",\"No Failure\",\"No Failure\",\"No Failure\",\"No Failure\",\"No Failure\",\"No Failure\",\"Power Failure\",\"No Failure\",\"No Failure\",\"No Failure\",\"No Failure\",\"No Failure\",\"No Failure\",\"No Failure\",\"No Failure\",\"No Failure\",\"No Failure\",\"No Failure\",\"No Failure\",\"No Failure\",\"No Failure\",\"No Failure\",\"Power Failure\",\"No Failure\",\"No Failure\",\"No Failure\",\"No Failure\",\"No Failure\",\"No Failure\",\"No Failure\",\"No Failure\",\"No Failure\",\"No Failure\",\"No Failure\",\"No Failure\",\"No Failure\",\"No Failure\",\"No Failure\",\"No Failure\",\"Overstrain Failure\",\"No Failure\",\"No Failure\",\"No Failure\",\"No Failure\",\"No Failure\",\"No Failure\",\"No Failure\",\"No Failure\",\"No Failure\",\"No Failure\",\"No Failure\",\"No Failure\",\"No Failure\",\"No Failure\",\"No Failure\",\"No Failure\",\"No Failure\",\"No Failure\",\"No Failure\",\"No Failure\",\"No Failure\",\"No Failure\",\"No Failure\",\"No Failure\",\"No Failure\",\"No Failure\",\"No Failure\",\"No Failure\",\"No Failure\",\"No Failure\",\"No Failure\",\"No Failure\",\"No Failure\",\"No Failure\",\"No Failure\",\"No Failure\",\"No Failure\",\"No Failure\",\"No Failure\",\"No Failure\",\"No Failure\",\"No Failure\",\"No Failure\",\"No Failure\",\"No Failure\",\"No Failure\",\"No Failure\",\"No Failure\",\"No Failure\",\"No Failure\",\"Overstrain Failure\",\"No Failure\",\"No Failure\",\"No Failure\",\"No Failure\",\"No Failure\",\"No Failure\",\"No Failure\",\"No Failure\",\"No Failure\",\"No Failure\",\"No Failure\",\"No Failure\",\"No Failure\",\"No Failure\",\"No Failure\",\"No Failure\",\"No Failure\",\"No Failure\",\"No Failure\",\"No Failure\",\"No Failure\",\"No Failure\",\"No Failure\",\"No Failure\",\"No Failure\",\"No Failure\",\"No Failure\",\"No Failure\",\"No Failure\",\"No Failure\",\"No Failure\",\"No Failure\",\"No Failure\",\"No Failure\",\"No Failure\",\"No Failure\",\"No Failure\",\"No Failure\",\"No Failure\",\"No Failure\",\"No Failure\",\"No Failure\",\"No Failure\",\"No Failure\",\"No Failure\",\"Overstrain Failure\",\"No Failure\",\"Overstrain Failure\",\"Power Failure\",\"No Failure\",\"No Failure\",\"No Failure\",\"No Failure\",\"No Failure\",\"No Failure\",\"No Failure\",\"No Failure\",\"No Failure\",\"No Failure\",\"No Failure\",\"No Failure\",\"No Failure\",\"No Failure\",\"No Failure\",\"No Failure\",\"No Failure\",\"No Failure\",\"No Failure\",\"No Failure\",\"No Failure\",\"No Failure\",\"No Failure\",\"No Failure\",\"No Failure\",\"No Failure\",\"No Failure\",\"No Failure\",\"No Failure\",\"No Failure\",\"No Failure\",\"No Failure\",\"No Failure\",\"No Failure\",\"No Failure\",\"No Failure\",\"No Failure\",\"No Failure\",\"No Failure\",\"No Failure\",\"No Failure\",\"No Failure\",\"No Failure\",\"No Failure\",\"No Failure\",\"No Failure\",\"No Failure\",\"No Failure\",\"No Failure\",\"No Failure\",\"No Failure\",\"No Failure\",\"No Failure\",\"No Failure\",\"No Failure\",\"No Failure\",\"No Failure\",\"No Failure\",\"No Failure\",\"No Failure\",\"No Failure\",\"No Failure\",\"No Failure\",\"No Failure\",\"No Failure\",\"No Failure\",\"No Failure\",\"No Failure\",\"No Failure\",\"No Failure\",\"No Failure\",\"No Failure\",\"No Failure\",\"No Failure\",\"No Failure\",\"No Failure\",\"No Failure\",\"Power Failure\",\"No Failure\",\"No Failure\",\"No Failure\",\"No Failure\",\"No Failure\",\"No Failure\",\"No Failure\",\"No Failure\",\"No Failure\",\"No Failure\",\"No Failure\",\"No Failure\",\"No Failure\",\"No Failure\",\"No Failure\",\"No Failure\",\"No Failure\",\"No Failure\",\"No Failure\",\"No Failure\",\"No Failure\",\"No Failure\",\"No Failure\",\"No Failure\",\"No Failure\",\"No Failure\",\"No Failure\",\"No Failure\",\"Overstrain Failure\",\"No Failure\",\"No Failure\",\"No Failure\",\"No Failure\",\"No Failure\",\"No Failure\",\"No Failure\",\"No Failure\",\"No Failure\",\"No Failure\",\"No Failure\",\"No Failure\",\"No Failure\",\"No Failure\",\"No Failure\",\"No Failure\",\"No Failure\",\"No Failure\",\"No Failure\",\"No Failure\",\"No Failure\",\"No Failure\",\"No Failure\",\"No Failure\",\"No Failure\",\"No Failure\",\"No Failure\",\"No Failure\",\"No Failure\",\"No Failure\",\"No Failure\",\"No Failure\",\"No Failure\",\"No Failure\",\"No Failure\",\"No Failure\",\"No Failure\",\"No Failure\",\"No Failure\",\"No Failure\",\"No Failure\",\"No Failure\",\"No Failure\",\"No Failure\",\"No Failure\",\"No Failure\",\"No Failure\",\"No Failure\",\"No Failure\",\"No Failure\",\"No Failure\",\"No Failure\",\"No Failure\",\"No Failure\",\"No Failure\",\"No Failure\",\"No Failure\",\"No Failure\",\"No Failure\",\"No Failure\",\"No Failure\",\"No Failure\",\"Overstrain Failure\",\"No Failure\",\"No Failure\",\"No Failure\",\"No Failure\",\"No Failure\",\"No Failure\",\"No Failure\",\"No Failure\",\"No Failure\",\"No Failure\",\"No Failure\",\"No Failure\",\"No Failure\",\"No Failure\",\"No Failure\",\"No Failure\",\"No Failure\",\"No Failure\",\"No Failure\",\"No Failure\",\"No Failure\",\"No Failure\",\"No Failure\",\"No Failure\",\"No Failure\",\"No Failure\",\"No Failure\",\"No Failure\",\"No Failure\",\"No Failure\",\"No Failure\",\"No Failure\",\"No Failure\",\"No Failure\",\"No Failure\",\"No Failure\",\"No Failure\",\"No Failure\",\"No Failure\",\"No Failure\",\"No Failure\",\"No Failure\",\"No Failure\",\"No Failure\",\"No Failure\",\"No Failure\",\"No Failure\",\"No Failure\",\"No Failure\",\"No Failure\",\"No Failure\",\"No Failure\",\"No Failure\",\"No Failure\",\"No Failure\",\"No Failure\",\"No Failure\",\"No Failure\",\"No Failure\",\"No Failure\",\"No Failure\",\"No Failure\",\"No Failure\",\"No Failure\",\"No Failure\",\"No Failure\",\"No Failure\",\"No Failure\",\"No Failure\",\"No Failure\",\"No Failure\",\"No Failure\",\"No Failure\",\"No Failure\",\"No Failure\",\"No Failure\",\"No Failure\",\"No Failure\",\"No Failure\",\"No Failure\",\"No Failure\",\"No Failure\",\"No Failure\",\"No Failure\",\"No Failure\",\"No Failure\",\"No Failure\",\"No Failure\",\"No Failure\",\"No Failure\",\"No Failure\",\"No Failure\",\"No Failure\",\"No Failure\",\"No Failure\",\"No Failure\",\"No Failure\",\"No Failure\",\"No Failure\",\"No Failure\",\"No Failure\",\"No Failure\",\"No Failure\",\"No Failure\",\"No Failure\",\"No Failure\",\"No Failure\",\"No Failure\",\"No Failure\",\"No Failure\",\"Overstrain Failure\",\"No Failure\",\"No Failure\",\"Overstrain Failure\",\"No Failure\",\"Tool Wear Failure\",\"No Failure\",\"No Failure\",\"No Failure\",\"No Failure\",\"No Failure\",\"No Failure\",\"No Failure\",\"No Failure\",\"No Failure\",\"No Failure\",\"No Failure\",\"No Failure\",\"No Failure\",\"No Failure\",\"No Failure\",\"No Failure\",\"No Failure\",\"No Failure\",\"No Failure\",\"No Failure\",\"No Failure\",\"No Failure\",\"No Failure\",\"No Failure\",\"No Failure\",\"No Failure\",\"No Failure\",\"No Failure\",\"No Failure\",\"No Failure\",\"No Failure\",\"No Failure\",\"No Failure\",\"No Failure\",\"No Failure\",\"No Failure\",\"No Failure\",\"No Failure\",\"No Failure\",\"No Failure\",\"No Failure\",\"No Failure\",\"No Failure\",\"No Failure\",\"No Failure\",\"No Failure\",\"No Failure\",\"No Failure\",\"No Failure\",\"No Failure\",\"No Failure\",\"No Failure\",\"No Failure\",\"No Failure\",\"No Failure\",\"No Failure\",\"No Failure\",\"No Failure\",\"No Failure\",\"No Failure\",\"No Failure\",\"No Failure\",\"No Failure\",\"No Failure\",\"No Failure\",\"No Failure\",\"No Failure\",\"No Failure\",\"No Failure\",\"No Failure\",\"No Failure\",\"No Failure\",\"No Failure\",\"No Failure\",\"No Failure\",\"No Failure\",\"No Failure\",\"No Failure\",\"No Failure\",\"No Failure\",\"No Failure\",\"No Failure\",\"No Failure\",\"No Failure\",\"Tool Wear Failure\",\"No Failure\",\"No Failure\",\"No Failure\",\"No Failure\",\"No Failure\",\"No Failure\",\"No Failure\",\"No Failure\",\"No Failure\",\"No Failure\",\"No Failure\",\"No Failure\",\"No Failure\",\"No Failure\",\"No Failure\",\"No Failure\",\"No Failure\",\"No Failure\",\"No Failure\",\"No Failure\",\"No Failure\",\"No Failure\",\"No Failure\",\"No Failure\",\"Power Failure\",\"No Failure\",\"No Failure\",\"No Failure\",\"No Failure\",\"No Failure\",\"No Failure\",\"No Failure\",\"No Failure\",\"No Failure\",\"No Failure\",\"No Failure\",\"No Failure\",\"No Failure\",\"No Failure\",\"No Failure\",\"No Failure\",\"No Failure\",\"No Failure\",\"No Failure\",\"No Failure\",\"No Failure\",\"No Failure\",\"No Failure\",\"Overstrain Failure\",\"No Failure\",\"No Failure\",\"No Failure\",\"No Failure\",\"No Failure\",\"No Failure\",\"No Failure\",\"No Failure\",\"No Failure\",\"No Failure\",\"No Failure\",\"No Failure\",\"No Failure\",\"No Failure\",\"No Failure\",\"No Failure\",\"No Failure\",\"No Failure\",\"No Failure\",\"No Failure\",\"No Failure\",\"No Failure\",\"No Failure\",\"No Failure\",\"No Failure\",\"No Failure\",\"No Failure\",\"No Failure\",\"No Failure\",\"No Failure\",\"No Failure\",\"No Failure\",\"No Failure\",\"No Failure\",\"No Failure\",\"No Failure\",\"No Failure\",\"No Failure\",\"No Failure\",\"No Failure\",\"No Failure\",\"No Failure\",\"No Failure\",\"No Failure\",\"No Failure\",\"No Failure\",\"No Failure\",\"No Failure\",\"No Failure\",\"No Failure\",\"No Failure\",\"No Failure\",\"No Failure\",\"No Failure\",\"No Failure\",\"No Failure\",\"No Failure\",\"No Failure\",\"No Failure\",\"No Failure\",\"No Failure\",\"No Failure\",\"No Failure\",\"No Failure\",\"No Failure\",\"No Failure\",\"No Failure\",\"No Failure\",\"No Failure\",\"No Failure\",\"No Failure\",\"No Failure\",\"No Failure\",\"No Failure\",\"No Failure\",\"No Failure\",\"No Failure\",\"No Failure\",\"No Failure\",\"No Failure\",\"No Failure\",\"No Failure\",\"No Failure\",\"No Failure\",\"No Failure\",\"No Failure\",\"No Failure\",\"No Failure\",\"No Failure\",\"No Failure\",\"No Failure\",\"No Failure\",\"No Failure\",\"No Failure\",\"No Failure\",\"No Failure\",\"No Failure\",\"No Failure\",\"No Failure\",\"No Failure\",\"No Failure\",\"No Failure\",\"No Failure\",\"No Failure\",\"No Failure\",\"No Failure\",\"No Failure\",\"No Failure\",\"Overstrain Failure\",\"Tool Wear Failure\",\"No Failure\",\"No Failure\",\"No Failure\",\"No Failure\",\"No Failure\",\"No Failure\",\"No Failure\",\"No Failure\",\"No Failure\",\"No Failure\",\"No Failure\",\"No Failure\",\"No Failure\",\"No Failure\",\"No Failure\",\"No Failure\",\"No Failure\",\"No Failure\",\"No Failure\",\"No Failure\",\"No Failure\",\"No Failure\",\"No Failure\",\"No Failure\",\"No Failure\",\"No Failure\",\"No Failure\",\"No Failure\",\"No Failure\",\"No Failure\",\"No Failure\",\"No Failure\",\"No Failure\",\"No Failure\",\"No Failure\",\"No Failure\",\"No Failure\",\"No Failure\",\"No Failure\",\"No Failure\",\"No Failure\",\"No Failure\",\"No Failure\",\"No Failure\",\"No Failure\",\"No Failure\",\"No Failure\",\"No Failure\",\"No Failure\",\"No Failure\",\"No Failure\",\"Tool Wear Failure\",\"No Failure\",\"No Failure\",\"No Failure\",\"No Failure\",\"No Failure\",\"No Failure\",\"No Failure\",\"No Failure\",\"No Failure\",\"No Failure\",\"No Failure\",\"No Failure\",\"No Failure\",\"No Failure\",\"No Failure\",\"No Failure\",\"No Failure\",\"No Failure\",\"No Failure\",\"No Failure\",\"No Failure\",\"No Failure\",\"No Failure\",\"No Failure\",\"No Failure\",\"No Failure\",\"No Failure\",\"No Failure\",\"No Failure\",\"No Failure\",\"No Failure\",\"No Failure\",\"No Failure\",\"No Failure\",\"No Failure\",\"No Failure\",\"No Failure\",\"No Failure\",\"No Failure\",\"No Failure\",\"No Failure\",\"No Failure\",\"No Failure\",\"No Failure\",\"No Failure\",\"No Failure\",\"No Failure\",\"No Failure\",\"No Failure\",\"No Failure\",\"No Failure\",\"No Failure\",\"No Failure\",\"No Failure\",\"No Failure\",\"No Failure\",\"No Failure\",\"No Failure\",\"No Failure\",\"No Failure\",\"No Failure\",\"No Failure\",\"No Failure\",\"No Failure\",\"No Failure\",\"No Failure\",\"No Failure\",\"No Failure\",\"No Failure\",\"No Failure\",\"No Failure\",\"No Failure\",\"No Failure\",\"No Failure\",\"No Failure\",\"No Failure\",\"No Failure\",\"No Failure\",\"No Failure\",\"No Failure\",\"No Failure\",\"No Failure\",\"No Failure\",\"No Failure\",\"No Failure\",\"No Failure\",\"No Failure\",\"No Failure\",\"No Failure\",\"No Failure\",\"No Failure\",\"No Failure\",\"No Failure\",\"No Failure\",\"No Failure\",\"No Failure\",\"No Failure\",\"No Failure\",\"No Failure\",\"No Failure\",\"No Failure\",\"No Failure\",\"No Failure\",\"No Failure\",\"No Failure\",\"No Failure\",\"No Failure\",\"No Failure\",\"No Failure\",\"No Failure\",\"No Failure\",\"No Failure\",\"No Failure\",\"No Failure\",\"No Failure\",\"No Failure\",\"No Failure\",\"No Failure\",\"No Failure\",\"No Failure\",\"No Failure\",\"No Failure\",\"No Failure\",\"No Failure\",\"No Failure\",\"No Failure\",\"No Failure\",\"No Failure\",\"No Failure\",\"No Failure\",\"No Failure\",\"No Failure\",\"No Failure\",\"No Failure\",\"No Failure\",\"No Failure\",\"No Failure\",\"No Failure\",\"No Failure\",\"No Failure\",\"No Failure\",\"No Failure\",\"No Failure\",\"No Failure\",\"No Failure\",\"No Failure\",\"No Failure\",\"No Failure\",\"No Failure\",\"No Failure\",\"No Failure\",\"No Failure\",\"No Failure\",\"No Failure\",\"No Failure\",\"No Failure\",\"No Failure\",\"No Failure\",\"No Failure\",\"No Failure\",\"No Failure\",\"No Failure\",\"No Failure\",\"No Failure\",\"No Failure\",\"No Failure\",\"No Failure\",\"No Failure\",\"No Failure\",\"No Failure\",\"No Failure\",\"No Failure\",\"No Failure\",\"No Failure\",\"No Failure\",\"No Failure\",\"No Failure\",\"No Failure\",\"No Failure\",\"No Failure\",\"No Failure\",\"No Failure\",\"No Failure\",\"No Failure\",\"No Failure\",\"No Failure\",\"No Failure\",\"No Failure\",\"No Failure\",\"No Failure\",\"Overstrain Failure\",\"Tool Wear Failure\",\"No Failure\",\"No Failure\",\"No Failure\",\"No Failure\",\"No Failure\",\"No Failure\",\"No Failure\",\"No Failure\",\"No Failure\",\"No Failure\",\"No Failure\",\"No Failure\",\"No Failure\",\"No Failure\",\"No Failure\",\"No Failure\",\"No Failure\",\"No Failure\",\"No Failure\",\"No Failure\",\"No Failure\",\"No Failure\",\"No Failure\",\"No Failure\",\"No Failure\",\"No Failure\",\"No Failure\",\"No Failure\",\"No Failure\",\"No Failure\",\"No Failure\",\"No Failure\",\"No Failure\",\"No Failure\",\"No Failure\",\"No Failure\",\"No Failure\",\"No Failure\",\"No Failure\",\"Power Failure\",\"No Failure\",\"No Failure\",\"No Failure\",\"No Failure\",\"No Failure\",\"No Failure\",\"No Failure\",\"No Failure\",\"No Failure\",\"No Failure\",\"No Failure\",\"No Failure\",\"No Failure\",\"No Failure\",\"No Failure\",\"No Failure\",\"No Failure\",\"No Failure\",\"No Failure\",\"No Failure\",\"No Failure\",\"No Failure\",\"No Failure\",\"No Failure\",\"No Failure\",\"No Failure\",\"No Failure\",\"No Failure\",\"No Failure\",\"No Failure\",\"No Failure\",\"No Failure\",\"No Failure\",\"No Failure\",\"No Failure\",\"No Failure\",\"No Failure\",\"No Failure\",\"No Failure\",\"No Failure\",\"No Failure\",\"No Failure\",\"No Failure\",\"No Failure\",\"No Failure\",\"No Failure\",\"No Failure\",\"No Failure\",\"No Failure\",\"No Failure\",\"No Failure\",\"No Failure\",\"No Failure\",\"Tool Wear Failure\",\"Power Failure\",\"No Failure\",\"No Failure\",\"No Failure\",\"No Failure\",\"No Failure\",\"No Failure\",\"No Failure\",\"No Failure\",\"No Failure\",\"No Failure\",\"No Failure\",\"No Failure\",\"No Failure\",\"No Failure\",\"No Failure\",\"No Failure\",\"No Failure\",\"No Failure\",\"No Failure\",\"No Failure\",\"No Failure\",\"No Failure\",\"No Failure\",\"No Failure\",\"No Failure\",\"No Failure\",\"No Failure\",\"No Failure\",\"No Failure\",\"No Failure\",\"No Failure\",\"No Failure\",\"No Failure\",\"No Failure\",\"No Failure\",\"No Failure\",\"No Failure\",\"No Failure\",\"No Failure\",\"No Failure\",\"No Failure\",\"No Failure\",\"No Failure\",\"No Failure\",\"No Failure\",\"No Failure\",\"No Failure\",\"No Failure\",\"No Failure\",\"No Failure\",\"No Failure\",\"No Failure\",\"No Failure\",\"No Failure\",\"No Failure\",\"No Failure\",\"No Failure\",\"No Failure\",\"No Failure\",\"No Failure\",\"No Failure\",\"No Failure\",\"No Failure\",\"No Failure\",\"No Failure\",\"No Failure\",\"No Failure\",\"No Failure\",\"No Failure\",\"No Failure\",\"No Failure\",\"No Failure\",\"No Failure\",\"No Failure\",\"No Failure\",\"No Failure\",\"No Failure\",\"No Failure\",\"No Failure\",\"No Failure\",\"No Failure\",\"No Failure\",\"No Failure\",\"No Failure\",\"No Failure\",\"No Failure\",\"No Failure\",\"No Failure\",\"No Failure\",\"No Failure\",\"No Failure\",\"No Failure\",\"No Failure\",\"No Failure\",\"No Failure\",\"No Failure\",\"No Failure\",\"No Failure\",\"No Failure\",\"No Failure\",\"No Failure\",\"No Failure\",\"No Failure\",\"No Failure\",\"No Failure\",\"No Failure\",\"No Failure\",\"No Failure\",\"No Failure\",\"No Failure\",\"No Failure\",\"No Failure\",\"No Failure\",\"No Failure\",\"No Failure\",\"No Failure\",\"No Failure\",\"No Failure\",\"No Failure\",\"No Failure\",\"No Failure\",\"No Failure\",\"No Failure\",\"No Failure\",\"No Failure\",\"No Failure\",\"No Failure\",\"No Failure\",\"No Failure\",\"No Failure\",\"No Failure\",\"No Failure\",\"No Failure\",\"No Failure\",\"No Failure\",\"No Failure\",\"No Failure\",\"No Failure\",\"No Failure\",\"No Failure\",\"No Failure\",\"No Failure\",\"Overstrain Failure\",\"No Failure\",\"No Failure\",\"No Failure\",\"No Failure\",\"No Failure\",\"No Failure\",\"No Failure\",\"No Failure\",\"No Failure\",\"No Failure\",\"No Failure\",\"No Failure\",\"No Failure\",\"No Failure\",\"No Failure\",\"No Failure\",\"No Failure\",\"No Failure\",\"No Failure\",\"No Failure\",\"No Failure\",\"No Failure\",\"No Failure\",\"No Failure\",\"No Failure\",\"No Failure\",\"No Failure\",\"No Failure\",\"No Failure\",\"No Failure\",\"No Failure\",\"No Failure\",\"No Failure\",\"No Failure\",\"No Failure\",\"No Failure\",\"No Failure\",\"Overstrain Failure\",\"No Failure\",\"No Failure\",\"No Failure\",\"No Failure\",\"No Failure\",\"No Failure\",\"No Failure\",\"No Failure\",\"No Failure\",\"No Failure\",\"No Failure\",\"No Failure\",\"No Failure\",\"No Failure\",\"No Failure\",\"No Failure\",\"No Failure\",\"No Failure\",\"No Failure\",\"No Failure\",\"No Failure\",\"No Failure\",\"No Failure\",\"No Failure\",\"No Failure\",\"No Failure\",\"No Failure\",\"No Failure\",\"No Failure\",\"No Failure\",\"No Failure\",\"No Failure\",\"No Failure\",\"No Failure\",\"No Failure\",\"No Failure\",\"No Failure\",\"No Failure\",\"No Failure\",\"No Failure\",\"No Failure\",\"No Failure\",\"No Failure\",\"No Failure\",\"No Failure\",\"No Failure\",\"No Failure\",\"Tool Wear Failure\",\"No Failure\",\"No Failure\",\"No Failure\",\"No Failure\",\"No Failure\",\"No Failure\",\"No Failure\",\"No Failure\",\"No Failure\",\"No Failure\",\"No Failure\",\"No Failure\",\"No Failure\",\"No Failure\",\"No Failure\",\"No Failure\",\"No Failure\",\"No Failure\",\"No Failure\",\"No Failure\",\"No Failure\",\"No Failure\",\"Power Failure\",\"No Failure\",\"No Failure\",\"No Failure\",\"No Failure\",\"No Failure\",\"No Failure\",\"No Failure\",\"No Failure\",\"No Failure\",\"No Failure\",\"No Failure\",\"No Failure\",\"No Failure\",\"No Failure\",\"No Failure\",\"No Failure\",\"No Failure\",\"No Failure\",\"No Failure\",\"No Failure\",\"No Failure\",\"No Failure\",\"Overstrain Failure\",\"Overstrain Failure\",\"No Failure\",\"No Failure\",\"No Failure\",\"Overstrain Failure\",\"Overstrain Failure\",\"Overstrain Failure\",\"No Failure\",\"Overstrain Failure\",\"No Failure\",\"No Failure\",\"No Failure\",\"No Failure\",\"No Failure\",\"No Failure\",\"No Failure\",\"No Failure\",\"No Failure\",\"No Failure\",\"No Failure\",\"No Failure\",\"No Failure\",\"No Failure\",\"No Failure\",\"No Failure\",\"No Failure\",\"No Failure\",\"No Failure\",\"No Failure\",\"No Failure\",\"No Failure\",\"No Failure\",\"No Failure\",\"No Failure\",\"No Failure\",\"No Failure\",\"No Failure\",\"No Failure\",\"No Failure\",\"No Failure\",\"No Failure\",\"No Failure\",\"No Failure\",\"No Failure\",\"No Failure\",\"No Failure\",\"No Failure\",\"No Failure\",\"No Failure\",\"No Failure\",\"No Failure\",\"No Failure\",\"No Failure\",\"No Failure\",\"No Failure\",\"No Failure\",\"No Failure\",\"No Failure\",\"No Failure\",\"No Failure\",\"No Failure\",\"No Failure\",\"No Failure\",\"No Failure\",\"No Failure\",\"No Failure\",\"No Failure\",\"No Failure\",\"No Failure\",\"Tool Wear Failure\",\"No Failure\",\"No Failure\",\"No Failure\",\"Power Failure\",\"No Failure\",\"No Failure\",\"No Failure\",\"No Failure\",\"No Failure\",\"No Failure\",\"No Failure\",\"No Failure\",\"No Failure\",\"No Failure\",\"No Failure\",\"No Failure\",\"No Failure\",\"No Failure\",\"No Failure\",\"No Failure\",\"No Failure\",\"No Failure\",\"No Failure\",\"No Failure\",\"No Failure\",\"No Failure\",\"No Failure\",\"No Failure\",\"Overstrain Failure\",\"No Failure\",\"No Failure\",\"No Failure\",\"No Failure\",\"Overstrain Failure\",\"No Failure\",\"No Failure\",\"No Failure\",\"No Failure\",\"No Failure\",\"No Failure\",\"No Failure\",\"No Failure\",\"No Failure\",\"No Failure\",\"No Failure\",\"No Failure\",\"No Failure\",\"No Failure\",\"No Failure\",\"No Failure\",\"No Failure\",\"No Failure\",\"No Failure\",\"No Failure\",\"No Failure\",\"No Failure\",\"No Failure\",\"No Failure\",\"No Failure\",\"No Failure\",\"No Failure\",\"No Failure\",\"No Failure\",\"No Failure\",\"No Failure\",\"No Failure\",\"No Failure\",\"No Failure\",\"No Failure\",\"No Failure\",\"No Failure\",\"No Failure\",\"No Failure\",\"No Failure\",\"No Failure\",\"No Failure\",\"No Failure\",\"No Failure\",\"No Failure\",\"No Failure\",\"No Failure\",\"No Failure\",\"No Failure\",\"No Failure\",\"No Failure\",\"No Failure\",\"No Failure\",\"No Failure\",\"No Failure\",\"No Failure\",\"No Failure\",\"No Failure\",\"No Failure\",\"No Failure\",\"No Failure\",\"No Failure\",\"No Failure\",\"No Failure\",\"No Failure\",\"No Failure\",\"No Failure\",\"No Failure\",\"No Failure\",\"No Failure\",\"No Failure\",\"No Failure\",\"No Failure\",\"No Failure\",\"No Failure\",\"No Failure\",\"No Failure\",\"No Failure\",\"No Failure\",\"No Failure\",\"Power Failure\",\"No Failure\",\"No Failure\",\"No Failure\",\"No Failure\",\"No Failure\",\"No Failure\",\"No Failure\",\"No Failure\",\"No Failure\",\"No Failure\",\"No Failure\"],\"legendgroup\":\"L\",\"marker\":{\"color\":\"#EF553B\",\"symbol\":\"circle\"},\"mode\":\"markers\",\"name\":\"L\",\"showlegend\":true,\"x\":[1408,1498,1433,1408,1558,1527,2035,1542,1450,1758,1861,1512,1439,1693,1798,1419,1665,1439,1350,1362,1368,1489,1418,2861,1383,1565,1691,1512,1477,1513,1378,1393,1829,1523,1394,1527,1410,1452,1369,1592,1601,1379,1461,1455,1398,1402,1450,1453,1469,1422,1544,1753,1830,1450,1622,1529,1523,1852,1991,1555,1450,1591,1445,1572,1872,1680,1431,1564,1599,1467,1433,1558,1310,1546,1727,1560,1329,1413,1587,1559,1473,1737,1369,1297,1268,1511,1544,1513,1515,1473,1422,1850,1528,1471,1282,1412,1586,1733,1433,1318,1462,1306,1382,1618,1988,1436,1304,1475,1485,1667,1446,1301,1379,1606,1477,1666,1453,1588,1433,1609,1575,1490,1741,1609,1591,1477,1523,1575,1386,1548,1499,1664,1447,1416,1304,1569,1584,1362,1329,1539,1538,1570,1408,1424,1512,1478,1495,1393,1611,1777,1348,1442,1585,1469,1362,1405,1662,1620,1357,1514,1489,1331,1615,1482,1654,1390,1454,1954,1524,1484,1426,1652,1401,1819,1626,1469,2051,1568,1589,1805,1436,1438,1473,1335,1395,1713,1622,1740,1737,2129,1374,1305,1468,1313,1646,1714,1685,1512,1612,1518,1448,1561,1699,1501,1373,1647,1749,1742,1563,1474,1471,1388,1585,1544,1617,1595,1658,1623,1517,1596,1438,1407,1353,1489,1604,1412,1431,1533,1754,1754,2564,1546,1335,1712,1319,1249,1455,1460,1491,1528,1571,1490,1392,2100,1722,1678,1273,1297,1350,1439,1459,1429,1388,1573,1588,1511,1495,1394,2151,1333,1484,1430,1501,1208,1596,1446,1493,1504,1538,1341,1389,1399,1582,1793,1452,1552,1622,1510,1468,1429,1276,1486,1476,1402,1433,2874,1511,1550,2182,1619,1478,1380,1570,1833,1583,1548,1324,1568,1584,1459,1420,1404,1470,1326,1505,1611,1515,1390,1610,1543,1893,1564,1479,1426,1428,1620,1715,1732,1924,1617,1497,1401,1620,1466,1373,1569,1549,1443,1675,1623,1759,1473,1296,1803,1958,1809,1332,1437,1698,1274,1357,1650,1503,1318,1574,1529,1935,1498,1351,1472,1591,1533,1394,1341,2001,1501,1628,1491,1517,1312,1480,1547,2194,2000,1336,1542,1461,1403,1629,1534,1553,1563,1634,1642,1507,1408,1926,1545,1533,1455,1523,1460,1554,1442,1507,1858,1463,1585,1536,1403,1390,1392,1559,1611,1503,1391,2015,1683,1435,1365,1562,1449,1469,1390,1729,1470,1459,1738,1822,1554,1449,1456,1478,1372,1874,1538,1563,1479,1477,1394,1487,1539,1515,1516,1507,1838,1443,1453,1439,1609,1324,1545,1477,1447,1809,1696,1427,1390,1640,1586,1924,1557,1555,1506,1390,1513,1643,1361,1450,1451,1289,1356,1978,1535,1422,1536,1584,1555,1497,1505,1646,1400,1337,1332,1561,1546,1713,1343,1391,1510,1448,1453,1468,1382,1580,1666,1675,1698,1743,1741,1435,1420,1611,1373,1605,1565,1285,1571,1867,1424,1452,1550,1588,1338,1513,1434,1368,1304,1398,1516,1474,1436,1474,1481,1501,1566,1579,1631,1521,1616,1368,1465,1582,1439,1485,1566,1439,2833,1465,1567,1444,1615,1898,1416,1414,1678,1358,1325,1339,1892,1575,1915,1337,1464,1490,1356,1397,1458,1389,1370,1408,1343,1426,1573,1612,1446,1569,1383,2270,1474,1456,1546,1569,1621,1475,1407,1800,1372,1949,1419,1542,1363,1597,1263,1823,1488,1443,1650,1287,1428,1636,1424,1448,1650,1911,1399,1505,1534,1493,1621,1737,1508,1547,1412,1568,1557,1644,1679,1511,1917,1389,1409,1655,1516,1526,1419,1748,1414,1651,1566,1560,1654,1662,1646,1444,1382,1413,1441,1445,1356,1637,1291,1398,1372,1515,1881,1711,1475,1512,1472,1760,1549,1648,1403,1498,1524,1502,1809,1542,1431,1512,1331,1607,1415,1671,1556,1927,1480,1565,1573,1605,1420,1372,1718,1466,1394,1425,1414,1595,1653,1547,1731,1774,1521,1683,1385,1455,1464,1447,1354,2721,1680,1347,1389,1540,1504,1557,1292,1487,1523,1443,1340,1459,1541,1706,1690,1413,1489,1271,1535,1557,1653,1435,1635,1423,1479,1296,1553,1529,1348,1446,1456,1350,1507,1626,1583,1436,1609,1316,1400,1367,1754,1487,1362,1584,1355,1446,1398,1441,1379,1410,1513,1497,1491,1417,1339,1460,1347,1658,1521,1371,1489,1537,1359,1709,1514,1455,1577,1399,1492,1763,1488,1422,1304,1500,1636,1468,1726,1513,1489,1467,1549,1533,1309,1466,1427,1528,1400,1558,1633,1496,1467,1397,1398,1546,1356,2153,1582,1419,1429,1486,1402,1621,1428,1322,1483,1505,1593,2098,1672,1487,1423,1750,1654,1498,1587,1473,1359,1520,1507,1428,1929,1362,1361,1411,1814,1696,1868,1365,1371,1583,1721,1569,1676,1809,1804,1533,1717,1363,1402,1436,1525,1334,1593,1461,1404,1517,1433,1566,1676,1451,1553,1461,1620,1786,1653,1484,1445,1823,1533,1409,2737,1594,1527,1452,1483,1569,1472,1533,1372,1394,1442,1564,1452,1466,1944,1617,1541,1320,1354,1589,1530,1539,1462,1356,1394,1568,1378,1437,1363,1482,1550,1602,1477,1618,1831,1584,1450,1428,1382,1501,1475,1364,1472,1437,1491,1706,1607,1412,1546,1365,1544,1497,1437,1421,1692,1570,1568,1355,1578,1429,1568,1341,1496,1268,1629,1790,1462,1771,1506,1626,1610,1429,1642,1568,1278,1472,1519,1601,2449,1787,1559,1557,1497,1757,1581,1798,2304,1379,1628,1474,1391,1348,1706,1638,1458,1781,1332,1491,1585,1458,1388,2216,1402,1459,1521,1407,1452,1528,1230,1466,1478,2057,1490,1484,1593,1444,1310,1400,1688,1497,1355,1592,1544,1365,1877,1531,1501,1490,1597,1452,1396,1505,1412,1393,1581,1573,1296,1447,1563,1286,1590,1492,1844,1921,1365,1499,1451,1412,1433,1426,1476,1383,1505,1665,1397,1567,1453,1622,1538,1761,1373,1414,1386,1379,1532,1697,1499,1535,1551,1769,1551,1544,1528,1614,1432,1540,1407,1644,1792,1438,1824,1502,1606,1561,1602,1618,1509,1550,1481,1289,1479,1430,1521,1439,1627,1749,1530,1355,1551,1515,1388,1585,1523,1369,1503,1459,1688,2029,1906,1465,1515,1380,1544,1743,1379,1624,1526,2381,1576,1942,1492,1470,1424,1608,1684,1950,1511,1368,1981,1446,1508,1384,1404,1564,1325,1595,1662,1571,2886,1538,1618,1364,1442,1313,1847,1524,1761,1388,1495,1654,2567,1767,1364,1476,1479,1650,1460,1664,1493,1354,1488,1414,1391,1351,1880,1859,1327,1498,1518,1392,1715,1668,1496,1444,1412,1668,1486,1643,1355,1607,1517,1546,1567,1502,1361,1486,1840,1326,1367,1598,1363,1242,1705,1548,1683,1503,1512,1764,1631,1344,1574,1418,1372,1388,1694,1968,1687,1430,1504,1977,1435,1643,1492,1387,1658,2161,1665,1716,1529,1353,1537,1606,1623,1638,1698,1411,1517,1578,1425,1456,1704,1791,1616,1622,1462,1410,1839,1266,1593,1459,1308,1446,1448,1391,1379,1581,1515,1589,1281,1298,1612,1747,1450,1422,1442,1385,1537,1498,1785,1423,1375,1451,1672,1540,1279,1604,1654,1451,1504,1562,1811,1278,1616,1397,1485,1310,1301,1458,1483,1375,1480,1373,1444,1469,1750,1668,1400,1331,1444,1892,1405,1686,1680,1470,1388,1775,1465,1477,1382,1643,1333,1520,1803,1359,1321,1453,1419,1512,1553,1352,1570,1677,1602,1390,1544,1701,2280,1442,1462,1577,1331,1941,1393,1433,1444,1564,1377,1525,1401,1596,1528,1325,1495,1645,1436,1852,1863,1404,1491,1430,1258,1449,1800,1391,1432,1660,1473,1511,1588,1623,1734,1415,1419,1376,1451,1550,1647,1550,1583,1613,1341,1507,1464,1336,1422,1540,1476,1415,1502,1816,1572,1602,1601,1475,1630,1445,1420,1648,1472,1613,1412,1546,1567,1614,1624,1436,1591,1386,1401,1475,1473,1645,1347,1713,1372,1605,1413,1965,1681,1446,1415,1672,2549,1492,1403,1474,1381,1457,1711,1667,1465,1406,1442,1386,1325,1559,1489,1892,1319,1431,1533,1381,1370,1438,1314,1437,1821,1589,1520,1605,1393,1525,1390,1536,1459,1387,1378,1381,1746,1504,1422,1520,1627,1512,1553,1802,1482,1446,1371,1515,1374,1455,1260,1371,1611,1368,1526,1542,1605,1405,1514,1636,1603,1579,1484,1384,1378,1445,1445,1509,1434,1877,1651,1466,1479,1409,1305,1475,1402,1410,1436,1744,1393,1841,1433,1772,1413,1510,1366,1845,1485,1620,1409,1350,1348,1242,1493,1601,1568,1524,1543,1867,1487,1580,1340,1544,1488,1582,1490,1325,1498,1437,1356,1539,1689,1559,1408,1886,1415,1571,1576,1660,2384,1443,1828,1472,1855,1432,1510,1441,1686,1426,1693,1426,1676,1647,1267,1422,1408,1440,1772,1492,1650,1648,1653,1946,1555,1661,1434,1297,1466,1742,1580,1481,1429,1507,1467,1301,1429,1503,1459,1387,1604,1734,1378,1504,1593,1356,1445,1329,1467,1617,1515,1408,1468,1387,1615,1511,1405,1530,1583,2069,1490,1736,1395,1631,1535,1584,1635,1501,1450,1730,1438,1389,1490,1729,1495,1281,1429,1413,1502,1786,1951,1605,1578,1489,1366,1541,1473,1531,1511,1447,1607,1551,1496,1493,1304,1766,1450,1713,1499,1972,1422,1523,1563,1391,1795,1293,1345,1615,1342,1502,1537,2248,1706,2250,1396,1522,1539,1446,1426,1449,1320,1422,1399,1427,1552,1448,1409,1621,1957,2421,1634,1516,1207,1670,1569,1556,1399,1650,1586,1372,1532,1554,1254,1294,1739,1542,1510,1408,1436,1280,2008,1772,1779,1567,1349,1395,1291,1620,2256,1467,1445,1480,1546,1574,1592,1495,1447,1476,1641,1545,1590,1460,1609,1633,1348,1322,1641,1728,1431,1641,1869,1452,1618,2010,1363,1473,1333,1760,1326,2266,1641,1574,1407,1498,1357,1690,1559,1558,1362,1555,1434,1779,1417,1425,1346,1422,1412,1572,1525,1378,1369,1476,1620,1411,1616,1631,1417,1715,1478,1781,1439,1483,1400,1299,1479,1491,1925,1675,1364,1451,1467,1858,1559,1560,1453,1464,1308,1353,2183,1430,1495,1326,1356,1584,1597,1553,1539,1568,1404,1343,1450,1460,1364,1471,1598,1772,1761,1887,1395,1434,1417,1729,1356,1436,1593,1470,1412,1612,1807,1368,1572,1699,1478,1705,1345,1532,1650,1398,1412,1525,1766,1671,1373,1470,1528,1417,1549,1479,1867,1471,1997,1418,1519,1680,1471,1541,1684,1437,1409,1593,1682,1329,1733,1410,1574,1425,2496,1552,1409,1251,1500,1576,1661,1541,1255,1411,1516,1726,1598,1657,1481,1461,1507,1373,1460,1810,1479,1431,2355,1461,1505,1592,1850,1685,1578,1498,1467,1654,1508,1692,1601,1369,1468,1413,1542,1447,1795,1290,1639,1596,1455,1502,1688,1461,1550,1345,1616,1395,1445,1503,1488,1314,1537,1432,1390,1580,1589,1441,1305,1379,1543,1421,1760,1711,1465,1366,1777,1379,1525,1319,1887,1349,1474,1543,1551,1981,1526,1558,1532,1326,1431,1366,1421,1427,1667,1400,1709,1882,1353,1553,1431,1533,1791,1631,2174,1314,1478,1783,1444,1841,1340,1712,1441,1610,1558,1397,1972,1560,1578,1412,1668,1612,1485,1504,1491,1759,1658,1566,1858,2141,1473,1568,1694,1499,1717,1642,1760,1660,1557,1359,1342,1435,1567,1376,1521,1658,1513,1428,1534,1367,1467,1679,1314,1480,1549,1685,1536,1384,1386,1624,1600,1468,1435,1570,1527,1616,1654,1685,1551,1599,1401,1454,1489,1465,1479,1430,1404,1587,1462,1649,1752,1653,2025,1426,1423,1474,1465,1475,1442,1556,1425,1580,1489,1946,1430,1612,1384,1724,1468,1493,1501,1668,1502,1491,1519,1984,1643,1558,1344,1355,1269,1550,1937,1665,1438,1531,1506,1382,1515,1449,1687,1618,1662,1385,1400,1657,1496,1548,1499,1390,1365,1503,1390,1497,1432,1433,1384,1346,1459,1639,1737,1489,1636,1436,1689,2289,1522,1351,1589,1578,1587,1962,1418,1683,1385,1559,1705,1535,1564,1492,1382,1706,1594,1761,1529,1673,1285,1680,1610,1632,1559,1367,1355,1522,1525,1394,1519,1445,1555,1633,1350,2760,1584,1989,1431,1568,1376,1568,1590,1376,1510,1426,1466,1466,1408,1490,1405,1647,1648,1675,1605,1347,1337,1695,1470,1381,1451,1419,1313,1560,1555,1579,1435,1621,1611,1834,1629,1496,1593,1380,1562,1391,1429,1389,1466,2297,1471,1492,1460,1559,1535,1381,1624,1478,1605,1506,1455,1425,1918,1329,1270,1415,1809,1303,1447,1461,2092,1736,1441,1523,1644,1522,1547,1597,1400,1663,1540,1519,1427,1650,1379,1542,1356,1309,1642,1289,1353,1493,1726,1608,1771,1474,1322,1402,1550,1376,1669,1541,1651,1521,1609,1378,1567,1486,1563,1632,1635,1686,1574,1546,1899,1449,1576,1616,1799,1525,1551,1735,1743,1680,1486,1471,1295,1548,1372,1451,1452,1406,1567,1599,2672,1650,1395,1751,1192,1947,1593,2465,1403,1517,1354,1399,1523,1377,1542,1557,1641,1318,1638,1405,1622,1557,1606,1529,1448,1435,1657,1509,1588,1609,1415,1845,1634,1499,1449,1622,1488,1309,1784,1548,1413,1427,1481,1446,1444,1518,1603,1686,1477,1398,1665,1510,1465,1701,1658,1346,1567,1725,1744,1550,1270,1406,1420,1889,1477,1460,1758,1521,1530,1454,1928,1649,1447,1417,1434,1567,1549,1754,1489,1543,1543,1565,1609,1450,1590,1451,1758,1786,1457,1470,1351,1401,1503,1564,1759,1409,1738,1499,1493,1652,1589,1520,1463,1442,1329,1546,1412,1377,1428,1329,1373,1630,1555,1609,1448,1538,1657,1446,1465,1827,1744,1545,1587,1377,1511,1650,1412,1528,1459,1379,1622,1786,1506,1531,1529,1350,1392,1467,1769,1459,1491,1567,1421,1596,1620,1891,1466,1450,1880,1610,1565,1545,1227,1484,1591,1403,1720,1561,2034,1486,1338,1559,1599,1427,1674,1311,1480,1461,1389,1638,1254,1427,1627,1773,1595,1521,1419,1677,1392,1448,1903,1404,1386,1418,1549,1630,1297,1633,1831,1475,1493,1700,1453,1542,1885,1494,1638,1609,1442,1953,1576,1985,1802,1603,1400,1395,1987,1333,1381,1570,1384,1570,1476,1448,1510,1378,1390,1785,1507,1530,1504,1511,1535,1505,1382,1439,1475,1389,1652,1386,1554,1602,1682,1614,1324,1434,1621,1394,1586,1420,1422,1454,1519,1373,1492,1369,1630,1447,1740,1477,1658,1902,1351,1666,1364,1566,1455,2143,1447,1383,1772,1615,1454,1445,1546,1567,1767,1539,1564,1455,2691,1505,1456,1383,1865,1597,1495,1465,1906,1446,1948,1480,1429,1405,1348,1331,1610,1453,1583,1635,1978,1357,1336,1568,1611,1567,1376,1477,2197,1651,1370,1518,1648,1464,1895,1884,1450,1448,1389,1583,1425,1809,1892,1361,1325,1358,1340,1366,1325,1462,1385,1439,1708,1286,1485,1765,1688,1487,1384,1311,1331,1424,1500,1738,1482,1398,1972,1603,1610,1370,1263,1889,1591,1696,1346,1632,1559,1386,1499,1612,1477,1624,1349,1686,1362,1402,1334,1348,1560,1317,1634,1423,1548,1573,1571,2211,1555,1723,1565,1314,1465,1573,1370,1462,1717,1467,1657,1698,1359,1596,1383,2203,1673,1340,1452,1438,1604,1832,1446,1905,1475,1462,1469,1537,1369,1506,1330,1660,1284,1545,1730,2001,1620,1424,1440,1520,1694,1610,1331,1470,1577,1486,1445,1743,1409,1361,1753,1832,1374,1493,1317,1642,2032,1393,1457,2825,1402,1471,2695,1435,1694,1687,1869,1259,1776,1430,1502,1639,1541,1397,1686,1341,1486,1384,1362,1326,1566,1549,1588,1472,1607,1440,1397,1524,1398,1491,1598,1507,1595,1432,1424,1456,1649,1407,1543,1447,1449,1388,1664,1308,1480,1551,1414,1410,1446,1525,1298,1443,1442,1719,1532,1701,1458,1483,1513,1539,1653,1353,1388,1331,1326,1394,2009,1586,1688,1450,1520,1514,1365,1642,1325,1547,1479,1906,1445,1556,1321,1578,1418,1446,1329,1563,1405,2224,1716,1584,1374,1551,1549,1400,1401,1487,1478,1743,1596,1642,1263,2016,1671,1404,1470,1617,1725,1446,1564,1670,1501,1551,1563,1351,1415,1647,1477,1923,1489,1542,1436,1487,1967,1511,1359,1523,1638,1307,1642,1645,1426,1709,1426,1429,1346,1454,1900,1479,1415,1539,1520,1480,1666,1456,1865,1488,1521,1507,1487,1520,1633,1503,1351,1548,1923,1592,1427,1349,1463,1511,1549,1461,1748,1690,1686,1369,1433,1597,1610,1398,1977,1516,1402,1636,1312,1708,1800,1641,1374,1494,1601,1634,1550,1563,1395,1564,1721,1456,1555,1409,1361,1399,1420,1359,1820,1556,1980,1456,1394,1365,2194,1403,1793,1829,1336,1341,1525,1511,1664,1735,1751,1383,1382,1755,1466,1474,1657,1435,1238,1324,1514,1732,1497,1958,1630,1658,1349,1452,1854,1626,1628,1679,1439,1350,1389,1610,1511,1412,1501,1414,1879,1695,1491,1567,1736,2183,1577,1535,1424,1514,1449,1564,1428,1620,1222,1561,1614,1959,1944,1793,1673,1564,1451,1476,1712,1337,1927,1366,1771,1406,1306,1508,1301,1539,1484,1507,1544,1513,1351,1601,1393,1592,1409,1393,1427,1763,1363,1404,1510,1295,1497,1465,1361,1546,1443,1892,1473,1309,1344,1391,1827,1761,1522,1511,1404,1384,1368,1641,1642,1577,1396,1646,1443,1699,1431,1390,1380,1457,1418,1574,1710,1621,1606,1503,1404,1656,1531,1401,1521,1674,1696,1405,1565,1493,1499,1692,2268,1438,1515,1491,1756,1366,1436,1377,1315,1298,1842,1434,1441,1363,1619,1487,1568,1375,1606,1349,1535,1946,1326,1451,1781,1345,1418,1718,1513,1316,1619,1702,1348,1462,1372,1481,1512,1632,1525,1922,2168,1388,1616,2232,1363,1481,1681,1511,1457,1506,1337,1287,1680,1502,1584,1340,1663,1418,1580,1479,1284,1540,1286,1502,1602,1418,1395,1596,1670,1702,1523,1735,1339,1800,1789,1602,1793,1426,1528,1565,1838,1461,1414,1426,1359,1540,1429,1811,1869,1256,1502,2497,1499,1393,1573,1819,1540,1832,1627,1437,1364,1442,1523,1543,1452,1759,1408,1483,1556,1350,1404,1639,1481,1294,1564,1615,1732,1314,1569,1468,1412,1480,1433,1514,1619,1367,1526,1419,1542,1363,1313,1407,1566,1550,1408,1666,1366,1464,1775,1410,1327,1969,1541,1465,1345,1457,1475,1438,1399,1469,1374,1519,1540,1394,1556,1382,1401,1611,1411,1469,1802,1434,1668,1452,1415,1824,1438,1883,1735,1464,1509,1568,1607,1670,1585,1569,1507,1452,1590,1409,2643,1644,1568,1482,1459,1490,1434,1464,1421,1639,1470,1740,1740,1584,1720,1586,1397,2012,2354,1648,1632,1452,1416,1310,1551,1428,1503,1416,1335,1989,1468,1664,1466,1433,1397,1572,1589,1365,1633,1626,1665,1590,1403,1440,1458,1381,1450,1461,1394,1499,1457,1753,1694,1683,1496,1721,1593,1575,1465,1405,1332,1322,1547,1897,1393,1482,1544,1513,1449,1877,1376,1389,1504,1275,1534,1395,1617,1423,1606,1501,1522,1480,1525,1523,1422,1531,1526,1406,1442,1336,1406,1355,1309,1491,1481,1425,1530,1481,1427,1873,1701,1710,1637,1496,1363,1694,1456,1588,1448,1663,1393,1607,1360,1524,1534,1262,1623,1589,1462,1968,1463,1643,1281,1518,1601,1548,1435,1515,1530,2030,1550,1446,1494,1651,1698,1504,1469,1433,1366,1572,1481,1473,1529,1523,1923,1477,1421,1858,1444,1360,1954,1628,1433,1462,1328,1534,1660,1386,1398,1321,1512,1647,1377,1775,1554,1423,1453,1590,1694,1462,1392,1550,1629,1683,1626,1353,2024,1511,1465,1551,2329,1361,1451,1461,1514,1453,1889,1561,1424,1383,1764,1346,1386,1369,1336,1763,1611,1781,1782,1344,1520,1450,1499,1288,1376,1368,1601,1543,1439,1458,1746,1677,1520,1367,1509,1418,1958,1682,1828,1674,1448,1452,1397,1453,1633,1520,1384,1476,1721,1465,1648,1493,1433,1400,1255,1471,1453,1605,1306,1411,1553,1541,1648,1416,1671,1457,1534,1508,1562,1545,1738,1305,1455,1574,1695,2052,1673,1578,1481,1574,1437,1354,1598,1501,1441,1487,1605,1334,1340,1513,1510,1729,1407,1486,1480,1404,1932,1533,1571,1578,1728,1597,1688,1405,1515,1376,1447,1502,1447,1519,1668,1420,1473,1495,1574,1383,1401,1456,1727,1495,1544,1387,1794,1477,1397,1616,1845,1430,2080,1424,1462,1565,1281,1383,1482,1658,2170,1543,1435,1320,1508,1451,1354,1265,1867,1497,1544,1335,1452,1290,1448,1611,1556,1545,1330,1596,1618,1354,1746,1621,1398,1434,1488,1433,1793,1872,1412,1487,1369,1673,1574,1281,1414,1987,1533,1981,1416,1727,1391,1366,1501,1551,1369,1334,1589,1708,1421,1348,1408,1525,1706,1602,1907,1325,1408,1680,1517,1455,1469,1521,1584,1443,1471,1399,1431,1600,1593,1469,1413,1490,1671,1365,1440,1733,1856,1454,1495,1761,1670,1582,1542,1539,1418,1723,1303,1544,1596,1413,1624,1504,1474,1675,1457,1434,1668,1550,1355,1700,1462,1674,1397,2323,1560,1573,1567,1416,1760,1348,1542,1566,1554,1470,1459,1494,1731,2076,2055,1469,1426,1458,1533,1701,1434,1952,1469,1800,1647,1494,1634,1334,1472,1597,1274,1300,1464,1598,1894,1533,1592,1555,1341,1541,1414,1764,1336,1435,1369,1440,1649,1471,1483,1336,1515,1373,1646,1702,1409,1438,1450,1541,1496,2113,1689,1650,1563,1732,1653,1535,1637,1533,1378,1606,1539,1728,1396,1390,1348,1520,1509,1445,1354,1488,1750,1448,1486,1314,1440,1608,1507,1416,1288,1608,1920,1683,1529,1761,1570,1431,1931,1564,1597,1425,1398,1519,1619,1814,1521,1356,1336,1403,1472,1397,1455,1754,1471,1426,1496,1433,1311,1316,1382,2003,1748,1475,1634,1689,2235,1615,1450,1889,1568,1804,1582,1601,1615,1813,1492,1479,1339,1468,1517,1352,1389,1538,1482,1476,1509,1708,1412,1658,1375,1616,1442,1407,1432,1438,1534,1925,1457,1453,1578,1471,1457,1402,1477,1995,1370,1228,1499,1473,1429,1470,1581,1740,1586,1589,1486,1755,1564,1711,1555,1236,1634,1508,1774,1677,1399,1570,1479,1558,1358,1523,1448,1416,1577,1633,1573,1517,1515,1527,1282,1492,1975,1475,1553,1918,1437,1450,1749,1428,1578,1571,1729,1701,1493,1497,1679,1296,1404,1447,1407,1434,1360,1402,1552,1392,1521,1724,1470,1612,1479,1413,2165,1576,1467,1479,1596,1414,1390,1644,1324,1476,2204,1445,1492,1405,1542,1520,1538,1615,1408,1379,1493,1376,1436,1417,1641,1541,1383,1368,1570,1616,2021,1711,1628,1233,1461,1568,1432,1719,1611,1317,1248,1932,1614,1529,1429,1428,1385,1517,1437,1532,1563,1617,1382,2090,1446,1440,1544,1321,1514,1286,1351,1721,1455,1425,1672,1395,1681,1451,1827,1650,1275,1421,1557,1506,1362,1542,1496,1565,1481,1398,1430,1441,1738,1571,1321,1546,1506,1694,1541,1514,1485,1430,1771,1481,1410,1656,1450,1680,1678,1526,1351,1601,1649,2151,1526,1601,1560,1544,1423,1614,1503,1540,1518,1527,1377,1393,1448,1418,1523,1353,1570,1621,1769,1282,1581,1656,1648,1639,1348,1537,1662,1337,1519,1378,1696,1376,1807,1598,1565,1387,1395,1313,1505,1740,1692,1507,1379,1523,1560,1384,1841,1663,1418,1775,1406,1480,1412,1629,1939,1330,1383,1468,1363,1617,1815,1312,1671,2595,1457,1558,1564,1455,1513,1507,1480,1540,1417,1666,1489,1874,1312,1515,1516,1546,1481,1504,1436,1406,1487,1436,1509,1543,1698,1740,1770,1516,1616,1786,1389,1686,1961,1596,1942,1557,1550,1966,1521,1634,1428,1578,1644,1388,1543,1501,1507,1559,1528,1372,1453,1457,1763,2023,1679,2103,1481,1424,1494,1374,1556,1474,1543,1222,1513,1660,1545,1321,1493,1532,1613,1593,1397,1301,1396,1534,1453,1380,1334,1702,1431,1565,1479,1927,1488,1561,2203,1639,1374,1430,1626,1504,1538,1440,1414,1476,1571,1998,1357,1424,1380,1618,1579,1423,1435,1392,1417,1425,1512,1318,1538,1532,1715,1700,1548,1546,1343,1636,1643,1418,1623,1381,1556,1481,1323,1426,1416,1440,1576,1387,2137,1458,1280,1657,1560,1500,1785,1891,1385,1503,1485,1527,1482,1417,1418,1585,1706,1385,1495,1840,1822,1644,1441,1451,1400,1362,1536,1580,1509,1392,1536,1381,1670,1451,1951,1560,1531,1450,1389,1409,1551,1811,1608,1428,1477,1676,1334,1588,1608,1549,1391,1490,1727,1504,1350,1427,1477,1359,1551,1740,1828,1822,1392,1565,1387,1378,1809,1570,1558,1799,1635,1509,1757,1498,1417,1511,1622,1467,1910,1630,1268,1531,1342,1363,1412,1349,1472,1478,1430,1573,2073,1953,1492,1397,1782,1505,1440,1470,1408,1352,1671,1670,1547,1461,1449,1613,1376,1434,1480,1481,1484,1481,1559,1444,1432,1463,1433,1461,1488,1816,1322,1492,1536,1878,1471,1452,1316,1522,1486,1457,1524,1498,1462,1399,1324,1563,1543,1413,1312,1969,1789,1436,1377,1462,1318,1344,2377,1427,1353,1505,1440,1688,2437,1478,2478,1509,1596,1375,1564,1540,1950,1499,1368,1536,2633,1298,1452,1509,1741,1460,1561,2127,1543,1508,1454,1772,1479,1723,1497,1540,1514,1654,1720,1470,1642,1401,2007,1494,1457,1556,1663,1666,1520,1644,1446,1234,1384,1461,1525,1333,1491,1536,1960,1357,1445,1543,1366,1458,1416,1794,1484,2514,1648,1622,1318,1493,1447,1485,1489,1642,1569,1850,1454,1536,1482,1599,1427,1561,1601,1570,1565,1378,2288,1788,1261,1438,1511,1635,1428,1423,1443,1297,1495,1382,1413,1496,1466,1506,1401,1566,1493,1483,1486,1389,1511,1440,1378,1392,1362,1704,1492,1684,1530,1569,1650,1415,1600,1523,1331,2158,1445,1672,1402,1286,1486,1345,1629,1306,1380,1486,1507,1608,1474,1326,1526,1483,1457,1707,1624,1431,1477,1716,1429,1374,1598,1399,1720,1749,1542,1553,1447,1361,1697,1553,1760,1477,1681,1762,1402,1522,1493,1518,1742,2424,1818,1429,1384,1578,1695,1543,1808,1202,1514,1475,1465,1288,1675,1486,1433,1806,1416,1627,1809,1500,1532,1492,1431,1554,1494,1374,1394,1356,1333,1505,1606,1412,1408,1268,1470,1497,1638,1654,1911,1479,1419,1517,1524,1694,1328,1539,1496,1579,1386,1505,1468,1384,1381,1469,1627,1633,1469,1458,1687,1588,1333,1487,1585,1502,1594,1412,1402,2057,1512,1473,1553,1379,1481,1349,1388,1743,1495,1698,1614,1707,1675,1479,1616,1737,1642,1409,1376,1553,1545,1292,2084,1747,1425,1637,1619,1489,1572,1547,1351,1407,1634,1590,1484,1508,1504,1487,1727,1647,1493,1655,1601,1286,1553,1379,1488,1418,1451,1508,1579,1446,1530,1591,1445,1749,1703,1535,1560,1607,1332,1365,1989,1492,1479,1671,1595,1635,1707,1545,1320,1448,1436,1609,1464,1746,1410,1640,1589,1546,1511,1750,1372,1524,1601,2261,1636,1445,1500,1999,1529,1334,1639,1660,1470,1467,1504,1418,1629,2579,1305,1487,1446,1425,1891,1430,1495,1544,1525,1505,1332,1471,1388,1613,1627,1255,1606,1676,1605,1487,1471,1530,1673,1436,1495,1480,1472,1397,1589,1405,2013,1802,1270,1531,1547,2074,1491,1759,1351,1705,1406,1639,1642,1490,1611,1475,1432,1442,1556,1459,1651,1490,1734,1507,1556,1445,1619,1534,1444,1744,1441,1526,1704,1661,1466,1608,1424,1662,1936,1728,1552,1343,1346,1492,1596,1541,1661,1528,1575,1385,1497,1528,1539,1336,1525,1509,1447,1448,1428,1635,1395,1443,1524,1397,1553,1432,1964,1488,1400,1419,1316,1708,1709,1445,1309,1499,1487,1302,1365,1425,1409,1730,1744,1420,1472,1566,1430,1481,1670,1406,1576,1453,1478,1710,1314,1460,1515,1674,1444,1368,1689,1272,1200,1318,1552,1548,1709,1759,1634,1663,1695,1517,1811,1815,1513,1667,1403,1383,1466,1378,1495,1729,1418,1434,1454,1476,1812,1374,1383,1429,1706,1349,1627,2218,1666,1455,1927,1533,2142,1369,1802,1484,1535,1300,1664,1484,1604,1483,1549,1604,1685,1372,1374,1606,1471,1659,1503,1798,1322,1373,1515,1317,1551,1433,1432,1350,1415,1498,1330,1383,1431,1461,1308,1532,1470,1548,1898,1420,1418,1493,1465,1590,1590,1577,1767,1517,1416,1422,1376,1434,1423,1364,1825,1365,1435,1372,1858,1715,1590,1512,1498,1395,1512,1474,1505,1496,1382,1419,1462,1335,1476,1497,1455,1499,1478,1928,1490,1578,1681,1417,1432,1753,1414,1655,1516,1426,1479,1568,1447,1454,1377,1585,1264,1372,1510,1423,1464,1602,1811,1711,1405,1397,1682,1528,1378,1480,1445,1488,1601,1550,1540,1587,1486,1430,1534,1595,1424,1776,1359,1374,1533,1477,1462,1414,1323,1427,1500,1518,1889,1675,1441,1493,1399,1425,1501,1490,1550,1416,1485,1564,1910,1460,1603,1486,1560,1498,1486,1486,1441,1471,1463,1413,1401,1652,1403,1887,1405,1499,1549,1515,1540,1596,1868,1646,1558,1631,1366,1360,1547,1571,1528,1356,1438,1483,1331,1463,1446,1356,1676,1910,1375,1511,1493,1452,1500,1603,1682,1567,1413,1692,1476,1821,1459,1367,2004,1406,1548,1333,1767,1827,1568,1452,1433,1629,1520,1466,1650,1554,1356,1571,1658,1393,1477,1533,1447,1472,1438,1507,1393,1283,1644,1498,1400,1574,1574,1472,1552,1603,1690,1522,1596,1371,1564,1439,1352,1560,1835,1452,2144,1554,1827,1448,1983,1229,1873,1426,1376,1622,1737,1426,1669,1751,1483,1535,1477,1391,1675,1391,1437,1370,1577,1485,1504,1755,1329,1496,1532,1389,1739,1736,1419,1326,1534,1498,1796,1519,1339,1483,1512,1552,1713,1456,1524,1981,1565,1657,1606,1602,1471,1921,1818,1540,1309,1363,1640,1384,1464,1803,1602,1651,1387,1585,1406,1717,1739,1436,1637,1558,1641,1504,1401,1465,1739,1463,1667,1393,1442,1364,1325,1424,1505,1529,1449,1740,1751,1510,1609,1601,1665,1491,1442,1390,1502,1385,1547,1540,1450,1353,1582,1396,1390,1534,1953,1634,1881,1225,1334,1336,1629,1776,1719,1450,1351,1365,1525,1423,1428,1724,2617,1294,1533,1370,1462,1545,1357,1861,1548,1496,1842,1971,1431,1546,1496,1452,1380,1567,1628,1505,1577,1304,1537,1371,1181,1469,1637,1370,1630,1517,1482,1439,1492,1725,1559,1435,1564,1522,1356,1556,1393,1753,1651,1372,1446,1469,1704,1464,1332,1634,1585,1627,1477,1520,1618,1397,1450,1392,1385,1461,1579,1542,1668,1479,1655,1711,1581,1468,1419,1530,1710,1518,1484,1457,1447,1443,1527,1420,1376,1468,1378,1401,1531,1512,1449,1315,1547,1730,1548,1517,1687,1738,1806,1716,1578,1558,1456,1467,1592,1596,1489,1471,1519,1408,1332,1351,1500,1489,1511,1691,1757,2262,1626,1424,1523,1502,1489,1631,1423,1390,1385,1557,1606,1356,1327,1410,1478,1460,1435,1729,1297,1633,1433,1369,1475,1561,1472,1441,1691,1382,1355,1529,1829,1475,1437,1632,1402,1347,1747,1371,1590,1336,1411,1704,1723,1459,1572,1384,1383,1448,1497,1530,1328,1268,1421,1496,1375,1295,1643,1514,1671,1365,1407,1502,1581,1530,1312,1494,1514,1456,1494,1605,1447,1588,1483,1543,1323,1555,1583,1766,1413,1505,1774,1425,1437,1335,1471,1578,1712,1733,1652,1917,1442,1474,1509,1451,1554,1669,1366,1578,1562,1501,1352,1864,1392,1358,1491,1556,1531,1538,1467,1411,1528,1504,1384,1677,1764,1635,1761,1587,1417,1603,1620,1353,1360,1380,1680,1536,1621,1585,1352,1454,1552,1456,1437,1694,1306,1369,1471,1410,1418,1782,1459,1796,1569,1469,1472,1475,1488,1524,1486,1692,1446,1503,1574,1693,1462,1551,1462,1463,1587,1651,1529,1473,1708,1320,1506,1492,1443,1596,1491,1575,1458,1662,1742,1506,1457,1619,1731,1290,1566,1456,1528,1443,1802,1527,1458,1378,1527,1583,1530,1616,1475,1371,1638,1532,1446,1584,1385,1592,1518,1529,1550,1773,1446,1403,2267,1402,1693,1496,1633,1399,1531,1571,1434,1474,1601,1801,1465,2188,1471,1639,1284,1419,1763,1518,1447,1348,1348,1420,1797,1628,1496,1636,1536,1454,1396,1575,1514,1549,1474,1535,1435,1513,1502,1315,1406,1584,1580,1825,1469,1493,1474,1540,1467,1492,1493,1500,1477,1342,1337,1417,1383,1579,1441,1705,1431,1396,1615,1662,1553,1548,1706,1366,1440,1395,1483,1723,1386,1519,1896,2358,1550,1309,1343,1378,1603,1664,1488,1545,1820,1430,1805,1576,1419,1833,1656,1351,1427,1429,1689,1506,1474,1762,1566,1869,1527,1309,1326,1428,1681,1989,1568,1458,1712,1642,1468,1446,1494,1490,1854,1513,1351,1744,1476,1526,1525,1396,1580,1462,1426,1569,1477,1761,1664,1576,1479,1449,1694,1731,1522,1536,1373,1597,1678,1452,1574,1528,1688,1393,1553,1260,1546,1596,1340,1462,1415,2384,1326,1896,1474,1715,1871,1403,1518,1504,1340,1507,1521,1543,1665,1442,1629,1379,1502,1595,1562,1393,1532,1607,1613,1404,1548,1559,1621,1579,1386,1406,1390,1679,1508,1681,1421,1354,1282,1382,1450,1820,1822,1473,1922,1539,1350,1403,1904,1556,1683,1454,1767,1708,1862,1695,1657,1616,1651,1569,1377,1593,1737,1362,1666,1354,1302,1991,1353,1428,1605,1691,1447,1336,1683,1605,1709,1444,1367,1418,1353,1643,1437,1437,1313,1367,1491,1537,1395,1423,1562,1549,1540,1418,1569,1480,1364,1911,1409,1335,1447,1537,1677,1504,1474,1496,1450,1402,1501,1725,1458,1616,1442,1436,2186,1645,1780,1345,1708,1270,1407,1532,1610,1519,1683,1461,1472,1510,1289,1487,1453,1816,1419,1435,1610,1258,1437,1334,1500,1498,1477,1446,1734,1697,2007,1435,1664,1404,1702,1439,1354,1432,1911,1472,1665,1676,1341,1540,1498,1671,1430,1619,1626,1443,1481,1432,2136,1780,1583,1983,1630,1417,1579,1570,1440,1471,1702,1375,1698,1446,1523,1890,1365,1663,1589,1583,1407,1586,1398,1516,1534,1697,1396,1495,1440,1429,1505,1611,1449,1575,1416,1682,1341,1523,1580,1531,1375,1494,1411,1550,1459,1458,1384,1705,1443,1818,1480,1424,1716,1708,1430,1679,1521,1391,1495,1374,1496,1487,1853,1820,1603,1412,1588,1384,1589,1491,1922,1551,1589,1418,1281,1529,1348,1472,1570,1379,1352,1727,1466,1510,1490,1463,2109,1705,1401,1571,1470,1505,1432,1377,1580,1516,1447,1470,1794,1356,1583,1672,1425,1609,1507,1463,1725,1514,1365,1372,1509,1629,1749,1582,1458,1416,1373,1367,1623,1484,1548,1287,1435,1317,1610,1352,1619,1619,1690,1412,1695,1886,2033,1598,1894,1394,1360,1486,1367,1362,1582,1693,1559,1592,1404,1663,1508,1485,1633,1422,1577,1482,1699,1664,1336,1496,1894,1373,1500,1517,1309,1490,1599,1557,1461,1563,1695,1528,1389,2231,1444,1791,1509,1515,1495,1623,1562,1574,1611,1403,1481,1555,1615,1561,1593,1597,2271,1613,1703,1925,1294,1472,1563,1611,1386,1561,1560,1387,1509,1441,1404,1715,1483,1590,1623,1471,1692,1467,1651,1417,1413,1502,1610,1387,1667,1360,1504,1610,1345,1385,1337,1542,2118,1386,1545,1425,1395,1383,1421,1339,1362,2312,1316,1525,1516,1450,1547,1411,1630,1411,1526,1590,1373,1616,1374,1293,1753,1493,1895,1673,1613,1903,1368,1645,1374,1645,1387,1357,1396,1586,1537,1456,1607,1469,1327,1589,1670,1352,1305,1522,1452,1432,1663,1597,1472,1452,1505,1528,1395,1375,1399,1578,1502,1804,1413,1355,1429,1565,1606,1379,1575,1399,1429,1435,1766,1703,1507,1605,1491,1390,1444,1361,1705,1422,1334,1559,1353,1694,1771,1527,1484,1401,1634],\"xaxis\":\"x\",\"y\":[46.3,49.4,39.5,40.0,42.4,40.2,19.6,48.4,44.8,25.7,23.3,39.0,44.2,30.1,25.5,48.3,32.5,39.2,52.5,45.4,50.8,49.1,46.3,4.6,54.9,35.1,30.1,40.7,42.4,40.3,54.4,52.6,22.9,38.6,45.1,32.4,65.7,45.5,44.4,35.0,32.3,46.7,47.9,41.3,51.5,37.9,47.5,40.8,40.1,47.6,31.8,25.8,24.9,43.0,31.9,32.7,44.4,25.0,20.7,40.6,43.4,31.1,48.5,34.1,22.5,29.4,45.7,34.1,33.0,40.7,44.7,41.2,50.7,43.4,29.4,32.2,60.5,46.5,38.6,34.3,41.1,27.7,53.0,55.3,55.8,36.1,35.2,33.6,40.1,39.9,42.7,27.0,36.2,47.0,60.7,52.3,35.5,26.0,62.3,59.1,50.8,58.3,43.5,34.7,21.4,50.2,49.8,49.9,40.7,30.6,38.2,56.0,43.1,33.6,49.9,34.6,42.9,35.0,47.1,35.0,41.2,37.9,32.8,35.3,36.7,44.0,36.1,33.9,44.9,40.3,38.3,31.6,38.1,52.7,45.0,34.4,29.3,53.8,49.2,36.1,32.2,34.8,43.1,47.6,34.9,42.9,38.7,50.3,30.6,24.3,58.8,44.1,33.5,45.5,56.8,56.2,32.7,35.8,48.2,37.9,40.4,63.0,29.5,37.9,32.1,47.5,37.1,21.1,37.0,40.4,46.0,28.5,54.7,23.4,36.5,43.0,19.2,36.0,33.2,31.6,46.7,45.6,42.6,40.2,46.2,25.3,38.3,27.1,27.5,19.2,47.1,47.2,36.0,50.8,40.6,33.2,28.4,39.9,32.1,32.5,40.0,46.3,27.8,41.4,56.7,31.3,25.9,27.7,38.2,39.4,46.5,48.6,32.9,40.8,31.7,34.3,34.3,36.9,34.2,36.8,47.8,55.2,57.5,39.5,38.1,42.0,43.0,37.4,29.4,26.8,12.8,40.4,48.0,26.8,50.9,60.4,48.2,46.7,38.1,39.9,37.7,42.6,49.7,16.9,30.4,32.3,59.8,45.9,57.6,51.9,41.3,44.3,48.2,34.5,32.5,42.8,37.8,50.1,17.7,55.2,43.9,45.7,44.9,62.3,37.1,41.9,41.2,36.3,38.5,52.2,39.2,61.5,37.2,26.7,39.0,44.9,37.9,36.2,46.6,57.4,53.6,42.6,42.3,40.2,43.4,4.2,35.7,41.5,16.5,31.6,49.8,41.1,37.9,22.6,32.0,37.4,56.9,33.7,42.8,37.9,45.6,43.5,38.8,49.8,39.2,30.2,35.1,43.3,35.0,34.3,24.6,37.5,39.4,44.8,38.8,33.2,28.0,29.9,20.6,36.2,35.8,45.9,35.4,45.5,50.6,36.2,34.9,45.4,29.8,33.4,24.8,45.5,52.3,24.7,22.1,24.3,53.2,40.4,29.4,54.3,50.1,34.6,40.6,58.2,30.9,35.2,22.1,41.0,49.0,45.0,37.7,36.8,42.9,49.2,20.5,49.8,33.4,40.2,36.7,50.7,47.9,37.3,16.8,21.3,71.6,33.8,50.5,47.7,32.5,33.7,40.9,32.8,30.0,30.4,44.7,45.3,23.7,36.3,35.2,42.2,45.9,47.6,37.3,43.9,41.6,23.9,43.9,37.4,37.3,51.3,47.9,44.1,36.9,33.1,38.9,44.5,20.1,30.9,38.8,58.6,36.8,49.1,44.0,47.4,28.1,43.5,48.5,24.0,25.4,34.8,47.7,41.2,39.7,47.3,24.4,43.2,39.3,42.1,38.3,50.0,45.4,40.2,40.1,33.7,38.2,27.3,46.2,37.6,46.4,36.2,59.1,36.9,39.0,58.1,23.8,30.9,44.7,44.6,34.2,37.7,22.1,32.4,38.2,45.9,41.8,38.8,34.7,53.8,40.9,50.7,62.0,48.3,22.3,36.8,48.7,40.4,40.4,33.7,41.7,39.4,34.6,47.5,56.5,53.9,38.3,31.1,29.3,44.5,54.4,39.4,48.8,46.0,39.2,47.5,32.2,29.8,29.7,30.8,27.9,28.8,45.3,45.4,35.4,42.9,37.0,40.1,52.1,35.0,22.8,43.3,45.7,39.7,37.6,44.4,40.0,48.3,52.0,48.7,46.7,37.4,41.7,42.8,40.0,38.2,42.1,37.2,34.5,35.0,38.6,28.0,45.1,47.8,37.9,45.5,42.7,35.1,41.5,5.6,47.1,31.4,49.0,30.8,22.7,44.2,50.2,26.7,49.2,56.2,53.2,21.7,28.5,22.4,54.6,46.2,34.3,48.0,52.0,40.6,46.2,52.4,47.9,54.4,48.6,35.1,31.2,49.9,35.1,48.7,14.6,41.2,39.2,35.9,40.4,29.5,51.0,50.7,27.6,55.6,21.9,51.1,36.2,50.0,37.2,61.8,25.8,40.7,48.9,28.2,54.8,44.5,32.7,42.5,48.9,32.8,20.9,47.6,35.2,37.9,40.5,31.6,26.2,46.5,40.9,41.0,35.1,41.1,35.2,30.4,35.2,21.0,53.3,42.8,31.1,39.1,34.9,48.6,25.3,48.3,35.7,35.8,33.2,29.6,32.9,35.0,46.7,52.0,53.4,41.7,41.8,43.6,31.6,58.6,52.7,57.7,36.5,24.3,29.9,37.0,36.8,39.9,28.4,36.1,34.0,48.4,41.1,36.8,43.9,25.1,37.4,45.2,43.6,47.8,33.5,44.2,28.8,37.7,23.9,39.4,39.5,36.4,31.3,50.1,49.0,25.2,45.7,47.7,49.1,47.5,31.7,35.9,36.5,28.5,28.0,40.2,32.3,56.4,49.0,41.4,46.4,44.4,9.3,35.8,54.8,42.7,38.6,45.8,35.1,52.5,37.5,40.7,41.8,59.1,40.2,38.5,30.8,29.6,46.5,33.4,61.4,39.2,38.1,29.7,41.6,31.6,43.9,39.2,69.1,33.3,42.2,58.0,38.5,50.0,47.7,38.3,29.9,37.2,47.7,35.6,61.2,57.1,47.1,30.3,34.6,52.5,36.8,43.7,36.6,60.4,43.4,52.1,48.1,40.5,47.5,46.5,47.8,52.1,42.1,50.8,41.0,34.5,54.5,44.1,39.0,56.5,28.4,41.0,43.5,29.4,59.0,48.1,25.7,42.5,42.1,53.5,37.1,31.3,44.4,28.4,42.9,40.2,36.8,36.1,41.5,57.3,43.0,50.4,33.8,56.9,35.7,34.8,45.8,41.8,48.2,52.9,36.1,45.4,15.3,40.3,41.5,45.8,40.3,54.3,34.1,42.4,57.0,32.8,45.7,42.5,19.6,30.4,41.4,42.1,25.0,31.1,50.2,30.2,42.6,56.9,45.0,36.7,46.3,24.4,53.0,51.7,46.5,26.8,30.2,24.0,49.1,53.8,32.6,27.2,36.3,32.7,28.9,26.1,33.9,27.3,45.5,45.9,47.5,43.7,48.0,37.4,45.7,50.3,41.2,54.6,33.1,33.5,40.0,36.8,46.7,34.8,27.7,30.3,43.8,40.0,26.1,42.8,54.8,8.8,33.3,44.0,39.7,39.2,38.2,46.6,43.5,48.0,42.7,48.0,33.8,48.9,42.5,23.4,33.0,38.5,47.4,53.3,31.8,35.5,33.4,46.8,54.0,40.3,33.7,49.3,42.8,44.0,39.1,38.8,38.2,37.9,29.2,25.4,34.4,40.9,46.9,53.0,43.0,42.4,54.0,36.1,47.8,45.1,27.6,39.5,46.3,40.9,50.5,30.2,41.6,42.6,53.6,28.3,35.6,35.8,43.8,35.6,48.5,36.3,43.8,44.9,69.4,34.3,27.2,48.2,26.2,47.0,36.7,33.7,37.7,30.3,32.9,54.0,40.1,36.9,35.8,13.8,27.6,34.0,36.0,40.5,29.1,36.1,29.6,15.1,54.7,34.9,52.7,48.4,55.5,29.5,32.4,40.1,27.8,59.1,42.0,30.6,41.8,53.8,16.8,51.0,42.1,39.3,47.1,43.5,37.3,59.6,42.4,50.1,18.0,41.7,43.4,37.0,43.8,61.0,48.7,32.0,37.7,49.4,38.2,34.7,52.9,24.3,40.8,36.7,46.2,38.2,39.8,42.5,39.7,48.3,38.0,34.9,37.9,62.9,48.6,34.3,59.5,34.6,43.7,21.9,22.9,46.9,37.5,38.2,44.5,39.2,43.6,45.2,56.5,37.3,33.9,45.0,36.4,37.7,33.3,38.5,28.9,50.2,51.7,57.3,62.3,42.5,31.0,44.1,38.0,36.0,27.2,34.1,31.4,31.1,35.8,49.8,37.8,43.9,32.8,27.9,44.5,26.3,36.7,35.5,37.7,38.3,35.2,41.6,39.0,38.0,48.3,42.5,47.3,42.9,41.6,31.5,26.1,35.9,51.3,33.8,46.7,48.6,34.6,37.7,54.5,38.3,44.5,32.4,19.9,22.1,49.4,42.8,47.6,35.9,27.3,49.6,29.8,41.1,14.2,33.8,20.6,37.2,51.3,46.5,33.9,33.1,20.3,31.0,51.8,23.2,45.3,47.9,59.5,48.1,31.1,54.0,32.3,28.6,37.4,3.8,38.2,33.0,45.9,47.3,67.3,23.6,40.8,28.2,40.3,48.1,28.9,12.8,27.0,53.8,36.8,45.0,34.1,46.5,27.6,43.7,43.3,39.4,48.7,57.4,56.3,23.0,24.0,61.0,38.1,35.8,43.0,30.2,37.8,39.2,40.0,50.7,32.7,40.6,36.5,45.8,30.3,44.4,37.6,34.7,41.8,56.9,42.3,21.5,58.4,57.8,32.7,50.1,62.0,29.1,45.8,32.8,40.7,40.8,29.0,29.9,54.3,35.8,41.2,54.1,40.0,29.1,20.4,29.1,52.4,42.4,20.2,45.6,32.3,38.7,50.8,30.0,17.5,32.0,26.6,34.1,50.7,37.7,30.8,29.9,35.1,33.3,42.4,40.8,35.6,58.2,42.4,30.9,27.3,32.8,34.9,49.9,45.8,22.7,60.5,34.9,46.9,55.2,51.4,51.2,48.6,43.3,33.1,40.5,37.8,50.8,52.7,30.7,25.3,48.7,45.6,43.6,45.0,40.8,42.9,23.4,48.1,46.6,47.1,41.3,37.8,53.1,34.9,27.1,47.5,38.0,34.4,24.7,60.5,30.2,46.4,42.9,59.7,66.3,44.0,42.5,46.4,42.2,46.9,54.2,39.9,25.8,35.2,49.5,62.8,42.2,22.8,55.2,29.6,27.2,41.1,45.5,24.2,41.5,40.4,61.0,32.9,54.1,42.3,27.7,50.7,53.4,41.4,45.1,36.2,36.8,49.7,35.5,31.1,31.5,58.8,36.0,31.2,15.4,46.2,46.7,36.6,46.4,22.5,47.3,42.1,48.2,39.0,43.6,41.5,59.0,31.8,37.8,62.0,44.0,28.6,47.9,22.6,22.5,47.3,38.4,39.1,69.4,46.5,24.3,58.2,45.4,28.4,46.3,47.8,41.5,31.1,30.6,47.6,46.6,60.3,40.5,45.8,32.9,33.7,34.1,32.2,47.7,41.0,40.5,42.1,39.8,36.7,47.8,49.2,44.6,23.0,33.4,37.3,33.3,43.4,32.4,42.9,44.1,33.6,48.8,30.8,49.2,35.6,36.1,30.8,34.6,52.0,37.5,49.4,54.1,40.0,39.4,30.8,55.3,33.5,60.4,33.0,48.5,20.4,30.8,45.7,56.4,30.5,13.0,40.5,50.6,49.6,50.0,44.7,28.9,29.0,35.0,47.4,46.5,54.1,46.9,33.7,38.1,25.2,60.3,52.3,42.4,60.6,52.4,46.6,48.2,48.1,26.1,32.7,33.7,37.0,54.2,39.0,57.0,38.9,47.6,51.1,53.4,56.7,26.8,37.8,53.2,38.3,32.6,37.2,42.7,26.0,37.6,62.9,50.5,39.8,53.6,39.8,57.8,55.5,31.4,47.2,37.9,39.2,31.1,51.4,41.9,29.9,33.9,36.3,40.5,53.6,50.4,45.2,43.5,39.4,46.8,23.9,28.0,41.3,40.7,46.4,61.4,38.7,47.7,43.0,41.8,26.4,48.4,22.8,37.7,26.1,38.5,45.4,49.7,22.9,44.7,34.1,44.8,51.3,56.1,60.9,34.9,31.4,33.3,34.1,37.9,27.0,41.2,32.6,50.0,41.6,40.3,38.8,43.2,51.0,38.9,41.6,52.6,46.8,32.1,38.1,46.7,23.0,43.4,38.6,36.6,34.4,15.0,53.4,23.8,53.5,23.8,48.9,43.5,44.0,30.4,40.1,31.6,47.9,31.0,35.0,68.2,48.9,48.7,42.5,25.2,37.8,30.5,30.8,31.7,22.3,36.6,32.2,45.9,54.2,46.4,34.5,39.1,40.7,37.7,37.5,44.7,51.1,55.1,40.6,43.1,57.3,34.7,32.4,47.8,41.8,35.5,50.7,43.4,53.6,47.2,32.3,48.9,47.2,45.6,48.7,30.6,35.9,53.8,38.3,32.5,18.7,35.0,29.0,44.4,32.4,41.2,34.4,35.2,35.0,50.8,25.9,51.7,44.9,33.6,26.6,38.4,53.9,50.1,42.1,38.3,23.5,21.4,34.3,38.1,42.3,48.4,37.2,40.3,37.9,37.2,50.4,31.7,39.1,37.2,38.0,50.5,24.6,43.1,26.5,41.5,19.3,49.2,41.5,41.5,46.6,24.7,53.7,60.7,33.7,50.8,46.7,42.8,16.8,28.6,16.6,48.6,46.4,45.4,37.0,38.6,38.9,67.5,47.3,52.1,41.5,37.4,48.6,44.7,34.5,22.1,14.2,36.8,38.7,66.5,35.9,40.8,35.7,39.9,29.8,37.8,39.6,39.8,32.0,61.3,49.7,27.5,40.3,42.5,45.6,51.6,59.3,20.4,23.5,26.1,35.5,51.3,44.5,56.4,31.1,15.9,46.2,42.6,40.9,37.2,35.8,34.2,39.6,43.1,44.4,27.1,32.2,28.5,37.4,32.5,27.5,52.8,53.9,30.1,26.0,47.7,30.4,22.7,46.0,28.7,20.0,60.9,40.4,50.8,25.9,64.8,15.3,35.8,39.2,50.6,44.6,47.3,29.2,39.1,34.8,51.9,34.8,38.5,25.5,54.6,45.9,57.4,40.4,45.4,35.4,42.8,51.9,51.4,45.3,30.0,46.1,31.6,35.1,50.1,27.8,38.8,29.6,36.1,41.1,42.6,65.1,44.4,47.5,21.9,30.2,45.9,39.4,41.2,22.5,39.7,47.7,47.6,41.7,50.2,50.9,17.8,52.7,32.6,52.4,45.9,32.6,31.8,43.9,35.3,39.6,44.6,50.2,40.1,43.5,41.2,41.8,34.6,24.8,25.6,22.6,56.5,47.3,41.1,28.4,51.1,48.8,38.1,33.5,51.6,36.0,26.4,46.0,32.0,30.3,39.5,29.4,53.5,40.2,35.2,54.4,44.8,39.6,28.2,35.0,48.8,40.8,37.0,51.5,43.4,43.6,23.0,44.1,20.7,46.6,35.8,28.7,49.6,37.2,32.8,40.0,42.4,32.4,30.7,54.3,24.8,40.6,33.5,40.3,13.5,36.4,38.7,59.9,44.1,38.8,30.3,34.6,62.1,41.6,39.0,30.0,33.7,31.1,38.1,44.3,52.4,45.4,42.1,26.0,34.5,41.4,14.4,49.9,34.9,29.0,24.5,31.1,35.4,45.8,44.3,32.8,39.9,30.3,40.2,51.6,44.1,50.3,38.5,39.3,27.7,57.4,30.4,31.5,48.0,42.4,28.6,52.5,37.4,62.7,34.5,61.0,43.9,37.4,35.7,50.2,37.1,44.7,48.4,42.8,30.5,48.8,51.7,54.2,38.1,49.6,30.6,29.2,41.6,50.2,23.6,55.6,51.3,48.1,24.3,50.4,38.7,38.9,37.9,21.4,35.3,38.3,43.2,55.9,51.3,49.3,42.5,37.6,29.9,46.7,32.1,23.8,58.7,40.0,45.4,37.0,28.2,28.3,16.9,58.2,46.9,27.3,43.6,23.0,56.0,28.5,42.9,32.1,29.7,51.2,22.0,38.9,42.1,48.3,30.3,35.4,39.9,38.7,44.3,27.9,34.8,34.4,23.6,17.9,46.0,39.7,27.4,35.7,28.3,34.5,25.4,32.7,40.6,51.5,52.5,54.8,36.5,43.5,45.1,34.7,32.9,43.8,42.5,54.0,36.9,30.1,63.1,40.0,38.9,31.3,34.5,45.1,56.9,32.6,34.6,44.7,45.4,36.8,37.0,32.0,31.0,27.1,33.7,30.1,44.5,51.7,40.3,40.6,47.0,43.4,54.8,31.4,51.4,32.4,29.0,27.6,21.4,53.6,49.1,40.7,46.0,46.8,43.2,36.0,45.3,38.3,38.4,20.5,48.5,35.2,42.4,28.1,42.0,38.9,36.1,30.8,48.9,42.9,39.6,19.7,32.9,36.3,54.8,53.6,56.8,41.5,21.8,31.4,40.9,41.6,40.8,52.4,40.9,45.5,29.7,37.6,31.0,42.3,44.3,34.1,43.4,38.6,38.1,45.8,47.7,48.6,49.9,45.7,54.3,43.4,50.1,46.7,44.7,28.9,31.9,43.5,28.7,49.7,30.6,16.4,41.0,52.9,36.7,34.1,33.7,20.2,43.9,29.7,50.7,44.5,31.2,35.4,34.1,45.2,52.4,27.9,34.1,24.3,41.8,27.8,62.6,31.4,34.6,31.6,40.2,49.0,57.8,36.6,41.9,46.5,40.7,43.9,43.3,39.5,58.5,8.0,32.2,21.8,44.3,35.2,50.6,33.1,36.3,47.6,38.5,40.7,43.6,47.3,47.3,48.1,42.3,33.3,30.7,30.7,34.2,53.3,52.7,30.9,44.0,49.8,39.7,55.7,55.6,36.3,41.2,36.9,44.6,33.7,33.8,23.5,34.1,35.2,32.9,48.7,34.4,49.4,43.6,54.9,48.1,15.8,37.5,41.4,41.5,39.4,39.0,50.7,34.5,36.6,33.3,43.4,43.9,54.4,21.8,46.6,54.2,41.6,25.5,59.7,56.9,44.2,18.6,26.5,49.3,43.3,33.4,43.8,41.7,30.8,58.2,31.5,37.6,39.0,47.7,29.8,54.8,36.7,45.7,48.0,33.1,54.9,43.8,47.6,26.7,33.0,27.2,42.6,53.0,47.8,35.2,44.9,32.2,38.9,32.5,39.3,31.7,53.1,39.0,40.3,36.2,34.2,36.0,32.5,31.4,43.4,24.7,36.5,38.6,34.5,24.2,43.2,37.7,31.5,26.2,32.4,38.5,43.8,62.3,34.1,54.7,50.7,48.4,46.0,39.1,41.7,11.8,31.9,50.5,29.3,68.9,25.0,34.9,13.7,46.8,41.1,50.0,53.2,34.7,43.1,40.0,33.3,31.9,55.0,33.8,46.4,37.8,39.4,33.3,41.6,46.3,44.2,29.1,39.9,30.6,32.1,44.1,27.3,30.6,37.7,46.5,35.0,41.8,57.6,26.4,32.4,43.5,43.8,40.4,39.7,44.9,37.4,35.9,30.9,45.4,49.1,34.3,38.7,40.2,27.5,32.3,52.4,33.1,34.0,31.2,34.8,65.3,50.5,45.8,22.7,43.6,46.9,24.4,31.5,37.3,46.8,23.1,33.2,50.3,48.0,44.9,41.1,44.6,26.9,38.3,38.5,33.1,35.6,32.3,44.1,39.9,41.8,24.4,24.3,44.5,39.6,48.6,49.7,38.2,35.0,24.6,53.1,25.8,38.8,39.0,33.9,29.9,42.2,46.8,43.7,51.5,33.1,47.0,46.8,47.9,54.6,53.0,35.6,34.2,31.0,44.8,36.8,31.1,42.9,43.8,23.8,29.7,36.7,36.6,47.3,48.1,32.4,48.9,43.1,35.0,49.3,36.8,25.7,34.0,37.5,33.4,56.6,50.0,44.9,24.9,47.6,42.8,36.4,41.4,33.5,30.3,22.7,43.9,47.9,24.5,33.1,42.8,40.1,60.1,45.9,32.7,47.2,28.1,37.2,19.7,40.4,67.6,37.6,37.0,38.9,27.0,53.2,45.2,46.1,46.5,35.1,54.1,50.1,31.8,27.1,29.5,44.1,43.7,29.2,50.5,50.5,22.9,52.0,53.5,47.0,40.6,34.6,62.5,36.4,26.9,40.4,35.1,29.5,37.0,34.1,27.5,41.4,29.6,36.0,59.8,22.4,34.7,18.8,26.4,32.4,54.0,54.2,19.9,66.7,49.4,36.1,50.8,37.2,37.3,49.6,44.9,55.5,48.1,24.8,37.5,37.8,38.7,34.7,41.8,37.9,46.4,41.8,48.6,46.9,32.8,50.3,40.2,32.8,34.4,34.1,47.8,40.3,31.6,53.7,35.1,45.9,50.3,59.2,39.3,55.7,45.0,50.8,36.0,52.1,30.8,41.4,30.3,23.4,49.5,30.7,50.0,37.8,43.2,17.3,42.7,50.3,27.1,29.0,36.6,49.1,34.4,39.3,27.4,34.2,39.0,46.0,12.1,41.2,46.6,46.4,22.7,36.9,38.6,44.3,21.7,44.0,19.7,47.1,51.0,48.8,58.1,68.6,33.4,42.7,38.9,39.8,22.0,58.0,58.2,39.2,35.6,36.1,54.9,42.4,15.8,30.9,51.7,34.1,29.6,47.2,23.2,23.4,46.6,43.4,49.6,35.2,51.1,27.1,21.8,46.7,55.3,53.1,55.7,47.7,45.1,43.6,53.6,40.0,24.8,62.8,46.3,27.3,28.8,48.0,50.5,57.4,61.2,50.2,39.6,28.0,41.4,44.0,21.3,37.6,34.8,44.4,60.6,21.5,29.8,30.9,47.5,30.5,36.0,50.0,37.8,33.4,39.2,34.4,46.1,28.8,54.8,50.9,53.2,48.4,31.8,59.4,34.2,46.2,38.4,36.5,34.2,15.4,40.6,26.3,35.3,52.8,40.7,36.6,50.3,38.8,26.8,39.3,31.9,28.1,49.3,37.1,46.9,16.6,32.9,47.8,42.3,41.4,40.5,23.2,37.6,20.9,47.9,48.5,39.6,35.5,60.0,37.2,56.9,38.0,68.0,35.1,28.1,20.7,36.2,38.0,39.5,42.8,29.8,39.2,52.0,41.2,36.9,36.4,40.3,28.1,50.4,45.4,28.9,22.9,48.5,40.3,49.0,32.6,19.0,44.9,40.4,5.8,50.1,51.1,12.6,48.1,26.3,26.6,22.9,63.9,25.6,46.5,46.6,33.4,42.2,44.6,28.9,50.5,43.0,57.1,55.8,48.2,30.3,38.5,33.9,42.5,37.7,43.4,43.7,46.6,46.0,39.3,30.4,44.7,31.4,43.7,42.8,58.1,31.0,52.8,35.8,46.6,48.8,51.4,28.6,57.6,40.0,34.8,36.3,49.0,43.2,39.6,65.5,42.7,45.3,31.9,39.4,27.2,45.1,48.7,40.4,37.7,29.7,50.9,49.9,45.5,58.5,55.4,18.9,32.2,31.6,43.2,39.3,42.7,66.8,33.2,62.4,36.9,40.4,21.2,46.4,32.9,52.7,31.2,52.3,44.0,50.6,34.8,57.4,16.0,29.9,35.5,51.2,37.3,40.9,53.7,48.8,46.0,47.7,26.3,32.8,30.8,67.8,19.9,30.5,43.2,41.1,37.9,29.0,40.9,34.3,29.1,48.7,35.9,35.0,41.8,52.1,34.2,41.6,21.5,42.7,35.7,36.5,40.2,20.3,37.7,57.2,36.0,36.2,54.0,28.3,31.6,46.8,31.8,46.6,43.7,62.4,43.0,24.4,36.2,48.2,39.0,31.6,45.8,29.7,47.6,23.9,48.4,38.5,39.5,42.0,41.2,28.0,36.2,45.1,35.3,23.3,32.6,46.8,55.1,43.0,37.2,37.5,45.4,28.2,26.7,26.3,47.5,43.7,41.9,32.2,57.7,20.0,39.5,50.5,35.0,52.2,29.8,23.7,32.6,48.2,37.0,32.9,36.9,32.3,32.2,48.3,38.5,30.0,36.1,33.9,41.9,47.6,49.2,55.8,44.2,24.6,45.3,20.2,44.0,45.3,56.2,16.5,55.6,29.3,24.5,52.6,51.0,40.7,45.7,29.8,26.1,23.8,44.6,50.5,30.4,43.0,34.8,31.8,40.1,54.6,54.2,41.2,25.6,46.0,21.5,32.5,30.5,51.1,52.9,22.6,32.3,35.2,34.8,43.9,48.1,53.9,35.5,43.4,55.6,36.2,44.8,21.3,30.7,39.8,31.7,32.9,17.0,38.1,33.3,50.8,34.7,41.7,41.9,46.2,31.0,66.8,33.3,33.2,22.3,23.5,25.8,32.2,35.9,45.2,42.3,30.1,56.8,21.9,50.9,31.6,47.1,61.0,35.5,45.1,38.5,44.6,39.2,42.5,37.9,53.8,35.2,52.9,33.7,51.8,47.4,45.6,27.3,46.7,50.9,37.3,51.3,42.8,48.7,46.5,38.5,45.9,22.5,50.1,52.9,49.3,50.3,23.3,25.8,36.4,38.9,46.6,45.9,52.6,36.0,32.3,41.3,44.1,35.8,40.7,27.9,49.0,47.3,46.1,46.4,42.2,32.7,31.4,38.8,33.6,36.5,48.6,32.7,37.9,53.0,35.9,30.8,30.7,45.6,38.9,38.7,45.0,30.6,15.8,58.9,39.2,38.2,29.7,54.5,45.1,41.6,62.0,63.9,24.5,44.6,56.8,51.8,34.9,34.0,33.8,46.2,37.4,51.0,38.6,21.1,55.7,43.4,28.7,54.1,46.0,26.5,40.1,59.3,30.9,31.2,51.0,46.2,45.7,33.3,39.2,36.6,43.9,23.1,17.7,41.9,29.3,16.8,53.1,43.7,29.8,37.1,40.7,40.0,69.4,54.8,30.6,36.0,35.2,44.5,33.9,44.7,35.8,42.8,70.6,38.7,62.4,39.5,34.2,44.1,53.9,36.6,26.1,29.1,47.0,25.9,62.3,24.3,24.4,33.9,28.1,53.4,38.4,36.0,27.8,38.2,41.7,45.5,56.8,44.8,47.7,24.3,25.8,58.7,40.5,13.0,37.4,46.5,34.6,23.7,39.8,23.6,31.7,51.3,46.3,48.3,40.7,38.3,38.6,28.4,47.5,45.0,36.3,61.1,47.1,29.0,40.0,54.6,50.9,37.8,28.5,47.1,35.8,39.4,47.5,39.9,48.4,34.3,35.7,49.9,42.5,47.9,42.7,62.5,53.9,42.1,37.2,30.9,45.3,34.6,46.6,44.9,24.9,51.6,54.1,20.8,45.9,41.0,48.2,49.4,40.2,50.1,43.7,44.6,56.6,36.7,44.4,51.6,37.4,46.7,53.9,31.4,46.0,40.0,25.4,42.5,35.7,43.9,50.0,25.8,45.5,24.5,28.9,36.7,35.0,39.1,33.5,32.9,38.9,38.4,43.1,41.5,29.8,56.0,12.7,31.7,37.6,41.4,50.3,44.0,50.1,45.9,43.4,32.7,39.9,28.2,23.7,38.7,28.7,31.9,42.4,21.1,15.0,35.7,30.6,48.0,46.0,62.9,36.8,53.3,40.0,58.7,51.1,22.4,43.3,29.3,42.5,53.6,45.7,37.2,37.2,59.9,32.9,31.4,29.6,31.9,48.3,41.1,42.2,57.8,45.3,50.1,45.4,42.3,44.1,29.0,28.0,28.4,47.4,34.8,31.6,38.3,41.0,38.3,52.9,59.5,40.3,23.6,51.6,38.5,36.9,35.8,43.9,22.3,53.4,54.1,44.8,64.4,39.7,44.1,30.9,41.2,34.0,44.0,35.8,41.4,41.9,39.8,42.4,39.4,40.7,52.1,48.5,47.8,48.6,49.1,55.8,37.2,44.1,49.3,34.8,42.6,43.0,23.5,30.8,27.2,32.9,39.0,45.5,27.3,45.5,31.9,44.5,33.7,49.3,38.4,50.8,39.4,35.5,63.8,34.6,34.0,37.5,20.6,44.0,30.7,57.0,39.9,35.3,36.4,47.7,40.8,34.9,19.1,36.9,41.7,37.5,27.0,33.8,40.3,42.0,50.0,49.1,34.4,40.2,42.6,36.8,39.7,23.9,46.3,48.5,25.4,48.7,47.8,24.8,33.0,44.2,39.4,59.9,34.3,30.3,45.8,41.6,53.4,34.2,31.8,45.5,27.9,42.0,51.9,47.3,34.4,28.4,43.4,46.2,45.5,30.4,32.1,30.5,51.8,19.9,40.1,44.1,41.8,15.1,48.8,42.1,40.2,42.1,49.1,22.8,34.8,49.5,51.4,29.9,61.2,57.8,51.8,46.8,26.5,34.1,28.5,26.8,51.0,43.0,52.1,35.0,68.5,57.1,49.5,35.2,37.5,52.3,51.0,27.4,30.5,39.9,55.1,36.5,51.4,20.3,30.9,24.0,32.2,49.5,47.4,46.9,39.1,30.9,44.9,50.9,46.6,26.9,43.5,30.0,38.4,42.2,41.6,59.0,45.6,41.2,35.2,59.7,44.2,40.1,37.9,32.1,46.1,29.9,45.5,38.6,36.9,37.9,36.4,25.3,49.1,40.4,38.7,27.1,18.9,29.9,29.9,42.9,33.8,46.7,48.0,35.5,37.0,52.1,36.6,33.9,54.7,57.8,37.8,41.4,23.6,41.2,42.4,41.4,61.5,21.9,38.5,40.6,36.3,24.4,39.8,32.0,51.4,36.8,52.8,47.5,47.3,45.5,38.1,28.7,51.6,37.3,38.8,42.0,51.3,44.9,46.3,26.5,36.8,34.3,47.3,26.1,41.7,53.0,34.0,21.9,43.1,19.2,45.2,50.0,37.8,51.7,44.3,45.6,31.4,18.2,31.1,44.8,56.4,45.7,42.0,49.4,59.8,25.9,41.6,43.2,52.7,43.1,70.0,43.4,38.6,38.6,35.9,54.6,38.0,36.0,52.2,28.1,32.5,43.3,51.9,44.6,50.3,25.3,20.4,44.5,43.2,56.2,30.1,42.8,48.8,47.0,20.1,39.4,21.8,54.1,27.7,49.2,55.6,40.8,35.8,49.8,52.3,37.9,30.5,45.9,51.0,42.9,43.7,29.9,34.3,21.5,49.2,44.4,29.2,42.4,39.8,37.2,36.7,38.8,43.3,44.2,55.1,42.6,39.0,34.5,44.7,44.6,38.0,31.1,46.5,45.4,25.7,21.9,40.3,36.3,29.1,33.0,35.6,35.1,36.9,41.9,27.6,49.2,39.3,37.2,42.0,40.9,39.1,50.7,32.1,44.5,49.8,30.1,39.7,50.6,28.8,37.1,33.3,42.3,15.9,35.3,32.8,35.1,53.3,23.9,44.5,33.6,33.1,47.7,40.6,45.1,45.3,27.9,18.7,16.8,49.5,52.1,41.4,45.8,28.4,49.6,22.7,36.9,26.0,28.2,41.9,32.6,53.3,44.5,37.9,55.7,57.2,45.8,35.4,21.9,35.6,36.0,41.9,52.6,42.0,50.6,25.9,57.1,43.3,48.8,51.1,30.5,45.2,51.6,54.4,36.6,47.4,34.5,33.1,60.9,48.5,43.4,41.3,46.4,18.5,28.9,29.4,33.8,25.7,31.6,37.1,37.2,38.5,51.2,33.5,32.3,26.3,49.3,52.5,56.0,37.6,33.0,46.6,51.8,39.4,30.6,46.3,37.1,42.4,52.5,39.5,46.1,40.4,47.2,39.2,22.3,31.5,36.2,26.5,38.3,39.3,22.0,36.2,30.5,45.3,38.2,43.9,34.9,21.4,39.4,65.3,53.3,48.3,47.6,53.7,40.6,27.7,37.9,46.2,38.3,42.6,55.8,56.5,51.2,20.2,29.9,42.0,29.2,32.9,15.8,35.6,43.3,23.8,38.2,25.8,37.5,34.0,32.0,28.5,36.7,43.3,59.1,36.2,41.7,46.4,50.0,36.7,37.0,39.0,37.5,29.1,57.5,28.5,57.2,29.6,43.2,45.1,48.1,49.0,41.3,22.0,47.7,43.9,44.4,39.3,37.4,55.3,41.5,20.2,52.5,66.4,38.0,44.2,42.5,40.9,37.0,28.9,33.4,34.3,45.7,27.9,37.0,29.1,35.3,64.4,31.2,41.5,29.6,29.1,58.0,34.0,44.3,34.9,48.1,35.8,38.2,42.2,37.9,27.8,31.2,44.3,37.3,45.3,67.9,44.6,19.7,35.3,35.8,21.7,56.0,45.9,26.4,45.3,38.4,39.9,30.2,30.4,45.8,43.2,29.8,54.9,41.8,40.7,40.5,44.5,48.8,53.7,34.9,44.2,41.0,27.5,49.3,32.9,38.2,50.1,17.4,30.4,37.1,41.2,33.9,38.8,57.4,31.6,52.4,43.6,16.6,41.7,46.3,61.2,35.5,37.7,36.1,30.9,47.0,57.3,37.8,49.1,45.3,47.6,33.4,39.1,46.6,46.8,35.2,33.5,18.8,28.9,32.2,64.6,40.6,38.3,54.4,29.5,35.2,50.9,61.4,21.7,31.6,38.7,39.4,44.1,49.2,39.4,51.2,37.5,34.4,34.5,50.4,17.8,44.5,47.6,36.0,48.8,40.0,64.9,46.9,32.3,40.4,49.5,29.7,48.1,28.6,48.6,23.0,29.6,60.7,44.6,33.8,35.2,49.1,47.1,38.8,34.8,37.9,54.8,56.7,40.1,28.7,33.1,46.9,36.7,38.8,28.7,37.0,44.6,45.9,55.0,27.1,41.9,48.3,34.3,55.0,33.8,30.5,46.4,58.2,35.8,33.6,17.5,45.6,31.7,40.8,41.9,44.2,33.5,42.2,39.9,36.4,41.4,55.3,56.1,36.8,49.3,39.2,59.4,34.0,34.1,26.1,66.1,30.3,32.7,31.7,31.4,54.8,33.3,34.4,45.8,44.6,47.3,27.5,50.8,24.2,32.8,40.2,50.6,48.0,52.9,35.9,31.1,27.4,42.5,54.5,38.5,30.2,48.6,24.6,29.1,42.7,26.6,48.4,43.7,45.3,37.6,21.4,54.4,44.5,52.7,53.1,33.2,27.0,65.3,26.8,13.7,39.6,32.6,36.8,55.3,38.0,41.8,43.5,36.6,46.9,27.2,45.8,24.8,73.6,38.4,44.4,40.0,40.9,47.2,44.2,47.1,44.6,54.1,38.3,36.9,29.6,29.2,24.1,46.0,36.5,26.1,52.7,27.9,21.8,35.4,20.5,38.2,36.8,22.6,36.3,31.1,53.7,33.0,34.9,45.3,40.9,41.6,39.1,36.0,35.7,44.0,44.0,40.4,25.9,20.9,29.5,19.7,46.8,51.1,39.5,46.7,39.1,39.9,34.0,70.0,41.1,28.7,42.1,60.8,51.1,39.8,42.5,34.5,49.4,51.2,44.5,39.3,44.2,48.4,43.2,28.7,37.5,43.9,34.2,22.4,41.1,35.3,16.6,32.7,47.6,50.9,31.3,47.2,38.4,41.5,51.4,39.2,33.9,20.2,42.1,50.5,51.8,35.5,28.0,44.0,38.5,42.4,49.7,45.1,38.9,50.6,40.4,43.6,24.8,28.7,40.3,43.0,49.2,31.3,34.1,44.7,34.1,46.1,39.0,37.6,49.7,46.1,45.2,53.8,30.4,53.6,18.0,48.0,61.0,28.7,36.8,41.0,25.5,23.2,51.2,44.8,40.1,42.2,43.6,55.9,38.0,35.9,29.5,50.7,36.9,26.6,26.2,32.8,44.3,40.6,50.8,53.2,38.3,32.3,41.7,52.6,39.3,47.9,30.0,47.5,21.3,38.5,53.4,46.9,45.3,50.9,41.2,24.0,31.4,55.2,50.4,32.4,48.2,33.7,32.9,41.4,45.0,38.1,34.5,46.4,53.8,44.1,43.2,46.0,34.5,25.3,25.1,21.6,52.9,52.3,53.1,51.1,25.7,41.6,34.1,21.7,29.6,42.5,28.0,37.6,40.7,42.9,35.6,45.4,20.2,29.5,60.0,38.7,50.9,46.3,42.1,47.0,35.3,39.5,54.4,37.6,21.4,19.4,39.0,48.7,26.9,41.1,43.3,43.4,46.3,63.5,33.5,31.3,34.5,40.6,40.2,32.7,48.1,45.6,41.1,38.5,36.2,37.5,31.8,39.8,48.1,48.3,49.3,52.9,43.4,24.5,67.2,40.6,40.9,24.3,40.7,44.4,57.6,35.2,46.8,51.4,43.5,40.2,41.4,47.9,52.2,40.7,34.7,52.0,52.1,20.7,25.5,44.9,49.9,41.9,48.2,46.7,14.3,50.3,60.4,45.5,43.0,30.7,13.8,46.8,13.4,33.4,36.9,53.2,38.2,46.7,20.3,45.2,49.6,36.2,12.2,61.4,42.9,43.1,27.1,53.8,33.2,18.7,39.6,34.8,39.7,27.3,49.1,31.0,38.2,52.7,39.5,34.2,30.3,37.7,29.9,42.6,19.8,47.3,47.7,37.7,30.6,36.2,45.9,33.8,49.7,51.7,52.9,42.8,39.4,61.0,43.2,47.4,21.0,52.6,41.1,47.3,52.6,40.0,61.8,24.4,41.0,13.4,30.5,34.1,51.0,35.9,45.9,49.9,47.8,32.6,32.8,22.8,43.1,34.2,39.0,40.5,47.0,32.7,33.2,40.1,35.9,44.4,16.1,27.8,56.6,53.8,36.9,31.0,48.8,47.9,48.3,50.0,42.3,46.5,44.5,31.8,41.2,41.8,49.3,36.4,47.3,39.9,40.1,53.6,41.7,42.9,43.9,47.9,60.3,29.5,52.3,30.8,48.5,43.5,31.6,49.6,31.5,42.3,52.1,16.8,50.9,29.2,54.3,56.8,46.3,46.3,34.1,64.7,52.6,41.8,41.4,33.4,40.6,61.9,41.7,39.6,51.9,29.1,34.2,40.3,47.7,28.2,42.6,51.6,31.0,51.3,27.1,33.4,39.4,36.6,45.9,53.8,36.0,42.0,26.9,34.6,29.1,28.0,44.7,39.1,37.5,41.8,25.9,14.5,25.1,46.9,48.7,32.8,26.7,36.2,25.8,59.5,38.7,54.2,40.9,69.6,29.7,36.4,53.8,24.4,46.7,29.2,24.3,39.8,36.0,50.9,42.3,39.4,44.2,45.4,44.3,45.8,49.1,44.9,33.5,52.4,38.4,53.3,50.0,47.0,29.1,32.7,23.5,46.3,45.7,42.2,34.2,30.3,49.9,32.8,38.8,36.4,46.6,37.7,48.0,49.8,60.5,47.0,36.6,36.5,39.5,43.4,30.4,34.1,51.2,42.9,35.2,38.5,35.1,48.9,51.7,20.4,44.0,42.7,38.0,50.4,43.1,52.7,52.4,24.8,43.1,28.3,36.2,32.5,31.3,38.0,35.1,26.1,35.1,51.9,48.6,32.2,40.7,51.1,17.6,27.6,47.8,33.6,33.4,39.1,36.2,40.0,44.1,47.3,31.9,33.6,43.1,38.2,40.7,41.2,30.0,27.5,41.4,29.6,36.9,55.1,41.3,51.0,38.4,45.9,41.0,43.1,33.6,47.3,36.6,32.0,41.6,28.3,30.4,42.3,37.7,33.5,54.6,53.3,22.3,41.8,39.5,28.8,38.8,31.8,33.6,43.5,57.9,54.2,48.2,34.0,44.5,26.3,51.4,30.8,42.0,39.4,41.8,28.3,60.1,38.9,36.1,14.9,32.3,47.3,40.8,21.0,35.5,54.0,31.1,31.4,45.2,35.7,37.9,47.3,31.7,12.5,64.7,36.9,45.0,44.2,22.6,40.9,43.6,41.6,40.7,39.6,60.5,37.0,49.4,34.7,33.7,71.8,30.9,28.6,37.1,37.4,46.5,32.0,28.9,56.8,51.2,46.6,37.3,50.8,35.5,54.1,20.1,26.0,67.5,38.5,37.2,18.9,42.6,28.3,62.0,28.7,43.6,34.6,27.1,41.8,32.7,46.3,47.5,47.0,45.3,47.0,36.9,38.4,29.9,45.5,34.9,44.8,32.7,37.7,49.3,26.8,44.6,38.5,29.7,35.9,41.8,35.1,44.6,29.3,23.9,31.7,28.8,57.7,51.1,44.6,32.5,47.8,30.0,42.4,32.5,54.8,40.5,43.9,37.0,58.4,37.6,47.2,45.4,49.1,52.6,32.4,43.7,43.7,43.5,43.5,39.8,39.2,21.4,47.7,45.1,38.6,49.7,31.2,32.3,41.5,55.5,37.6,43.0,49.6,53.0,42.4,54.7,30.2,26.9,47.0,44.2,30.1,42.7,40.9,29.4,55.1,31.1,45.1,39.0,28.4,59.5,39.6,47.4,33.0,51.2,57.9,30.8,59.2,76.6,52.7,38.9,32.2,29.5,24.8,31.9,33.6,25.6,39.0,26.8,23.5,40.0,28.8,60.1,42.1,46.2,47.5,38.5,29.3,47.7,40.8,52.4,39.0,28.3,41.9,49.6,58.2,28.8,48.6,36.7,17.0,32.0,41.7,24.6,35.9,16.6,46.2,24.4,53.2,38.1,64.2,28.3,37.0,38.7,45.6,34.7,35.0,31.0,49.2,47.4,31.0,47.2,31.1,42.6,23.2,50.9,47.2,37.5,56.5,37.2,42.2,43.1,51.7,44.6,42.9,59.5,50.5,49.4,38.1,54.7,37.2,38.6,37.9,24.0,53.8,49.0,39.1,59.1,36.3,37.9,33.2,25.6,39.2,43.8,50.0,53.6,50.7,47.3,52.5,23.8,44.5,44.8,51.0,26.3,26.8,38.5,36.9,44.0,41.9,37.1,42.4,41.3,40.0,49.3,47.7,39.7,57.1,42.0,43.6,48.0,38.4,41.9,21.8,46.4,31.4,31.3,43.4,45.8,29.0,49.0,32.2,35.6,45.5,39.4,36.0,36.8,41.9,49.9,32.3,59.0,47.0,39.9,40.2,35.3,35.9,23.2,28.8,46.1,54.9,29.7,38.4,59.0,53.5,36.4,42.6,33.0,34.9,34.1,34.5,34.9,37.9,39.0,31.9,43.5,28.8,51.7,50.2,44.0,37.3,46.0,41.1,61.1,43.3,44.2,39.3,23.5,30.7,43.8,38.7,50.2,44.9,44.8,42.2,32.4,46.5,38.8,36.8,19.7,46.1,34.1,47.3,31.8,39.3,45.1,35.8,38.1,41.4,38.2,41.3,51.1,27.2,45.7,21.7,47.9,43.4,37.2,44.9,37.7,34.8,21.3,29.5,36.7,34.9,43.0,48.0,39.7,31.2,36.1,53.5,42.2,44.4,49.8,37.5,40.6,45.7,30.3,23.0,56.9,35.7,48.3,41.5,39.0,30.5,27.8,37.7,46.0,31.5,48.7,26.3,45.6,57.2,19.6,47.5,33.0,55.2,26.4,27.0,41.0,47.8,37.9,31.3,39.2,46.1,32.4,36.3,54.9,38.2,28.0,49.9,40.4,31.8,41.0,40.9,45.7,42.4,52.1,52.4,30.9,46.9,40.8,35.0,36.4,40.9,33.2,31.4,30.6,45.7,28.9,52.3,40.0,44.9,52.1,35.4,23.7,47.3,17.7,41.0,25.4,46.3,21.0,65.2,22.3,45.7,53.9,33.6,27.0,42.4,32.4,27.8,43.5,42.6,44.0,46.9,33.3,45.8,43.1,61.9,37.1,37.8,34.3,27.9,54.9,35.2,36.6,61.4,27.4,26.9,48.8,49.7,39.7,41.1,26.0,45.3,49.6,41.5,38.8,39.9,28.0,44.1,39.8,21.2,36.1,31.0,31.1,39.7,38.4,23.9,24.1,36.3,51.1,52.6,29.2,52.8,46.4,25.4,39.1,33.3,52.7,38.1,43.8,26.9,26.3,39.0,31.8,37.6,31.1,41.0,45.3,39.7,30.6,40.0,30.4,45.7,50.0,44.9,52.2,49.6,39.0,44.0,48.8,28.5,29.6,40.6,40.4,35.7,31.1,36.9,55.6,50.3,46.7,46.3,37.4,35.8,44.3,62.5,45.0,49.0,49.9,42.1,20.6,33.6,21.7,63.4,49.3,50.3,31.9,25.7,27.3,43.1,47.2,46.5,39.7,42.7,43.5,26.4,12.1,59.4,40.7,52.4,45.1,36.6,50.1,26.9,44.5,37.7,20.1,23.2,39.9,37.7,36.3,46.2,44.7,38.4,35.9,46.1,40.0,57.2,39.9,51.3,65.9,42.8,34.6,56.0,30.6,39.0,42.1,49.9,41.2,27.8,44.2,42.5,37.1,40.3,59.5,38.6,45.5,26.8,29.5,54.7,43.3,38.4,28.3,38.0,46.4,37.8,32.2,33.4,35.6,38.1,31.5,50.3,47.9,50.1,43.2,46.3,38.6,36.7,27.1,37.8,30.2,30.3,34.6,40.9,41.3,38.6,27.3,39.8,44.3,44.2,47.1,45.4,30.9,44.1,50.4,46.2,52.3,51.9,37.4,35.8,46.5,55.5,44.8,30.2,37.7,40.2,29.3,25.2,27.6,28.4,36.3,37.2,45.5,44.5,33.9,37.2,40.6,48.3,40.0,45.4,44.4,52.4,36.7,36.5,45.8,29.6,27.5,15.7,32.4,53.9,39.5,43.2,40.7,30.6,38.0,47.7,44.4,35.5,33.4,51.9,56.5,47.0,42.3,40.3,40.3,31.7,52.1,33.3,50.0,50.6,40.5,38.3,45.5,44.5,33.1,47.1,46.4,45.3,24.9,42.4,42.3,33.5,49.7,45.8,31.0,57.4,35.5,53.7,43.2,27.3,27.3,39.7,35.9,56.0,47.5,54.3,43.9,38.5,61.8,60.6,46.0,36.4,55.6,52.1,33.8,36.9,29.4,50.6,42.5,45.9,30.4,37.8,50.3,42.6,44.5,54.2,39.6,30.0,47.9,40.4,46.9,39.6,44.4,36.2,31.9,25.8,49.8,33.5,23.0,40.0,52.4,53.0,41.7,35.6,32.1,28.7,32.1,24.1,37.1,42.3,39.3,43.1,36.1,30.7,50.4,34.4,33.0,38.5,53.8,23.6,41.5,47.6,40.2,36.7,36.7,41.2,39.0,46.3,44.5,42.0,39.6,26.4,30.8,30.5,26.2,34.9,49.8,36.7,33.4,49.4,50.7,53.5,32.8,39.0,28.9,37.6,52.6,45.0,42.3,44.7,43.3,27.1,50.7,53.2,43.9,43.9,51.2,25.9,39.4,23.8,31.2,46.7,41.3,47.2,36.4,43.1,48.6,34.3,48.1,43.3,35.8,29.5,51.2,40.0,49.7,49.9,35.8,34.1,41.3,46.2,28.8,54.7,39.3,43.6,43.5,30.7,43.2,39.9,41.1,28.1,26.3,33.5,44.4,34.7,28.7,49.8,41.9,46.5,37.5,45.3,26.9,39.5,39.8,49.7,32.4,36.7,37.6,34.2,43.0,46.5,31.9,38.7,50.1,38.2,55.2,34.4,44.3,40.4,37.0,23.8,43.7,54.1,15.7,51.2,28.0,45.8,33.3,42.6,41.5,39.4,39.9,43.6,35.7,26.9,42.0,17.0,38.2,33.8,60.3,50.0,28.4,36.0,49.0,57.4,53.7,46.5,24.7,30.2,44.7,30.3,40.4,50.6,50.0,37.4,35.7,48.3,42.4,34.6,45.0,42.4,39.4,60.1,60.4,42.3,35.8,24.6,48.2,38.4,43.7,37.1,42.8,39.4,46.1,39.9,36.6,49.1,58.1,41.8,46.2,34.4,40.0,26.0,49.7,52.7,35.4,31.3,33.5,46.6,30.9,45.5,35.9,48.7,38.8,28.8,41.0,37.7,24.4,14.9,37.0,61.5,40.0,39.9,34.6,28.1,37.4,34.3,24.6,41.9,25.6,35.3,39.7,25.2,30.3,56.6,45.2,54.0,31.2,36.0,44.3,26.1,35.7,25.4,35.1,49.6,75.4,43.7,27.6,20.3,34.4,45.7,30.9,36.9,49.8,53.5,38.2,41.0,21.8,39.7,51.0,28.5,39.0,42.1,38.7,45.9,41.2,42.8,50.4,34.2,40.7,27.2,30.1,32.7,45.7,40.2,29.1,28.4,37.0,36.9,39.9,36.4,34.2,42.6,37.1,40.0,27.2,40.4,40.5,53.6,33.8,36.0,57.4,52.3,47.3,14.4,62.4,24.5,46.8,27.2,25.6,64.2,40.4,43.0,56.9,36.9,36.1,36.6,36.6,50.3,29.0,47.3,40.2,32.0,35.8,40.6,37.6,37.7,31.4,44.2,36.9,35.2,36.1,32.9,48.6,40.9,53.9,32.4,37.1,31.7,49.6,50.2,58.1,43.9,46.8,23.6,23.5,44.3,22.6,36.5,52.0,45.1,20.3,31.6,29.1,49.0,27.3,27.3,27.0,30.7,32.2,31.1,31.5,35.2,57.8,40.1,25.5,57.3,31.5,60.9,60.4,20.5,54.1,54.9,29.4,30.3,48.4,45.0,31.7,32.0,28.1,53.1,45.0,44.2,57.8,34.1,38.0,36.2,50.6,41.9,38.3,43.0,49.8,48.0,37.6,40.8,43.2,45.1,41.0,38.1,44.5,21.5,43.1,53.5,40.2,37.6,31.2,33.7,41.3,37.9,40.5,44.8,50.0,31.9,44.8,33.7,47.0,49.1,17.8,30.4,27.9,44.3,28.0,52.7,45.1,42.6,33.1,34.3,28.5,48.0,45.1,38.6,51.3,41.4,45.5,28.8,48.5,45.7,33.6,57.4,46.3,53.0,39.9,47.3,44.8,43.9,30.7,29.1,19.3,50.1,28.3,46.6,26.7,44.9,53.9,46.2,22.0,42.0,29.6,30.5,55.7,34.8,36.0,28.8,57.0,40.1,33.3,49.3,42.5,43.4,15.9,29.3,35.4,20.2,33.3,40.6,36.1,40.1,48.2,48.0,27.6,55.4,33.2,40.0,41.9,24.0,50.9,33.7,34.2,39.8,41.9,36.6,55.4,41.4,37.7,30.6,47.4,49.2,47.0,40.1,38.8,36.4,40.7,37.8,45.9,28.8,54.5,39.1,41.9,36.0,48.9,40.6,42.1,43.9,46.7,44.1,48.7,29.5,45.7,26.0,45.1,47.7,28.5,31.0,38.3,30.7,37.2,48.9,39.2,48.3,38.5,42.5,26.3,24.9,35.1,42.5,38.0,48.2,36.0,40.1,23.3,41.2,33.5,53.1,59.8,41.3,54.5,43.3,37.3,46.8,52.8,28.7,43.4,38.0,41.1,37.4,18.0,32.5,44.4,36.8,40.3,41.3,42.2,62.5,37.3,35.3,42.8,45.9,27.2,47.8,35.8,33.2,52.7,33.2,41.3,38.9,26.8,36.1,53.9,46.3,40.6,32.6,28.1,31.7,47.0,41.2,55.7,56.3,33.0,39.6,34.5,61.9,48.8,54.8,33.3,48.9,35.2,31.1,30.7,44.1,29.6,21.2,19.3,33.4,24.2,46.6,48.1,40.7,45.6,59.5,31.9,28.8,33.4,32.0,39.8,28.2,36.3,42.4,31.2,43.6,41.4,41.1,32.9,29.7,61.3,45.0,20.1,55.6,44.2,36.6,56.2,40.6,33.6,37.2,39.4,33.7,29.0,36.7,49.6,17.4,47.7,27.6,38.0,42.9,42.9,37.2,42.5,36.2,32.4,45.6,47.4,32.6,28.8,32.6,35.1,35.9,16.2,36.7,26.1,22.1,66.7,39.1,35.0,35.7,48.6,34.8,37.9,57.6,36.2,41.6,47.1,28.4,43.2,33.9,33.1,44.7,29.8,42.5,28.5,60.5,55.0,40.9,31.7,52.3,35.6,60.9,39.3,32.4,52.7,50.0,56.1,35.4,17.7,45.3,36.9,45.5,47.6,52.1,47.4,58.8,46.1,15.5,51.4,37.8,38.5,44.2,33.1,56.3,34.0,44.7,35.4,31.3,52.1,36.5,58.6,59.1,27.5,38.5,22.0,30.8,27.7,22.3,44.7,32.8,48.1,31.1,54.1,47.1,44.8,31.4,35.7,47.7,32.7,46.0,58.8,30.6,29.6,56.7,58.7,36.9,45.5,46.9,28.4,32.4,44.3,48.5,46.1,33.9,44.0,50.8,47.8,37.8,42.0,25.1,54.1,59.4,46.9,35.3,33.0,49.1,35.0,54.9,49.4,39.9,26.5,28.9,41.2,32.4,50.0,51.4,40.5,68.2,26.3,40.4,49.8,36.6,47.0,28.7,24.1,36.2,39.2,47.3,27.9],\"yaxis\":\"y\",\"type\":\"scattergl\"},{\"hovertemplate\":\"<b>%{hovertext}</b><br><br>Type=H<br>Rotational_speed=%{x}<br>Torque=%{y}<extra></extra>\",\"hovertext\":[\"No Failure\",\"No Failure\",\"No Failure\",\"No Failure\",\"No Failure\",\"No Failure\",\"No Failure\",\"No Failure\",\"No Failure\",\"No Failure\",\"No Failure\",\"No Failure\",\"No Failure\",\"No Failure\",\"No Failure\",\"No Failure\",\"No Failure\",\"No Failure\",\"No Failure\",\"No Failure\",\"No Failure\",\"No Failure\",\"No Failure\",\"No Failure\",\"No Failure\",\"No Failure\",\"No Failure\",\"No Failure\",\"No Failure\",\"No Failure\",\"No Failure\",\"No Failure\",\"No Failure\",\"No Failure\",\"No Failure\",\"No Failure\",\"No Failure\",\"No Failure\",\"No Failure\",\"No Failure\",\"No Failure\",\"No Failure\",\"No Failure\",\"No Failure\",\"No Failure\",\"No Failure\",\"No Failure\",\"No Failure\",\"No Failure\",\"No Failure\",\"No Failure\",\"No Failure\",\"No Failure\",\"No Failure\",\"No Failure\",\"No Failure\",\"No Failure\",\"No Failure\",\"No Failure\",\"No Failure\",\"No Failure\",\"No Failure\",\"No Failure\",\"No Failure\",\"No Failure\",\"No Failure\",\"No Failure\",\"No Failure\",\"No Failure\",\"No Failure\",\"No Failure\",\"No Failure\",\"No Failure\",\"No Failure\",\"No Failure\",\"No Failure\",\"No Failure\",\"No Failure\",\"No Failure\",\"No Failure\",\"No Failure\",\"No Failure\",\"No Failure\",\"No Failure\",\"No Failure\",\"No Failure\",\"No Failure\",\"No Failure\",\"No Failure\",\"No Failure\",\"No Failure\",\"No Failure\",\"No Failure\",\"No Failure\",\"No Failure\",\"No Failure\",\"No Failure\",\"No Failure\",\"No Failure\",\"No Failure\",\"No Failure\",\"No Failure\",\"No Failure\",\"No Failure\",\"No Failure\",\"No Failure\",\"No Failure\",\"No Failure\",\"No Failure\",\"No Failure\",\"No Failure\",\"No Failure\",\"No Failure\",\"No Failure\",\"No Failure\",\"No Failure\",\"No Failure\",\"No Failure\",\"No Failure\",\"No Failure\",\"No Failure\",\"No Failure\",\"No Failure\",\"Tool Wear Failure\",\"No Failure\",\"No Failure\",\"No Failure\",\"No Failure\",\"No Failure\",\"No Failure\",\"Power Failure\",\"No Failure\",\"No Failure\",\"No Failure\",\"No Failure\",\"No Failure\",\"No Failure\",\"No Failure\",\"No Failure\",\"No Failure\",\"No Failure\",\"No Failure\",\"No Failure\",\"No Failure\",\"No Failure\",\"No Failure\",\"No Failure\",\"No Failure\",\"No Failure\",\"No Failure\",\"No Failure\",\"No Failure\",\"No Failure\",\"No Failure\",\"No Failure\",\"No Failure\",\"No Failure\",\"No Failure\",\"No Failure\",\"No Failure\",\"No Failure\",\"No Failure\",\"No Failure\",\"No Failure\",\"No Failure\",\"No Failure\",\"No Failure\",\"No Failure\",\"No Failure\",\"No Failure\",\"No Failure\",\"No Failure\",\"No Failure\",\"No Failure\",\"No Failure\",\"No Failure\",\"No Failure\",\"No Failure\",\"No Failure\",\"No Failure\",\"No Failure\",\"No Failure\",\"No Failure\",\"No Failure\",\"No Failure\",\"No Failure\",\"No Failure\",\"No Failure\",\"No Failure\",\"No Failure\",\"No Failure\",\"No Failure\",\"No Failure\",\"Tool Wear Failure\",\"No Failure\",\"No Failure\",\"No Failure\",\"No Failure\",\"No Failure\",\"Random Failures\",\"No Failure\",\"No Failure\",\"No Failure\",\"No Failure\",\"No Failure\",\"No Failure\",\"No Failure\",\"No Failure\",\"No Failure\",\"No Failure\",\"No Failure\",\"No Failure\",\"No Failure\",\"No Failure\",\"No Failure\",\"No Failure\",\"No Failure\",\"No Failure\",\"No Failure\",\"No Failure\",\"No Failure\",\"No Failure\",\"No Failure\",\"No Failure\",\"No Failure\",\"No Failure\",\"No Failure\",\"No Failure\",\"No Failure\",\"No Failure\",\"No Failure\",\"No Failure\",\"No Failure\",\"No Failure\",\"No Failure\",\"No Failure\",\"No Failure\",\"No Failure\",\"No Failure\",\"No Failure\",\"No Failure\",\"No Failure\",\"No Failure\",\"No Failure\",\"No Failure\",\"No Failure\",\"No Failure\",\"No Failure\",\"No Failure\",\"No Failure\",\"No Failure\",\"No Failure\",\"No Failure\",\"No Failure\",\"No Failure\",\"No Failure\",\"No Failure\",\"No Failure\",\"No Failure\",\"No Failure\",\"No Failure\",\"No Failure\",\"No Failure\",\"No Failure\",\"No Failure\",\"No Failure\",\"No Failure\",\"No Failure\",\"No Failure\",\"No Failure\",\"No Failure\",\"No Failure\",\"No Failure\",\"No Failure\",\"No Failure\",\"No Failure\",\"No Failure\",\"No Failure\",\"No Failure\",\"No Failure\",\"No Failure\",\"No Failure\",\"No Failure\",\"No Failure\",\"No Failure\",\"No Failure\",\"No Failure\",\"No Failure\",\"No Failure\",\"No Failure\",\"No Failure\",\"No Failure\",\"No Failure\",\"No Failure\",\"No Failure\",\"No Failure\",\"No Failure\",\"No Failure\",\"No Failure\",\"No Failure\",\"No Failure\",\"No Failure\",\"No Failure\",\"Tool Wear Failure\",\"No Failure\",\"No Failure\",\"No Failure\",\"No Failure\",\"No Failure\",\"No Failure\",\"No Failure\",\"No Failure\",\"No Failure\",\"No Failure\",\"No Failure\",\"No Failure\",\"No Failure\",\"No Failure\",\"Power Failure\",\"No Failure\",\"No Failure\",\"No Failure\",\"No Failure\",\"No Failure\",\"No Failure\",\"No Failure\",\"No Failure\",\"No Failure\",\"No Failure\",\"No Failure\",\"No Failure\",\"No Failure\",\"Power Failure\",\"No Failure\",\"No Failure\",\"No Failure\",\"No Failure\",\"No Failure\",\"No Failure\",\"No Failure\",\"No Failure\",\"No Failure\",\"No Failure\",\"No Failure\",\"No Failure\",\"No Failure\",\"No Failure\",\"No Failure\",\"No Failure\",\"No Failure\",\"No Failure\",\"No Failure\",\"No Failure\",\"No Failure\",\"No Failure\",\"No Failure\",\"No Failure\",\"No Failure\",\"No Failure\",\"No Failure\",\"Random Failures\",\"No Failure\",\"No Failure\",\"No Failure\",\"No Failure\",\"No Failure\",\"No Failure\",\"No Failure\",\"No Failure\",\"No Failure\",\"No Failure\",\"No Failure\",\"No Failure\",\"No Failure\",\"No Failure\",\"No Failure\",\"No Failure\",\"No Failure\",\"No Failure\",\"No Failure\",\"No Failure\",\"No Failure\",\"No Failure\",\"No Failure\",\"No Failure\",\"No Failure\",\"No Failure\",\"No Failure\",\"No Failure\",\"No Failure\",\"No Failure\",\"Heat Dissipation Failure\",\"No Failure\",\"No Failure\",\"No Failure\",\"No Failure\",\"Tool Wear Failure\",\"No Failure\",\"No Failure\",\"No Failure\",\"No Failure\",\"No Failure\",\"No Failure\",\"No Failure\",\"No Failure\",\"No Failure\",\"No Failure\",\"No Failure\",\"No Failure\",\"No Failure\",\"No Failure\",\"No Failure\",\"No Failure\",\"No Failure\",\"No Failure\",\"Heat Dissipation Failure\",\"No Failure\",\"No Failure\",\"No Failure\",\"No Failure\",\"No Failure\",\"No Failure\",\"No Failure\",\"No Failure\",\"No Failure\",\"No Failure\",\"No Failure\",\"No Failure\",\"Heat Dissipation Failure\",\"No Failure\",\"No Failure\",\"No Failure\",\"No Failure\",\"No Failure\",\"No Failure\",\"No Failure\",\"No Failure\",\"Heat Dissipation Failure\",\"No Failure\",\"No Failure\",\"No Failure\",\"No Failure\",\"No Failure\",\"No Failure\",\"No Failure\",\"No Failure\",\"No Failure\",\"No Failure\",\"No Failure\",\"No Failure\",\"No Failure\",\"Heat Dissipation Failure\",\"No Failure\",\"No Failure\",\"No Failure\",\"No Failure\",\"No Failure\",\"No Failure\",\"Heat Dissipation Failure\",\"No Failure\",\"No Failure\",\"No Failure\",\"No Failure\",\"No Failure\",\"No Failure\",\"No Failure\",\"No Failure\",\"No Failure\",\"No Failure\",\"No Failure\",\"No Failure\",\"No Failure\",\"No Failure\",\"No Failure\",\"No Failure\",\"No Failure\",\"No Failure\",\"No Failure\",\"Heat Dissipation Failure\",\"No Failure\",\"Heat Dissipation Failure\",\"No Failure\",\"No Failure\",\"No Failure\",\"No Failure\",\"No Failure\",\"No Failure\",\"No Failure\",\"No Failure\",\"No Failure\",\"No Failure\",\"No Failure\",\"No Failure\",\"No Failure\",\"No Failure\",\"No Failure\",\"No Failure\",\"No Failure\",\"No Failure\",\"No Failure\",\"No Failure\",\"No Failure\",\"No Failure\",\"No Failure\",\"No Failure\",\"No Failure\",\"No Failure\",\"No Failure\",\"Power Failure\",\"No Failure\",\"No Failure\",\"No Failure\",\"No Failure\",\"No Failure\",\"No Failure\",\"No Failure\",\"No Failure\",\"No Failure\",\"No Failure\",\"No Failure\",\"No Failure\",\"No Failure\",\"No Failure\",\"No Failure\",\"No Failure\",\"No Failure\",\"No Failure\",\"No Failure\",\"No Failure\",\"No Failure\",\"No Failure\",\"No Failure\",\"No Failure\",\"No Failure\",\"No Failure\",\"No Failure\",\"No Failure\",\"No Failure\",\"No Failure\",\"No Failure\",\"No Failure\",\"No Failure\",\"No Failure\",\"No Failure\",\"No Failure\",\"No Failure\",\"Overstrain Failure\",\"No Failure\",\"No Failure\",\"No Failure\",\"No Failure\",\"No Failure\",\"Random Failures\",\"No Failure\",\"No Failure\",\"No Failure\",\"No Failure\",\"No Failure\",\"No Failure\",\"No Failure\",\"No Failure\",\"No Failure\",\"No Failure\",\"No Failure\",\"No Failure\",\"No Failure\",\"No Failure\",\"No Failure\",\"No Failure\",\"No Failure\",\"No Failure\",\"No Failure\",\"No Failure\",\"No Failure\",\"No Failure\",\"No Failure\",\"No Failure\",\"No Failure\",\"No Failure\",\"No Failure\",\"No Failure\",\"No Failure\",\"No Failure\",\"No Failure\",\"No Failure\",\"No Failure\",\"No Failure\",\"No Failure\",\"No Failure\",\"Power Failure\",\"No Failure\",\"No Failure\",\"No Failure\",\"No Failure\",\"No Failure\",\"No Failure\",\"No Failure\",\"No Failure\",\"No Failure\",\"No Failure\",\"No Failure\",\"No Failure\",\"No Failure\",\"No Failure\",\"No Failure\",\"No Failure\",\"No Failure\",\"No Failure\",\"No Failure\",\"No Failure\",\"No Failure\",\"No Failure\",\"No Failure\",\"No Failure\",\"No Failure\",\"No Failure\",\"No Failure\",\"No Failure\",\"No Failure\",\"No Failure\",\"No Failure\",\"No Failure\",\"No Failure\",\"No Failure\",\"No Failure\",\"No Failure\",\"Tool Wear Failure\",\"No Failure\",\"No Failure\",\"No Failure\",\"No Failure\",\"No Failure\",\"No Failure\",\"No Failure\",\"No Failure\",\"No Failure\",\"No Failure\",\"Tool Wear Failure\",\"No Failure\",\"No Failure\",\"No Failure\",\"No Failure\",\"No Failure\",\"No Failure\",\"No Failure\",\"No Failure\",\"No Failure\",\"No Failure\",\"No Failure\",\"No Failure\",\"No Failure\",\"No Failure\",\"No Failure\",\"No Failure\",\"No Failure\",\"No Failure\",\"No Failure\",\"No Failure\",\"No Failure\",\"No Failure\",\"No Failure\",\"No Failure\",\"No Failure\",\"No Failure\",\"No Failure\",\"No Failure\",\"No Failure\",\"No Failure\",\"No Failure\",\"No Failure\",\"No Failure\",\"No Failure\",\"No Failure\",\"No Failure\",\"No Failure\",\"No Failure\",\"No Failure\",\"No Failure\",\"No Failure\",\"No Failure\",\"No Failure\",\"No Failure\",\"No Failure\",\"No Failure\",\"No Failure\",\"No Failure\",\"No Failure\",\"No Failure\",\"No Failure\",\"No Failure\",\"No Failure\",\"No Failure\",\"No Failure\",\"No Failure\",\"No Failure\",\"No Failure\",\"No Failure\",\"No Failure\",\"No Failure\",\"No Failure\",\"No Failure\",\"No Failure\",\"No Failure\",\"No Failure\",\"No Failure\",\"No Failure\",\"No Failure\",\"No Failure\",\"No Failure\",\"No Failure\",\"No Failure\",\"No Failure\",\"No Failure\",\"No Failure\",\"No Failure\",\"No Failure\",\"No Failure\",\"No Failure\",\"No Failure\",\"No Failure\",\"No Failure\",\"No Failure\",\"No Failure\",\"No Failure\",\"No Failure\",\"No Failure\",\"No Failure\",\"No Failure\",\"No Failure\",\"No Failure\",\"No Failure\",\"No Failure\",\"No Failure\",\"No Failure\",\"No Failure\",\"No Failure\",\"No Failure\",\"No Failure\",\"No Failure\",\"No Failure\",\"No Failure\",\"No Failure\",\"No Failure\",\"No Failure\",\"No Failure\",\"No Failure\",\"No Failure\",\"No Failure\",\"No Failure\",\"No Failure\",\"No Failure\",\"No Failure\",\"No Failure\",\"No Failure\",\"No Failure\",\"No Failure\",\"No Failure\",\"No Failure\",\"No Failure\",\"No Failure\",\"No Failure\",\"No Failure\",\"No Failure\",\"No Failure\",\"No Failure\",\"No Failure\",\"No Failure\",\"No Failure\",\"No Failure\",\"Random Failures\",\"No Failure\",\"No Failure\",\"No Failure\",\"No Failure\",\"No Failure\",\"No Failure\",\"No Failure\",\"No Failure\",\"No Failure\",\"No Failure\",\"No Failure\",\"No Failure\",\"No Failure\",\"No Failure\",\"No Failure\",\"No Failure\",\"No Failure\",\"No Failure\",\"No Failure\",\"No Failure\",\"No Failure\",\"No Failure\",\"No Failure\",\"No Failure\",\"No Failure\",\"No Failure\",\"No Failure\",\"No Failure\",\"No Failure\",\"No Failure\",\"No Failure\",\"No Failure\",\"No Failure\",\"No Failure\",\"No Failure\",\"No Failure\",\"No Failure\",\"No Failure\",\"No Failure\",\"No Failure\",\"No Failure\",\"No Failure\",\"No Failure\",\"No Failure\",\"No Failure\",\"No Failure\",\"No Failure\",\"No Failure\",\"No Failure\",\"No Failure\",\"No Failure\",\"No Failure\",\"No Failure\",\"No Failure\",\"No Failure\",\"No Failure\",\"No Failure\",\"No Failure\",\"No Failure\",\"No Failure\",\"No Failure\",\"No Failure\",\"No Failure\",\"No Failure\",\"No Failure\",\"No Failure\",\"No Failure\",\"No Failure\",\"No Failure\",\"No Failure\",\"No Failure\",\"No Failure\",\"No Failure\",\"No Failure\",\"No Failure\",\"No Failure\",\"No Failure\",\"No Failure\",\"No Failure\",\"No Failure\",\"No Failure\",\"No Failure\",\"No Failure\",\"No Failure\",\"No Failure\",\"No Failure\",\"No Failure\",\"No Failure\",\"No Failure\",\"No Failure\",\"No Failure\",\"No Failure\",\"No Failure\",\"No Failure\",\"No Failure\",\"No Failure\",\"No Failure\",\"No Failure\",\"No Failure\",\"No Failure\",\"No Failure\",\"No Failure\",\"No Failure\",\"No Failure\",\"No Failure\",\"No Failure\",\"No Failure\",\"No Failure\",\"No Failure\",\"No Failure\",\"No Failure\",\"No Failure\",\"No Failure\",\"No Failure\",\"No Failure\",\"No Failure\",\"No Failure\",\"No Failure\",\"No Failure\",\"No Failure\",\"No Failure\",\"No Failure\",\"No Failure\",\"No Failure\",\"No Failure\",\"No Failure\",\"No Failure\",\"No Failure\",\"No Failure\",\"No Failure\",\"No Failure\",\"No Failure\",\"No Failure\",\"No Failure\",\"No Failure\",\"No Failure\",\"No Failure\",\"No Failure\",\"No Failure\",\"No Failure\",\"No Failure\",\"No Failure\",\"No Failure\",\"No Failure\",\"No Failure\",\"No Failure\",\"No Failure\",\"No Failure\",\"No Failure\",\"No Failure\",\"No Failure\",\"No Failure\",\"No Failure\",\"No Failure\",\"No Failure\",\"No Failure\",\"No Failure\",\"No Failure\",\"No Failure\",\"No Failure\",\"No Failure\",\"No Failure\",\"No Failure\",\"No Failure\",\"No Failure\",\"No Failure\",\"No Failure\",\"No Failure\",\"No Failure\",\"No Failure\",\"No Failure\",\"No Failure\",\"No Failure\",\"No Failure\",\"No Failure\",\"No Failure\",\"No Failure\",\"No Failure\",\"No Failure\",\"No Failure\",\"No Failure\",\"No Failure\",\"No Failure\",\"No Failure\",\"No Failure\",\"No Failure\",\"No Failure\",\"No Failure\",\"No Failure\",\"No Failure\",\"No Failure\",\"No Failure\",\"No Failure\",\"No Failure\",\"No Failure\",\"No Failure\",\"No Failure\",\"No Failure\",\"No Failure\",\"No Failure\",\"No Failure\",\"No Failure\",\"No Failure\",\"No Failure\",\"No Failure\",\"No Failure\",\"No Failure\",\"No Failure\",\"No Failure\",\"No Failure\",\"No Failure\",\"No Failure\",\"No Failure\",\"No Failure\",\"No Failure\",\"No Failure\",\"No Failure\",\"No Failure\",\"No Failure\",\"No Failure\",\"No Failure\",\"No Failure\",\"No Failure\",\"No Failure\",\"No Failure\",\"No Failure\",\"No Failure\",\"No Failure\",\"No Failure\",\"No Failure\",\"No Failure\",\"No Failure\",\"No Failure\"],\"legendgroup\":\"H\",\"marker\":{\"color\":\"#00cc96\",\"symbol\":\"circle\"},\"mode\":\"markers\",\"name\":\"H\",\"showlegend\":true,\"x\":[1782,1423,1306,1375,1811,1379,1372,1425,1497,1466,1445,1436,1621,1499,1420,1449,1407,1612,1987,1478,1612,1458,1824,1398,1678,1432,1344,1827,1440,1800,1520,1479,1385,1392,2129,1512,1526,1550,1703,1720,1400,1674,1640,1587,1502,1393,1469,1440,1478,1431,1499,1419,1468,1459,1445,1365,1516,1563,1368,1669,1570,1440,1697,1419,1623,1525,1668,1278,1428,1616,1686,1433,1509,1419,1608,1400,1471,1577,1410,1735,1354,1413,1416,1479,1420,1499,1305,1474,1528,1492,1311,1453,1579,1547,1549,1333,1406,1586,1542,1541,1645,1594,2161,1329,1256,1458,1593,1623,1396,1509,1414,1632,1638,1774,1424,1556,1596,1403,1627,1424,1345,1656,1420,1549,1397,1695,1607,1432,1540,1654,1386,1448,1846,1404,1834,1517,1559,1531,1557,1410,1318,2540,1416,1492,2440,1654,1359,1482,1653,1430,1419,1885,1648,1490,1562,1530,1521,1427,1582,1452,1567,1663,1771,1613,1707,1708,1455,1491,1366,1532,1526,1510,1439,1677,1383,1503,1371,1562,1425,1438,1398,1530,1600,1662,1538,1406,1588,1482,1635,1570,1462,1491,1418,1604,1663,1683,1700,1948,1260,1626,1606,1460,1318,1605,1555,1553,1542,1496,1376,1593,1516,1555,1855,1514,1429,1249,1432,1880,1493,1547,1314,1618,1464,1631,1420,1420,1637,1560,1359,1940,1386,1553,1513,1743,1439,1415,1508,1373,1762,1429,1908,1425,1607,1732,1636,1397,1588,1597,1548,1554,1435,1355,1468,1542,1424,1451,1521,1408,1342,1623,1440,1498,1388,1520,1450,1462,1448,1450,1662,1375,1449,1524,1623,1500,1566,1382,1410,1353,1553,1712,1552,1872,1415,1534,1547,1375,1410,1529,1462,1420,1547,1595,1691,1494,1302,1572,1456,1630,1438,1416,1487,1471,1463,1380,1623,1390,1555,1502,1635,1888,1403,2007,1925,1667,1691,1360,1642,1530,1324,1470,1506,1342,1622,1329,1520,1448,1467,1525,1563,1498,1442,1513,2563,1419,1448,1500,1409,1560,1396,1495,1474,1469,1709,1469,1455,1532,1362,1538,1329,1414,1790,1591,1674,1474,1599,1536,1555,1551,1821,1400,1602,1611,1610,1330,1786,1455,1590,1336,1871,1291,1435,1430,1470,1672,1441,1478,1369,1388,1474,1544,1449,1758,1443,1543,1628,1393,1455,1850,1397,1413,1438,1366,1415,1578,1506,1496,1629,1471,1626,1553,1476,1426,1744,1655,1556,1749,1526,1625,1540,1372,1692,1598,1452,1729,1679,1294,1841,1812,1459,1472,1346,1438,1620,1462,1653,1525,1444,1522,1356,1438,1418,1460,1623,1660,1423,1418,1724,1280,1606,1844,1615,1447,1735,1383,1468,1506,1873,1688,1443,1435,1597,1305,1568,1409,1649,1614,1721,1422,1275,1436,2102,1452,1469,1503,2056,1494,1607,1651,1692,1629,1466,1476,1584,1693,1475,1502,1607,1991,1332,1544,1371,1401,1514,1564,1498,1375,1534,1806,1649,1402,1397,1520,1655,1748,1447,1525,1460,1480,1436,1386,1769,1522,1554,1436,1811,1488,1689,1586,1271,1472,1701,1378,1495,1442,1590,1627,1684,1625,1397,1546,1696,1388,1517,1408,1517,1570,1711,1790,1381,1506,1379,1680,1612,1460,1403,1404,1328,1692,1827,1404,1507,1627,1509,1336,1754,1483,1411,1422,1527,1698,1435,1478,1357,1417,1657,1484,1482,1357,1374,1366,1579,1357,1477,1457,1624,1603,2370,1534,1701,1441,1594,1595,1456,1413,1597,1482,1330,1475,1804,1451,1395,1543,1580,1798,1598,1445,1686,1582,1419,1364,1479,1454,1656,1631,1447,1654,1378,1501,1466,1346,1296,1431,1428,1425,1618,1853,1518,1618,1477,1609,1640,1390,1656,1403,1559,1495,1916,1366,1407,1792,1341,1457,1512,1782,1457,1495,1397,1374,1781,1735,1629,1483,1463,1509,1677,1484,1405,1394,1877,1483,1358,1571,1547,1913,1541,2041,1454,1756,1470,1212,1605,1656,1352,1505,1527,1394,1512,1538,1587,1453,1580,1421,1536,1419,1516,1524,1463,1639,2016,1434,1747,1388,1465,1474,1339,1602,2207,1597,1295,1518,2237,1387,1668,1417,1452,1453,1374,1981,1612,1698,1411,1419,1403,1631,1448,1830,1519,1510,1567,1476,1479,1505,1369,1777,1512,1457,1452,1582,1906,1426,1400,1433,1368,1447,1501,1408,1714,1881,1558,1535,1411,1573,1537,1549,1462,1531,1423,1427,1589,1432,1518,1801,1463,1339,1506,1655,1383,1377,1454,1777,1489,1397,2026,1351,1445,1427,1662,1454,1506,1500,1282,1468,1864,1679,1427,1535,1476,1329,1354,1715,1427,1319,1464,1485,1674,1785,1413,1495,1547,1438,1335,1457,1670,1446,1490,1527,1389,1513,2140,1491,1395,1489,2129,1720,1397,1431,1604,1496,1426,1375,1432,1422,1662,1390,2141,2496,1515,1393,1364,1600,1679,1714,1353,1641,1497,1636,1329,1369,1336,1332,1434,1704,1791,1761,1294,1519,1615,1429,1435,1380,1422,1565,1453,1523,1437,1490,1530,1563,1593,1671,1704,1243,1324,1672,1463,1579,1279,1546,1631,1529,1512,2011,1545,1461,1359,1384,1480,1490,1557,1506,1771,1461,1355,1688,1524,1438,1569,1486,1429,1323,1824,1536,1481,1435,1376,1349,1623,1430,1726,1324,1564,1645,1416,1557,1332,1520,1461,1522,1527,1935,1661,1450,1435,1793,1585,1864,1453,2182,1790,1770,1554,1365,1477,1653,1659,1463,1404,1487,1671,1385,1650,1435,1469,1436,1823,1379,1470,1520,1606,1470,1524,1646,1573,1417,2051,1500,1531,1577,1706,1418,1288,1738,1488,1548,1390,2071,1489,1526,1637,1515,1837,1411,1388,1536,1360,1439,1600,1309,1546,1373,1443,1542,1548,1658,1405,1585,1418,1510,1432,1637,1555,1569,2053,1421,1393,1657,1431,1458,1744,1376,1429,1387,1911,1458,1483,1561,1449,1584,1375,1311,1466,1697,1420,1573,1414,1694,1421,1984,1430,1486,1484,1568,1362,1755,1884,1461,1654,1516,1407,1449,1402,1450,1566,1479,1534,2636,1891,1563,1377,1432,1572,1632,1408],\"xaxis\":\"x\",\"y\":[23.9,44.3,54.5,42.7,24.6,50.7,48.5,53.9,43.8,44.1,49.9,43.9,32.7,43.5,45.7,49.4,50.5,36.1,19.8,43.5,32.6,42.9,24.2,51.8,34.6,49.5,52.9,24.3,43.7,24.8,39.6,50.7,42.2,44.8,18.7,35.1,41.8,38.2,31.4,29.9,44.3,30.0,30.9,36.1,43.6,46.6,45.1,46.1,47.6,42.0,44.2,42.4,41.4,49.7,48.2,52.4,43.0,36.1,45.3,32.1,35.8,51.1,32.2,48.2,33.1,41.7,27.9,50.4,46.6,31.1,29.1,44.2,37.6,47.1,30.2,48.9,37.7,34.7,48.8,26.4,55.6,40.2,39.2,40.9,45.8,37.6,54.6,39.2,46.3,43.7,58.6,51.0,33.4,32.6,37.8,50.2,41.5,35.5,40.6,32.6,31.0,33.2,16.5,55.3,62.3,49.8,37.2,30.9,52.4,35.8,42.5,32.2,32.5,25.9,42.0,38.0,35.1,52.8,30.5,53.8,54.5,30.8,39.8,35.8,48.3,30.0,33.6,49.2,37.4,31.0,62.3,45.6,27.3,40.7,23.8,41.4,38.8,35.6,36.5,47.6,53.5,13.3,46.9,41.5,14.0,31.4,46.6,39.3,33.3,49.4,50.7,25.2,33.0,40.5,38.1,40.2,37.1,54.3,33.4,49.9,36.8,30.4,26.8,36.0,27.6,27.1,44.9,45.3,62.7,37.7,42.1,44.2,45.2,30.8,44.6,36.3,55.7,37.7,44.5,41.4,47.1,42.0,33.5,30.7,38.3,58.5,35.4,37.8,34.0,35.3,45.5,39.7,43.0,36.1,28.7,27.8,28.2,21.4,54.2,31.1,35.2,48.6,55.7,31.0,36.8,41.0,37.1,44.1,56.2,32.2,40.1,35.8,22.5,38.6,44.1,62.8,40.2,23.3,36.0,36.8,47.8,35.9,43.2,31.3,45.8,39.2,30.8,33.3,47.6,19.9,44.4,41.0,36.1,28.2,49.7,51.7,35.0,44.1,29.3,43.0,21.3,40.6,33.7,29.7,35.5,45.4,41.3,36.3,44.3,41.6,42.6,44.8,49.6,41.8,43.4,42.8,36.5,44.4,47.5,33.5,39.1,39.5,53.2,41.4,46.1,55.0,51.4,44.7,30.4,55.1,42.4,37.7,31.0,41.6,46.6,58.5,47.1,48.1,32.6,26.4,40.7,22.6,54.0,37.5,40.9,46.8,51.2,42.4,51.0,46.7,38.5,32.1,27.7,37.8,55.5,32.8,40.6,32.3,44.0,43.3,38.9,45.2,49.2,47.6,32.7,48.5,37.9,34.3,34.2,20.5,51.3,19.7,20.5,30.5,28.0,46.2,36.2,40.4,72.8,43.8,35.6,48.7,31.8,55.2,38.2,45.8,37.3,33.2,40.8,38.5,49.2,38.7,12.8,42.4,39.7,35.2,47.5,35.4,51.2,36.5,40.7,43.4,27.0,39.7,44.1,36.3,50.7,38.4,52.0,51.7,26.2,29.6,33.6,38.7,40.4,44.4,40.4,34.3,26.2,49.5,32.3,41.5,38.6,49.5,27.1,42.7,34.3,63.6,26.0,63.6,47.2,49.8,37.6,29.9,46.3,38.6,45.4,50.5,41.8,39.1,44.5,26.4,44.1,37.5,30.6,47.5,40.3,23.3,47.6,48.9,43.8,48.4,48.4,32.3,40.8,43.8,34.4,48.3,36.0,34.1,39.6,50.6,30.3,32.3,35.0,29.2,38.2,35.4,43.7,46.0,28.2,37.9,42.5,26.1,29.0,62.4,23.6,24.4,43.2,39.7,54.7,43.2,30.8,38.3,32.4,48.7,40.7,35.9,55.5,51.0,43.4,47.2,32.3,29.3,53.6,51.3,27.5,57.3,34.5,24.6,29.9,42.8,27.2,42.9,43.6,33.8,21.3,30.4,54.6,44.9,28.9,55.2,36.9,53.3,30.1,36.0,27.4,41.9,55.0,43.5,17.8,58.3,48.7,37.0,19.7,42.7,31.7,30.6,27.9,33.5,47.0,40.1,32.7,28.3,43.1,39.5,36.6,19.0,52.7,37.1,54.6,50.0,35.5,40.2,40.2,54.0,33.2,27.7,29.4,50.0,52.9,35.6,28.0,25.1,46.6,38.0,53.7,50.7,45.6,49.0,27.9,42.1,36.8,42.0,24.9,42.8,32.5,34.6,68.6,45.5,30.4,45.6,46.6,40.9,43.4,32.2,29.8,37.3,49.6,41.4,29.6,53.2,43.1,39.8,36.0,35.8,27.6,26.7,52.4,46.9,50.2,29.1,31.7,49.8,46.2,55.8,49.8,29.0,24.2,40.6,37.9,37.1,46.8,57.5,26.9,47.2,53.8,46.1,36.4,30.0,41.9,36.0,55.0,48.7,29.3,41.5,39.0,44.2,52.4,47.3,35.7,42.0,39.7,43.4,28.8,32.5,14.7,37.2,26.2,53.9,36.8,34.6,45.4,46.5,35.8,42.6,62.4,42.8,25.0,39.4,46.8,36.4,36.6,22.3,35.9,41.4,27.7,31.1,46.4,65.3,52.3,51.2,36.3,30.5,46.5,28.6,51.5,45.3,45.2,52.0,58.2,43.2,43.4,44.0,32.8,23.6,40.1,29.5,38.4,28.7,37.6,40.6,30.7,40.6,40.1,37.3,22.0,50.6,43.9,25.8,59.3,46.8,44.9,24.9,50.5,47.4,45.9,47.7,24.9,28.9,32.3,43.8,45.1,46.6,30.1,38.0,52.1,46.7,24.8,44.0,60.4,33.6,50.7,22.5,36.2,19.2,44.1,30.7,40.1,67.9,32.5,26.2,52.0,43.6,44.0,46.7,39.0,44.3,33.8,48.0,35.7,43.8,39.9,50.2,36.4,40.4,50.1,30.0,19.3,39.5,27.3,58.5,44.1,35.7,52.8,32.7,16.6,39.2,58.9,35.0,17.0,42.7,28.9,53.4,40.2,44.6,53.1,19.9,32.5,24.8,47.2,39.6,47.7,32.6,44.7,26.2,37.0,42.8,38.7,43.1,35.6,40.6,50.7,30.1,41.2,43.8,41.5,30.8,22.9,42.7,48.7,49.6,47.4,51.4,42.9,42.5,28.7,21.9,36.7,43.9,49.7,33.3,36.6,42.8,40.4,36.8,44.6,47.2,37.9,47.7,46.9,23.6,41.6,53.4,36.1,29.9,49.1,56.7,42.8,27.5,45.3,45.2,20.3,53.5,52.4,50.7,29.0,50.3,36.2,36.7,60.2,38.7,23.6,27.5,44.6,33.3,41.7,59.2,46.9,30.8,56.2,54.6,41.0,40.4,29.6,25.4,41.8,35.8,37.7,46.7,49.0,47.2,27.3,45.4,43.1,35.1,46.5,38.0,16.5,42.6,47.8,40.3,17.8,27.9,42.7,48.5,30.5,41.1,44.3,43.2,43.6,46.2,28.8,49.0,18.5,13.5,36.8,43.1,49.6,32.4,31.2,30.2,47.1,34.5,37.0,29.4,48.9,54.5,56.8,48.0,48.4,30.6,28.0,30.4,55.8,38.8,33.0,39.9,45.6,44.0,40.7,39.3,40.4,34.2,48.2,35.9,38.3,38.8,33.3,31.8,30.7,63.0,54.6,27.5,39.1,33.5,55.9,36.2,29.8,41.7,35.3,21.0,35.9,37.5,46.9,49.1,39.8,39.7,39.1,37.0,27.4,41.5,58.9,29.4,41.4,46.2,33.9,46.6,37.6,51.1,24.0,38.7,38.8,55.0,53.5,48.9,33.8,42.8,26.8,53.5,38.0,30.8,39.6,36.4,51.0,37.9,40.1,46.3,42.2,19.3,34.2,37.2,43.0,23.9,46.2,23.1,45.8,17.3,30.3,27.2,42.4,54.0,52.3,31.4,32.1,46.7,50.3,46.2,28.0,44.4,32.2,44.7,43.7,51.9,25.9,43.2,38.4,35.7,39.9,43.3,39.1,30.2,33.6,41.2,19.0,40.3,30.8,37.1,31.8,51.9,49.5,27.7,41.0,38.2,52.0,18.5,43.0,40.1,34.5,43.8,28.4,53.8,53.5,39.6,56.8,47.1,33.5,57.4,35.3,44.8,40.3,36.1,41.6,27.6,53.6,31.4,46.6,45.5,50.0,38.0,38.6,34.3,19.7,41.2,44.9,33.1,49.5,44.9,31.5,51.0,42.9,45.2,21.6,44.3,45.4,35.3,42.5,31.8,41.0,54.5,44.6,29.8,50.4,36.0,46.7,30.9,50.3,19.2,40.9,42.4,37.0,40.6,45.3,26.9,25.6,55.1,34.3,40.2,48.6,42.3,45.3,43.9,39.1,39.2,33.2,12.8,24.7,44.6,52.1,42.8,35.6,31.8,48.5],\"yaxis\":\"y\",\"type\":\"scattergl\"}],                        {\"template\":{\"data\":{\"bar\":[{\"error_x\":{\"color\":\"#2a3f5f\"},\"error_y\":{\"color\":\"#2a3f5f\"},\"marker\":{\"line\":{\"color\":\"#E5ECF6\",\"width\":0.5},\"pattern\":{\"fillmode\":\"overlay\",\"size\":10,\"solidity\":0.2}},\"type\":\"bar\"}],\"barpolar\":[{\"marker\":{\"line\":{\"color\":\"#E5ECF6\",\"width\":0.5},\"pattern\":{\"fillmode\":\"overlay\",\"size\":10,\"solidity\":0.2}},\"type\":\"barpolar\"}],\"carpet\":[{\"aaxis\":{\"endlinecolor\":\"#2a3f5f\",\"gridcolor\":\"white\",\"linecolor\":\"white\",\"minorgridcolor\":\"white\",\"startlinecolor\":\"#2a3f5f\"},\"baxis\":{\"endlinecolor\":\"#2a3f5f\",\"gridcolor\":\"white\",\"linecolor\":\"white\",\"minorgridcolor\":\"white\",\"startlinecolor\":\"#2a3f5f\"},\"type\":\"carpet\"}],\"choropleth\":[{\"colorbar\":{\"outlinewidth\":0,\"ticks\":\"\"},\"type\":\"choropleth\"}],\"contour\":[{\"colorbar\":{\"outlinewidth\":0,\"ticks\":\"\"},\"colorscale\":[[0.0,\"#0d0887\"],[0.1111111111111111,\"#46039f\"],[0.2222222222222222,\"#7201a8\"],[0.3333333333333333,\"#9c179e\"],[0.4444444444444444,\"#bd3786\"],[0.5555555555555556,\"#d8576b\"],[0.6666666666666666,\"#ed7953\"],[0.7777777777777778,\"#fb9f3a\"],[0.8888888888888888,\"#fdca26\"],[1.0,\"#f0f921\"]],\"type\":\"contour\"}],\"contourcarpet\":[{\"colorbar\":{\"outlinewidth\":0,\"ticks\":\"\"},\"type\":\"contourcarpet\"}],\"heatmap\":[{\"colorbar\":{\"outlinewidth\":0,\"ticks\":\"\"},\"colorscale\":[[0.0,\"#0d0887\"],[0.1111111111111111,\"#46039f\"],[0.2222222222222222,\"#7201a8\"],[0.3333333333333333,\"#9c179e\"],[0.4444444444444444,\"#bd3786\"],[0.5555555555555556,\"#d8576b\"],[0.6666666666666666,\"#ed7953\"],[0.7777777777777778,\"#fb9f3a\"],[0.8888888888888888,\"#fdca26\"],[1.0,\"#f0f921\"]],\"type\":\"heatmap\"}],\"heatmapgl\":[{\"colorbar\":{\"outlinewidth\":0,\"ticks\":\"\"},\"colorscale\":[[0.0,\"#0d0887\"],[0.1111111111111111,\"#46039f\"],[0.2222222222222222,\"#7201a8\"],[0.3333333333333333,\"#9c179e\"],[0.4444444444444444,\"#bd3786\"],[0.5555555555555556,\"#d8576b\"],[0.6666666666666666,\"#ed7953\"],[0.7777777777777778,\"#fb9f3a\"],[0.8888888888888888,\"#fdca26\"],[1.0,\"#f0f921\"]],\"type\":\"heatmapgl\"}],\"histogram\":[{\"marker\":{\"pattern\":{\"fillmode\":\"overlay\",\"size\":10,\"solidity\":0.2}},\"type\":\"histogram\"}],\"histogram2d\":[{\"colorbar\":{\"outlinewidth\":0,\"ticks\":\"\"},\"colorscale\":[[0.0,\"#0d0887\"],[0.1111111111111111,\"#46039f\"],[0.2222222222222222,\"#7201a8\"],[0.3333333333333333,\"#9c179e\"],[0.4444444444444444,\"#bd3786\"],[0.5555555555555556,\"#d8576b\"],[0.6666666666666666,\"#ed7953\"],[0.7777777777777778,\"#fb9f3a\"],[0.8888888888888888,\"#fdca26\"],[1.0,\"#f0f921\"]],\"type\":\"histogram2d\"}],\"histogram2dcontour\":[{\"colorbar\":{\"outlinewidth\":0,\"ticks\":\"\"},\"colorscale\":[[0.0,\"#0d0887\"],[0.1111111111111111,\"#46039f\"],[0.2222222222222222,\"#7201a8\"],[0.3333333333333333,\"#9c179e\"],[0.4444444444444444,\"#bd3786\"],[0.5555555555555556,\"#d8576b\"],[0.6666666666666666,\"#ed7953\"],[0.7777777777777778,\"#fb9f3a\"],[0.8888888888888888,\"#fdca26\"],[1.0,\"#f0f921\"]],\"type\":\"histogram2dcontour\"}],\"mesh3d\":[{\"colorbar\":{\"outlinewidth\":0,\"ticks\":\"\"},\"type\":\"mesh3d\"}],\"parcoords\":[{\"line\":{\"colorbar\":{\"outlinewidth\":0,\"ticks\":\"\"}},\"type\":\"parcoords\"}],\"pie\":[{\"automargin\":true,\"type\":\"pie\"}],\"scatter\":[{\"marker\":{\"colorbar\":{\"outlinewidth\":0,\"ticks\":\"\"}},\"type\":\"scatter\"}],\"scatter3d\":[{\"line\":{\"colorbar\":{\"outlinewidth\":0,\"ticks\":\"\"}},\"marker\":{\"colorbar\":{\"outlinewidth\":0,\"ticks\":\"\"}},\"type\":\"scatter3d\"}],\"scattercarpet\":[{\"marker\":{\"colorbar\":{\"outlinewidth\":0,\"ticks\":\"\"}},\"type\":\"scattercarpet\"}],\"scattergeo\":[{\"marker\":{\"colorbar\":{\"outlinewidth\":0,\"ticks\":\"\"}},\"type\":\"scattergeo\"}],\"scattergl\":[{\"marker\":{\"colorbar\":{\"outlinewidth\":0,\"ticks\":\"\"}},\"type\":\"scattergl\"}],\"scattermapbox\":[{\"marker\":{\"colorbar\":{\"outlinewidth\":0,\"ticks\":\"\"}},\"type\":\"scattermapbox\"}],\"scatterpolar\":[{\"marker\":{\"colorbar\":{\"outlinewidth\":0,\"ticks\":\"\"}},\"type\":\"scatterpolar\"}],\"scatterpolargl\":[{\"marker\":{\"colorbar\":{\"outlinewidth\":0,\"ticks\":\"\"}},\"type\":\"scatterpolargl\"}],\"scatterternary\":[{\"marker\":{\"colorbar\":{\"outlinewidth\":0,\"ticks\":\"\"}},\"type\":\"scatterternary\"}],\"surface\":[{\"colorbar\":{\"outlinewidth\":0,\"ticks\":\"\"},\"colorscale\":[[0.0,\"#0d0887\"],[0.1111111111111111,\"#46039f\"],[0.2222222222222222,\"#7201a8\"],[0.3333333333333333,\"#9c179e\"],[0.4444444444444444,\"#bd3786\"],[0.5555555555555556,\"#d8576b\"],[0.6666666666666666,\"#ed7953\"],[0.7777777777777778,\"#fb9f3a\"],[0.8888888888888888,\"#fdca26\"],[1.0,\"#f0f921\"]],\"type\":\"surface\"}],\"table\":[{\"cells\":{\"fill\":{\"color\":\"#EBF0F8\"},\"line\":{\"color\":\"white\"}},\"header\":{\"fill\":{\"color\":\"#C8D4E3\"},\"line\":{\"color\":\"white\"}},\"type\":\"table\"}]},\"layout\":{\"annotationdefaults\":{\"arrowcolor\":\"#2a3f5f\",\"arrowhead\":0,\"arrowwidth\":1},\"autotypenumbers\":\"strict\",\"coloraxis\":{\"colorbar\":{\"outlinewidth\":0,\"ticks\":\"\"}},\"colorscale\":{\"diverging\":[[0,\"#8e0152\"],[0.1,\"#c51b7d\"],[0.2,\"#de77ae\"],[0.3,\"#f1b6da\"],[0.4,\"#fde0ef\"],[0.5,\"#f7f7f7\"],[0.6,\"#e6f5d0\"],[0.7,\"#b8e186\"],[0.8,\"#7fbc41\"],[0.9,\"#4d9221\"],[1,\"#276419\"]],\"sequential\":[[0.0,\"#0d0887\"],[0.1111111111111111,\"#46039f\"],[0.2222222222222222,\"#7201a8\"],[0.3333333333333333,\"#9c179e\"],[0.4444444444444444,\"#bd3786\"],[0.5555555555555556,\"#d8576b\"],[0.6666666666666666,\"#ed7953\"],[0.7777777777777778,\"#fb9f3a\"],[0.8888888888888888,\"#fdca26\"],[1.0,\"#f0f921\"]],\"sequentialminus\":[[0.0,\"#0d0887\"],[0.1111111111111111,\"#46039f\"],[0.2222222222222222,\"#7201a8\"],[0.3333333333333333,\"#9c179e\"],[0.4444444444444444,\"#bd3786\"],[0.5555555555555556,\"#d8576b\"],[0.6666666666666666,\"#ed7953\"],[0.7777777777777778,\"#fb9f3a\"],[0.8888888888888888,\"#fdca26\"],[1.0,\"#f0f921\"]]},\"colorway\":[\"#636efa\",\"#EF553B\",\"#00cc96\",\"#ab63fa\",\"#FFA15A\",\"#19d3f3\",\"#FF6692\",\"#B6E880\",\"#FF97FF\",\"#FECB52\"],\"font\":{\"color\":\"#2a3f5f\"},\"geo\":{\"bgcolor\":\"white\",\"lakecolor\":\"white\",\"landcolor\":\"#E5ECF6\",\"showlakes\":true,\"showland\":true,\"subunitcolor\":\"white\"},\"hoverlabel\":{\"align\":\"left\"},\"hovermode\":\"closest\",\"mapbox\":{\"style\":\"light\"},\"paper_bgcolor\":\"white\",\"plot_bgcolor\":\"#E5ECF6\",\"polar\":{\"angularaxis\":{\"gridcolor\":\"white\",\"linecolor\":\"white\",\"ticks\":\"\"},\"bgcolor\":\"#E5ECF6\",\"radialaxis\":{\"gridcolor\":\"white\",\"linecolor\":\"white\",\"ticks\":\"\"}},\"scene\":{\"xaxis\":{\"backgroundcolor\":\"#E5ECF6\",\"gridcolor\":\"white\",\"gridwidth\":2,\"linecolor\":\"white\",\"showbackground\":true,\"ticks\":\"\",\"zerolinecolor\":\"white\"},\"yaxis\":{\"backgroundcolor\":\"#E5ECF6\",\"gridcolor\":\"white\",\"gridwidth\":2,\"linecolor\":\"white\",\"showbackground\":true,\"ticks\":\"\",\"zerolinecolor\":\"white\"},\"zaxis\":{\"backgroundcolor\":\"#E5ECF6\",\"gridcolor\":\"white\",\"gridwidth\":2,\"linecolor\":\"white\",\"showbackground\":true,\"ticks\":\"\",\"zerolinecolor\":\"white\"}},\"shapedefaults\":{\"line\":{\"color\":\"#2a3f5f\"}},\"ternary\":{\"aaxis\":{\"gridcolor\":\"white\",\"linecolor\":\"white\",\"ticks\":\"\"},\"baxis\":{\"gridcolor\":\"white\",\"linecolor\":\"white\",\"ticks\":\"\"},\"bgcolor\":\"#E5ECF6\",\"caxis\":{\"gridcolor\":\"white\",\"linecolor\":\"white\",\"ticks\":\"\"}},\"title\":{\"x\":0.05},\"xaxis\":{\"automargin\":true,\"gridcolor\":\"white\",\"linecolor\":\"white\",\"ticks\":\"\",\"title\":{\"standoff\":15},\"zerolinecolor\":\"white\",\"zerolinewidth\":2},\"yaxis\":{\"automargin\":true,\"gridcolor\":\"white\",\"linecolor\":\"white\",\"ticks\":\"\",\"title\":{\"standoff\":15},\"zerolinecolor\":\"white\",\"zerolinewidth\":2}}},\"xaxis\":{\"anchor\":\"y\",\"domain\":[0.0,1.0],\"title\":{\"text\":\"Rotational_speed\"},\"type\":\"log\"},\"yaxis\":{\"anchor\":\"x\",\"domain\":[0.0,1.0],\"title\":{\"text\":\"Torque\"}},\"legend\":{\"title\":{\"text\":\"Type\"},\"tracegroupgap\":0},\"margin\":{\"t\":60}},                        {\"responsive\": true}                    ).then(function(){\n",
              "                            \n",
              "var gd = document.getElementById('6067a1ae-69b9-42fb-b2a1-828a6ac37a18');\n",
              "var x = new MutationObserver(function (mutations, observer) {{\n",
              "        var display = window.getComputedStyle(gd).display;\n",
              "        if (!display || display === 'none') {{\n",
              "            console.log([gd, 'removed!']);\n",
              "            Plotly.purge(gd);\n",
              "            observer.disconnect();\n",
              "        }}\n",
              "}});\n",
              "\n",
              "// Listen for the removal of the full notebook cells\n",
              "var notebookContainer = gd.closest('#notebook-container');\n",
              "if (notebookContainer) {{\n",
              "    x.observe(notebookContainer, {childList: true});\n",
              "}}\n",
              "\n",
              "// Listen for the clearing of the current output cell\n",
              "var outputEl = gd.closest('.output');\n",
              "if (outputEl) {{\n",
              "    x.observe(outputEl, {childList: true});\n",
              "}}\n",
              "\n",
              "                        })                };                            </script>        </div>\n",
              "</body>\n",
              "</html>"
            ]
          },
          "metadata": {}
        }
      ]
    },
    {
      "cell_type": "code",
      "source": [
        "#products with no failure and their type\n",
        "type_nofailure = df[df.Failure_type == \"No Failure\"].value_counts()\n",
        "type_failure = [(df.Failure_type == \"Heat Dissipation Failure\") , (df.Failure_type == \"Power Failure\") , \n",
        "             (df.Failure_type == \"Overstrain Failure\") , (df.Failure_type == \"Tool Wear Failure\") , \n",
        "             (df.Failure_type == \"Random Failure\")]"
      ],
      "metadata": {
        "id": "jS4gyvyc_srR"
      },
      "execution_count": 177,
      "outputs": []
    },
    {
      "cell_type": "markdown",
      "source": [
        "LABEL ENCODING"
      ],
      "metadata": {
        "id": "S1qsNEbgF4gp"
      }
    },
    {
      "cell_type": "code",
      "source": [
        "df.head(2)"
      ],
      "metadata": {
        "colab": {
          "base_uri": "https://localhost:8080/",
          "height": 143
        },
        "id": "FsMmudAGSVlA",
        "outputId": "3d409883-ef06-48b1-87b3-2cbb99c548d6"
      },
      "execution_count": 178,
      "outputs": [
        {
          "output_type": "execute_result",
          "data": {
            "text/plain": [
              "    Type  Air_temp  Process_temp  Rotational_speed  Torque  Tool_wear  Target  \\\n",
              "UDI                                                                             \n",
              "1      M     298.1         308.6              1551    42.8          0       0   \n",
              "2      L     298.2         308.7              1408    46.3          3       0   \n",
              "\n",
              "    Failure_type  \n",
              "UDI               \n",
              "1     No Failure  \n",
              "2     No Failure  "
            ],
            "text/html": [
              "\n",
              "  <div id=\"df-d278b442-891e-4cae-8112-8a4c14455b75\">\n",
              "    <div class=\"colab-df-container\">\n",
              "      <div>\n",
              "<style scoped>\n",
              "    .dataframe tbody tr th:only-of-type {\n",
              "        vertical-align: middle;\n",
              "    }\n",
              "\n",
              "    .dataframe tbody tr th {\n",
              "        vertical-align: top;\n",
              "    }\n",
              "\n",
              "    .dataframe thead th {\n",
              "        text-align: right;\n",
              "    }\n",
              "</style>\n",
              "<table border=\"1\" class=\"dataframe\">\n",
              "  <thead>\n",
              "    <tr style=\"text-align: right;\">\n",
              "      <th></th>\n",
              "      <th>Type</th>\n",
              "      <th>Air_temp</th>\n",
              "      <th>Process_temp</th>\n",
              "      <th>Rotational_speed</th>\n",
              "      <th>Torque</th>\n",
              "      <th>Tool_wear</th>\n",
              "      <th>Target</th>\n",
              "      <th>Failure_type</th>\n",
              "    </tr>\n",
              "    <tr>\n",
              "      <th>UDI</th>\n",
              "      <th></th>\n",
              "      <th></th>\n",
              "      <th></th>\n",
              "      <th></th>\n",
              "      <th></th>\n",
              "      <th></th>\n",
              "      <th></th>\n",
              "      <th></th>\n",
              "    </tr>\n",
              "  </thead>\n",
              "  <tbody>\n",
              "    <tr>\n",
              "      <th>1</th>\n",
              "      <td>M</td>\n",
              "      <td>298.1</td>\n",
              "      <td>308.6</td>\n",
              "      <td>1551</td>\n",
              "      <td>42.8</td>\n",
              "      <td>0</td>\n",
              "      <td>0</td>\n",
              "      <td>No Failure</td>\n",
              "    </tr>\n",
              "    <tr>\n",
              "      <th>2</th>\n",
              "      <td>L</td>\n",
              "      <td>298.2</td>\n",
              "      <td>308.7</td>\n",
              "      <td>1408</td>\n",
              "      <td>46.3</td>\n",
              "      <td>3</td>\n",
              "      <td>0</td>\n",
              "      <td>No Failure</td>\n",
              "    </tr>\n",
              "  </tbody>\n",
              "</table>\n",
              "</div>\n",
              "      <button class=\"colab-df-convert\" onclick=\"convertToInteractive('df-d278b442-891e-4cae-8112-8a4c14455b75')\"\n",
              "              title=\"Convert this dataframe to an interactive table.\"\n",
              "              style=\"display:none;\">\n",
              "        \n",
              "  <svg xmlns=\"http://www.w3.org/2000/svg\" height=\"24px\"viewBox=\"0 0 24 24\"\n",
              "       width=\"24px\">\n",
              "    <path d=\"M0 0h24v24H0V0z\" fill=\"none\"/>\n",
              "    <path d=\"M18.56 5.44l.94 2.06.94-2.06 2.06-.94-2.06-.94-.94-2.06-.94 2.06-2.06.94zm-11 1L8.5 8.5l.94-2.06 2.06-.94-2.06-.94L8.5 2.5l-.94 2.06-2.06.94zm10 10l.94 2.06.94-2.06 2.06-.94-2.06-.94-.94-2.06-.94 2.06-2.06.94z\"/><path d=\"M17.41 7.96l-1.37-1.37c-.4-.4-.92-.59-1.43-.59-.52 0-1.04.2-1.43.59L10.3 9.45l-7.72 7.72c-.78.78-.78 2.05 0 2.83L4 21.41c.39.39.9.59 1.41.59.51 0 1.02-.2 1.41-.59l7.78-7.78 2.81-2.81c.8-.78.8-2.07 0-2.86zM5.41 20L4 18.59l7.72-7.72 1.47 1.35L5.41 20z\"/>\n",
              "  </svg>\n",
              "      </button>\n",
              "      \n",
              "  <style>\n",
              "    .colab-df-container {\n",
              "      display:flex;\n",
              "      flex-wrap:wrap;\n",
              "      gap: 12px;\n",
              "    }\n",
              "\n",
              "    .colab-df-convert {\n",
              "      background-color: #E8F0FE;\n",
              "      border: none;\n",
              "      border-radius: 50%;\n",
              "      cursor: pointer;\n",
              "      display: none;\n",
              "      fill: #1967D2;\n",
              "      height: 32px;\n",
              "      padding: 0 0 0 0;\n",
              "      width: 32px;\n",
              "    }\n",
              "\n",
              "    .colab-df-convert:hover {\n",
              "      background-color: #E2EBFA;\n",
              "      box-shadow: 0px 1px 2px rgba(60, 64, 67, 0.3), 0px 1px 3px 1px rgba(60, 64, 67, 0.15);\n",
              "      fill: #174EA6;\n",
              "    }\n",
              "\n",
              "    [theme=dark] .colab-df-convert {\n",
              "      background-color: #3B4455;\n",
              "      fill: #D2E3FC;\n",
              "    }\n",
              "\n",
              "    [theme=dark] .colab-df-convert:hover {\n",
              "      background-color: #434B5C;\n",
              "      box-shadow: 0px 1px 3px 1px rgba(0, 0, 0, 0.15);\n",
              "      filter: drop-shadow(0px 1px 2px rgba(0, 0, 0, 0.3));\n",
              "      fill: #FFFFFF;\n",
              "    }\n",
              "  </style>\n",
              "\n",
              "      <script>\n",
              "        const buttonEl =\n",
              "          document.querySelector('#df-d278b442-891e-4cae-8112-8a4c14455b75 button.colab-df-convert');\n",
              "        buttonEl.style.display =\n",
              "          google.colab.kernel.accessAllowed ? 'block' : 'none';\n",
              "\n",
              "        async function convertToInteractive(key) {\n",
              "          const element = document.querySelector('#df-d278b442-891e-4cae-8112-8a4c14455b75');\n",
              "          const dataTable =\n",
              "            await google.colab.kernel.invokeFunction('convertToInteractive',\n",
              "                                                     [key], {});\n",
              "          if (!dataTable) return;\n",
              "\n",
              "          const docLinkHtml = 'Like what you see? Visit the ' +\n",
              "            '<a target=\"_blank\" href=https://colab.research.google.com/notebooks/data_table.ipynb>data table notebook</a>'\n",
              "            + ' to learn more about interactive tables.';\n",
              "          element.innerHTML = '';\n",
              "          dataTable['output_type'] = 'display_data';\n",
              "          await google.colab.output.renderOutput(dataTable, element);\n",
              "          const docLink = document.createElement('div');\n",
              "          docLink.innerHTML = docLinkHtml;\n",
              "          element.appendChild(docLink);\n",
              "        }\n",
              "      </script>\n",
              "    </div>\n",
              "  </div>\n",
              "  "
            ]
          },
          "metadata": {},
          "execution_count": 178
        }
      ]
    },
    {
      "cell_type": "code",
      "source": [
        "df1 = df.copy()"
      ],
      "metadata": {
        "id": "DVF7LLLRF8bW"
      },
      "execution_count": 179,
      "outputs": []
    },
    {
      "cell_type": "code",
      "source": [
        "#shows the non-numerical values within the dataset\n",
        "def nonnumeric_vals(df1):\n",
        "  for column in df1:\n",
        "    if df[column].dtypes == \"object\":\n",
        "      print(f\"{df[column].unique()}\")"
      ],
      "metadata": {
        "id": "G_bmS1tsCT4G"
      },
      "execution_count": 180,
      "outputs": []
    },
    {
      "cell_type": "code",
      "source": [
        "nonnumeric_vals(df1)\n",
        "#categorical data"
      ],
      "metadata": {
        "colab": {
          "base_uri": "https://localhost:8080/"
        },
        "id": "0wJGHJdFECT1",
        "outputId": "bf56efa0-13b8-4ec6-9905-6c2a36d9d716"
      },
      "execution_count": 181,
      "outputs": [
        {
          "output_type": "stream",
          "name": "stdout",
          "text": [
            "['M' 'L' 'H']\n",
            "['No Failure' 'Power Failure' 'Tool Wear Failure' 'Overstrain Failure'\n",
            " 'Random Failures' 'Heat Dissipation Failure']\n"
          ]
        }
      ]
    },
    {
      "cell_type": "code",
      "source": [
        "df1.replace(\"No Failure\", \"No\", inplace = True)\n",
        "df1.replace(\"Power Failure\", \"Yes\", inplace = True)\n",
        "df1.replace(\"Tool Wear Failure\", \"Yes\", inplace = True)\n",
        "df1.replace(\"Overstrain Failure\", \"Yes\", inplace = True)\n",
        "df1.replace(\"Random Failures\", \"Yes\", inplace = True)\n",
        "df1.replace(\"Heat Dissipation Failure\", \"Yes\", inplace = True)"
      ],
      "metadata": {
        "id": "F06bfRaZFiYY"
      },
      "execution_count": 182,
      "outputs": []
    },
    {
      "cell_type": "code",
      "source": [
        "df1.Failure_type.unique()"
      ],
      "metadata": {
        "colab": {
          "base_uri": "https://localhost:8080/"
        },
        "id": "nlrDmqDSGX6Y",
        "outputId": "73a42882-a9a8-4344-bc59-225c28b817b1"
      },
      "execution_count": 183,
      "outputs": [
        {
          "output_type": "execute_result",
          "data": {
            "text/plain": [
              "array(['No', 'Yes'], dtype=object)"
            ]
          },
          "metadata": {},
          "execution_count": 183
        }
      ]
    },
    {
      "cell_type": "code",
      "source": [
        "#converting into numericals \n",
        "df1.head(2)\n",
        "#only failure_type and type are the columns w non-numericl values"
      ],
      "metadata": {
        "colab": {
          "base_uri": "https://localhost:8080/",
          "height": 143
        },
        "id": "OUKohBEoGZlr",
        "outputId": "68fc5804-efaf-4bbb-cf86-254de4990c3a"
      },
      "execution_count": 184,
      "outputs": [
        {
          "output_type": "execute_result",
          "data": {
            "text/plain": [
              "    Type  Air_temp  Process_temp  Rotational_speed  Torque  Tool_wear  Target  \\\n",
              "UDI                                                                             \n",
              "1      M     298.1         308.6              1551    42.8          0       0   \n",
              "2      L     298.2         308.7              1408    46.3          3       0   \n",
              "\n",
              "    Failure_type  \n",
              "UDI               \n",
              "1             No  \n",
              "2             No  "
            ],
            "text/html": [
              "\n",
              "  <div id=\"df-6052d51f-4adb-4b15-bad9-7040632f8581\">\n",
              "    <div class=\"colab-df-container\">\n",
              "      <div>\n",
              "<style scoped>\n",
              "    .dataframe tbody tr th:only-of-type {\n",
              "        vertical-align: middle;\n",
              "    }\n",
              "\n",
              "    .dataframe tbody tr th {\n",
              "        vertical-align: top;\n",
              "    }\n",
              "\n",
              "    .dataframe thead th {\n",
              "        text-align: right;\n",
              "    }\n",
              "</style>\n",
              "<table border=\"1\" class=\"dataframe\">\n",
              "  <thead>\n",
              "    <tr style=\"text-align: right;\">\n",
              "      <th></th>\n",
              "      <th>Type</th>\n",
              "      <th>Air_temp</th>\n",
              "      <th>Process_temp</th>\n",
              "      <th>Rotational_speed</th>\n",
              "      <th>Torque</th>\n",
              "      <th>Tool_wear</th>\n",
              "      <th>Target</th>\n",
              "      <th>Failure_type</th>\n",
              "    </tr>\n",
              "    <tr>\n",
              "      <th>UDI</th>\n",
              "      <th></th>\n",
              "      <th></th>\n",
              "      <th></th>\n",
              "      <th></th>\n",
              "      <th></th>\n",
              "      <th></th>\n",
              "      <th></th>\n",
              "      <th></th>\n",
              "    </tr>\n",
              "  </thead>\n",
              "  <tbody>\n",
              "    <tr>\n",
              "      <th>1</th>\n",
              "      <td>M</td>\n",
              "      <td>298.1</td>\n",
              "      <td>308.6</td>\n",
              "      <td>1551</td>\n",
              "      <td>42.8</td>\n",
              "      <td>0</td>\n",
              "      <td>0</td>\n",
              "      <td>No</td>\n",
              "    </tr>\n",
              "    <tr>\n",
              "      <th>2</th>\n",
              "      <td>L</td>\n",
              "      <td>298.2</td>\n",
              "      <td>308.7</td>\n",
              "      <td>1408</td>\n",
              "      <td>46.3</td>\n",
              "      <td>3</td>\n",
              "      <td>0</td>\n",
              "      <td>No</td>\n",
              "    </tr>\n",
              "  </tbody>\n",
              "</table>\n",
              "</div>\n",
              "      <button class=\"colab-df-convert\" onclick=\"convertToInteractive('df-6052d51f-4adb-4b15-bad9-7040632f8581')\"\n",
              "              title=\"Convert this dataframe to an interactive table.\"\n",
              "              style=\"display:none;\">\n",
              "        \n",
              "  <svg xmlns=\"http://www.w3.org/2000/svg\" height=\"24px\"viewBox=\"0 0 24 24\"\n",
              "       width=\"24px\">\n",
              "    <path d=\"M0 0h24v24H0V0z\" fill=\"none\"/>\n",
              "    <path d=\"M18.56 5.44l.94 2.06.94-2.06 2.06-.94-2.06-.94-.94-2.06-.94 2.06-2.06.94zm-11 1L8.5 8.5l.94-2.06 2.06-.94-2.06-.94L8.5 2.5l-.94 2.06-2.06.94zm10 10l.94 2.06.94-2.06 2.06-.94-2.06-.94-.94-2.06-.94 2.06-2.06.94z\"/><path d=\"M17.41 7.96l-1.37-1.37c-.4-.4-.92-.59-1.43-.59-.52 0-1.04.2-1.43.59L10.3 9.45l-7.72 7.72c-.78.78-.78 2.05 0 2.83L4 21.41c.39.39.9.59 1.41.59.51 0 1.02-.2 1.41-.59l7.78-7.78 2.81-2.81c.8-.78.8-2.07 0-2.86zM5.41 20L4 18.59l7.72-7.72 1.47 1.35L5.41 20z\"/>\n",
              "  </svg>\n",
              "      </button>\n",
              "      \n",
              "  <style>\n",
              "    .colab-df-container {\n",
              "      display:flex;\n",
              "      flex-wrap:wrap;\n",
              "      gap: 12px;\n",
              "    }\n",
              "\n",
              "    .colab-df-convert {\n",
              "      background-color: #E8F0FE;\n",
              "      border: none;\n",
              "      border-radius: 50%;\n",
              "      cursor: pointer;\n",
              "      display: none;\n",
              "      fill: #1967D2;\n",
              "      height: 32px;\n",
              "      padding: 0 0 0 0;\n",
              "      width: 32px;\n",
              "    }\n",
              "\n",
              "    .colab-df-convert:hover {\n",
              "      background-color: #E2EBFA;\n",
              "      box-shadow: 0px 1px 2px rgba(60, 64, 67, 0.3), 0px 1px 3px 1px rgba(60, 64, 67, 0.15);\n",
              "      fill: #174EA6;\n",
              "    }\n",
              "\n",
              "    [theme=dark] .colab-df-convert {\n",
              "      background-color: #3B4455;\n",
              "      fill: #D2E3FC;\n",
              "    }\n",
              "\n",
              "    [theme=dark] .colab-df-convert:hover {\n",
              "      background-color: #434B5C;\n",
              "      box-shadow: 0px 1px 3px 1px rgba(0, 0, 0, 0.15);\n",
              "      filter: drop-shadow(0px 1px 2px rgba(0, 0, 0, 0.3));\n",
              "      fill: #FFFFFF;\n",
              "    }\n",
              "  </style>\n",
              "\n",
              "      <script>\n",
              "        const buttonEl =\n",
              "          document.querySelector('#df-6052d51f-4adb-4b15-bad9-7040632f8581 button.colab-df-convert');\n",
              "        buttonEl.style.display =\n",
              "          google.colab.kernel.accessAllowed ? 'block' : 'none';\n",
              "\n",
              "        async function convertToInteractive(key) {\n",
              "          const element = document.querySelector('#df-6052d51f-4adb-4b15-bad9-7040632f8581');\n",
              "          const dataTable =\n",
              "            await google.colab.kernel.invokeFunction('convertToInteractive',\n",
              "                                                     [key], {});\n",
              "          if (!dataTable) return;\n",
              "\n",
              "          const docLinkHtml = 'Like what you see? Visit the ' +\n",
              "            '<a target=\"_blank\" href=https://colab.research.google.com/notebooks/data_table.ipynb>data table notebook</a>'\n",
              "            + ' to learn more about interactive tables.';\n",
              "          element.innerHTML = '';\n",
              "          dataTable['output_type'] = 'display_data';\n",
              "          await google.colab.output.renderOutput(dataTable, element);\n",
              "          const docLink = document.createElement('div');\n",
              "          docLink.innerHTML = docLinkHtml;\n",
              "          element.appendChild(docLink);\n",
              "        }\n",
              "      </script>\n",
              "    </div>\n",
              "  </div>\n",
              "  "
            ]
          },
          "metadata": {},
          "execution_count": 184
        }
      ]
    },
    {
      "cell_type": "code",
      "source": [
        "df1.Type.value_counts().sort_values()\n",
        "#ordinal categorical data --> LabelEncoder\n",
        "#high,medium, low"
      ],
      "metadata": {
        "colab": {
          "base_uri": "https://localhost:8080/"
        },
        "id": "5jnXBrfXKnmK",
        "outputId": "b8e11c38-573b-43cb-c703-f9afbf87288e"
      },
      "execution_count": 185,
      "outputs": [
        {
          "output_type": "execute_result",
          "data": {
            "text/plain": [
              "H    1003\n",
              "M    2997\n",
              "L    6000\n",
              "Name: Type, dtype: int64"
            ]
          },
          "metadata": {},
          "execution_count": 185
        }
      ]
    },
    {
      "cell_type": "code",
      "source": [
        "from sklearn.preprocessing import LabelEncoder"
      ],
      "metadata": {
        "id": "R4xjFoZJSYXp"
      },
      "execution_count": 186,
      "outputs": []
    },
    {
      "cell_type": "code",
      "source": [
        "LE = LabelEncoder()\n",
        "LE"
      ],
      "metadata": {
        "colab": {
          "base_uri": "https://localhost:8080/",
          "height": 74
        },
        "id": "FFiYLVWeSha8",
        "outputId": "e6170714-ef92-4363-ccd9-8f41bd6cebeb"
      },
      "execution_count": 187,
      "outputs": [
        {
          "output_type": "execute_result",
          "data": {
            "text/plain": [
              "LabelEncoder()"
            ],
            "text/html": [
              "<style>#sk-container-id-9 {color: black;background-color: white;}#sk-container-id-9 pre{padding: 0;}#sk-container-id-9 div.sk-toggleable {background-color: white;}#sk-container-id-9 label.sk-toggleable__label {cursor: pointer;display: block;width: 100%;margin-bottom: 0;padding: 0.3em;box-sizing: border-box;text-align: center;}#sk-container-id-9 label.sk-toggleable__label-arrow:before {content: \"▸\";float: left;margin-right: 0.25em;color: #696969;}#sk-container-id-9 label.sk-toggleable__label-arrow:hover:before {color: black;}#sk-container-id-9 div.sk-estimator:hover label.sk-toggleable__label-arrow:before {color: black;}#sk-container-id-9 div.sk-toggleable__content {max-height: 0;max-width: 0;overflow: hidden;text-align: left;background-color: #f0f8ff;}#sk-container-id-9 div.sk-toggleable__content pre {margin: 0.2em;color: black;border-radius: 0.25em;background-color: #f0f8ff;}#sk-container-id-9 input.sk-toggleable__control:checked~div.sk-toggleable__content {max-height: 200px;max-width: 100%;overflow: auto;}#sk-container-id-9 input.sk-toggleable__control:checked~label.sk-toggleable__label-arrow:before {content: \"▾\";}#sk-container-id-9 div.sk-estimator input.sk-toggleable__control:checked~label.sk-toggleable__label {background-color: #d4ebff;}#sk-container-id-9 div.sk-label input.sk-toggleable__control:checked~label.sk-toggleable__label {background-color: #d4ebff;}#sk-container-id-9 input.sk-hidden--visually {border: 0;clip: rect(1px 1px 1px 1px);clip: rect(1px, 1px, 1px, 1px);height: 1px;margin: -1px;overflow: hidden;padding: 0;position: absolute;width: 1px;}#sk-container-id-9 div.sk-estimator {font-family: monospace;background-color: #f0f8ff;border: 1px dotted black;border-radius: 0.25em;box-sizing: border-box;margin-bottom: 0.5em;}#sk-container-id-9 div.sk-estimator:hover {background-color: #d4ebff;}#sk-container-id-9 div.sk-parallel-item::after {content: \"\";width: 100%;border-bottom: 1px solid gray;flex-grow: 1;}#sk-container-id-9 div.sk-label:hover label.sk-toggleable__label {background-color: #d4ebff;}#sk-container-id-9 div.sk-serial::before {content: \"\";position: absolute;border-left: 1px solid gray;box-sizing: border-box;top: 0;bottom: 0;left: 50%;z-index: 0;}#sk-container-id-9 div.sk-serial {display: flex;flex-direction: column;align-items: center;background-color: white;padding-right: 0.2em;padding-left: 0.2em;position: relative;}#sk-container-id-9 div.sk-item {position: relative;z-index: 1;}#sk-container-id-9 div.sk-parallel {display: flex;align-items: stretch;justify-content: center;background-color: white;position: relative;}#sk-container-id-9 div.sk-item::before, #sk-container-id-9 div.sk-parallel-item::before {content: \"\";position: absolute;border-left: 1px solid gray;box-sizing: border-box;top: 0;bottom: 0;left: 50%;z-index: -1;}#sk-container-id-9 div.sk-parallel-item {display: flex;flex-direction: column;z-index: 1;position: relative;background-color: white;}#sk-container-id-9 div.sk-parallel-item:first-child::after {align-self: flex-end;width: 50%;}#sk-container-id-9 div.sk-parallel-item:last-child::after {align-self: flex-start;width: 50%;}#sk-container-id-9 div.sk-parallel-item:only-child::after {width: 0;}#sk-container-id-9 div.sk-dashed-wrapped {border: 1px dashed gray;margin: 0 0.4em 0.5em 0.4em;box-sizing: border-box;padding-bottom: 0.4em;background-color: white;}#sk-container-id-9 div.sk-label label {font-family: monospace;font-weight: bold;display: inline-block;line-height: 1.2em;}#sk-container-id-9 div.sk-label-container {text-align: center;}#sk-container-id-9 div.sk-container {/* jupyter's `normalize.less` sets `[hidden] { display: none; }` but bootstrap.min.css set `[hidden] { display: none !important; }` so we also need the `!important` here to be able to override the default hidden behavior on the sphinx rendered scikit-learn.org. See: https://github.com/scikit-learn/scikit-learn/issues/21755 */display: inline-block !important;position: relative;}#sk-container-id-9 div.sk-text-repr-fallback {display: none;}</style><div id=\"sk-container-id-9\" class=\"sk-top-container\"><div class=\"sk-text-repr-fallback\"><pre>LabelEncoder()</pre><b>In a Jupyter environment, please rerun this cell to show the HTML representation or trust the notebook. <br />On GitHub, the HTML representation is unable to render, please try loading this page with nbviewer.org.</b></div><div class=\"sk-container\" hidden><div class=\"sk-item\"><div class=\"sk-estimator sk-toggleable\"><input class=\"sk-toggleable__control sk-hidden--visually\" id=\"sk-estimator-id-9\" type=\"checkbox\" checked><label for=\"sk-estimator-id-9\" class=\"sk-toggleable__label sk-toggleable__label-arrow\">LabelEncoder</label><div class=\"sk-toggleable__content\"><pre>LabelEncoder()</pre></div></div></div></div></div>"
            ]
          },
          "metadata": {},
          "execution_count": 187
        }
      ]
    },
    {
      "cell_type": "code",
      "source": [
        "#numerical value ma change gareko\n",
        "df1.Type = LE.fit_transform(df1.Type)"
      ],
      "metadata": {
        "id": "pcg4-iYWSpEK"
      },
      "execution_count": 188,
      "outputs": []
    },
    {
      "cell_type": "code",
      "source": [
        "df1.head(2)"
      ],
      "metadata": {
        "colab": {
          "base_uri": "https://localhost:8080/",
          "height": 143
        },
        "id": "aEc3aHKnSz6H",
        "outputId": "26d34b9b-32bb-43b9-a972-f7f9f6c42787"
      },
      "execution_count": 189,
      "outputs": [
        {
          "output_type": "execute_result",
          "data": {
            "text/plain": [
              "     Type  Air_temp  Process_temp  Rotational_speed  Torque  Tool_wear  \\\n",
              "UDI                                                                      \n",
              "1       2     298.1         308.6              1551    42.8          0   \n",
              "2       1     298.2         308.7              1408    46.3          3   \n",
              "\n",
              "     Target Failure_type  \n",
              "UDI                       \n",
              "1         0           No  \n",
              "2         0           No  "
            ],
            "text/html": [
              "\n",
              "  <div id=\"df-c18baadd-e13f-4c80-85d0-f0315c1204a5\">\n",
              "    <div class=\"colab-df-container\">\n",
              "      <div>\n",
              "<style scoped>\n",
              "    .dataframe tbody tr th:only-of-type {\n",
              "        vertical-align: middle;\n",
              "    }\n",
              "\n",
              "    .dataframe tbody tr th {\n",
              "        vertical-align: top;\n",
              "    }\n",
              "\n",
              "    .dataframe thead th {\n",
              "        text-align: right;\n",
              "    }\n",
              "</style>\n",
              "<table border=\"1\" class=\"dataframe\">\n",
              "  <thead>\n",
              "    <tr style=\"text-align: right;\">\n",
              "      <th></th>\n",
              "      <th>Type</th>\n",
              "      <th>Air_temp</th>\n",
              "      <th>Process_temp</th>\n",
              "      <th>Rotational_speed</th>\n",
              "      <th>Torque</th>\n",
              "      <th>Tool_wear</th>\n",
              "      <th>Target</th>\n",
              "      <th>Failure_type</th>\n",
              "    </tr>\n",
              "    <tr>\n",
              "      <th>UDI</th>\n",
              "      <th></th>\n",
              "      <th></th>\n",
              "      <th></th>\n",
              "      <th></th>\n",
              "      <th></th>\n",
              "      <th></th>\n",
              "      <th></th>\n",
              "      <th></th>\n",
              "    </tr>\n",
              "  </thead>\n",
              "  <tbody>\n",
              "    <tr>\n",
              "      <th>1</th>\n",
              "      <td>2</td>\n",
              "      <td>298.1</td>\n",
              "      <td>308.6</td>\n",
              "      <td>1551</td>\n",
              "      <td>42.8</td>\n",
              "      <td>0</td>\n",
              "      <td>0</td>\n",
              "      <td>No</td>\n",
              "    </tr>\n",
              "    <tr>\n",
              "      <th>2</th>\n",
              "      <td>1</td>\n",
              "      <td>298.2</td>\n",
              "      <td>308.7</td>\n",
              "      <td>1408</td>\n",
              "      <td>46.3</td>\n",
              "      <td>3</td>\n",
              "      <td>0</td>\n",
              "      <td>No</td>\n",
              "    </tr>\n",
              "  </tbody>\n",
              "</table>\n",
              "</div>\n",
              "      <button class=\"colab-df-convert\" onclick=\"convertToInteractive('df-c18baadd-e13f-4c80-85d0-f0315c1204a5')\"\n",
              "              title=\"Convert this dataframe to an interactive table.\"\n",
              "              style=\"display:none;\">\n",
              "        \n",
              "  <svg xmlns=\"http://www.w3.org/2000/svg\" height=\"24px\"viewBox=\"0 0 24 24\"\n",
              "       width=\"24px\">\n",
              "    <path d=\"M0 0h24v24H0V0z\" fill=\"none\"/>\n",
              "    <path d=\"M18.56 5.44l.94 2.06.94-2.06 2.06-.94-2.06-.94-.94-2.06-.94 2.06-2.06.94zm-11 1L8.5 8.5l.94-2.06 2.06-.94-2.06-.94L8.5 2.5l-.94 2.06-2.06.94zm10 10l.94 2.06.94-2.06 2.06-.94-2.06-.94-.94-2.06-.94 2.06-2.06.94z\"/><path d=\"M17.41 7.96l-1.37-1.37c-.4-.4-.92-.59-1.43-.59-.52 0-1.04.2-1.43.59L10.3 9.45l-7.72 7.72c-.78.78-.78 2.05 0 2.83L4 21.41c.39.39.9.59 1.41.59.51 0 1.02-.2 1.41-.59l7.78-7.78 2.81-2.81c.8-.78.8-2.07 0-2.86zM5.41 20L4 18.59l7.72-7.72 1.47 1.35L5.41 20z\"/>\n",
              "  </svg>\n",
              "      </button>\n",
              "      \n",
              "  <style>\n",
              "    .colab-df-container {\n",
              "      display:flex;\n",
              "      flex-wrap:wrap;\n",
              "      gap: 12px;\n",
              "    }\n",
              "\n",
              "    .colab-df-convert {\n",
              "      background-color: #E8F0FE;\n",
              "      border: none;\n",
              "      border-radius: 50%;\n",
              "      cursor: pointer;\n",
              "      display: none;\n",
              "      fill: #1967D2;\n",
              "      height: 32px;\n",
              "      padding: 0 0 0 0;\n",
              "      width: 32px;\n",
              "    }\n",
              "\n",
              "    .colab-df-convert:hover {\n",
              "      background-color: #E2EBFA;\n",
              "      box-shadow: 0px 1px 2px rgba(60, 64, 67, 0.3), 0px 1px 3px 1px rgba(60, 64, 67, 0.15);\n",
              "      fill: #174EA6;\n",
              "    }\n",
              "\n",
              "    [theme=dark] .colab-df-convert {\n",
              "      background-color: #3B4455;\n",
              "      fill: #D2E3FC;\n",
              "    }\n",
              "\n",
              "    [theme=dark] .colab-df-convert:hover {\n",
              "      background-color: #434B5C;\n",
              "      box-shadow: 0px 1px 3px 1px rgba(0, 0, 0, 0.15);\n",
              "      filter: drop-shadow(0px 1px 2px rgba(0, 0, 0, 0.3));\n",
              "      fill: #FFFFFF;\n",
              "    }\n",
              "  </style>\n",
              "\n",
              "      <script>\n",
              "        const buttonEl =\n",
              "          document.querySelector('#df-c18baadd-e13f-4c80-85d0-f0315c1204a5 button.colab-df-convert');\n",
              "        buttonEl.style.display =\n",
              "          google.colab.kernel.accessAllowed ? 'block' : 'none';\n",
              "\n",
              "        async function convertToInteractive(key) {\n",
              "          const element = document.querySelector('#df-c18baadd-e13f-4c80-85d0-f0315c1204a5');\n",
              "          const dataTable =\n",
              "            await google.colab.kernel.invokeFunction('convertToInteractive',\n",
              "                                                     [key], {});\n",
              "          if (!dataTable) return;\n",
              "\n",
              "          const docLinkHtml = 'Like what you see? Visit the ' +\n",
              "            '<a target=\"_blank\" href=https://colab.research.google.com/notebooks/data_table.ipynb>data table notebook</a>'\n",
              "            + ' to learn more about interactive tables.';\n",
              "          element.innerHTML = '';\n",
              "          dataTable['output_type'] = 'display_data';\n",
              "          await google.colab.output.renderOutput(dataTable, element);\n",
              "          const docLink = document.createElement('div');\n",
              "          docLink.innerHTML = docLinkHtml;\n",
              "          element.appendChild(docLink);\n",
              "        }\n",
              "      </script>\n",
              "    </div>\n",
              "  </div>\n",
              "  "
            ]
          },
          "metadata": {},
          "execution_count": 189
        }
      ]
    },
    {
      "cell_type": "code",
      "source": [
        "#before and after \n",
        "df1.Type.value_counts(),df.Type.value_counts()"
      ],
      "metadata": {
        "colab": {
          "base_uri": "https://localhost:8080/"
        },
        "id": "msviTRuNT2ft",
        "outputId": "1aa29c28-0d36-4f39-e7f0-49f583ecdb07"
      },
      "execution_count": 190,
      "outputs": [
        {
          "output_type": "execute_result",
          "data": {
            "text/plain": [
              "(1    6000\n",
              " 2    2997\n",
              " 0    1003\n",
              " Name: Type, dtype: int64, L    6000\n",
              " M    2997\n",
              " H    1003\n",
              " Name: Type, dtype: int64)"
            ]
          },
          "metadata": {},
          "execution_count": 190
        }
      ]
    },
    {
      "cell_type": "code",
      "source": [
        "df2 = df1.copy()"
      ],
      "metadata": {
        "id": "28uJEV2OUiOw"
      },
      "execution_count": 191,
      "outputs": []
    },
    {
      "cell_type": "code",
      "source": [
        "df2.head()"
      ],
      "metadata": {
        "colab": {
          "base_uri": "https://localhost:8080/",
          "height": 237
        },
        "id": "LZJJw9qpTIdB",
        "outputId": "7c7ac616-1c75-4efa-d093-81676098e9a9"
      },
      "execution_count": 192,
      "outputs": [
        {
          "output_type": "execute_result",
          "data": {
            "text/plain": [
              "     Type  Air_temp  Process_temp  Rotational_speed  Torque  Tool_wear  \\\n",
              "UDI                                                                      \n",
              "1       2     298.1         308.6              1551    42.8          0   \n",
              "2       1     298.2         308.7              1408    46.3          3   \n",
              "3       1     298.1         308.5              1498    49.4          5   \n",
              "4       1     298.2         308.6              1433    39.5          7   \n",
              "5       1     298.2         308.7              1408    40.0          9   \n",
              "\n",
              "     Target Failure_type  \n",
              "UDI                       \n",
              "1         0           No  \n",
              "2         0           No  \n",
              "3         0           No  \n",
              "4         0           No  \n",
              "5         0           No  "
            ],
            "text/html": [
              "\n",
              "  <div id=\"df-cf3c442c-511b-4ce8-ae86-6e78a767b774\">\n",
              "    <div class=\"colab-df-container\">\n",
              "      <div>\n",
              "<style scoped>\n",
              "    .dataframe tbody tr th:only-of-type {\n",
              "        vertical-align: middle;\n",
              "    }\n",
              "\n",
              "    .dataframe tbody tr th {\n",
              "        vertical-align: top;\n",
              "    }\n",
              "\n",
              "    .dataframe thead th {\n",
              "        text-align: right;\n",
              "    }\n",
              "</style>\n",
              "<table border=\"1\" class=\"dataframe\">\n",
              "  <thead>\n",
              "    <tr style=\"text-align: right;\">\n",
              "      <th></th>\n",
              "      <th>Type</th>\n",
              "      <th>Air_temp</th>\n",
              "      <th>Process_temp</th>\n",
              "      <th>Rotational_speed</th>\n",
              "      <th>Torque</th>\n",
              "      <th>Tool_wear</th>\n",
              "      <th>Target</th>\n",
              "      <th>Failure_type</th>\n",
              "    </tr>\n",
              "    <tr>\n",
              "      <th>UDI</th>\n",
              "      <th></th>\n",
              "      <th></th>\n",
              "      <th></th>\n",
              "      <th></th>\n",
              "      <th></th>\n",
              "      <th></th>\n",
              "      <th></th>\n",
              "      <th></th>\n",
              "    </tr>\n",
              "  </thead>\n",
              "  <tbody>\n",
              "    <tr>\n",
              "      <th>1</th>\n",
              "      <td>2</td>\n",
              "      <td>298.1</td>\n",
              "      <td>308.6</td>\n",
              "      <td>1551</td>\n",
              "      <td>42.8</td>\n",
              "      <td>0</td>\n",
              "      <td>0</td>\n",
              "      <td>No</td>\n",
              "    </tr>\n",
              "    <tr>\n",
              "      <th>2</th>\n",
              "      <td>1</td>\n",
              "      <td>298.2</td>\n",
              "      <td>308.7</td>\n",
              "      <td>1408</td>\n",
              "      <td>46.3</td>\n",
              "      <td>3</td>\n",
              "      <td>0</td>\n",
              "      <td>No</td>\n",
              "    </tr>\n",
              "    <tr>\n",
              "      <th>3</th>\n",
              "      <td>1</td>\n",
              "      <td>298.1</td>\n",
              "      <td>308.5</td>\n",
              "      <td>1498</td>\n",
              "      <td>49.4</td>\n",
              "      <td>5</td>\n",
              "      <td>0</td>\n",
              "      <td>No</td>\n",
              "    </tr>\n",
              "    <tr>\n",
              "      <th>4</th>\n",
              "      <td>1</td>\n",
              "      <td>298.2</td>\n",
              "      <td>308.6</td>\n",
              "      <td>1433</td>\n",
              "      <td>39.5</td>\n",
              "      <td>7</td>\n",
              "      <td>0</td>\n",
              "      <td>No</td>\n",
              "    </tr>\n",
              "    <tr>\n",
              "      <th>5</th>\n",
              "      <td>1</td>\n",
              "      <td>298.2</td>\n",
              "      <td>308.7</td>\n",
              "      <td>1408</td>\n",
              "      <td>40.0</td>\n",
              "      <td>9</td>\n",
              "      <td>0</td>\n",
              "      <td>No</td>\n",
              "    </tr>\n",
              "  </tbody>\n",
              "</table>\n",
              "</div>\n",
              "      <button class=\"colab-df-convert\" onclick=\"convertToInteractive('df-cf3c442c-511b-4ce8-ae86-6e78a767b774')\"\n",
              "              title=\"Convert this dataframe to an interactive table.\"\n",
              "              style=\"display:none;\">\n",
              "        \n",
              "  <svg xmlns=\"http://www.w3.org/2000/svg\" height=\"24px\"viewBox=\"0 0 24 24\"\n",
              "       width=\"24px\">\n",
              "    <path d=\"M0 0h24v24H0V0z\" fill=\"none\"/>\n",
              "    <path d=\"M18.56 5.44l.94 2.06.94-2.06 2.06-.94-2.06-.94-.94-2.06-.94 2.06-2.06.94zm-11 1L8.5 8.5l.94-2.06 2.06-.94-2.06-.94L8.5 2.5l-.94 2.06-2.06.94zm10 10l.94 2.06.94-2.06 2.06-.94-2.06-.94-.94-2.06-.94 2.06-2.06.94z\"/><path d=\"M17.41 7.96l-1.37-1.37c-.4-.4-.92-.59-1.43-.59-.52 0-1.04.2-1.43.59L10.3 9.45l-7.72 7.72c-.78.78-.78 2.05 0 2.83L4 21.41c.39.39.9.59 1.41.59.51 0 1.02-.2 1.41-.59l7.78-7.78 2.81-2.81c.8-.78.8-2.07 0-2.86zM5.41 20L4 18.59l7.72-7.72 1.47 1.35L5.41 20z\"/>\n",
              "  </svg>\n",
              "      </button>\n",
              "      \n",
              "  <style>\n",
              "    .colab-df-container {\n",
              "      display:flex;\n",
              "      flex-wrap:wrap;\n",
              "      gap: 12px;\n",
              "    }\n",
              "\n",
              "    .colab-df-convert {\n",
              "      background-color: #E8F0FE;\n",
              "      border: none;\n",
              "      border-radius: 50%;\n",
              "      cursor: pointer;\n",
              "      display: none;\n",
              "      fill: #1967D2;\n",
              "      height: 32px;\n",
              "      padding: 0 0 0 0;\n",
              "      width: 32px;\n",
              "    }\n",
              "\n",
              "    .colab-df-convert:hover {\n",
              "      background-color: #E2EBFA;\n",
              "      box-shadow: 0px 1px 2px rgba(60, 64, 67, 0.3), 0px 1px 3px 1px rgba(60, 64, 67, 0.15);\n",
              "      fill: #174EA6;\n",
              "    }\n",
              "\n",
              "    [theme=dark] .colab-df-convert {\n",
              "      background-color: #3B4455;\n",
              "      fill: #D2E3FC;\n",
              "    }\n",
              "\n",
              "    [theme=dark] .colab-df-convert:hover {\n",
              "      background-color: #434B5C;\n",
              "      box-shadow: 0px 1px 3px 1px rgba(0, 0, 0, 0.15);\n",
              "      filter: drop-shadow(0px 1px 2px rgba(0, 0, 0, 0.3));\n",
              "      fill: #FFFFFF;\n",
              "    }\n",
              "  </style>\n",
              "\n",
              "      <script>\n",
              "        const buttonEl =\n",
              "          document.querySelector('#df-cf3c442c-511b-4ce8-ae86-6e78a767b774 button.colab-df-convert');\n",
              "        buttonEl.style.display =\n",
              "          google.colab.kernel.accessAllowed ? 'block' : 'none';\n",
              "\n",
              "        async function convertToInteractive(key) {\n",
              "          const element = document.querySelector('#df-cf3c442c-511b-4ce8-ae86-6e78a767b774');\n",
              "          const dataTable =\n",
              "            await google.colab.kernel.invokeFunction('convertToInteractive',\n",
              "                                                     [key], {});\n",
              "          if (!dataTable) return;\n",
              "\n",
              "          const docLinkHtml = 'Like what you see? Visit the ' +\n",
              "            '<a target=\"_blank\" href=https://colab.research.google.com/notebooks/data_table.ipynb>data table notebook</a>'\n",
              "            + ' to learn more about interactive tables.';\n",
              "          element.innerHTML = '';\n",
              "          dataTable['output_type'] = 'display_data';\n",
              "          await google.colab.output.renderOutput(dataTable, element);\n",
              "          const docLink = document.createElement('div');\n",
              "          docLink.innerHTML = docLinkHtml;\n",
              "          element.appendChild(docLink);\n",
              "        }\n",
              "      </script>\n",
              "    </div>\n",
              "  </div>\n",
              "  "
            ]
          },
          "metadata": {},
          "execution_count": 192
        }
      ]
    },
    {
      "cell_type": "code",
      "source": [
        "#since the author of the dataset implied there are two targets, i will be dropping \"Failure_type\" from d2 -- no leakage\n",
        "df2 = df2.drop(\"Failure_type\", axis = 1)\n"
      ],
      "metadata": {
        "id": "sA8EW0-9UPUa"
      },
      "execution_count": 193,
      "outputs": []
    },
    {
      "cell_type": "code",
      "source": [
        "df2.head()"
      ],
      "metadata": {
        "colab": {
          "base_uri": "https://localhost:8080/",
          "height": 237
        },
        "id": "IS_I3VZnTZz7",
        "outputId": "83e6cd6f-003e-48e4-f811-2969e96b433d"
      },
      "execution_count": 194,
      "outputs": [
        {
          "output_type": "execute_result",
          "data": {
            "text/plain": [
              "     Type  Air_temp  Process_temp  Rotational_speed  Torque  Tool_wear  Target\n",
              "UDI                                                                           \n",
              "1       2     298.1         308.6              1551    42.8          0       0\n",
              "2       1     298.2         308.7              1408    46.3          3       0\n",
              "3       1     298.1         308.5              1498    49.4          5       0\n",
              "4       1     298.2         308.6              1433    39.5          7       0\n",
              "5       1     298.2         308.7              1408    40.0          9       0"
            ],
            "text/html": [
              "\n",
              "  <div id=\"df-697952b2-58a7-47cc-bd4b-739bf638daea\">\n",
              "    <div class=\"colab-df-container\">\n",
              "      <div>\n",
              "<style scoped>\n",
              "    .dataframe tbody tr th:only-of-type {\n",
              "        vertical-align: middle;\n",
              "    }\n",
              "\n",
              "    .dataframe tbody tr th {\n",
              "        vertical-align: top;\n",
              "    }\n",
              "\n",
              "    .dataframe thead th {\n",
              "        text-align: right;\n",
              "    }\n",
              "</style>\n",
              "<table border=\"1\" class=\"dataframe\">\n",
              "  <thead>\n",
              "    <tr style=\"text-align: right;\">\n",
              "      <th></th>\n",
              "      <th>Type</th>\n",
              "      <th>Air_temp</th>\n",
              "      <th>Process_temp</th>\n",
              "      <th>Rotational_speed</th>\n",
              "      <th>Torque</th>\n",
              "      <th>Tool_wear</th>\n",
              "      <th>Target</th>\n",
              "    </tr>\n",
              "    <tr>\n",
              "      <th>UDI</th>\n",
              "      <th></th>\n",
              "      <th></th>\n",
              "      <th></th>\n",
              "      <th></th>\n",
              "      <th></th>\n",
              "      <th></th>\n",
              "      <th></th>\n",
              "    </tr>\n",
              "  </thead>\n",
              "  <tbody>\n",
              "    <tr>\n",
              "      <th>1</th>\n",
              "      <td>2</td>\n",
              "      <td>298.1</td>\n",
              "      <td>308.6</td>\n",
              "      <td>1551</td>\n",
              "      <td>42.8</td>\n",
              "      <td>0</td>\n",
              "      <td>0</td>\n",
              "    </tr>\n",
              "    <tr>\n",
              "      <th>2</th>\n",
              "      <td>1</td>\n",
              "      <td>298.2</td>\n",
              "      <td>308.7</td>\n",
              "      <td>1408</td>\n",
              "      <td>46.3</td>\n",
              "      <td>3</td>\n",
              "      <td>0</td>\n",
              "    </tr>\n",
              "    <tr>\n",
              "      <th>3</th>\n",
              "      <td>1</td>\n",
              "      <td>298.1</td>\n",
              "      <td>308.5</td>\n",
              "      <td>1498</td>\n",
              "      <td>49.4</td>\n",
              "      <td>5</td>\n",
              "      <td>0</td>\n",
              "    </tr>\n",
              "    <tr>\n",
              "      <th>4</th>\n",
              "      <td>1</td>\n",
              "      <td>298.2</td>\n",
              "      <td>308.6</td>\n",
              "      <td>1433</td>\n",
              "      <td>39.5</td>\n",
              "      <td>7</td>\n",
              "      <td>0</td>\n",
              "    </tr>\n",
              "    <tr>\n",
              "      <th>5</th>\n",
              "      <td>1</td>\n",
              "      <td>298.2</td>\n",
              "      <td>308.7</td>\n",
              "      <td>1408</td>\n",
              "      <td>40.0</td>\n",
              "      <td>9</td>\n",
              "      <td>0</td>\n",
              "    </tr>\n",
              "  </tbody>\n",
              "</table>\n",
              "</div>\n",
              "      <button class=\"colab-df-convert\" onclick=\"convertToInteractive('df-697952b2-58a7-47cc-bd4b-739bf638daea')\"\n",
              "              title=\"Convert this dataframe to an interactive table.\"\n",
              "              style=\"display:none;\">\n",
              "        \n",
              "  <svg xmlns=\"http://www.w3.org/2000/svg\" height=\"24px\"viewBox=\"0 0 24 24\"\n",
              "       width=\"24px\">\n",
              "    <path d=\"M0 0h24v24H0V0z\" fill=\"none\"/>\n",
              "    <path d=\"M18.56 5.44l.94 2.06.94-2.06 2.06-.94-2.06-.94-.94-2.06-.94 2.06-2.06.94zm-11 1L8.5 8.5l.94-2.06 2.06-.94-2.06-.94L8.5 2.5l-.94 2.06-2.06.94zm10 10l.94 2.06.94-2.06 2.06-.94-2.06-.94-.94-2.06-.94 2.06-2.06.94z\"/><path d=\"M17.41 7.96l-1.37-1.37c-.4-.4-.92-.59-1.43-.59-.52 0-1.04.2-1.43.59L10.3 9.45l-7.72 7.72c-.78.78-.78 2.05 0 2.83L4 21.41c.39.39.9.59 1.41.59.51 0 1.02-.2 1.41-.59l7.78-7.78 2.81-2.81c.8-.78.8-2.07 0-2.86zM5.41 20L4 18.59l7.72-7.72 1.47 1.35L5.41 20z\"/>\n",
              "  </svg>\n",
              "      </button>\n",
              "      \n",
              "  <style>\n",
              "    .colab-df-container {\n",
              "      display:flex;\n",
              "      flex-wrap:wrap;\n",
              "      gap: 12px;\n",
              "    }\n",
              "\n",
              "    .colab-df-convert {\n",
              "      background-color: #E8F0FE;\n",
              "      border: none;\n",
              "      border-radius: 50%;\n",
              "      cursor: pointer;\n",
              "      display: none;\n",
              "      fill: #1967D2;\n",
              "      height: 32px;\n",
              "      padding: 0 0 0 0;\n",
              "      width: 32px;\n",
              "    }\n",
              "\n",
              "    .colab-df-convert:hover {\n",
              "      background-color: #E2EBFA;\n",
              "      box-shadow: 0px 1px 2px rgba(60, 64, 67, 0.3), 0px 1px 3px 1px rgba(60, 64, 67, 0.15);\n",
              "      fill: #174EA6;\n",
              "    }\n",
              "\n",
              "    [theme=dark] .colab-df-convert {\n",
              "      background-color: #3B4455;\n",
              "      fill: #D2E3FC;\n",
              "    }\n",
              "\n",
              "    [theme=dark] .colab-df-convert:hover {\n",
              "      background-color: #434B5C;\n",
              "      box-shadow: 0px 1px 3px 1px rgba(0, 0, 0, 0.15);\n",
              "      filter: drop-shadow(0px 1px 2px rgba(0, 0, 0, 0.3));\n",
              "      fill: #FFFFFF;\n",
              "    }\n",
              "  </style>\n",
              "\n",
              "      <script>\n",
              "        const buttonEl =\n",
              "          document.querySelector('#df-697952b2-58a7-47cc-bd4b-739bf638daea button.colab-df-convert');\n",
              "        buttonEl.style.display =\n",
              "          google.colab.kernel.accessAllowed ? 'block' : 'none';\n",
              "\n",
              "        async function convertToInteractive(key) {\n",
              "          const element = document.querySelector('#df-697952b2-58a7-47cc-bd4b-739bf638daea');\n",
              "          const dataTable =\n",
              "            await google.colab.kernel.invokeFunction('convertToInteractive',\n",
              "                                                     [key], {});\n",
              "          if (!dataTable) return;\n",
              "\n",
              "          const docLinkHtml = 'Like what you see? Visit the ' +\n",
              "            '<a target=\"_blank\" href=https://colab.research.google.com/notebooks/data_table.ipynb>data table notebook</a>'\n",
              "            + ' to learn more about interactive tables.';\n",
              "          element.innerHTML = '';\n",
              "          dataTable['output_type'] = 'display_data';\n",
              "          await google.colab.output.renderOutput(dataTable, element);\n",
              "          const docLink = document.createElement('div');\n",
              "          docLink.innerHTML = docLinkHtml;\n",
              "          element.appendChild(docLink);\n",
              "        }\n",
              "      </script>\n",
              "    </div>\n",
              "  </div>\n",
              "  "
            ]
          },
          "metadata": {},
          "execution_count": 194
        }
      ]
    },
    {
      "cell_type": "markdown",
      "source": [
        "Features and Target"
      ],
      "metadata": {
        "id": "Lvch5ZE1WgLY"
      }
    },
    {
      "cell_type": "code",
      "source": [
        "#specifying features and target variable\n",
        "x = df2.drop(\"Target\", axis = 1) #features\n",
        "y = df2.Target #target"
      ],
      "metadata": {
        "id": "m6cL_lxFVIUc"
      },
      "execution_count": 195,
      "outputs": []
    },
    {
      "cell_type": "code",
      "source": [
        "x.head(2)"
      ],
      "metadata": {
        "colab": {
          "base_uri": "https://localhost:8080/",
          "height": 143
        },
        "id": "uauJ85wmWwLN",
        "outputId": "569187b0-babf-416f-9418-adcbda6d0c94"
      },
      "execution_count": 196,
      "outputs": [
        {
          "output_type": "execute_result",
          "data": {
            "text/plain": [
              "     Type  Air_temp  Process_temp  Rotational_speed  Torque  Tool_wear\n",
              "UDI                                                                   \n",
              "1       2     298.1         308.6              1551    42.8          0\n",
              "2       1     298.2         308.7              1408    46.3          3"
            ],
            "text/html": [
              "\n",
              "  <div id=\"df-d6a4c6e1-bcea-4deb-85c2-f18cc60feb45\">\n",
              "    <div class=\"colab-df-container\">\n",
              "      <div>\n",
              "<style scoped>\n",
              "    .dataframe tbody tr th:only-of-type {\n",
              "        vertical-align: middle;\n",
              "    }\n",
              "\n",
              "    .dataframe tbody tr th {\n",
              "        vertical-align: top;\n",
              "    }\n",
              "\n",
              "    .dataframe thead th {\n",
              "        text-align: right;\n",
              "    }\n",
              "</style>\n",
              "<table border=\"1\" class=\"dataframe\">\n",
              "  <thead>\n",
              "    <tr style=\"text-align: right;\">\n",
              "      <th></th>\n",
              "      <th>Type</th>\n",
              "      <th>Air_temp</th>\n",
              "      <th>Process_temp</th>\n",
              "      <th>Rotational_speed</th>\n",
              "      <th>Torque</th>\n",
              "      <th>Tool_wear</th>\n",
              "    </tr>\n",
              "    <tr>\n",
              "      <th>UDI</th>\n",
              "      <th></th>\n",
              "      <th></th>\n",
              "      <th></th>\n",
              "      <th></th>\n",
              "      <th></th>\n",
              "      <th></th>\n",
              "    </tr>\n",
              "  </thead>\n",
              "  <tbody>\n",
              "    <tr>\n",
              "      <th>1</th>\n",
              "      <td>2</td>\n",
              "      <td>298.1</td>\n",
              "      <td>308.6</td>\n",
              "      <td>1551</td>\n",
              "      <td>42.8</td>\n",
              "      <td>0</td>\n",
              "    </tr>\n",
              "    <tr>\n",
              "      <th>2</th>\n",
              "      <td>1</td>\n",
              "      <td>298.2</td>\n",
              "      <td>308.7</td>\n",
              "      <td>1408</td>\n",
              "      <td>46.3</td>\n",
              "      <td>3</td>\n",
              "    </tr>\n",
              "  </tbody>\n",
              "</table>\n",
              "</div>\n",
              "      <button class=\"colab-df-convert\" onclick=\"convertToInteractive('df-d6a4c6e1-bcea-4deb-85c2-f18cc60feb45')\"\n",
              "              title=\"Convert this dataframe to an interactive table.\"\n",
              "              style=\"display:none;\">\n",
              "        \n",
              "  <svg xmlns=\"http://www.w3.org/2000/svg\" height=\"24px\"viewBox=\"0 0 24 24\"\n",
              "       width=\"24px\">\n",
              "    <path d=\"M0 0h24v24H0V0z\" fill=\"none\"/>\n",
              "    <path d=\"M18.56 5.44l.94 2.06.94-2.06 2.06-.94-2.06-.94-.94-2.06-.94 2.06-2.06.94zm-11 1L8.5 8.5l.94-2.06 2.06-.94-2.06-.94L8.5 2.5l-.94 2.06-2.06.94zm10 10l.94 2.06.94-2.06 2.06-.94-2.06-.94-.94-2.06-.94 2.06-2.06.94z\"/><path d=\"M17.41 7.96l-1.37-1.37c-.4-.4-.92-.59-1.43-.59-.52 0-1.04.2-1.43.59L10.3 9.45l-7.72 7.72c-.78.78-.78 2.05 0 2.83L4 21.41c.39.39.9.59 1.41.59.51 0 1.02-.2 1.41-.59l7.78-7.78 2.81-2.81c.8-.78.8-2.07 0-2.86zM5.41 20L4 18.59l7.72-7.72 1.47 1.35L5.41 20z\"/>\n",
              "  </svg>\n",
              "      </button>\n",
              "      \n",
              "  <style>\n",
              "    .colab-df-container {\n",
              "      display:flex;\n",
              "      flex-wrap:wrap;\n",
              "      gap: 12px;\n",
              "    }\n",
              "\n",
              "    .colab-df-convert {\n",
              "      background-color: #E8F0FE;\n",
              "      border: none;\n",
              "      border-radius: 50%;\n",
              "      cursor: pointer;\n",
              "      display: none;\n",
              "      fill: #1967D2;\n",
              "      height: 32px;\n",
              "      padding: 0 0 0 0;\n",
              "      width: 32px;\n",
              "    }\n",
              "\n",
              "    .colab-df-convert:hover {\n",
              "      background-color: #E2EBFA;\n",
              "      box-shadow: 0px 1px 2px rgba(60, 64, 67, 0.3), 0px 1px 3px 1px rgba(60, 64, 67, 0.15);\n",
              "      fill: #174EA6;\n",
              "    }\n",
              "\n",
              "    [theme=dark] .colab-df-convert {\n",
              "      background-color: #3B4455;\n",
              "      fill: #D2E3FC;\n",
              "    }\n",
              "\n",
              "    [theme=dark] .colab-df-convert:hover {\n",
              "      background-color: #434B5C;\n",
              "      box-shadow: 0px 1px 3px 1px rgba(0, 0, 0, 0.15);\n",
              "      filter: drop-shadow(0px 1px 2px rgba(0, 0, 0, 0.3));\n",
              "      fill: #FFFFFF;\n",
              "    }\n",
              "  </style>\n",
              "\n",
              "      <script>\n",
              "        const buttonEl =\n",
              "          document.querySelector('#df-d6a4c6e1-bcea-4deb-85c2-f18cc60feb45 button.colab-df-convert');\n",
              "        buttonEl.style.display =\n",
              "          google.colab.kernel.accessAllowed ? 'block' : 'none';\n",
              "\n",
              "        async function convertToInteractive(key) {\n",
              "          const element = document.querySelector('#df-d6a4c6e1-bcea-4deb-85c2-f18cc60feb45');\n",
              "          const dataTable =\n",
              "            await google.colab.kernel.invokeFunction('convertToInteractive',\n",
              "                                                     [key], {});\n",
              "          if (!dataTable) return;\n",
              "\n",
              "          const docLinkHtml = 'Like what you see? Visit the ' +\n",
              "            '<a target=\"_blank\" href=https://colab.research.google.com/notebooks/data_table.ipynb>data table notebook</a>'\n",
              "            + ' to learn more about interactive tables.';\n",
              "          element.innerHTML = '';\n",
              "          dataTable['output_type'] = 'display_data';\n",
              "          await google.colab.output.renderOutput(dataTable, element);\n",
              "          const docLink = document.createElement('div');\n",
              "          docLink.innerHTML = docLinkHtml;\n",
              "          element.appendChild(docLink);\n",
              "        }\n",
              "      </script>\n",
              "    </div>\n",
              "  </div>\n",
              "  "
            ]
          },
          "metadata": {},
          "execution_count": 196
        }
      ]
    },
    {
      "cell_type": "code",
      "source": [
        "y.head(2)"
      ],
      "metadata": {
        "colab": {
          "base_uri": "https://localhost:8080/"
        },
        "id": "Df5Rd6IIWz5I",
        "outputId": "aa412520-1566-4453-a3e7-0860c9a79c95"
      },
      "execution_count": 197,
      "outputs": [
        {
          "output_type": "execute_result",
          "data": {
            "text/plain": [
              "UDI\n",
              "1    0\n",
              "2    0\n",
              "Name: Target, dtype: int64"
            ]
          },
          "metadata": {},
          "execution_count": 197
        }
      ]
    },
    {
      "cell_type": "markdown",
      "source": [
        "Train, Test and Split"
      ],
      "metadata": {
        "id": "JcFAhcPeXxRo"
      }
    },
    {
      "cell_type": "code",
      "source": [
        "from sklearn.model_selection import train_test_split"
      ],
      "metadata": {
        "id": "xVAosmgCX1n1"
      },
      "execution_count": 198,
      "outputs": []
    },
    {
      "cell_type": "code",
      "source": [
        "x_train, x_test, y_train, y_test = train_test_split(x,y,test_size = 0.2, random_state = 1)\n",
        "#20% --> testing , 80% --> rainign"
      ],
      "metadata": {
        "id": "7LJf_k7FX-Ch"
      },
      "execution_count": 199,
      "outputs": []
    },
    {
      "cell_type": "code",
      "source": [
        "x_test.shape, x_train.shape"
      ],
      "metadata": {
        "colab": {
          "base_uri": "https://localhost:8080/"
        },
        "id": "cQEah7qQYLwt",
        "outputId": "bfbacf97-c306-47dc-8f12-69a2f43597fe"
      },
      "execution_count": 200,
      "outputs": [
        {
          "output_type": "execute_result",
          "data": {
            "text/plain": [
              "((2000, 6), (8000, 6))"
            ]
          },
          "metadata": {},
          "execution_count": 200
        }
      ]
    },
    {
      "cell_type": "code",
      "source": [
        "y_test.shape, y_train.shape"
      ],
      "metadata": {
        "colab": {
          "base_uri": "https://localhost:8080/"
        },
        "id": "D94noK1ZYQ2m",
        "outputId": "658f13df-5307-4217-c67e-d249c4440d12"
      },
      "execution_count": 201,
      "outputs": [
        {
          "output_type": "execute_result",
          "data": {
            "text/plain": [
              "((2000,), (8000,))"
            ]
          },
          "metadata": {},
          "execution_count": 201
        }
      ]
    },
    {
      "cell_type": "code",
      "source": [
        "x_train.head()"
      ],
      "metadata": {
        "colab": {
          "base_uri": "https://localhost:8080/",
          "height": 237
        },
        "id": "eZGIqaOxUNo9",
        "outputId": "5d6c5a1f-39ed-47f0-abb7-3f298401621f"
      },
      "execution_count": 202,
      "outputs": [
        {
          "output_type": "execute_result",
          "data": {
            "text/plain": [
              "      Type  Air_temp  Process_temp  Rotational_speed  Torque  Tool_wear\n",
              "UDI                                                                    \n",
              "2695     2     300.1         309.6              1625    38.0         46\n",
              "5141     2     304.3         313.6              1585    32.1        202\n",
              "2569     1     299.6         309.2              1450    43.1        160\n",
              "3672     2     302.3         311.7              1486    39.6        147\n",
              "7428     1     300.0         311.4              1634    31.9          0"
            ],
            "text/html": [
              "\n",
              "  <div id=\"df-2584ce04-9096-4f51-a897-200ccb44c2b5\">\n",
              "    <div class=\"colab-df-container\">\n",
              "      <div>\n",
              "<style scoped>\n",
              "    .dataframe tbody tr th:only-of-type {\n",
              "        vertical-align: middle;\n",
              "    }\n",
              "\n",
              "    .dataframe tbody tr th {\n",
              "        vertical-align: top;\n",
              "    }\n",
              "\n",
              "    .dataframe thead th {\n",
              "        text-align: right;\n",
              "    }\n",
              "</style>\n",
              "<table border=\"1\" class=\"dataframe\">\n",
              "  <thead>\n",
              "    <tr style=\"text-align: right;\">\n",
              "      <th></th>\n",
              "      <th>Type</th>\n",
              "      <th>Air_temp</th>\n",
              "      <th>Process_temp</th>\n",
              "      <th>Rotational_speed</th>\n",
              "      <th>Torque</th>\n",
              "      <th>Tool_wear</th>\n",
              "    </tr>\n",
              "    <tr>\n",
              "      <th>UDI</th>\n",
              "      <th></th>\n",
              "      <th></th>\n",
              "      <th></th>\n",
              "      <th></th>\n",
              "      <th></th>\n",
              "      <th></th>\n",
              "    </tr>\n",
              "  </thead>\n",
              "  <tbody>\n",
              "    <tr>\n",
              "      <th>2695</th>\n",
              "      <td>2</td>\n",
              "      <td>300.1</td>\n",
              "      <td>309.6</td>\n",
              "      <td>1625</td>\n",
              "      <td>38.0</td>\n",
              "      <td>46</td>\n",
              "    </tr>\n",
              "    <tr>\n",
              "      <th>5141</th>\n",
              "      <td>2</td>\n",
              "      <td>304.3</td>\n",
              "      <td>313.6</td>\n",
              "      <td>1585</td>\n",
              "      <td>32.1</td>\n",
              "      <td>202</td>\n",
              "    </tr>\n",
              "    <tr>\n",
              "      <th>2569</th>\n",
              "      <td>1</td>\n",
              "      <td>299.6</td>\n",
              "      <td>309.2</td>\n",
              "      <td>1450</td>\n",
              "      <td>43.1</td>\n",
              "      <td>160</td>\n",
              "    </tr>\n",
              "    <tr>\n",
              "      <th>3672</th>\n",
              "      <td>2</td>\n",
              "      <td>302.3</td>\n",
              "      <td>311.7</td>\n",
              "      <td>1486</td>\n",
              "      <td>39.6</td>\n",
              "      <td>147</td>\n",
              "    </tr>\n",
              "    <tr>\n",
              "      <th>7428</th>\n",
              "      <td>1</td>\n",
              "      <td>300.0</td>\n",
              "      <td>311.4</td>\n",
              "      <td>1634</td>\n",
              "      <td>31.9</td>\n",
              "      <td>0</td>\n",
              "    </tr>\n",
              "  </tbody>\n",
              "</table>\n",
              "</div>\n",
              "      <button class=\"colab-df-convert\" onclick=\"convertToInteractive('df-2584ce04-9096-4f51-a897-200ccb44c2b5')\"\n",
              "              title=\"Convert this dataframe to an interactive table.\"\n",
              "              style=\"display:none;\">\n",
              "        \n",
              "  <svg xmlns=\"http://www.w3.org/2000/svg\" height=\"24px\"viewBox=\"0 0 24 24\"\n",
              "       width=\"24px\">\n",
              "    <path d=\"M0 0h24v24H0V0z\" fill=\"none\"/>\n",
              "    <path d=\"M18.56 5.44l.94 2.06.94-2.06 2.06-.94-2.06-.94-.94-2.06-.94 2.06-2.06.94zm-11 1L8.5 8.5l.94-2.06 2.06-.94-2.06-.94L8.5 2.5l-.94 2.06-2.06.94zm10 10l.94 2.06.94-2.06 2.06-.94-2.06-.94-.94-2.06-.94 2.06-2.06.94z\"/><path d=\"M17.41 7.96l-1.37-1.37c-.4-.4-.92-.59-1.43-.59-.52 0-1.04.2-1.43.59L10.3 9.45l-7.72 7.72c-.78.78-.78 2.05 0 2.83L4 21.41c.39.39.9.59 1.41.59.51 0 1.02-.2 1.41-.59l7.78-7.78 2.81-2.81c.8-.78.8-2.07 0-2.86zM5.41 20L4 18.59l7.72-7.72 1.47 1.35L5.41 20z\"/>\n",
              "  </svg>\n",
              "      </button>\n",
              "      \n",
              "  <style>\n",
              "    .colab-df-container {\n",
              "      display:flex;\n",
              "      flex-wrap:wrap;\n",
              "      gap: 12px;\n",
              "    }\n",
              "\n",
              "    .colab-df-convert {\n",
              "      background-color: #E8F0FE;\n",
              "      border: none;\n",
              "      border-radius: 50%;\n",
              "      cursor: pointer;\n",
              "      display: none;\n",
              "      fill: #1967D2;\n",
              "      height: 32px;\n",
              "      padding: 0 0 0 0;\n",
              "      width: 32px;\n",
              "    }\n",
              "\n",
              "    .colab-df-convert:hover {\n",
              "      background-color: #E2EBFA;\n",
              "      box-shadow: 0px 1px 2px rgba(60, 64, 67, 0.3), 0px 1px 3px 1px rgba(60, 64, 67, 0.15);\n",
              "      fill: #174EA6;\n",
              "    }\n",
              "\n",
              "    [theme=dark] .colab-df-convert {\n",
              "      background-color: #3B4455;\n",
              "      fill: #D2E3FC;\n",
              "    }\n",
              "\n",
              "    [theme=dark] .colab-df-convert:hover {\n",
              "      background-color: #434B5C;\n",
              "      box-shadow: 0px 1px 3px 1px rgba(0, 0, 0, 0.15);\n",
              "      filter: drop-shadow(0px 1px 2px rgba(0, 0, 0, 0.3));\n",
              "      fill: #FFFFFF;\n",
              "    }\n",
              "  </style>\n",
              "\n",
              "      <script>\n",
              "        const buttonEl =\n",
              "          document.querySelector('#df-2584ce04-9096-4f51-a897-200ccb44c2b5 button.colab-df-convert');\n",
              "        buttonEl.style.display =\n",
              "          google.colab.kernel.accessAllowed ? 'block' : 'none';\n",
              "\n",
              "        async function convertToInteractive(key) {\n",
              "          const element = document.querySelector('#df-2584ce04-9096-4f51-a897-200ccb44c2b5');\n",
              "          const dataTable =\n",
              "            await google.colab.kernel.invokeFunction('convertToInteractive',\n",
              "                                                     [key], {});\n",
              "          if (!dataTable) return;\n",
              "\n",
              "          const docLinkHtml = 'Like what you see? Visit the ' +\n",
              "            '<a target=\"_blank\" href=https://colab.research.google.com/notebooks/data_table.ipynb>data table notebook</a>'\n",
              "            + ' to learn more about interactive tables.';\n",
              "          element.innerHTML = '';\n",
              "          dataTable['output_type'] = 'display_data';\n",
              "          await google.colab.output.renderOutput(dataTable, element);\n",
              "          const docLink = document.createElement('div');\n",
              "          docLink.innerHTML = docLinkHtml;\n",
              "          element.appendChild(docLink);\n",
              "        }\n",
              "      </script>\n",
              "    </div>\n",
              "  </div>\n",
              "  "
            ]
          },
          "metadata": {},
          "execution_count": 202
        }
      ]
    },
    {
      "cell_type": "markdown",
      "source": [
        "Scaling the data"
      ],
      "metadata": {
        "id": "U-2TWsBN9FQw"
      }
    },
    {
      "cell_type": "code",
      "source": [
        "from sklearn.preprocessing import StandardScaler"
      ],
      "metadata": {
        "id": "hj7tXFgO6D0G"
      },
      "execution_count": 203,
      "outputs": []
    },
    {
      "cell_type": "code",
      "source": [
        "SS = StandardScaler()\n",
        "SS"
      ],
      "metadata": {
        "colab": {
          "base_uri": "https://localhost:8080/",
          "height": 74
        },
        "id": "-6EKfHxU9O8i",
        "outputId": "5ac0bc10-9c9e-47f6-ac1b-22bf930201de"
      },
      "execution_count": 204,
      "outputs": [
        {
          "output_type": "execute_result",
          "data": {
            "text/plain": [
              "StandardScaler()"
            ],
            "text/html": [
              "<style>#sk-container-id-10 {color: black;background-color: white;}#sk-container-id-10 pre{padding: 0;}#sk-container-id-10 div.sk-toggleable {background-color: white;}#sk-container-id-10 label.sk-toggleable__label {cursor: pointer;display: block;width: 100%;margin-bottom: 0;padding: 0.3em;box-sizing: border-box;text-align: center;}#sk-container-id-10 label.sk-toggleable__label-arrow:before {content: \"▸\";float: left;margin-right: 0.25em;color: #696969;}#sk-container-id-10 label.sk-toggleable__label-arrow:hover:before {color: black;}#sk-container-id-10 div.sk-estimator:hover label.sk-toggleable__label-arrow:before {color: black;}#sk-container-id-10 div.sk-toggleable__content {max-height: 0;max-width: 0;overflow: hidden;text-align: left;background-color: #f0f8ff;}#sk-container-id-10 div.sk-toggleable__content pre {margin: 0.2em;color: black;border-radius: 0.25em;background-color: #f0f8ff;}#sk-container-id-10 input.sk-toggleable__control:checked~div.sk-toggleable__content {max-height: 200px;max-width: 100%;overflow: auto;}#sk-container-id-10 input.sk-toggleable__control:checked~label.sk-toggleable__label-arrow:before {content: \"▾\";}#sk-container-id-10 div.sk-estimator input.sk-toggleable__control:checked~label.sk-toggleable__label {background-color: #d4ebff;}#sk-container-id-10 div.sk-label input.sk-toggleable__control:checked~label.sk-toggleable__label {background-color: #d4ebff;}#sk-container-id-10 input.sk-hidden--visually {border: 0;clip: rect(1px 1px 1px 1px);clip: rect(1px, 1px, 1px, 1px);height: 1px;margin: -1px;overflow: hidden;padding: 0;position: absolute;width: 1px;}#sk-container-id-10 div.sk-estimator {font-family: monospace;background-color: #f0f8ff;border: 1px dotted black;border-radius: 0.25em;box-sizing: border-box;margin-bottom: 0.5em;}#sk-container-id-10 div.sk-estimator:hover {background-color: #d4ebff;}#sk-container-id-10 div.sk-parallel-item::after {content: \"\";width: 100%;border-bottom: 1px solid gray;flex-grow: 1;}#sk-container-id-10 div.sk-label:hover label.sk-toggleable__label {background-color: #d4ebff;}#sk-container-id-10 div.sk-serial::before {content: \"\";position: absolute;border-left: 1px solid gray;box-sizing: border-box;top: 0;bottom: 0;left: 50%;z-index: 0;}#sk-container-id-10 div.sk-serial {display: flex;flex-direction: column;align-items: center;background-color: white;padding-right: 0.2em;padding-left: 0.2em;position: relative;}#sk-container-id-10 div.sk-item {position: relative;z-index: 1;}#sk-container-id-10 div.sk-parallel {display: flex;align-items: stretch;justify-content: center;background-color: white;position: relative;}#sk-container-id-10 div.sk-item::before, #sk-container-id-10 div.sk-parallel-item::before {content: \"\";position: absolute;border-left: 1px solid gray;box-sizing: border-box;top: 0;bottom: 0;left: 50%;z-index: -1;}#sk-container-id-10 div.sk-parallel-item {display: flex;flex-direction: column;z-index: 1;position: relative;background-color: white;}#sk-container-id-10 div.sk-parallel-item:first-child::after {align-self: flex-end;width: 50%;}#sk-container-id-10 div.sk-parallel-item:last-child::after {align-self: flex-start;width: 50%;}#sk-container-id-10 div.sk-parallel-item:only-child::after {width: 0;}#sk-container-id-10 div.sk-dashed-wrapped {border: 1px dashed gray;margin: 0 0.4em 0.5em 0.4em;box-sizing: border-box;padding-bottom: 0.4em;background-color: white;}#sk-container-id-10 div.sk-label label {font-family: monospace;font-weight: bold;display: inline-block;line-height: 1.2em;}#sk-container-id-10 div.sk-label-container {text-align: center;}#sk-container-id-10 div.sk-container {/* jupyter's `normalize.less` sets `[hidden] { display: none; }` but bootstrap.min.css set `[hidden] { display: none !important; }` so we also need the `!important` here to be able to override the default hidden behavior on the sphinx rendered scikit-learn.org. See: https://github.com/scikit-learn/scikit-learn/issues/21755 */display: inline-block !important;position: relative;}#sk-container-id-10 div.sk-text-repr-fallback {display: none;}</style><div id=\"sk-container-id-10\" class=\"sk-top-container\"><div class=\"sk-text-repr-fallback\"><pre>StandardScaler()</pre><b>In a Jupyter environment, please rerun this cell to show the HTML representation or trust the notebook. <br />On GitHub, the HTML representation is unable to render, please try loading this page with nbviewer.org.</b></div><div class=\"sk-container\" hidden><div class=\"sk-item\"><div class=\"sk-estimator sk-toggleable\"><input class=\"sk-toggleable__control sk-hidden--visually\" id=\"sk-estimator-id-10\" type=\"checkbox\" checked><label for=\"sk-estimator-id-10\" class=\"sk-toggleable__label sk-toggleable__label-arrow\">StandardScaler</label><div class=\"sk-toggleable__content\"><pre>StandardScaler()</pre></div></div></div></div></div>"
            ]
          },
          "metadata": {},
          "execution_count": 204
        }
      ]
    },
    {
      "cell_type": "code",
      "source": [
        "xtrain_scaled = SS.fit_transform(x_train)\n",
        "xtrain_scaled"
      ],
      "metadata": {
        "colab": {
          "base_uri": "https://localhost:8080/"
        },
        "id": "Mep-xOOb9UfT",
        "outputId": "d699e405-6654-4e15-f799-256ad3d1d9aa"
      },
      "execution_count": 205,
      "outputs": [
        {
          "output_type": "execute_result",
          "data": {
            "text/plain": [
              "array([[ 1.32989889,  0.04562227, -0.27621559,  0.48089353, -0.19692715,\n",
              "        -0.96891023],\n",
              "       [ 1.32989889,  2.14291088,  2.42161396,  0.25705033, -0.78889503,\n",
              "         1.47331113],\n",
              "       [-0.34240402, -0.20405495, -0.54599855, -0.49842045,  0.31477391,\n",
              "         0.81578999],\n",
              "       ...,\n",
              "       [-0.34240402, -2.20147267, -2.63681645, -0.36411453,  0.12414018,\n",
              "         0.75316893],\n",
              "       [-0.34240402,  1.94316911,  2.08438527, -1.28187164,  2.30137799,\n",
              "         0.34613204],\n",
              "       [ 1.32989889, -0.95308659, -1.1530102 ,  0.78867792, -0.62836137,\n",
              "         1.20717162]])"
            ]
          },
          "metadata": {},
          "execution_count": 205
        }
      ]
    },
    {
      "cell_type": "code",
      "source": [
        "xtest_scaled = SS.transform(x_test)\n",
        "xtest_scaled"
      ],
      "metadata": {
        "colab": {
          "base_uri": "https://localhost:8080/"
        },
        "id": "U_QZ6cUN9n1c",
        "outputId": "5d1da6ef-4205-42d2-d2b7-457db05cfa38"
      },
      "execution_count": 206,
      "outputs": [
        {
          "output_type": "execute_result",
          "data": {
            "text/plain": [
              "array([[-0.34240402, -0.95308659, -1.49023889,  0.14512874, -0.4678277 ,\n",
              "         0.17392412],\n",
              "       [ 1.32989889,  1.14420202,  0.66802475, -0.66070677,  0.13417353,\n",
              "         1.16020583],\n",
              "       [ 1.32989889,  1.99310455,  1.81460231, -0.46484397,  1.12747558,\n",
              "         0.81578999],\n",
              "       ...,\n",
              "       [-0.34240402,  0.39517037,  1.54481935, -0.58236165,  0.48534092,\n",
              "         0.4087531 ],\n",
              "       [-0.34240402, -0.40379672, -1.08556446,  0.71592888, -1.09992901,\n",
              "         1.42634533],\n",
              "       [ 1.32989889, -0.1541195 , -0.61344429,  0.35777977, -0.14676038,\n",
              "         0.97234264]])"
            ]
          },
          "metadata": {},
          "execution_count": 206
        }
      ]
    },
    {
      "cell_type": "markdown",
      "source": [
        "Build Model using Logistic Regression"
      ],
      "metadata": {
        "id": "hXzbmGQVVBsK"
      }
    },
    {
      "cell_type": "code",
      "source": [
        "from sklearn.linear_model import LogisticRegression"
      ],
      "metadata": {
        "id": "zqMHSzvfU3mx"
      },
      "execution_count": 207,
      "outputs": []
    },
    {
      "cell_type": "code",
      "source": [
        "LR1 = LogisticRegression()\n",
        "LR1"
      ],
      "metadata": {
        "colab": {
          "base_uri": "https://localhost:8080/",
          "height": 74
        },
        "id": "ZSZwDOIy-8x8",
        "outputId": "f5c6e693-4882-435c-c9fa-0fb87dc696b8"
      },
      "execution_count": 208,
      "outputs": [
        {
          "output_type": "execute_result",
          "data": {
            "text/plain": [
              "LogisticRegression()"
            ],
            "text/html": [
              "<style>#sk-container-id-11 {color: black;background-color: white;}#sk-container-id-11 pre{padding: 0;}#sk-container-id-11 div.sk-toggleable {background-color: white;}#sk-container-id-11 label.sk-toggleable__label {cursor: pointer;display: block;width: 100%;margin-bottom: 0;padding: 0.3em;box-sizing: border-box;text-align: center;}#sk-container-id-11 label.sk-toggleable__label-arrow:before {content: \"▸\";float: left;margin-right: 0.25em;color: #696969;}#sk-container-id-11 label.sk-toggleable__label-arrow:hover:before {color: black;}#sk-container-id-11 div.sk-estimator:hover label.sk-toggleable__label-arrow:before {color: black;}#sk-container-id-11 div.sk-toggleable__content {max-height: 0;max-width: 0;overflow: hidden;text-align: left;background-color: #f0f8ff;}#sk-container-id-11 div.sk-toggleable__content pre {margin: 0.2em;color: black;border-radius: 0.25em;background-color: #f0f8ff;}#sk-container-id-11 input.sk-toggleable__control:checked~div.sk-toggleable__content {max-height: 200px;max-width: 100%;overflow: auto;}#sk-container-id-11 input.sk-toggleable__control:checked~label.sk-toggleable__label-arrow:before {content: \"▾\";}#sk-container-id-11 div.sk-estimator input.sk-toggleable__control:checked~label.sk-toggleable__label {background-color: #d4ebff;}#sk-container-id-11 div.sk-label input.sk-toggleable__control:checked~label.sk-toggleable__label {background-color: #d4ebff;}#sk-container-id-11 input.sk-hidden--visually {border: 0;clip: rect(1px 1px 1px 1px);clip: rect(1px, 1px, 1px, 1px);height: 1px;margin: -1px;overflow: hidden;padding: 0;position: absolute;width: 1px;}#sk-container-id-11 div.sk-estimator {font-family: monospace;background-color: #f0f8ff;border: 1px dotted black;border-radius: 0.25em;box-sizing: border-box;margin-bottom: 0.5em;}#sk-container-id-11 div.sk-estimator:hover {background-color: #d4ebff;}#sk-container-id-11 div.sk-parallel-item::after {content: \"\";width: 100%;border-bottom: 1px solid gray;flex-grow: 1;}#sk-container-id-11 div.sk-label:hover label.sk-toggleable__label {background-color: #d4ebff;}#sk-container-id-11 div.sk-serial::before {content: \"\";position: absolute;border-left: 1px solid gray;box-sizing: border-box;top: 0;bottom: 0;left: 50%;z-index: 0;}#sk-container-id-11 div.sk-serial {display: flex;flex-direction: column;align-items: center;background-color: white;padding-right: 0.2em;padding-left: 0.2em;position: relative;}#sk-container-id-11 div.sk-item {position: relative;z-index: 1;}#sk-container-id-11 div.sk-parallel {display: flex;align-items: stretch;justify-content: center;background-color: white;position: relative;}#sk-container-id-11 div.sk-item::before, #sk-container-id-11 div.sk-parallel-item::before {content: \"\";position: absolute;border-left: 1px solid gray;box-sizing: border-box;top: 0;bottom: 0;left: 50%;z-index: -1;}#sk-container-id-11 div.sk-parallel-item {display: flex;flex-direction: column;z-index: 1;position: relative;background-color: white;}#sk-container-id-11 div.sk-parallel-item:first-child::after {align-self: flex-end;width: 50%;}#sk-container-id-11 div.sk-parallel-item:last-child::after {align-self: flex-start;width: 50%;}#sk-container-id-11 div.sk-parallel-item:only-child::after {width: 0;}#sk-container-id-11 div.sk-dashed-wrapped {border: 1px dashed gray;margin: 0 0.4em 0.5em 0.4em;box-sizing: border-box;padding-bottom: 0.4em;background-color: white;}#sk-container-id-11 div.sk-label label {font-family: monospace;font-weight: bold;display: inline-block;line-height: 1.2em;}#sk-container-id-11 div.sk-label-container {text-align: center;}#sk-container-id-11 div.sk-container {/* jupyter's `normalize.less` sets `[hidden] { display: none; }` but bootstrap.min.css set `[hidden] { display: none !important; }` so we also need the `!important` here to be able to override the default hidden behavior on the sphinx rendered scikit-learn.org. See: https://github.com/scikit-learn/scikit-learn/issues/21755 */display: inline-block !important;position: relative;}#sk-container-id-11 div.sk-text-repr-fallback {display: none;}</style><div id=\"sk-container-id-11\" class=\"sk-top-container\"><div class=\"sk-text-repr-fallback\"><pre>LogisticRegression()</pre><b>In a Jupyter environment, please rerun this cell to show the HTML representation or trust the notebook. <br />On GitHub, the HTML representation is unable to render, please try loading this page with nbviewer.org.</b></div><div class=\"sk-container\" hidden><div class=\"sk-item\"><div class=\"sk-estimator sk-toggleable\"><input class=\"sk-toggleable__control sk-hidden--visually\" id=\"sk-estimator-id-11\" type=\"checkbox\" checked><label for=\"sk-estimator-id-11\" class=\"sk-toggleable__label sk-toggleable__label-arrow\">LogisticRegression</label><div class=\"sk-toggleable__content\"><pre>LogisticRegression()</pre></div></div></div></div></div>"
            ]
          },
          "metadata": {},
          "execution_count": 208
        }
      ]
    },
    {
      "cell_type": "code",
      "source": [
        "LR1.fit(xtrain_scaled,y_train) #y_train bhaneko target, target lai sclaing na agrne --> classification bhayera"
      ],
      "metadata": {
        "colab": {
          "base_uri": "https://localhost:8080/",
          "height": 74
        },
        "id": "XvjldnL0_DeI",
        "outputId": "dbf59778-6d67-4314-f164-f9d48d6ac45d"
      },
      "execution_count": 209,
      "outputs": [
        {
          "output_type": "execute_result",
          "data": {
            "text/plain": [
              "LogisticRegression()"
            ],
            "text/html": [
              "<style>#sk-container-id-12 {color: black;background-color: white;}#sk-container-id-12 pre{padding: 0;}#sk-container-id-12 div.sk-toggleable {background-color: white;}#sk-container-id-12 label.sk-toggleable__label {cursor: pointer;display: block;width: 100%;margin-bottom: 0;padding: 0.3em;box-sizing: border-box;text-align: center;}#sk-container-id-12 label.sk-toggleable__label-arrow:before {content: \"▸\";float: left;margin-right: 0.25em;color: #696969;}#sk-container-id-12 label.sk-toggleable__label-arrow:hover:before {color: black;}#sk-container-id-12 div.sk-estimator:hover label.sk-toggleable__label-arrow:before {color: black;}#sk-container-id-12 div.sk-toggleable__content {max-height: 0;max-width: 0;overflow: hidden;text-align: left;background-color: #f0f8ff;}#sk-container-id-12 div.sk-toggleable__content pre {margin: 0.2em;color: black;border-radius: 0.25em;background-color: #f0f8ff;}#sk-container-id-12 input.sk-toggleable__control:checked~div.sk-toggleable__content {max-height: 200px;max-width: 100%;overflow: auto;}#sk-container-id-12 input.sk-toggleable__control:checked~label.sk-toggleable__label-arrow:before {content: \"▾\";}#sk-container-id-12 div.sk-estimator input.sk-toggleable__control:checked~label.sk-toggleable__label {background-color: #d4ebff;}#sk-container-id-12 div.sk-label input.sk-toggleable__control:checked~label.sk-toggleable__label {background-color: #d4ebff;}#sk-container-id-12 input.sk-hidden--visually {border: 0;clip: rect(1px 1px 1px 1px);clip: rect(1px, 1px, 1px, 1px);height: 1px;margin: -1px;overflow: hidden;padding: 0;position: absolute;width: 1px;}#sk-container-id-12 div.sk-estimator {font-family: monospace;background-color: #f0f8ff;border: 1px dotted black;border-radius: 0.25em;box-sizing: border-box;margin-bottom: 0.5em;}#sk-container-id-12 div.sk-estimator:hover {background-color: #d4ebff;}#sk-container-id-12 div.sk-parallel-item::after {content: \"\";width: 100%;border-bottom: 1px solid gray;flex-grow: 1;}#sk-container-id-12 div.sk-label:hover label.sk-toggleable__label {background-color: #d4ebff;}#sk-container-id-12 div.sk-serial::before {content: \"\";position: absolute;border-left: 1px solid gray;box-sizing: border-box;top: 0;bottom: 0;left: 50%;z-index: 0;}#sk-container-id-12 div.sk-serial {display: flex;flex-direction: column;align-items: center;background-color: white;padding-right: 0.2em;padding-left: 0.2em;position: relative;}#sk-container-id-12 div.sk-item {position: relative;z-index: 1;}#sk-container-id-12 div.sk-parallel {display: flex;align-items: stretch;justify-content: center;background-color: white;position: relative;}#sk-container-id-12 div.sk-item::before, #sk-container-id-12 div.sk-parallel-item::before {content: \"\";position: absolute;border-left: 1px solid gray;box-sizing: border-box;top: 0;bottom: 0;left: 50%;z-index: -1;}#sk-container-id-12 div.sk-parallel-item {display: flex;flex-direction: column;z-index: 1;position: relative;background-color: white;}#sk-container-id-12 div.sk-parallel-item:first-child::after {align-self: flex-end;width: 50%;}#sk-container-id-12 div.sk-parallel-item:last-child::after {align-self: flex-start;width: 50%;}#sk-container-id-12 div.sk-parallel-item:only-child::after {width: 0;}#sk-container-id-12 div.sk-dashed-wrapped {border: 1px dashed gray;margin: 0 0.4em 0.5em 0.4em;box-sizing: border-box;padding-bottom: 0.4em;background-color: white;}#sk-container-id-12 div.sk-label label {font-family: monospace;font-weight: bold;display: inline-block;line-height: 1.2em;}#sk-container-id-12 div.sk-label-container {text-align: center;}#sk-container-id-12 div.sk-container {/* jupyter's `normalize.less` sets `[hidden] { display: none; }` but bootstrap.min.css set `[hidden] { display: none !important; }` so we also need the `!important` here to be able to override the default hidden behavior on the sphinx rendered scikit-learn.org. See: https://github.com/scikit-learn/scikit-learn/issues/21755 */display: inline-block !important;position: relative;}#sk-container-id-12 div.sk-text-repr-fallback {display: none;}</style><div id=\"sk-container-id-12\" class=\"sk-top-container\"><div class=\"sk-text-repr-fallback\"><pre>LogisticRegression()</pre><b>In a Jupyter environment, please rerun this cell to show the HTML representation or trust the notebook. <br />On GitHub, the HTML representation is unable to render, please try loading this page with nbviewer.org.</b></div><div class=\"sk-container\" hidden><div class=\"sk-item\"><div class=\"sk-estimator sk-toggleable\"><input class=\"sk-toggleable__control sk-hidden--visually\" id=\"sk-estimator-id-12\" type=\"checkbox\" checked><label for=\"sk-estimator-id-12\" class=\"sk-toggleable__label sk-toggleable__label-arrow\">LogisticRegression</label><div class=\"sk-toggleable__content\"><pre>LogisticRegression()</pre></div></div></div></div></div>"
            ]
          },
          "metadata": {},
          "execution_count": 209
        }
      ]
    },
    {
      "cell_type": "code",
      "source": [
        "ytest_pred = LR1.predict(xtest_scaled)"
      ],
      "metadata": {
        "id": "8b3n9_8RNd-r"
      },
      "execution_count": 210,
      "outputs": []
    },
    {
      "cell_type": "code",
      "source": [
        "ytrain_pred = LR1.predict(xtrain_scaled)"
      ],
      "metadata": {
        "id": "RrxXL4mVNYTV"
      },
      "execution_count": 211,
      "outputs": []
    },
    {
      "cell_type": "markdown",
      "source": [
        "LOGISTICS REGRESSION KO MSE & REPORTS"
      ],
      "metadata": {
        "id": "R0lJUtlfOGxQ"
      }
    },
    {
      "cell_type": "code",
      "source": [
        "from sklearn.metrics import classification_report, confusion_matrix"
      ],
      "metadata": {
        "id": "Zvblmh93OIV-"
      },
      "execution_count": 212,
      "outputs": []
    },
    {
      "cell_type": "code",
      "source": [
        "print(classification_report(y_test, ytest_pred))\n",
        "print(classification_report(y_train,  ytrain_pred))"
      ],
      "metadata": {
        "colab": {
          "base_uri": "https://localhost:8080/"
        },
        "id": "mK0pfOvBQocZ",
        "outputId": "106c1792-4e0c-49ee-b9a6-1cb9f462f9d1"
      },
      "execution_count": 213,
      "outputs": [
        {
          "output_type": "stream",
          "name": "stdout",
          "text": [
            "              precision    recall  f1-score   support\n",
            "\n",
            "           0       0.97      1.00      0.99      1937\n",
            "           1       0.72      0.21      0.32        63\n",
            "\n",
            "    accuracy                           0.97      2000\n",
            "   macro avg       0.85      0.60      0.65      2000\n",
            "weighted avg       0.97      0.97      0.97      2000\n",
            "\n",
            "              precision    recall  f1-score   support\n",
            "\n",
            "           0       0.97      1.00      0.98      7724\n",
            "           1       0.75      0.17      0.28       276\n",
            "\n",
            "    accuracy                           0.97      8000\n",
            "   macro avg       0.86      0.58      0.63      8000\n",
            "weighted avg       0.96      0.97      0.96      8000\n",
            "\n"
          ]
        }
      ]
    },
    {
      "cell_type": "code",
      "source": [
        "cm = confusion_matrix(y_test, ytest_pred)\n",
        "print(cm)\n",
        "\n",
        "sns.heatmap(cm,  annot=True, fmt='d')\n",
        "plt.xlabel('Predicted')\n",
        "plt.ylabel('Actual')"
      ],
      "metadata": {
        "colab": {
          "base_uri": "https://localhost:8080/",
          "height": 331
        },
        "id": "6I8mBUZ0WH-v",
        "outputId": "dc39e6c8-226f-4f1c-b82d-97652948ed40"
      },
      "execution_count": 214,
      "outputs": [
        {
          "output_type": "stream",
          "name": "stdout",
          "text": [
            "[[1932    5]\n",
            " [  50   13]]\n"
          ]
        },
        {
          "output_type": "execute_result",
          "data": {
            "text/plain": [
              "Text(33.0, 0.5, 'Actual')"
            ]
          },
          "metadata": {},
          "execution_count": 214
        },
        {
          "output_type": "display_data",
          "data": {
            "text/plain": [
              "<Figure size 432x288 with 2 Axes>"
            ],
            "image/png": "[encoded data removed]"
          },
          "metadata": {
            "needs_background": "light"
          }
        }
      ]
    },
    {
      "cell_type": "markdown",
      "source": [
        "Random Forest Classifier"
      ],
      "metadata": {
        "id": "4gpO-TtrYr_Q"
      }
    },
    {
      "cell_type": "code",
      "source": [
        "from sklearn.ensemble import RandomForestClassifier"
      ],
      "metadata": {
        "id": "oBL5Uff5O7yY"
      },
      "execution_count": 215,
      "outputs": []
    },
    {
      "cell_type": "code",
      "source": [
        "RFM = RandomForestClassifier()"
      ],
      "metadata": {
        "id": "UuhbC-5xZied"
      },
      "execution_count": 216,
      "outputs": []
    },
    {
      "cell_type": "code",
      "source": [
        "RFM.fit(xtrain_scaled, y_train)"
      ],
      "metadata": {
        "colab": {
          "base_uri": "https://localhost:8080/",
          "height": 74
        },
        "id": "5nex8DeLZpmo",
        "outputId": "e6fd1bd5-01ac-4d89-f7af-b0525abc2f93"
      },
      "execution_count": 217,
      "outputs": [
        {
          "output_type": "execute_result",
          "data": {
            "text/plain": [
              "RandomForestClassifier()"
            ],
            "text/html": [
              "<style>#sk-container-id-13 {color: black;background-color: white;}#sk-container-id-13 pre{padding: 0;}#sk-container-id-13 div.sk-toggleable {background-color: white;}#sk-container-id-13 label.sk-toggleable__label {cursor: pointer;display: block;width: 100%;margin-bottom: 0;padding: 0.3em;box-sizing: border-box;text-align: center;}#sk-container-id-13 label.sk-toggleable__label-arrow:before {content: \"▸\";float: left;margin-right: 0.25em;color: #696969;}#sk-container-id-13 label.sk-toggleable__label-arrow:hover:before {color: black;}#sk-container-id-13 div.sk-estimator:hover label.sk-toggleable__label-arrow:before {color: black;}#sk-container-id-13 div.sk-toggleable__content {max-height: 0;max-width: 0;overflow: hidden;text-align: left;background-color: #f0f8ff;}#sk-container-id-13 div.sk-toggleable__content pre {margin: 0.2em;color: black;border-radius: 0.25em;background-color: #f0f8ff;}#sk-container-id-13 input.sk-toggleable__control:checked~div.sk-toggleable__content {max-height: 200px;max-width: 100%;overflow: auto;}#sk-container-id-13 input.sk-toggleable__control:checked~label.sk-toggleable__label-arrow:before {content: \"▾\";}#sk-container-id-13 div.sk-estimator input.sk-toggleable__control:checked~label.sk-toggleable__label {background-color: #d4ebff;}#sk-container-id-13 div.sk-label input.sk-toggleable__control:checked~label.sk-toggleable__label {background-color: #d4ebff;}#sk-container-id-13 input.sk-hidden--visually {border: 0;clip: rect(1px 1px 1px 1px);clip: rect(1px, 1px, 1px, 1px);height: 1px;margin: -1px;overflow: hidden;padding: 0;position: absolute;width: 1px;}#sk-container-id-13 div.sk-estimator {font-family: monospace;background-color: #f0f8ff;border: 1px dotted black;border-radius: 0.25em;box-sizing: border-box;margin-bottom: 0.5em;}#sk-container-id-13 div.sk-estimator:hover {background-color: #d4ebff;}#sk-container-id-13 div.sk-parallel-item::after {content: \"\";width: 100%;border-bottom: 1px solid gray;flex-grow: 1;}#sk-container-id-13 div.sk-label:hover label.sk-toggleable__label {background-color: #d4ebff;}#sk-container-id-13 div.sk-serial::before {content: \"\";position: absolute;border-left: 1px solid gray;box-sizing: border-box;top: 0;bottom: 0;left: 50%;z-index: 0;}#sk-container-id-13 div.sk-serial {display: flex;flex-direction: column;align-items: center;background-color: white;padding-right: 0.2em;padding-left: 0.2em;position: relative;}#sk-container-id-13 div.sk-item {position: relative;z-index: 1;}#sk-container-id-13 div.sk-parallel {display: flex;align-items: stretch;justify-content: center;background-color: white;position: relative;}#sk-container-id-13 div.sk-item::before, #sk-container-id-13 div.sk-parallel-item::before {content: \"\";position: absolute;border-left: 1px solid gray;box-sizing: border-box;top: 0;bottom: 0;left: 50%;z-index: -1;}#sk-container-id-13 div.sk-parallel-item {display: flex;flex-direction: column;z-index: 1;position: relative;background-color: white;}#sk-container-id-13 div.sk-parallel-item:first-child::after {align-self: flex-end;width: 50%;}#sk-container-id-13 div.sk-parallel-item:last-child::after {align-self: flex-start;width: 50%;}#sk-container-id-13 div.sk-parallel-item:only-child::after {width: 0;}#sk-container-id-13 div.sk-dashed-wrapped {border: 1px dashed gray;margin: 0 0.4em 0.5em 0.4em;box-sizing: border-box;padding-bottom: 0.4em;background-color: white;}#sk-container-id-13 div.sk-label label {font-family: monospace;font-weight: bold;display: inline-block;line-height: 1.2em;}#sk-container-id-13 div.sk-label-container {text-align: center;}#sk-container-id-13 div.sk-container {/* jupyter's `normalize.less` sets `[hidden] { display: none; }` but bootstrap.min.css set `[hidden] { display: none !important; }` so we also need the `!important` here to be able to override the default hidden behavior on the sphinx rendered scikit-learn.org. See: https://github.com/scikit-learn/scikit-learn/issues/21755 */display: inline-block !important;position: relative;}#sk-container-id-13 div.sk-text-repr-fallback {display: none;}</style><div id=\"sk-container-id-13\" class=\"sk-top-container\"><div class=\"sk-text-repr-fallback\"><pre>RandomForestClassifier()</pre><b>In a Jupyter environment, please rerun this cell to show the HTML representation or trust the notebook. <br />On GitHub, the HTML representation is unable to render, please try loading this page with nbviewer.org.</b></div><div class=\"sk-container\" hidden><div class=\"sk-item\"><div class=\"sk-estimator sk-toggleable\"><input class=\"sk-toggleable__control sk-hidden--visually\" id=\"sk-estimator-id-13\" type=\"checkbox\" checked><label for=\"sk-estimator-id-13\" class=\"sk-toggleable__label sk-toggleable__label-arrow\">RandomForestClassifier</label><div class=\"sk-toggleable__content\"><pre>RandomForestClassifier()</pre></div></div></div></div></div>"
            ]
          },
          "metadata": {},
          "execution_count": 217
        }
      ]
    },
    {
      "cell_type": "code",
      "source": [
        "ytest_pred = RFM.predict(x_test)\n",
        "ytrain_pred = RFM.predict(xtrain_scaled)"
      ],
      "metadata": {
        "colab": {
          "base_uri": "https://localhost:8080/"
        },
        "id": "NZ6AaAwBZpu2",
        "outputId": "2f673e5a-297a-4280-ab66-3619d08068d6"
      },
      "execution_count": 218,
      "outputs": [
        {
          "output_type": "stream",
          "name": "stderr",
          "text": [
            "/usr/local/lib/python3.9/dist-packages/sklearn/base.py:432: UserWarning:\n",
            "\n",
            "X has feature names, but RandomForestClassifier was fitted without feature names\n",
            "\n"
          ]
        }
      ]
    },
    {
      "cell_type": "code",
      "source": [
        "RFM.score(xtrain_scaled,y_train)"
      ],
      "metadata": {
        "colab": {
          "base_uri": "https://localhost:8080/"
        },
        "id": "_YPxXvu6_tlg",
        "outputId": "0c7ddbb6-7067-410c-86fe-6c68506f362e"
      },
      "execution_count": 219,
      "outputs": [
        {
          "output_type": "execute_result",
          "data": {
            "text/plain": [
              "0.999875"
            ]
          },
          "metadata": {},
          "execution_count": 219
        }
      ]
    },
    {
      "cell_type": "code",
      "source": [
        "#confusion matrix to evaluate how good the model is\n",
        "cm = confusion_matrix(y_test, ytest_pred)\n",
        "print(cm)\n"
      ],
      "metadata": {
        "colab": {
          "base_uri": "https://localhost:8080/"
        },
        "id": "hOYqxiOhZp5R",
        "outputId": "c6744b1f-b11b-478b-e978-7e21a4c2b11e"
      },
      "execution_count": 220,
      "outputs": [
        {
          "output_type": "stream",
          "name": "stdout",
          "text": [
            "[[   0 1937]\n",
            " [   0   63]]\n"
          ]
        }
      ]
    },
    {
      "cell_type": "code",
      "source": [
        "#classification model to evaluate how good the model is\n",
        "print(classification_report(y_test, ytest_pred))\n",
        "print(classification_report(y_train, ytrain_pred))"
      ],
      "metadata": {
        "colab": {
          "base_uri": "https://localhost:8080/"
        },
        "id": "YXey29XfZqIL",
        "outputId": "94518ef8-2e23-49a9-b205-b94e54d4d705"
      },
      "execution_count": 221,
      "outputs": [
        {
          "output_type": "stream",
          "name": "stdout",
          "text": [
            "              precision    recall  f1-score   support\n",
            "\n",
            "           0       0.00      0.00      0.00      1937\n",
            "           1       0.03      1.00      0.06        63\n",
            "\n",
            "    accuracy                           0.03      2000\n",
            "   macro avg       0.02      0.50      0.03      2000\n",
            "weighted avg       0.00      0.03      0.00      2000\n",
            "\n",
            "              precision    recall  f1-score   support\n",
            "\n",
            "           0       1.00      1.00      1.00      7724\n",
            "           1       1.00      1.00      1.00       276\n",
            "\n",
            "    accuracy                           1.00      8000\n",
            "   macro avg       1.00      1.00      1.00      8000\n",
            "weighted avg       1.00      1.00      1.00      8000\n",
            "\n"
          ]
        },
        {
          "output_type": "stream",
          "name": "stderr",
          "text": [
            "/usr/local/lib/python3.9/dist-packages/sklearn/metrics/_classification.py:1344: UndefinedMetricWarning:\n",
            "\n",
            "Precision and F-score are ill-defined and being set to 0.0 in labels with no predicted samples. Use `zero_division` parameter to control this behavior.\n",
            "\n",
            "/usr/local/lib/python3.9/dist-packages/sklearn/metrics/_classification.py:1344: UndefinedMetricWarning:\n",
            "\n",
            "Precision and F-score are ill-defined and being set to 0.0 in labels with no predicted samples. Use `zero_division` parameter to control this behavior.\n",
            "\n",
            "/usr/local/lib/python3.9/dist-packages/sklearn/metrics/_classification.py:1344: UndefinedMetricWarning:\n",
            "\n",
            "Precision and F-score are ill-defined and being set to 0.0 in labels with no predicted samples. Use `zero_division` parameter to control this behavior.\n",
            "\n"
          ]
        }
      ]
    },
    {
      "cell_type": "code",
      "source": [
        "df['Target'].value_counts()"
      ],
      "metadata": {
        "colab": {
          "base_uri": "https://localhost:8080/"
        },
        "id": "sTPRF1ClbhSb",
        "outputId": "9ea992aa-1252-4d3e-bffd-dd6ec10fbe2b"
      },
      "execution_count": 222,
      "outputs": [
        {
          "output_type": "execute_result",
          "data": {
            "text/plain": [
              "0    9661\n",
              "1     339\n",
              "Name: Target, dtype: int64"
            ]
          },
          "metadata": {},
          "execution_count": 222
        }
      ]
    },
    {
      "cell_type": "markdown",
      "source": [
        "USING SMOTE"
      ],
      "metadata": {
        "id": "3R0i79O_BcpL"
      }
    },
    {
      "cell_type": "code",
      "source": [
        "x.head()"
      ],
      "metadata": {
        "colab": {
          "base_uri": "https://localhost:8080/",
          "height": 237
        },
        "id": "Y2BmlVB3cR21",
        "outputId": "56517579-5db2-4d3e-eb1c-a11732850c67"
      },
      "execution_count": 223,
      "outputs": [
        {
          "output_type": "execute_result",
          "data": {
            "text/plain": [
              "     Type  Air_temp  Process_temp  Rotational_speed  Torque  Tool_wear\n",
              "UDI                                                                   \n",
              "1       2     298.1         308.6              1551    42.8          0\n",
              "2       1     298.2         308.7              1408    46.3          3\n",
              "3       1     298.1         308.5              1498    49.4          5\n",
              "4       1     298.2         308.6              1433    39.5          7\n",
              "5       1     298.2         308.7              1408    40.0          9"
            ],
            "text/html": [
              "\n",
              "  <div id=\"df-81859dda-2a34-46aa-9aa5-b31adb071a84\">\n",
              "    <div class=\"colab-df-container\">\n",
              "      <div>\n",
              "<style scoped>\n",
              "    .dataframe tbody tr th:only-of-type {\n",
              "        vertical-align: middle;\n",
              "    }\n",
              "\n",
              "    .dataframe tbody tr th {\n",
              "        vertical-align: top;\n",
              "    }\n",
              "\n",
              "    .dataframe thead th {\n",
              "        text-align: right;\n",
              "    }\n",
              "</style>\n",
              "<table border=\"1\" class=\"dataframe\">\n",
              "  <thead>\n",
              "    <tr style=\"text-align: right;\">\n",
              "      <th></th>\n",
              "      <th>Type</th>\n",
              "      <th>Air_temp</th>\n",
              "      <th>Process_temp</th>\n",
              "      <th>Rotational_speed</th>\n",
              "      <th>Torque</th>\n",
              "      <th>Tool_wear</th>\n",
              "    </tr>\n",
              "    <tr>\n",
              "      <th>UDI</th>\n",
              "      <th></th>\n",
              "      <th></th>\n",
              "      <th></th>\n",
              "      <th></th>\n",
              "      <th></th>\n",
              "      <th></th>\n",
              "    </tr>\n",
              "  </thead>\n",
              "  <tbody>\n",
              "    <tr>\n",
              "      <th>1</th>\n",
              "      <td>2</td>\n",
              "      <td>298.1</td>\n",
              "      <td>308.6</td>\n",
              "      <td>1551</td>\n",
              "      <td>42.8</td>\n",
              "      <td>0</td>\n",
              "    </tr>\n",
              "    <tr>\n",
              "      <th>2</th>\n",
              "      <td>1</td>\n",
              "      <td>298.2</td>\n",
              "      <td>308.7</td>\n",
              "      <td>1408</td>\n",
              "      <td>46.3</td>\n",
              "      <td>3</td>\n",
              "    </tr>\n",
              "    <tr>\n",
              "      <th>3</th>\n",
              "      <td>1</td>\n",
              "      <td>298.1</td>\n",
              "      <td>308.5</td>\n",
              "      <td>1498</td>\n",
              "      <td>49.4</td>\n",
              "      <td>5</td>\n",
              "    </tr>\n",
              "    <tr>\n",
              "      <th>4</th>\n",
              "      <td>1</td>\n",
              "      <td>298.2</td>\n",
              "      <td>308.6</td>\n",
              "      <td>1433</td>\n",
              "      <td>39.5</td>\n",
              "      <td>7</td>\n",
              "    </tr>\n",
              "    <tr>\n",
              "      <th>5</th>\n",
              "      <td>1</td>\n",
              "      <td>298.2</td>\n",
              "      <td>308.7</td>\n",
              "      <td>1408</td>\n",
              "      <td>40.0</td>\n",
              "      <td>9</td>\n",
              "    </tr>\n",
              "  </tbody>\n",
              "</table>\n",
              "</div>\n",
              "      <button class=\"colab-df-convert\" onclick=\"convertToInteractive('df-81859dda-2a34-46aa-9aa5-b31adb071a84')\"\n",
              "              title=\"Convert this dataframe to an interactive table.\"\n",
              "              style=\"display:none;\">\n",
              "        \n",
              "  <svg xmlns=\"http://www.w3.org/2000/svg\" height=\"24px\"viewBox=\"0 0 24 24\"\n",
              "       width=\"24px\">\n",
              "    <path d=\"M0 0h24v24H0V0z\" fill=\"none\"/>\n",
              "    <path d=\"M18.56 5.44l.94 2.06.94-2.06 2.06-.94-2.06-.94-.94-2.06-.94 2.06-2.06.94zm-11 1L8.5 8.5l.94-2.06 2.06-.94-2.06-.94L8.5 2.5l-.94 2.06-2.06.94zm10 10l.94 2.06.94-2.06 2.06-.94-2.06-.94-.94-2.06-.94 2.06-2.06.94z\"/><path d=\"M17.41 7.96l-1.37-1.37c-.4-.4-.92-.59-1.43-.59-.52 0-1.04.2-1.43.59L10.3 9.45l-7.72 7.72c-.78.78-.78 2.05 0 2.83L4 21.41c.39.39.9.59 1.41.59.51 0 1.02-.2 1.41-.59l7.78-7.78 2.81-2.81c.8-.78.8-2.07 0-2.86zM5.41 20L4 18.59l7.72-7.72 1.47 1.35L5.41 20z\"/>\n",
              "  </svg>\n",
              "      </button>\n",
              "      \n",
              "  <style>\n",
              "    .colab-df-container {\n",
              "      display:flex;\n",
              "      flex-wrap:wrap;\n",
              "      gap: 12px;\n",
              "    }\n",
              "\n",
              "    .colab-df-convert {\n",
              "      background-color: #E8F0FE;\n",
              "      border: none;\n",
              "      border-radius: 50%;\n",
              "      cursor: pointer;\n",
              "      display: none;\n",
              "      fill: #1967D2;\n",
              "      height: 32px;\n",
              "      padding: 0 0 0 0;\n",
              "      width: 32px;\n",
              "    }\n",
              "\n",
              "    .colab-df-convert:hover {\n",
              "      background-color: #E2EBFA;\n",
              "      box-shadow: 0px 1px 2px rgba(60, 64, 67, 0.3), 0px 1px 3px 1px rgba(60, 64, 67, 0.15);\n",
              "      fill: #174EA6;\n",
              "    }\n",
              "\n",
              "    [theme=dark] .colab-df-convert {\n",
              "      background-color: #3B4455;\n",
              "      fill: #D2E3FC;\n",
              "    }\n",
              "\n",
              "    [theme=dark] .colab-df-convert:hover {\n",
              "      background-color: #434B5C;\n",
              "      box-shadow: 0px 1px 3px 1px rgba(0, 0, 0, 0.15);\n",
              "      filter: drop-shadow(0px 1px 2px rgba(0, 0, 0, 0.3));\n",
              "      fill: #FFFFFF;\n",
              "    }\n",
              "  </style>\n",
              "\n",
              "      <script>\n",
              "        const buttonEl =\n",
              "          document.querySelector('#df-81859dda-2a34-46aa-9aa5-b31adb071a84 button.colab-df-convert');\n",
              "        buttonEl.style.display =\n",
              "          google.colab.kernel.accessAllowed ? 'block' : 'none';\n",
              "\n",
              "        async function convertToInteractive(key) {\n",
              "          const element = document.querySelector('#df-81859dda-2a34-46aa-9aa5-b31adb071a84');\n",
              "          const dataTable =\n",
              "            await google.colab.kernel.invokeFunction('convertToInteractive',\n",
              "                                                     [key], {});\n",
              "          if (!dataTable) return;\n",
              "\n",
              "          const docLinkHtml = 'Like what you see? Visit the ' +\n",
              "            '<a target=\"_blank\" href=https://colab.research.google.com/notebooks/data_table.ipynb>data table notebook</a>'\n",
              "            + ' to learn more about interactive tables.';\n",
              "          element.innerHTML = '';\n",
              "          dataTable['output_type'] = 'display_data';\n",
              "          await google.colab.output.renderOutput(dataTable, element);\n",
              "          const docLink = document.createElement('div');\n",
              "          docLink.innerHTML = docLinkHtml;\n",
              "          element.appendChild(docLink);\n",
              "        }\n",
              "      </script>\n",
              "    </div>\n",
              "  </div>\n",
              "  "
            ]
          },
          "metadata": {},
          "execution_count": 223
        }
      ]
    },
    {
      "cell_type": "code",
      "source": [
        "y.head()"
      ],
      "metadata": {
        "colab": {
          "base_uri": "https://localhost:8080/"
        },
        "id": "G3Ya_nTQBi52",
        "outputId": "c4f473b8-3dff-4b41-a3da-17aa9845aad2"
      },
      "execution_count": 224,
      "outputs": [
        {
          "output_type": "execute_result",
          "data": {
            "text/plain": [
              "UDI\n",
              "1    0\n",
              "2    0\n",
              "3    0\n",
              "4    0\n",
              "5    0\n",
              "Name: Target, dtype: int64"
            ]
          },
          "metadata": {},
          "execution_count": 224
        }
      ]
    },
    {
      "cell_type": "code",
      "source": [
        "from imblearn.over_sampling import SMOTE"
      ],
      "metadata": {
        "id": "axE_9QOYBnRD"
      },
      "execution_count": 225,
      "outputs": []
    },
    {
      "cell_type": "code",
      "source": [
        "smote = SMOTE(sampling_strategy='minority')\n",
        "x_smote, y_smote = smote.fit_resample(x,y)"
      ],
      "metadata": {
        "id": "TGWUl4FwBs0T"
      },
      "execution_count": 226,
      "outputs": []
    },
    {
      "cell_type": "code",
      "source": [
        "x_smote.value_counts()"
      ],
      "metadata": {
        "colab": {
          "base_uri": "https://localhost:8080/"
        },
        "id": "MvhSC_I5B3NG",
        "outputId": "43b6c2fe-deca-4d81-cbb4-baf6b0b978fc"
      },
      "execution_count": 227,
      "outputs": [
        {
          "output_type": "execute_result",
          "data": {
            "text/plain": [
              "Type  Air_temp    Process_temp  Rotational_speed  Torque     Tool_wear\n",
              "0     295.500000  305.900000    1593              37.200000  197          1\n",
              "1     302.348980  310.466058    1363              66.601826  78           1\n",
              "      302.346714  310.619717    1377              50.303538  165          1\n",
              "      302.346363  310.709773    1341              49.717271  158          1\n",
              "      302.346205  310.260825    1367              50.883598  14           1\n",
              "                                                                         ..\n",
              "      299.401576  310.071731    1292              67.095814  9            1\n",
              "      299.400000  310.900000    1751              27.800000  10           1\n",
              "                  310.800000    1622              33.600000  217          1\n",
              "                                1424              47.700000  109          1\n",
              "2     304.400000  313.600000    1510              38.900000  199          1\n",
              "Length: 19322, dtype: int64"
            ]
          },
          "metadata": {},
          "execution_count": 227
        }
      ]
    },
    {
      "cell_type": "code",
      "source": [
        "y_smote.value_counts()"
      ],
      "metadata": {
        "colab": {
          "base_uri": "https://localhost:8080/"
        },
        "id": "nzQ8JQtPB-tX",
        "outputId": "e7415223-2e14-43cd-ec45-06deb0527d7e"
      },
      "execution_count": 228,
      "outputs": [
        {
          "output_type": "execute_result",
          "data": {
            "text/plain": [
              "0    9661\n",
              "1    9661\n",
              "Name: Target, dtype: int64"
            ]
          },
          "metadata": {},
          "execution_count": 228
        }
      ]
    },
    {
      "cell_type": "code",
      "source": [
        "x_train, x_test, y_train, y_test = train_test_split(x_smote, y_smote, test_size=0.2, random_state=5, stratify=y_smote)"
      ],
      "metadata": {
        "id": "YRz8oIXLCEqE"
      },
      "execution_count": 229,
      "outputs": []
    },
    {
      "cell_type": "code",
      "source": [
        "y_train.value_counts()"
      ],
      "metadata": {
        "colab": {
          "base_uri": "https://localhost:8080/"
        },
        "id": "QRBC0XeeCQyU",
        "outputId": "2b311220-f16c-4f54-e9bb-d5e371d795a9"
      },
      "execution_count": 230,
      "outputs": [
        {
          "output_type": "execute_result",
          "data": {
            "text/plain": [
              "0    7729\n",
              "1    7728\n",
              "Name: Target, dtype: int64"
            ]
          },
          "metadata": {},
          "execution_count": 230
        }
      ]
    },
    {
      "cell_type": "code",
      "source": [
        "y_test.value_counts()"
      ],
      "metadata": {
        "colab": {
          "base_uri": "https://localhost:8080/"
        },
        "id": "Uqw6YO67CVJL",
        "outputId": "9704cd50-ab7e-4a10-8223-6323ebf85b4c"
      },
      "execution_count": 231,
      "outputs": [
        {
          "output_type": "execute_result",
          "data": {
            "text/plain": [
              "1    1933\n",
              "0    1932\n",
              "Name: Target, dtype: int64"
            ]
          },
          "metadata": {},
          "execution_count": 231
        }
      ]
    },
    {
      "cell_type": "code",
      "source": [
        "LR1 = LogisticRegression()\n",
        "LR1.fit(x_train, y_train)"
      ],
      "metadata": {
        "colab": {
          "base_uri": "https://localhost:8080/",
          "height": 74
        },
        "id": "AweulBKMCXdf",
        "outputId": "2b518bc1-7fda-4430-bf5c-03df1d872164"
      },
      "execution_count": 232,
      "outputs": [
        {
          "output_type": "execute_result",
          "data": {
            "text/plain": [
              "LogisticRegression()"
            ],
            "text/html": [
              "<style>#sk-container-id-14 {color: black;background-color: white;}#sk-container-id-14 pre{padding: 0;}#sk-container-id-14 div.sk-toggleable {background-color: white;}#sk-container-id-14 label.sk-toggleable__label {cursor: pointer;display: block;width: 100%;margin-bottom: 0;padding: 0.3em;box-sizing: border-box;text-align: center;}#sk-container-id-14 label.sk-toggleable__label-arrow:before {content: \"▸\";float: left;margin-right: 0.25em;color: #696969;}#sk-container-id-14 label.sk-toggleable__label-arrow:hover:before {color: black;}#sk-container-id-14 div.sk-estimator:hover label.sk-toggleable__label-arrow:before {color: black;}#sk-container-id-14 div.sk-toggleable__content {max-height: 0;max-width: 0;overflow: hidden;text-align: left;background-color: #f0f8ff;}#sk-container-id-14 div.sk-toggleable__content pre {margin: 0.2em;color: black;border-radius: 0.25em;background-color: #f0f8ff;}#sk-container-id-14 input.sk-toggleable__control:checked~div.sk-toggleable__content {max-height: 200px;max-width: 100%;overflow: auto;}#sk-container-id-14 input.sk-toggleable__control:checked~label.sk-toggleable__label-arrow:before {content: \"▾\";}#sk-container-id-14 div.sk-estimator input.sk-toggleable__control:checked~label.sk-toggleable__label {background-color: #d4ebff;}#sk-container-id-14 div.sk-label input.sk-toggleable__control:checked~label.sk-toggleable__label {background-color: #d4ebff;}#sk-container-id-14 input.sk-hidden--visually {border: 0;clip: rect(1px 1px 1px 1px);clip: rect(1px, 1px, 1px, 1px);height: 1px;margin: -1px;overflow: hidden;padding: 0;position: absolute;width: 1px;}#sk-container-id-14 div.sk-estimator {font-family: monospace;background-color: #f0f8ff;border: 1px dotted black;border-radius: 0.25em;box-sizing: border-box;margin-bottom: 0.5em;}#sk-container-id-14 div.sk-estimator:hover {background-color: #d4ebff;}#sk-container-id-14 div.sk-parallel-item::after {content: \"\";width: 100%;border-bottom: 1px solid gray;flex-grow: 1;}#sk-container-id-14 div.sk-label:hover label.sk-toggleable__label {background-color: #d4ebff;}#sk-container-id-14 div.sk-serial::before {content: \"\";position: absolute;border-left: 1px solid gray;box-sizing: border-box;top: 0;bottom: 0;left: 50%;z-index: 0;}#sk-container-id-14 div.sk-serial {display: flex;flex-direction: column;align-items: center;background-color: white;padding-right: 0.2em;padding-left: 0.2em;position: relative;}#sk-container-id-14 div.sk-item {position: relative;z-index: 1;}#sk-container-id-14 div.sk-parallel {display: flex;align-items: stretch;justify-content: center;background-color: white;position: relative;}#sk-container-id-14 div.sk-item::before, #sk-container-id-14 div.sk-parallel-item::before {content: \"\";position: absolute;border-left: 1px solid gray;box-sizing: border-box;top: 0;bottom: 0;left: 50%;z-index: -1;}#sk-container-id-14 div.sk-parallel-item {display: flex;flex-direction: column;z-index: 1;position: relative;background-color: white;}#sk-container-id-14 div.sk-parallel-item:first-child::after {align-self: flex-end;width: 50%;}#sk-container-id-14 div.sk-parallel-item:last-child::after {align-self: flex-start;width: 50%;}#sk-container-id-14 div.sk-parallel-item:only-child::after {width: 0;}#sk-container-id-14 div.sk-dashed-wrapped {border: 1px dashed gray;margin: 0 0.4em 0.5em 0.4em;box-sizing: border-box;padding-bottom: 0.4em;background-color: white;}#sk-container-id-14 div.sk-label label {font-family: monospace;font-weight: bold;display: inline-block;line-height: 1.2em;}#sk-container-id-14 div.sk-label-container {text-align: center;}#sk-container-id-14 div.sk-container {/* jupyter's `normalize.less` sets `[hidden] { display: none; }` but bootstrap.min.css set `[hidden] { display: none !important; }` so we also need the `!important` here to be able to override the default hidden behavior on the sphinx rendered scikit-learn.org. See: https://github.com/scikit-learn/scikit-learn/issues/21755 */display: inline-block !important;position: relative;}#sk-container-id-14 div.sk-text-repr-fallback {display: none;}</style><div id=\"sk-container-id-14\" class=\"sk-top-container\"><div class=\"sk-text-repr-fallback\"><pre>LogisticRegression()</pre><b>In a Jupyter environment, please rerun this cell to show the HTML representation or trust the notebook. <br />On GitHub, the HTML representation is unable to render, please try loading this page with nbviewer.org.</b></div><div class=\"sk-container\" hidden><div class=\"sk-item\"><div class=\"sk-estimator sk-toggleable\"><input class=\"sk-toggleable__control sk-hidden--visually\" id=\"sk-estimator-id-14\" type=\"checkbox\" checked><label for=\"sk-estimator-id-14\" class=\"sk-toggleable__label sk-toggleable__label-arrow\">LogisticRegression</label><div class=\"sk-toggleable__content\"><pre>LogisticRegression()</pre></div></div></div></div></div>"
            ]
          },
          "metadata": {},
          "execution_count": 232
        }
      ]
    },
    {
      "cell_type": "code",
      "source": [
        "ypred1 = LR1.predict(x_test)\n",
        "ypred2 = LR1.predict(x_train)"
      ],
      "metadata": {
        "id": "75dCga12CcGw"
      },
      "execution_count": 233,
      "outputs": []
    },
    {
      "cell_type": "code",
      "source": [
        "print(classification_report(y_test, ypred1))\n",
        "#a much better result can be seen now that smote has been applied"
      ],
      "metadata": {
        "colab": {
          "base_uri": "https://localhost:8080/"
        },
        "id": "y0gcw_IEC_MQ",
        "outputId": "fe15ae6f-82c1-4cdd-a8c6-8255b219b3b1"
      },
      "execution_count": 234,
      "outputs": [
        {
          "output_type": "stream",
          "name": "stdout",
          "text": [
            "              precision    recall  f1-score   support\n",
            "\n",
            "           0       0.84      0.84      0.84      1932\n",
            "           1       0.84      0.84      0.84      1933\n",
            "\n",
            "    accuracy                           0.84      3865\n",
            "   macro avg       0.84      0.84      0.84      3865\n",
            "weighted avg       0.84      0.84      0.84      3865\n",
            "\n"
          ]
        }
      ]
    },
    {
      "cell_type": "code",
      "source": [
        "print(classification_report(y_train, ypred2))"
      ],
      "metadata": {
        "colab": {
          "base_uri": "https://localhost:8080/"
        },
        "id": "yX9R-2ygDxzT",
        "outputId": "69882700-8fa8-4e70-8155-f72588f43907"
      },
      "execution_count": 235,
      "outputs": [
        {
          "output_type": "stream",
          "name": "stdout",
          "text": [
            "              precision    recall  f1-score   support\n",
            "\n",
            "           0       0.83      0.83      0.83      7729\n",
            "           1       0.83      0.83      0.83      7728\n",
            "\n",
            "    accuracy                           0.83     15457\n",
            "   macro avg       0.83      0.83      0.83     15457\n",
            "weighted avg       0.83      0.83      0.83     15457\n",
            "\n"
          ]
        }
      ]
    },
    {
      "cell_type": "code",
      "source": [
        "CM1 = confusion_matrix(y_test, ypred1)\n",
        "print(CM1)\n",
        "#again, a better result than without smote\n",
        "sns.heatmap(CM1,  annot=True, fmt='d')\n",
        "#fmt --> diigt ma lekhera aucha, e bhanera aaudaina\n",
        "plt.xlabel('Predicted')\n",
        "plt.ylabel('Actual')"
      ],
      "metadata": {
        "colab": {
          "base_uri": "https://localhost:8080/",
          "height": 332
        },
        "id": "M8okAtbFEBpH",
        "outputId": "5585a1bb-f298-493b-dbcf-6469275b1517"
      },
      "execution_count": 236,
      "outputs": [
        {
          "output_type": "stream",
          "name": "stdout",
          "text": [
            "[[1617  315]\n",
            " [ 312 1621]]\n"
          ]
        },
        {
          "output_type": "execute_result",
          "data": {
            "text/plain": [
              "Text(33.0, 0.5, 'Actual')"
            ]
          },
          "metadata": {},
          "execution_count": 236
        },
        {
          "output_type": "display_data",
          "data": {
            "text/plain": [
              "<Figure size 432x288 with 2 Axes>"
            ],
            "image/png": "[encoded data removed]"
          },
          "metadata": {
            "needs_background": "light"
          }
        }
      ]
    }
  ]
}